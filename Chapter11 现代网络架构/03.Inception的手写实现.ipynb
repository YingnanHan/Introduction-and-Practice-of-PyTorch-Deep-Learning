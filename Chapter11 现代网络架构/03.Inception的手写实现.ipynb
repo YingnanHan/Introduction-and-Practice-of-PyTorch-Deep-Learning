{
 "cells": [
  {
   "cell_type": "code",
   "execution_count": 1,
   "id": "f2f35ce4",
   "metadata": {},
   "outputs": [],
   "source": [
    "import torch\n",
    "import torch.nn.functional as F\n",
    "import torchvision\n",
    "from torch import nn"
   ]
  },
  {
   "cell_type": "markdown",
   "id": "d61f5443",
   "metadata": {},
   "source": [
    "定义基础卷积模型 ： 卷积+BN+激活"
   ]
  },
  {
   "cell_type": "code",
   "execution_count": 2,
   "id": "605fa7be",
   "metadata": {},
   "outputs": [],
   "source": [
    "class BasicConv2d(nn.Module):\n",
    "    def __init__(self,in_channels,out_channels,**kwargs):\n",
    "        super(BasicConv2d,self).__init__()\n",
    "        self.conv = nn.Conv2d(in_channels,out_channels,bias=False,**kwargs)\n",
    "        self.bn   = nn.BatchNorm2d(out_channels)\n",
    "    \n",
    "    def forward(self,x):\n",
    "        x = self.conv(x)\n",
    "        x = self.bn(x)\n",
    "        x = F.relu(x,inplace=True)\n",
    "        return x"
   ]
  },
  {
   "cell_type": "markdown",
   "id": "83fcf9c1",
   "metadata": {},
   "source": [
    "![jupyter](Inception.png)"
   ]
  },
  {
   "cell_type": "code",
   "execution_count": 3,
   "id": "46f065df",
   "metadata": {},
   "outputs": [],
   "source": [
    "class InceptionBlock(nn.Module): # InceptionBlock架构如上图所示\n",
    "    def __init__(self,in_channels,pool_features):\n",
    "        super(InceptionBlock,self).__init__()\n",
    "        \n",
    "        self.b_1x1   = BasicConv2d(in_channels,64,kernel_size=(1,1)) # 设置一个具有1X1大小卷积核的卷积层\n",
    "        \n",
    "        self.b_3X3_1 = BasicConv2d(in_channels,64,kernel_size=(1,1))\n",
    "        self.b_3X3_2 = BasicConv2d(64,96,kernel_size=(3,3),padding=1)# 每一次卷积，图像周围会减少k-1个像素\n",
    "        \n",
    "        self.b_5X5_1 = BasicConv2d(in_channels,48,kernel_size=(1,1))\n",
    "        self.b_5X5_2 = BasicConv2d(48,64,kernel_size=(5,5),padding=2)# 每一次卷积，图像周围会减少k-1个像素\n",
    "        \n",
    "        self.b_pool  = BasicConv2d(in_channels,pool_features,kernel_size=1)\n",
    "    \n",
    "    def forward(self,input):\n",
    "        b_1x1_out = self.b_1x1(input)\n",
    "        \n",
    "        b_3x3     = self.b_3X3_1(input)\n",
    "        b_3x3_out = self.b_3X3_2(b_3X3)\n",
    "        \n",
    "        b_5x5     = self.b_5X5_1(input)\n",
    "        b_5x5_out = self.b_5X5_2(b_5x5)\n",
    "        \n",
    "        b_pool_out= F.max_pool2d(x,kernel_size=(3,3),stride=1,padding=1)\n",
    "        b_pool_out= self.b_pool(b_pool_out)\n",
    "        \n",
    "        outputs = [b_1x1_out,b_3x3_out,b_5x5_out,b_pool_out]\n",
    "        \n",
    "        return torch.cat(outputs,dim=1) #将各个层的输出按照纵向按值相加"
   ]
  },
  {
   "cell_type": "code",
   "execution_count": 4,
   "id": "ce9b4332",
   "metadata": {},
   "outputs": [],
   "source": [
    "my_inception_block = InceptionBlock(32,64)"
   ]
  }
 ],
 "metadata": {
  "kernelspec": {
   "display_name": "Python 3 (ipykernel)",
   "language": "python",
   "name": "python3"
  },
  "language_info": {
   "codemirror_mode": {
    "name": "ipython",
    "version": 3
   },
   "file_extension": ".py",
   "mimetype": "text/x-python",
   "name": "python",
   "nbconvert_exporter": "python",
   "pygments_lexer": "ipython3",
   "version": "3.8.12"
  }
 },
 "nbformat": 4,
 "nbformat_minor": 5
}
