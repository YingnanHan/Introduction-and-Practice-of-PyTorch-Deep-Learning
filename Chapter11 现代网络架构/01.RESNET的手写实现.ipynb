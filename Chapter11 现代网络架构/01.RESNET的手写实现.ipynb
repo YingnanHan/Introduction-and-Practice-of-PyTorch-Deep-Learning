{
 "cells": [
  {
   "cell_type": "code",
   "execution_count": 1,
   "id": "f040b0e1",
   "metadata": {},
   "outputs": [],
   "source": [
    "import glob\n",
    "import matplotlib.pyplot as plt\n",
    "import numpy as np\n",
    "import os\n",
    "import shutil\n",
    "import torch\n",
    "import torch.nn as nn\n",
    "import torch.nn.functional as F\n",
    "import torch.optim as optim\n",
    "import torchvision\n",
    "from   PIL import Image\n",
    "from   torch.utils import data\n",
    "from   torchvision import transforms\n",
    "%matplotlib inline"
   ]
  },
  {
   "cell_type": "markdown",
   "id": "f8df4880",
   "metadata": {},
   "source": [
    "##### 自定义ResNet的Block"
   ]
  },
  {
   "cell_type": "code",
   "execution_count": 2,
   "id": "12f6c741",
   "metadata": {},
   "outputs": [],
   "source": [
    "class ResnetBasicBlock(nn.Module):\n",
    "    \n",
    "    def __init__(self,in_channels,out_channels):\n",
    "        super().__init__()\n",
    "        self.conv1 = nn.Conv2d(\n",
    "                               in_channels,   # 输入图像通道数\n",
    "                               out_channels,  # 输出图像通道数\n",
    "                               kernel_size=3, # kernel=3 需要设置padding=1 复原原来图像大小\n",
    "                               padding=1,     # 将图像的大小复原，在卷积后的图像周围加一圈像素\n",
    "                               bias=False     # 由于后面需要进行BatchNormalize操作，bias会消失，为了节省操作的时间，不在这里添加bias\n",
    "        )\n",
    "        self.bn1   = nn.BatchNorm2d(out_channels)\n",
    "        self.conv2 = nn.Conv2d(\n",
    "                               in_channels,   # 输入图像通道数\n",
    "                               out_channels,  # 输出图像通道数\n",
    "                               kernel_size=3, # kernel=3 需要设置padding=1 复原原来图像大小\n",
    "                               padding=1,     # 将图像的大小复原，在卷积后的图像周围加一圈像素\n",
    "                               bias=False     # 由于后面需要进行BatchNormalize操作，bias会消失，为了节省操作的时间，不在这里添加bias\n",
    "        )\n",
    "        self.bn2   = nn.BatchNorm2d(out_channels)\n",
    "        \n",
    "    def forward(self,x):\n",
    "        residual = x                          # 保留一部分x作为residual，用来参与计算残差                  \n",
    "        out      = self.conv1(x)\n",
    "        out      = self.bn1(out)\n",
    "        out      = F.relu(out,inplace=True)     # 设置就地修改out的值\n",
    "        out      = self.conv2(out)\n",
    "        out      = self.bn2(out)\n",
    "        out     += residual\n",
    "        out      = F.relu(out)\n",
    "        return  out"
   ]
  },
  {
   "cell_type": "markdown",
   "id": "2559cae0",
   "metadata": {},
   "source": [
    "##### 查看内置ResNet网络形状"
   ]
  },
  {
   "cell_type": "code",
   "execution_count": 3,
   "id": "eb1553e4",
   "metadata": {},
   "outputs": [],
   "source": [
    "model = torchvision.models.resnet34         # 查看resnet网络的源代码"
   ]
  },
  {
   "cell_type": "code",
   "execution_count": 4,
   "id": "02fa4e45",
   "metadata": {},
   "outputs": [],
   "source": [
    "model = torchvision.models.resnet34"
   ]
  }
 ],
 "metadata": {
  "kernelspec": {
   "display_name": "Python 3 (ipykernel)",
   "language": "python",
   "name": "python3"
  },
  "language_info": {
   "codemirror_mode": {
    "name": "ipython",
    "version": 3
   },
   "file_extension": ".py",
   "mimetype": "text/x-python",
   "name": "python",
   "nbconvert_exporter": "python",
   "pygments_lexer": "ipython3",
   "version": "3.8.12"
  }
 },
 "nbformat": 4,
 "nbformat_minor": 5
}
