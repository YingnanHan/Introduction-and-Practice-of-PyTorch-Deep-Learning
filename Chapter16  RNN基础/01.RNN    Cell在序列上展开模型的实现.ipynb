{
 "cells": [
  {
   "cell_type": "code",
   "execution_count": 1,
   "id": "e2f9fa23",
   "metadata": {},
   "outputs": [],
   "source": [
    "import torch\n",
    "import torchtext\n",
    "import numpy as np\n",
    "import torch.nn as nn\n",
    "import torch.nn.functional as F\n",
    "from   torchtext.vocab import GloVe\n",
    "from   torchtext.legacy.data import Field\n",
    "from   torch.optim import lr_scheduler"
   ]
  },
  {
   "cell_type": "markdown",
   "id": "11abbb19",
   "metadata": {},
   "source": [
    "##### 创建数据集"
   ]
  },
  {
   "cell_type": "code",
   "execution_count": 2,
   "id": "3a9c9bd6",
   "metadata": {},
   "outputs": [],
   "source": [
    "TEXT                 = torchtext.legacy.data.Field(lower=True,fix_length=200,batch_first=False)\n",
    "LABEL                = torchtext.legacy.data.Field(sequential=False)\n",
    "train,test           = torchtext.legacy.datasets.IMDB.splits(TEXT,LABEL)\n",
    "TEXT.build_vocab(train,max_size=10000,min_freq=10,vectors=None)\n",
    "LABEL.build_vocab(train)\n",
    "train_iter,test_iter = torchtext.legacy.data.BucketIterator.splits((train,test),batch_size=256)"
   ]
  },
  {
   "cell_type": "markdown",
   "id": "4bc8c336",
   "metadata": {},
   "source": [
    "##### 创建模型"
   ]
  },
  {
   "cell_type": "code",
   "execution_count": 3,
   "id": "0440110d",
   "metadata": {},
   "outputs": [],
   "source": [
    "embedding_dim = 100\n",
    "hidden_size   = 200"
   ]
  },
  {
   "cell_type": "code",
   "execution_count": 4,
   "id": "58ac2e7d",
   "metadata": {},
   "outputs": [],
   "source": [
    "# 维度转换  batch_size*seq_length*embedding_dim  --> \n",
    "#          seq_length*bath_size*embedding_dim (句子长度<单词数>*一批数据中句子数量*单词映射张量维度)\n",
    "# 转换目的  每一次输入将一批的句子的第一个单词全部输入，正好符合RNN定义"
   ]
  },
  {
   "cell_type": "code",
   "execution_count": 5,
   "id": "78fbd7d4",
   "metadata": {},
   "outputs": [],
   "source": [
    "class RNN_Encoder(nn.Module):\n",
    "    '''模型将对评论依次进行读取并输出最后状态'''\n",
    "    def __init__(self,input_dim,hidden_size):\n",
    "        '''\n",
    "            input_dim   表示输入序列的长度\n",
    "            hidden_size 输出的中间隐藏层的状态数\n",
    "        '''\n",
    "        super(RNN_Encoder,self).__init__()\n",
    "        ''' 初始化RnnCell '''\n",
    "        self.rnn = nn.RNNCell(input_dim,hidden_size)\n",
    "        \n",
    "    def forward(self,inputs):\n",
    "        ''' inputs  输入(文本/数值 etc)的序列                     '''\n",
    "        '''         shape:seq(序列本身),batch(所属batch的大小)    '''\n",
    "        '''              :embedding(每一个单词所映射到的张量的长度) '''\n",
    "        bz = inputs.shape[1]  # bz==batch_size\n",
    "        ''' 初始状态值 每一个单词到达一个层的时候都会产生一个状态       '''\n",
    "        ht = torch.zeros((bz,hidden_size)).cuda()\n",
    "        for word in inputs:\n",
    "            '''RNN的输入是Embedding层的输出'''\n",
    "            ht = self.rnn(word,ht)\n",
    "        '''ht是RNN对句子整体理解数值化表示'''\n",
    "        return ht"
   ]
  },
  {
   "cell_type": "code",
   "execution_count": 6,
   "id": "661ed822",
   "metadata": {},
   "outputs": [],
   "source": [
    "class Net(nn.Module):\n",
    "    def __init__(self):\n",
    "        super(Net,self).__init__()\n",
    "        '''对单词进行Embedding操作参数为词表中单词数目，目标向量空间维度'''\n",
    "        self.em  = nn.Embedding(len(TEXT.vocab.stoi),embedding_dim)\n",
    "        '''hidden_size是一个超参数可以自定义'''\n",
    "        self.rnn = RNN_Encoder(embedding_dim,hidden_size)\n",
    "        self.fc1 = nn.Linear(hidden_size,256)\n",
    "        self.fc2 = nn.Linear(256,3)#三分类模型\n",
    "    \n",
    "    def forward(self,x):\n",
    "        x = self.em(x) # 词嵌入表示\n",
    "        x = self.rnn(x)\n",
    "        x = self.fc1(x)\n",
    "        x = F.relu(x)\n",
    "        x = self.fc2(x)\n",
    "        return x"
   ]
  },
  {
   "cell_type": "code",
   "execution_count": 7,
   "id": "4aa46ca3",
   "metadata": {},
   "outputs": [],
   "source": [
    "model      = Net() \n",
    "if torch.cuda.is_available():\n",
    "    model.to('cuda')\n",
    "loss_fn    = nn.CrossEntropyLoss()\n",
    "optimizer  = torch.optim.Adam(model.parameters(), lr=0.0001)\n",
    "epochs     = 50\n",
    "train_loss = []\n",
    "train_acc  = []\n",
    "test_loss  = []\n",
    "test_acc   = []"
   ]
  },
  {
   "cell_type": "code",
   "execution_count": 8,
   "id": "c4593577",
   "metadata": {},
   "outputs": [],
   "source": [
    "def fit(epoch, model, trainloader, testloader):\n",
    "    correct      = 0\n",
    "    total        = 0\n",
    "    running_loss = 0\n",
    "    \n",
    "    model.train()\n",
    "    for b in trainloader:\n",
    "        x, y     = b.text, b.label\n",
    "        if torch.cuda.is_available():\n",
    "            x, y = x.to('cuda'), y.to('cuda')\n",
    "        y_pred   = model(x)\n",
    "        loss     = loss_fn(y_pred, y)\n",
    "        optimizer.zero_grad()\n",
    "        loss.backward()\n",
    "        optimizer.step()\n",
    "        with torch.no_grad():\n",
    "            y_pred        = torch.argmax(y_pred, dim=1)\n",
    "            correct      += (y_pred == y).sum().item()\n",
    "            total        += y.size(0)\n",
    "            running_loss += loss.item()\n",
    "    epoch_loss = running_loss / len(trainloader.dataset)\n",
    "    epoch_acc  = correct / total\n",
    "        \n",
    "        \n",
    "    test_correct      = 0\n",
    "    test_total        = 0\n",
    "    test_running_loss = 0 \n",
    "    \n",
    "    model.eval()\n",
    "    with torch.no_grad():\n",
    "        for b in testloader:\n",
    "            x, y   = b.text, b.label\n",
    "            if torch.cuda.is_available():\n",
    "                x, y = x.to('cuda'), y.to('cuda')\n",
    "            y_pred = model(x)\n",
    "            loss   = loss_fn(y_pred, y)\n",
    "            y_pred = torch.argmax(y_pred, dim=1)\n",
    "            test_correct      += (y_pred == y).sum().item()\n",
    "            test_total        += y.size(0)\n",
    "            test_running_loss += loss.item()\n",
    "    \n",
    "    epoch_test_loss = test_running_loss / len(testloader.dataset)\n",
    "    epoch_test_acc  = test_correct / test_total\n",
    "    \n",
    "        \n",
    "    print('epoch: ', epoch,'loss： ', round(epoch_loss, 3),'accuracy:', round(epoch_acc, 3),'test_loss： ', round(epoch_test_loss, 3),'test_accuracy:', round(epoch_test_acc, 3))\n",
    "        \n",
    "    return epoch_loss, epoch_acc, epoch_test_loss, epoch_test_acc"
   ]
  },
  {
   "cell_type": "code",
   "execution_count": 9,
   "id": "cd81d23a",
   "metadata": {},
   "outputs": [
    {
     "name": "stdout",
     "output_type": "stream",
     "text": [
      "epoch:  0 loss：  0.003 accuracy: 0.491 test_loss：  0.003 test_accuracy: 0.505\n",
      "epoch:  1 loss：  0.003 accuracy: 0.503 test_loss：  0.003 test_accuracy: 0.503\n",
      "epoch:  2 loss：  0.003 accuracy: 0.511 test_loss：  0.003 test_accuracy: 0.5\n",
      "epoch:  3 loss：  0.003 accuracy: 0.507 test_loss：  0.003 test_accuracy: 0.507\n",
      "epoch:  4 loss：  0.003 accuracy: 0.517 test_loss：  0.003 test_accuracy: 0.5\n",
      "epoch:  5 loss：  0.003 accuracy: 0.515 test_loss：  0.003 test_accuracy: 0.503\n",
      "epoch:  6 loss：  0.003 accuracy: 0.523 test_loss：  0.003 test_accuracy: 0.503\n",
      "epoch:  7 loss：  0.003 accuracy: 0.526 test_loss：  0.003 test_accuracy: 0.508\n",
      "epoch:  8 loss：  0.003 accuracy: 0.524 test_loss：  0.003 test_accuracy: 0.502\n",
      "epoch:  9 loss：  0.003 accuracy: 0.526 test_loss：  0.003 test_accuracy: 0.509\n",
      "epoch:  10 loss：  0.003 accuracy: 0.533 test_loss：  0.003 test_accuracy: 0.505\n",
      "epoch:  11 loss：  0.003 accuracy: 0.536 test_loss：  0.003 test_accuracy: 0.507\n",
      "epoch:  12 loss：  0.003 accuracy: 0.538 test_loss：  0.003 test_accuracy: 0.513\n",
      "epoch:  13 loss：  0.003 accuracy: 0.545 test_loss：  0.003 test_accuracy: 0.51\n",
      "epoch:  14 loss：  0.003 accuracy: 0.546 test_loss：  0.003 test_accuracy: 0.522\n",
      "epoch:  15 loss：  0.003 accuracy: 0.559 test_loss：  0.003 test_accuracy: 0.528\n",
      "epoch:  16 loss：  0.003 accuracy: 0.559 test_loss：  0.003 test_accuracy: 0.506\n",
      "epoch:  17 loss：  0.003 accuracy: 0.542 test_loss：  0.003 test_accuracy: 0.509\n",
      "epoch:  18 loss：  0.003 accuracy: 0.545 test_loss：  0.003 test_accuracy: 0.51\n",
      "epoch:  19 loss：  0.003 accuracy: 0.556 test_loss：  0.003 test_accuracy: 0.515\n",
      "epoch:  20 loss：  0.003 accuracy: 0.56 test_loss：  0.003 test_accuracy: 0.514\n",
      "epoch:  21 loss：  0.003 accuracy: 0.57 test_loss：  0.003 test_accuracy: 0.518\n",
      "epoch:  22 loss：  0.003 accuracy: 0.568 test_loss：  0.003 test_accuracy: 0.521\n",
      "epoch:  23 loss：  0.003 accuracy: 0.58 test_loss：  0.003 test_accuracy: 0.529\n",
      "epoch:  24 loss：  0.003 accuracy: 0.576 test_loss：  0.003 test_accuracy: 0.528\n",
      "epoch:  25 loss：  0.003 accuracy: 0.585 test_loss：  0.003 test_accuracy: 0.535\n",
      "epoch:  26 loss：  0.003 accuracy: 0.584 test_loss：  0.003 test_accuracy: 0.536\n",
      "epoch:  27 loss：  0.003 accuracy: 0.587 test_loss：  0.003 test_accuracy: 0.536\n",
      "epoch:  28 loss：  0.002 accuracy: 0.596 test_loss：  0.003 test_accuracy: 0.532\n",
      "epoch:  29 loss：  0.002 accuracy: 0.59 test_loss：  0.003 test_accuracy: 0.528\n",
      "epoch:  30 loss：  0.002 accuracy: 0.598 test_loss：  0.003 test_accuracy: 0.536\n",
      "epoch:  31 loss：  0.002 accuracy: 0.602 test_loss：  0.003 test_accuracy: 0.541\n",
      "epoch:  32 loss：  0.002 accuracy: 0.603 test_loss：  0.003 test_accuracy: 0.531\n",
      "epoch:  33 loss：  0.002 accuracy: 0.609 test_loss：  0.003 test_accuracy: 0.539\n",
      "epoch:  34 loss：  0.002 accuracy: 0.611 test_loss：  0.003 test_accuracy: 0.542\n",
      "epoch:  35 loss：  0.002 accuracy: 0.612 test_loss：  0.003 test_accuracy: 0.54\n",
      "epoch:  36 loss：  0.002 accuracy: 0.617 test_loss：  0.003 test_accuracy: 0.548\n",
      "epoch:  37 loss：  0.002 accuracy: 0.62 test_loss：  0.003 test_accuracy: 0.552\n",
      "epoch:  38 loss：  0.002 accuracy: 0.622 test_loss：  0.003 test_accuracy: 0.549\n",
      "epoch:  39 loss：  0.002 accuracy: 0.622 test_loss：  0.003 test_accuracy: 0.551\n",
      "epoch:  40 loss：  0.002 accuracy: 0.623 test_loss：  0.003 test_accuracy: 0.533\n",
      "epoch:  41 loss：  0.002 accuracy: 0.635 test_loss：  0.003 test_accuracy: 0.541\n",
      "epoch:  42 loss：  0.002 accuracy: 0.63 test_loss：  0.003 test_accuracy: 0.555\n",
      "epoch:  43 loss：  0.002 accuracy: 0.635 test_loss：  0.003 test_accuracy: 0.546\n",
      "epoch:  44 loss：  0.002 accuracy: 0.64 test_loss：  0.003 test_accuracy: 0.548\n",
      "epoch:  45 loss：  0.002 accuracy: 0.641 test_loss：  0.003 test_accuracy: 0.561\n",
      "epoch:  46 loss：  0.002 accuracy: 0.649 test_loss：  0.003 test_accuracy: 0.555\n",
      "epoch:  47 loss：  0.002 accuracy: 0.649 test_loss：  0.003 test_accuracy: 0.548\n",
      "epoch:  48 loss：  0.002 accuracy: 0.655 test_loss：  0.003 test_accuracy: 0.56\n",
      "epoch:  49 loss：  0.002 accuracy: 0.65 test_loss：  0.003 test_accuracy: 0.558\n"
     ]
    }
   ],
   "source": [
    "for epoch in range(epochs):\n",
    "    epoch_loss, epoch_acc, epoch_test_loss, epoch_test_acc = fit(epoch,model,train_iter,test_iter)\n",
    "    train_loss.append(epoch_loss)\n",
    "    train_acc.append(epoch_acc)\n",
    "    test_loss.append(epoch_test_loss)\n",
    "    test_acc.append(epoch_test_acc)"
   ]
  }
 ],
 "metadata": {
  "kernelspec": {
   "display_name": "Python 3 (ipykernel)",
   "language": "python",
   "name": "python3"
  },
  "language_info": {
   "codemirror_mode": {
    "name": "ipython",
    "version": 3
   },
   "file_extension": ".py",
   "mimetype": "text/x-python",
   "name": "python",
   "nbconvert_exporter": "python",
   "pygments_lexer": "ipython3",
   "version": "3.8.12"
  }
 },
 "nbformat": 4,
 "nbformat_minor": 5
}
