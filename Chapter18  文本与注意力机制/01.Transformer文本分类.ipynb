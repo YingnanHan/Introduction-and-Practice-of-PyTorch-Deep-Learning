{
 "cells": [
  {
   "cell_type": "code",
   "execution_count": 1,
   "id": "22810c8e",
   "metadata": {},
   "outputs": [],
   "source": [
    "import torch\n",
    "import torch.nn as nn\n",
    "import torch.nn.functional as F\n",
    "import torchtext\n",
    "import math\n",
    "import numpy as np\n",
    "from   torchtext.vocab import GloVe\n",
    "from   torchtext.legacy.data import Field\n",
    "from   torch.optim import lr_scheduler"
   ]
  },
  {
   "cell_type": "markdown",
   "id": "f42d9413",
   "metadata": {},
   "source": [
    "##### 定义变量"
   ]
  },
  {
   "cell_type": "code",
   "execution_count": 2,
   "id": "f3d6be9f",
   "metadata": {},
   "outputs": [],
   "source": [
    "device = torch.device(\"cuda\" if torch.cuda.is_available() else \"cpu\")"
   ]
  },
  {
   "cell_type": "markdown",
   "id": "5213e0c6",
   "metadata": {},
   "source": [
    "##### 创建数据集"
   ]
  },
  {
   "cell_type": "code",
   "execution_count": 3,
   "id": "4027c268",
   "metadata": {},
   "outputs": [],
   "source": [
    "TEXT                 = torchtext.legacy.data.Field(lower=True,fix_length=200,batch_first=False)\n",
    "LABEL                = torchtext.legacy.data.Field(sequential=False)\n",
    "train,test           = torchtext.legacy.datasets.IMDB.splits(TEXT,LABEL)\n",
    "TEXT.build_vocab(train,vectors=None,max_size=10000,min_freq=10)\n",
    "LABEL.build_vocab(train)\n",
    "train_iter,test_iter = torchtext.legacy.data.BucketIterator.splits((train,test),batch_size=16)"
   ]
  },
  {
   "cell_type": "markdown",
   "id": "66902e59",
   "metadata": {},
   "source": [
    "##### 创建模型"
   ]
  },
  {
   "cell_type": "code",
   "execution_count": 4,
   "id": "3471147f",
   "metadata": {},
   "outputs": [],
   "source": [
    "'''  定义位置编码函数  '''\n",
    "class PositionalEncoding(nn.Module):\n",
    "\n",
    "    def __init__(self, d_model, dropout=0.1, max_len=200):\n",
    "        super(PositionalEncoding, self).__init__()\n",
    "        self.dropout = nn.Dropout(p=dropout)\n",
    "\n",
    "        pe           = torch.zeros(max_len, d_model)\n",
    "        position     = torch.arange(0, max_len, dtype=torch.float).unsqueeze(1)\n",
    "        div_term     = torch.exp(torch.arange(0, d_model, 2).float() * (-math.log(10000.0) / d_model))\n",
    "        pe[:, 0::2]  = torch.sin(position * div_term)\n",
    "        pe[:, 1::2]  = torch.cos(position * div_term)\n",
    "        pe           = pe.unsqueeze(0).transpose(0, 1)\n",
    "        self.register_buffer('pe', pe)\n",
    "\n",
    "    def forward(self, x):\n",
    "        x            = x + self.pe[:x.size(0), :]\n",
    "        return self.dropout(x)"
   ]
  },
  {
   "cell_type": "code",
   "execution_count": 5,
   "id": "19d1a26b",
   "metadata": {},
   "outputs": [],
   "source": [
    "hidden_size  = 300\n",
    "embeding_dim = 100\n",
    "class Net(nn.Module):\n",
    "    def __init__(self):\n",
    "        super(Net, self).__init__()\n",
    "        self.em                  = nn.Embedding(len(TEXT.vocab.stoi), embeding_dim)   # 200*batch*100\n",
    "        self.pos                 = PositionalEncoding(embeding_dim)\n",
    "        self.encoder_layer       = nn.TransformerEncoderLayer(d_model=embeding_dim,nhead=5)\n",
    "        self.transformer_encoder = nn.TransformerEncoder(self.encoder_layer,num_layers=6)\n",
    "        self.fc1                 = nn.Linear(200, 256)\n",
    "        self.fc2                 = nn.Linear(256, 3)  # 定义三分类模型\n",
    "\n",
    "    def forward(self, inputs):\n",
    "        x = self.em(inputs)\n",
    "        x = self.pos(x)\n",
    "        x = self.transformer_encoder(x)\n",
    "        x = x.permute(1, 0, 2)\n",
    "        x = torch.sum(x, dim=-1)\n",
    "        x = F.relu(self.fc1(x))\n",
    "        x = self.fc2(x)\n",
    "        return x"
   ]
  },
  {
   "cell_type": "markdown",
   "id": "e561f5c3",
   "metadata": {},
   "source": [
    "##### 训练模型"
   ]
  },
  {
   "cell_type": "code",
   "execution_count": 6,
   "id": "f5df5481",
   "metadata": {},
   "outputs": [],
   "source": [
    "model      = Net()\n",
    "model      = model.to(device)\n",
    "loss_fn    = nn.CrossEntropyLoss()\n",
    "optimizer  = torch.optim.Adam(model.parameters(), lr=0.0001)\n",
    "epochs     = 100\n",
    "train_loss = []\n",
    "train_acc  = []\n",
    "test_loss  = []\n",
    "test_acc   = []"
   ]
  },
  {
   "cell_type": "code",
   "execution_count": 7,
   "id": "a6314842",
   "metadata": {},
   "outputs": [],
   "source": [
    "def fit(epoch, model, trainloader, testloader):\n",
    "    correct      = 0\n",
    "    total        = 0\n",
    "    running_loss = 0\n",
    "    \n",
    "    model.train()\n",
    "    for b in trainloader:\n",
    "        x, y   = b.text.to(device), b.label.to(device)\n",
    "        y_pred = model(x)\n",
    "        loss   = loss_fn(y_pred, y)\n",
    "        optimizer.zero_grad()\n",
    "        loss.backward()\n",
    "        optimizer.step()\n",
    "        with torch.no_grad():\n",
    "            y_pred        = torch.argmax(y_pred, dim=1)\n",
    "            correct      += (y_pred == y).sum().item()\n",
    "            total        += y.size(0)\n",
    "            running_loss += loss.item()\n",
    "    epoch_loss = running_loss / len(trainloader.dataset)\n",
    "    epoch_acc  = correct / total\n",
    "        \n",
    "        \n",
    "    test_correct      = 0\n",
    "    test_total        = 0\n",
    "    test_running_loss = 0 \n",
    "    \n",
    "    model.eval()\n",
    "    with torch.no_grad():\n",
    "        for b in testloader:\n",
    "            x, y               = b.text.to(device), b.label.to(device)\n",
    "            y_pred             = model(x)\n",
    "            loss               = loss_fn(y_pred, y)\n",
    "            y_pred             = torch.argmax(y_pred, dim=1)\n",
    "            test_correct      += (y_pred == y).sum().item()\n",
    "            test_total        += y.size(0)\n",
    "            test_running_loss += loss.item()\n",
    "    \n",
    "    epoch_test_loss = test_running_loss / len(testloader.dataset)\n",
    "    epoch_test_acc  = test_correct / test_total\n",
    "    print('epoch: ', epoch, 'loss： ', round(epoch_loss, 3),'accuracy:', round(epoch_acc, 3),'test_loss： ', round(epoch_test_loss, 3),'test_accuracy:', round(epoch_test_acc, 3) )\n",
    "    return epoch_loss, epoch_acc, epoch_test_loss, epoch_test_acc"
   ]
  },
  {
   "cell_type": "code",
   "execution_count": null,
   "id": "a5719d49",
   "metadata": {},
   "outputs": [
    {
     "name": "stdout",
     "output_type": "stream",
     "text": [
      "epoch:  0 loss：  0.044 accuracy: 0.499 test_loss：  0.043 test_accuracy: 0.5\n",
      "epoch:  1 loss：  0.043 accuracy: 0.501 test_loss：  0.043 test_accuracy: 0.5\n"
     ]
    }
   ],
   "source": [
    "for epoch in range(epochs):\n",
    "    epoch_loss,epoch_acc,epoch_test_loss,epoch_test_acc = fit(epoch,model,train_iter,test_iter)\n",
    "    train_loss.append(epoch_loss)\n",
    "    train_acc.append(epoch_acc)\n",
    "    test_loss.append(epoch_test_loss)\n",
    "    test_acc.append(epoch_test_acc)"
   ]
  }
 ],
 "metadata": {
  "kernelspec": {
   "display_name": "Python 3 (ipykernel)",
   "language": "python",
   "name": "python3"
  },
  "language_info": {
   "codemirror_mode": {
    "name": "ipython",
    "version": 3
   },
   "file_extension": ".py",
   "mimetype": "text/x-python",
   "name": "python",
   "nbconvert_exporter": "python",
   "pygments_lexer": "ipython3",
   "version": "3.8.12"
  }
 },
 "nbformat": 4,
 "nbformat_minor": 5
}
