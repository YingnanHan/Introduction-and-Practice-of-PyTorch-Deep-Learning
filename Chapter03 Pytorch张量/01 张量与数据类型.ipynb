{
 "cells": [
  {
   "cell_type": "code",
   "execution_count": 1,
   "id": "47a1d79d",
   "metadata": {},
   "outputs": [],
   "source": [
    "import torch\n",
    "import numpy as np"
   ]
  },
  {
   "cell_type": "markdown",
   "id": "e8b97d59",
   "metadata": {},
   "source": [
    "#### 1.张量"
   ]
  },
  {
   "cell_type": "code",
   "execution_count": 2,
   "id": "e5c0eaca",
   "metadata": {},
   "outputs": [],
   "source": [
    "x = torch.rand(2,3) #生成满足均匀分布的，大小为两行三列的二维矩阵"
   ]
  },
  {
   "cell_type": "code",
   "execution_count": 3,
   "id": "27e73a58",
   "metadata": {},
   "outputs": [
    {
     "data": {
      "text/plain": [
       "tensor([[0.7421, 0.8045, 0.9570],\n",
       "        [0.6342, 0.6501, 0.4155]])"
      ]
     },
     "execution_count": 3,
     "metadata": {},
     "output_type": "execute_result"
    }
   ],
   "source": [
    "x"
   ]
  },
  {
   "cell_type": "code",
   "execution_count": 4,
   "id": "1fb744b3",
   "metadata": {},
   "outputs": [],
   "source": [
    "x = torch.randn(2,3) #生成满足标准正态分布分布的，大小为两行三列的二维矩阵"
   ]
  },
  {
   "cell_type": "code",
   "execution_count": 5,
   "id": "6bb3e75a",
   "metadata": {},
   "outputs": [
    {
     "data": {
      "text/plain": [
       "tensor([[ 2.1916,  0.9427, -1.7660],\n",
       "        [-0.0634,  1.1416,  1.6810]])"
      ]
     },
     "execution_count": 5,
     "metadata": {},
     "output_type": "execute_result"
    }
   ],
   "source": [
    "x"
   ]
  },
  {
   "cell_type": "code",
   "execution_count": 6,
   "id": "00bc1a62",
   "metadata": {},
   "outputs": [],
   "source": [
    "x = torch.zeros(2,3) #生成全零的，大小为两行三列的二维矩阵"
   ]
  },
  {
   "cell_type": "code",
   "execution_count": 7,
   "id": "40320792",
   "metadata": {},
   "outputs": [
    {
     "data": {
      "text/plain": [
       "tensor([[0., 0., 0.],\n",
       "        [0., 0., 0.]])"
      ]
     },
     "execution_count": 7,
     "metadata": {},
     "output_type": "execute_result"
    }
   ],
   "source": [
    "x"
   ]
  },
  {
   "cell_type": "code",
   "execution_count": 8,
   "id": "e3b54ce3",
   "metadata": {},
   "outputs": [],
   "source": [
    "x = torch.ones(2,3,4) #生成全1的，大小为两个三行四列的二维矩阵"
   ]
  },
  {
   "cell_type": "code",
   "execution_count": 9,
   "id": "fa1d6277",
   "metadata": {},
   "outputs": [
    {
     "data": {
      "text/plain": [
       "tensor([[[1., 1., 1., 1.],\n",
       "         [1., 1., 1., 1.],\n",
       "         [1., 1., 1., 1.]],\n",
       "\n",
       "        [[1., 1., 1., 1.],\n",
       "         [1., 1., 1., 1.],\n",
       "         [1., 1., 1., 1.]]])"
      ]
     },
     "execution_count": 9,
     "metadata": {},
     "output_type": "execute_result"
    }
   ],
   "source": [
    "x"
   ]
  },
  {
   "cell_type": "code",
   "execution_count": 10,
   "id": "4a9feed1",
   "metadata": {},
   "outputs": [
    {
     "data": {
      "text/plain": [
       "torch.Size([2, 3, 4])"
      ]
     },
     "execution_count": 10,
     "metadata": {},
     "output_type": "execute_result"
    }
   ],
   "source": [
    "x.size() #得到数组的shape大小"
   ]
  },
  {
   "cell_type": "code",
   "execution_count": 11,
   "id": "8b7eb4ca",
   "metadata": {},
   "outputs": [
    {
     "data": {
      "text/plain": [
       "torch.Size([2, 3, 4])"
      ]
     },
     "execution_count": 11,
     "metadata": {},
     "output_type": "execute_result"
    }
   ],
   "source": [
    "x.shape #得到数组的形状"
   ]
  },
  {
   "cell_type": "code",
   "execution_count": 12,
   "id": "9782c241",
   "metadata": {},
   "outputs": [
    {
     "data": {
      "text/plain": [
       "2"
      ]
     },
     "execution_count": 12,
     "metadata": {},
     "output_type": "execute_result"
    }
   ],
   "source": [
    "x.size(0) #返回x数组第0个维度的大小"
   ]
  },
  {
   "cell_type": "code",
   "execution_count": 13,
   "id": "15447372",
   "metadata": {},
   "outputs": [
    {
     "data": {
      "text/plain": [
       "4"
      ]
     },
     "execution_count": 13,
     "metadata": {},
     "output_type": "execute_result"
    }
   ],
   "source": [
    "x.size(2) #返回x数组最后一个维度的大小"
   ]
  },
  {
   "cell_type": "markdown",
   "id": "96cd5b01",
   "metadata": {},
   "source": [
    "#### 2.数据类型"
   ]
  },
  {
   "cell_type": "code",
   "execution_count": 14,
   "id": "f90a755f",
   "metadata": {},
   "outputs": [],
   "source": [
    "x = torch.tensor([6,2],dtype=torch.float32) #使用列表初始化张量,规定数据类型为float32"
   ]
  },
  {
   "cell_type": "code",
   "execution_count": 15,
   "id": "b61748f1",
   "metadata": {},
   "outputs": [
    {
     "data": {
      "text/plain": [
       "tensor([6., 2.])"
      ]
     },
     "execution_count": 15,
     "metadata": {},
     "output_type": "execute_result"
    }
   ],
   "source": [
    "x"
   ]
  },
  {
   "cell_type": "code",
   "execution_count": 16,
   "id": "9403cd07",
   "metadata": {},
   "outputs": [
    {
     "data": {
      "text/plain": [
       "'torch.FloatTensor'"
      ]
     },
     "execution_count": 16,
     "metadata": {},
     "output_type": "execute_result"
    }
   ],
   "source": [
    "x.type() #得到张量中元素的数据类型"
   ]
  },
  {
   "cell_type": "code",
   "execution_count": 17,
   "id": "02fbd1da",
   "metadata": {},
   "outputs": [
    {
     "data": {
      "text/plain": [
       "tensor([6., 2.], dtype=torch.float64)"
      ]
     },
     "execution_count": 17,
     "metadata": {},
     "output_type": "execute_result"
    }
   ],
   "source": [
    "#数据类型的转换 torch.float32->torch.float64\n",
    "x.type(torch.float64)"
   ]
  },
  {
   "cell_type": "markdown",
   "id": "e455be68",
   "metadata": {},
   "source": [
    "#### 3.tensor与ndarray类型的转换"
   ]
  },
  {
   "cell_type": "code",
   "execution_count": 18,
   "id": "a61a701f",
   "metadata": {},
   "outputs": [],
   "source": [
    "a  = np.random.randn(2,3)"
   ]
  },
  {
   "cell_type": "code",
   "execution_count": 19,
   "id": "816fb545",
   "metadata": {},
   "outputs": [
    {
     "data": {
      "text/plain": [
       "tensor([[ 1.8994,  0.0933, -1.7788],\n",
       "        [-0.7827,  0.3408, -0.0942]], dtype=torch.float64)"
      ]
     },
     "execution_count": 19,
     "metadata": {},
     "output_type": "execute_result"
    }
   ],
   "source": [
    "x1 = torch.from_numpy(a) #从numpy创建tensor\n",
    "x1"
   ]
  },
  {
   "cell_type": "code",
   "execution_count": 20,
   "id": "658ff40c",
   "metadata": {},
   "outputs": [
    {
     "data": {
      "text/plain": [
       "array([[ 1.89939722,  0.09333961, -1.77879596],\n",
       "       [-0.78270112,  0.34080327, -0.09423767]])"
      ]
     },
     "execution_count": 20,
     "metadata": {},
     "output_type": "execute_result"
    }
   ],
   "source": [
    "x1.numpy() #从tensor转换到numpy()"
   ]
  },
  {
   "cell_type": "markdown",
   "id": "9d2f493e",
   "metadata": {},
   "source": [
    "#### 4.张量的运算"
   ]
  },
  {
   "cell_type": "code",
   "execution_count": 21,
   "id": "b1c9430a",
   "metadata": {},
   "outputs": [],
   "source": [
    "x1 = torch.rand(2,3)"
   ]
  },
  {
   "cell_type": "code",
   "execution_count": 22,
   "id": "3bf8cff4",
   "metadata": {},
   "outputs": [
    {
     "data": {
      "text/plain": [
       "tensor([[0.1684, 0.1105, 0.3577],\n",
       "        [0.2652, 0.1392, 0.1823]])"
      ]
     },
     "execution_count": 22,
     "metadata": {},
     "output_type": "execute_result"
    }
   ],
   "source": [
    "x1"
   ]
  },
  {
   "cell_type": "code",
   "execution_count": 23,
   "id": "0942cada",
   "metadata": {},
   "outputs": [],
   "source": [
    "x2 = torch.rand(2,3)"
   ]
  },
  {
   "cell_type": "code",
   "execution_count": 24,
   "id": "e24f131f",
   "metadata": {},
   "outputs": [
    {
     "data": {
      "text/plain": [
       "tensor([[0.1684, 0.1105, 0.3577],\n",
       "        [0.2652, 0.1392, 0.1823]])"
      ]
     },
     "execution_count": 24,
     "metadata": {},
     "output_type": "execute_result"
    }
   ],
   "source": [
    "x1"
   ]
  },
  {
   "cell_type": "code",
   "execution_count": 25,
   "id": "a7a2b511",
   "metadata": {},
   "outputs": [
    {
     "data": {
      "text/plain": [
       "tensor([[1.0374, 0.9266, 1.3315],\n",
       "        [0.9718, 0.7234, 0.6821]])"
      ]
     },
     "execution_count": 25,
     "metadata": {},
     "output_type": "execute_result"
    }
   ],
   "source": [
    "# 加法\n",
    "x1 + x2"
   ]
  },
  {
   "cell_type": "code",
   "execution_count": 26,
   "id": "5f84f24c",
   "metadata": {},
   "outputs": [
    {
     "data": {
      "text/plain": [
       "tensor([[1.0374, 0.9266, 1.3315],\n",
       "        [0.9718, 0.7234, 0.6821]])"
      ]
     },
     "execution_count": 26,
     "metadata": {},
     "output_type": "execute_result"
    }
   ],
   "source": [
    "# 加法\n",
    "x1.add(x2) #不进行就地加法"
   ]
  },
  {
   "cell_type": "code",
   "execution_count": 27,
   "id": "3e71fe16",
   "metadata": {},
   "outputs": [
    {
     "data": {
      "text/plain": [
       "tensor([[1.0374, 0.9266, 1.3315],\n",
       "        [0.9718, 0.7234, 0.6821]])"
      ]
     },
     "execution_count": 27,
     "metadata": {},
     "output_type": "execute_result"
    }
   ],
   "source": [
    "# 加法\n",
    "x1.add_(x2) #进行就地加法"
   ]
  },
  {
   "cell_type": "code",
   "execution_count": 28,
   "id": "f043e411",
   "metadata": {},
   "outputs": [
    {
     "data": {
      "text/plain": [
       "tensor([[1.0374, 0.9266, 1.3315],\n",
       "        [0.9718, 0.7234, 0.6821]])"
      ]
     },
     "execution_count": 28,
     "metadata": {},
     "output_type": "execute_result"
    }
   ],
   "source": [
    "x1 #经过就地加法之后x1本身的值会被修改"
   ]
  },
  {
   "cell_type": "code",
   "execution_count": 29,
   "id": "371e52bb",
   "metadata": {},
   "outputs": [
    {
     "data": {
      "text/plain": [
       "tensor([[4.0374, 3.9266, 4.3315],\n",
       "        [3.9718, 3.7234, 3.6821]])"
      ]
     },
     "execution_count": 29,
     "metadata": {},
     "output_type": "execute_result"
    }
   ],
   "source": [
    "# 广播\n",
    "x1 + 3"
   ]
  },
  {
   "cell_type": "code",
   "execution_count": 30,
   "id": "6d00306f",
   "metadata": {},
   "outputs": [
    {
     "name": "stdout",
     "output_type": "stream",
     "text": [
      "torch.Size([2, 3])\n"
     ]
    },
    {
     "data": {
      "text/plain": [
       "tensor([[1.0374, 0.9266],\n",
       "        [1.3315, 0.9718],\n",
       "        [0.7234, 0.6821]])"
      ]
     },
     "execution_count": 30,
     "metadata": {},
     "output_type": "execute_result"
    }
   ],
   "source": [
    "# 张量的变形\n",
    "print(x1.shape)\n",
    "x1.view(3,2)"
   ]
  },
  {
   "cell_type": "code",
   "execution_count": 31,
   "id": "729b63fb",
   "metadata": {},
   "outputs": [
    {
     "data": {
      "text/plain": [
       "tensor([[1.0374],\n",
       "        [0.9266],\n",
       "        [1.3315],\n",
       "        [0.9718],\n",
       "        [0.7234],\n",
       "        [0.6821]])"
      ]
     },
     "execution_count": 31,
     "metadata": {},
     "output_type": "execute_result"
    }
   ],
   "source": [
    "# 张量的展平\n",
    "x1.view(-1,1) #其中 -1表示根据数量自动计算，1表示列数为1  shape  (n,1)"
   ]
  },
  {
   "cell_type": "code",
   "execution_count": 32,
   "id": "3bc0260f",
   "metadata": {},
   "outputs": [
    {
     "data": {
      "text/plain": [
       "tensor(0.9455)"
      ]
     },
     "execution_count": 32,
     "metadata": {},
     "output_type": "execute_result"
    }
   ],
   "source": [
    "# 计算均值\n",
    "x1.mean()"
   ]
  },
  {
   "cell_type": "code",
   "execution_count": 33,
   "id": "5512bbab",
   "metadata": {},
   "outputs": [
    {
     "data": {
      "text/plain": [
       "tensor(5.6728)"
      ]
     },
     "execution_count": 33,
     "metadata": {},
     "output_type": "execute_result"
    }
   ],
   "source": [
    "# 求和\n",
    "x1.sum()"
   ]
  },
  {
   "cell_type": "code",
   "execution_count": 34,
   "id": "92e596af",
   "metadata": {},
   "outputs": [
    {
     "data": {
      "text/plain": [
       "5.672792434692383"
      ]
     },
     "execution_count": 34,
     "metadata": {},
     "output_type": "execute_result"
    }
   ],
   "source": [
    "# 返回元素只有一个的变量的张量的标量值\n",
    "x1.sum().item() # 仅仅适用于张两种元素个数为1的情形"
   ]
  }
 ],
 "metadata": {
  "kernelspec": {
   "display_name": "Python 3 (ipykernel)",
   "language": "python",
   "name": "python3"
  },
  "language_info": {
   "codemirror_mode": {
    "name": "ipython",
    "version": 3
   },
   "file_extension": ".py",
   "mimetype": "text/x-python",
   "name": "python",
   "nbconvert_exporter": "python",
   "pygments_lexer": "ipython3",
   "version": "3.8.12"
  }
 },
 "nbformat": 4,
 "nbformat_minor": 5
}
