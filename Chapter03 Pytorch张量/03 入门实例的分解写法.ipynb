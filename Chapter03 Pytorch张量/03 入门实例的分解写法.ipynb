{
 "cells": [
  {
   "cell_type": "code",
   "execution_count": 1,
   "id": "d570769e",
   "metadata": {},
   "outputs": [],
   "source": [
    "import numpy as np\n",
    "import torch\n",
    "from torch import nn\n",
    "from matplotlib import pyplot as plt\n",
    "import pandas as pd"
   ]
  },
  {
   "cell_type": "markdown",
   "id": "73f660ef",
   "metadata": {},
   "source": [
    "##### 数据预处理"
   ]
  },
  {
   "cell_type": "code",
   "execution_count": 2,
   "id": "b64bb177",
   "metadata": {},
   "outputs": [],
   "source": [
    "data = pd.read_csv(\"./dataset/Income1.csv\")"
   ]
  },
  {
   "cell_type": "code",
   "execution_count": 3,
   "id": "9c96a570",
   "metadata": {},
   "outputs": [],
   "source": [
    "X    = torch.from_numpy(data.Education.values.reshape(-1,1).astype(np.float32))"
   ]
  },
  {
   "cell_type": "code",
   "execution_count": 4,
   "id": "6a71df36",
   "metadata": {},
   "outputs": [],
   "source": [
    "Y    = torch.from_numpy(data.Income.values.reshape(-1,1).astype(np.float32))"
   ]
  },
  {
   "cell_type": "markdown",
   "id": "2c236818",
   "metadata": {},
   "source": [
    "##### 分解写法"
   ]
  },
  {
   "cell_type": "code",
   "execution_count": 5,
   "id": "6499a1db",
   "metadata": {},
   "outputs": [],
   "source": [
    "w    = torch.randn(1,1,requires_grad=True)\n",
    "b    = torch.randn(1,1,requires_grad=True)"
   ]
  },
  {
   "cell_type": "markdown",
   "id": "611e25cb",
   "metadata": {},
   "source": [
    "###### w ⊙ x + b"
   ]
  },
  {
   "cell_type": "code",
   "execution_count": 6,
   "id": "f6868096",
   "metadata": {},
   "outputs": [],
   "source": [
    "learning_rate = 0.001"
   ]
  },
  {
   "cell_type": "code",
   "execution_count": 7,
   "id": "72b097e0",
   "metadata": {},
   "outputs": [],
   "source": [
    "# 使用SGD随机梯度下降算法\n",
    "for epochs in range(5000):\n",
    "    for x,y in zip(X,Y):\n",
    "        y_pred = torch.matmul(x,w) + b #前向传播\n",
    "        loss   = (y-y_pred).pow(2).mean()/2 #计算均方误差\n",
    "        if not w.grad is None:\n",
    "            w.grad.data.zero_()\n",
    "        if not b.grad is None:\n",
    "            b.grad.data.zero_()\n",
    "        loss.backward()\n",
    "        \n",
    "        with torch.no_grad():\n",
    "            w.data -= learning_rate*w.grad.data  #梯度下降算法更新参数\n",
    "            b.data -= learning_rate*b.grad.data"
   ]
  },
  {
   "cell_type": "code",
   "execution_count": 8,
   "id": "1cfbd0c4",
   "metadata": {},
   "outputs": [
    {
     "data": {
      "text/plain": [
       "tensor([[5.0105]], requires_grad=True)"
      ]
     },
     "execution_count": 8,
     "metadata": {},
     "output_type": "execute_result"
    }
   ],
   "source": [
    "w"
   ]
  },
  {
   "cell_type": "code",
   "execution_count": 9,
   "id": "8da5f71f",
   "metadata": {},
   "outputs": [
    {
     "data": {
      "text/plain": [
       "tensor([[-30.9270]], requires_grad=True)"
      ]
     },
     "execution_count": 9,
     "metadata": {},
     "output_type": "execute_result"
    }
   ],
   "source": [
    "b"
   ]
  },
  {
   "cell_type": "code",
   "execution_count": 10,
   "id": "c442da36",
   "metadata": {},
   "outputs": [
    {
     "data": {
      "text/plain": [
       "[<matplotlib.lines.Line2D at 0x1936bfaee20>]"
      ]
     },
     "execution_count": 10,
     "metadata": {},
     "output_type": "execute_result"
    },
    {
     "data": {
      "image/png": "[encoded data removed]",
      "text/plain": [
       "<Figure size 432x288 with 1 Axes>"
      ]
     },
     "metadata": {
      "needs_background": "light"
     },
     "output_type": "display_data"
    }
   ],
   "source": [
    "plt.scatter(data.Education,data.Income)\n",
    "plt.plot(X.numpy(),(w*X+b).data.numpy())"
   ]
  }
 ],
 "metadata": {
  "kernelspec": {
   "display_name": "Python 3 (ipykernel)",
   "language": "python",
   "name": "python3"
  },
  "language_info": {
   "codemirror_mode": {
    "name": "ipython",
    "version": 3
   },
   "file_extension": ".py",
   "mimetype": "text/x-python",
   "name": "python",
   "nbconvert_exporter": "python",
   "pygments_lexer": "ipython3",
   "version": "3.8.12"
  }
 },
 "nbformat": 4,
 "nbformat_minor": 5
}
