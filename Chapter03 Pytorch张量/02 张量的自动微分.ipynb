{
 "cells": [
  {
   "cell_type": "markdown",
   "id": "17418ee4",
   "metadata": {},
   "source": [
    "#### 张量的自动微分"
   ]
  },
  {
   "cell_type": "markdown",
   "id": "5f9f6a5b",
   "metadata": {},
   "source": [
    "###### 将Torch.Tensor属性 .requires_grad设置为True\n",
    "###### pytorch将自动开始跟踪对此张量的所有操作\n",
    "###### 完成计算以后，可以调用.backward() 并自动计算所有的梯度\n",
    "###### 该张量的梯度将累加到.grad属性之中"
   ]
  },
  {
   "cell_type": "code",
   "execution_count": 1,
   "id": "7b8dd099",
   "metadata": {},
   "outputs": [],
   "source": [
    "import torch\n",
    "import numpy as np\n",
    "import matplotlib.pyplot as plt\n",
    "import pandas as pd"
   ]
  },
  {
   "cell_type": "code",
   "execution_count": 2,
   "id": "399f97be",
   "metadata": {},
   "outputs": [],
   "source": [
    "x = torch.ones(2,2,requires_grad=True)"
   ]
  },
  {
   "cell_type": "code",
   "execution_count": 3,
   "id": "ed7a20c9",
   "metadata": {},
   "outputs": [
    {
     "data": {
      "text/plain": [
       "tensor([[1., 1.],\n",
       "        [1., 1.]], requires_grad=True)"
      ]
     },
     "execution_count": 3,
     "metadata": {},
     "output_type": "execute_result"
    }
   ],
   "source": [
    "x"
   ]
  },
  {
   "cell_type": "code",
   "execution_count": 4,
   "id": "6d5725dd",
   "metadata": {},
   "outputs": [
    {
     "data": {
      "text/plain": [
       "True"
      ]
     },
     "execution_count": 4,
     "metadata": {},
     "output_type": "execute_result"
    }
   ],
   "source": [
    "x.requires_grad"
   ]
  },
  {
   "cell_type": "code",
   "execution_count": 5,
   "id": "323a1880",
   "metadata": {},
   "outputs": [
    {
     "data": {
      "text/plain": [
       "tensor([[1., 1.],\n",
       "        [1., 1.]])"
      ]
     },
     "execution_count": 5,
     "metadata": {},
     "output_type": "execute_result"
    }
   ],
   "source": [
    "x.data"
   ]
  },
  {
   "cell_type": "code",
   "execution_count": 6,
   "id": "5236e5cd",
   "metadata": {},
   "outputs": [],
   "source": [
    "x.grad_fn  #返回值为空"
   ]
  },
  {
   "cell_type": "code",
   "execution_count": 7,
   "id": "060e061b",
   "metadata": {},
   "outputs": [],
   "source": [
    "x.grad  #返回值为空"
   ]
  },
  {
   "cell_type": "code",
   "execution_count": 8,
   "id": "74268ad4",
   "metadata": {},
   "outputs": [],
   "source": [
    "y   = x+2"
   ]
  },
  {
   "cell_type": "code",
   "execution_count": 9,
   "id": "0afc6967",
   "metadata": {},
   "outputs": [
    {
     "data": {
      "text/plain": [
       "tensor([[3., 3.],\n",
       "        [3., 3.]], grad_fn=<AddBackward0>)"
      ]
     },
     "execution_count": 9,
     "metadata": {},
     "output_type": "execute_result"
    }
   ],
   "source": [
    "y #由于y的值是根据x求解出来的所以y的grad_fn不为空"
   ]
  },
  {
   "cell_type": "code",
   "execution_count": 10,
   "id": "cd6b37c0",
   "metadata": {},
   "outputs": [
    {
     "data": {
      "text/plain": [
       "<AddBackward0 at 0x1c889aee190>"
      ]
     },
     "execution_count": 10,
     "metadata": {},
     "output_type": "execute_result"
    }
   ],
   "source": [
    "y.grad_fn"
   ]
  },
  {
   "cell_type": "code",
   "execution_count": 11,
   "id": "8f09adce",
   "metadata": {},
   "outputs": [],
   "source": [
    "z   = y * y + 3"
   ]
  },
  {
   "cell_type": "code",
   "execution_count": 12,
   "id": "0cc7837a",
   "metadata": {},
   "outputs": [],
   "source": [
    "out = z.mean()"
   ]
  },
  {
   "cell_type": "code",
   "execution_count": 13,
   "id": "d3ba68fd",
   "metadata": {},
   "outputs": [
    {
     "data": {
      "text/plain": [
       "tensor(12., grad_fn=<MeanBackward0>)"
      ]
     },
     "execution_count": 13,
     "metadata": {},
     "output_type": "execute_result"
    }
   ],
   "source": [
    "out"
   ]
  },
  {
   "cell_type": "code",
   "execution_count": 14,
   "id": "38647b4d",
   "metadata": {},
   "outputs": [
    {
     "data": {
      "text/plain": [
       "tensor([[12., 12.],\n",
       "        [12., 12.]], grad_fn=<AddBackward0>)"
      ]
     },
     "execution_count": 14,
     "metadata": {},
     "output_type": "execute_result"
    }
   ],
   "source": [
    "z"
   ]
  },
  {
   "cell_type": "markdown",
   "id": "ffbb00ca",
   "metadata": {},
   "source": [
    "#### 使用自动微分计算梯度"
   ]
  },
  {
   "cell_type": "code",
   "execution_count": 15,
   "id": "1f30342e",
   "metadata": {},
   "outputs": [],
   "source": [
    "out.backward()  # 微分的结构 dout/dx  out=f(x)  "
   ]
  },
  {
   "cell_type": "code",
   "execution_count": 16,
   "id": "04885921",
   "metadata": {},
   "outputs": [
    {
     "data": {
      "text/plain": [
       "tensor([[1.5000, 1.5000],\n",
       "        [1.5000, 1.5000]])"
      ]
     },
     "execution_count": 16,
     "metadata": {},
     "output_type": "execute_result"
    }
   ],
   "source": [
    "x.grad  #求解出x的梯度"
   ]
  },
  {
   "cell_type": "code",
   "execution_count": 17,
   "id": "9176969f",
   "metadata": {},
   "outputs": [
    {
     "data": {
      "text/plain": [
       "tensor([[1., 1.],\n",
       "        [1., 1.]])"
      ]
     },
     "execution_count": 17,
     "metadata": {},
     "output_type": "execute_result"
    }
   ],
   "source": [
    "x.data   # x本身的值不会因为求解梯度制后发生变化"
   ]
  },
  {
   "cell_type": "code",
   "execution_count": 18,
   "id": "b47a88cf",
   "metadata": {},
   "outputs": [
    {
     "name": "stdout",
     "output_type": "stream",
     "text": [
      "False\n"
     ]
    }
   ],
   "source": [
    "# 当不需要进行自动微分计算时 可用 with语句进行包裹\n",
    "with torch.no_grad():\n",
    "    print((x**2).requires_grad) #返回值为false表示此时梯度运算不会跟踪这里的x"
   ]
  },
  {
   "cell_type": "code",
   "execution_count": 19,
   "id": "2839e663",
   "metadata": {},
   "outputs": [
    {
     "name": "stdout",
     "output_type": "stream",
     "text": [
      "True\n"
     ]
    }
   ],
   "source": [
    "print((x**2).requires_grad) #在不加任何其他语句的限制条件下，x脱离with语句以后会被自动求导机制重新跟踪"
   ]
  },
  {
   "cell_type": "code",
   "execution_count": 20,
   "id": "da4f6d80",
   "metadata": {},
   "outputs": [],
   "source": [
    "y   = x.detach() #y拷贝x，y脱离自动求导机制"
   ]
  },
  {
   "cell_type": "code",
   "execution_count": 21,
   "id": "ee885525",
   "metadata": {},
   "outputs": [
    {
     "data": {
      "text/plain": [
       "True"
      ]
     },
     "execution_count": 21,
     "metadata": {},
     "output_type": "execute_result"
    }
   ],
   "source": [
    "x.requires_grad"
   ]
  },
  {
   "cell_type": "code",
   "execution_count": 22,
   "id": "60a405c2",
   "metadata": {},
   "outputs": [
    {
     "data": {
      "text/plain": [
       "False"
      ]
     },
     "execution_count": 22,
     "metadata": {},
     "output_type": "execute_result"
    }
   ],
   "source": [
    "y.requires_grad"
   ]
  },
  {
   "cell_type": "markdown",
   "id": "2c0a2613",
   "metadata": {},
   "source": [
    "##### 改变require_grad的属性"
   ]
  },
  {
   "cell_type": "code",
   "execution_count": 23,
   "id": "5f6f9afc",
   "metadata": {},
   "outputs": [],
   "source": [
    "a   = torch.tensor([2,3],dtype=torch.float32)"
   ]
  },
  {
   "cell_type": "code",
   "execution_count": 24,
   "id": "f59ab863",
   "metadata": {},
   "outputs": [
    {
     "data": {
      "text/plain": [
       "False"
      ]
     },
     "execution_count": 24,
     "metadata": {},
     "output_type": "execute_result"
    }
   ],
   "source": [
    "a.requires_grad"
   ]
  },
  {
   "cell_type": "code",
   "execution_count": 25,
   "id": "97f56742",
   "metadata": {},
   "outputs": [
    {
     "data": {
      "text/plain": [
       "tensor([2., 3.], requires_grad=True)"
      ]
     },
     "execution_count": 25,
     "metadata": {},
     "output_type": "execute_result"
    }
   ],
   "source": [
    "a.requires_grad_(True) #就地改变a的requires_grad属性"
   ]
  }
 ],
 "metadata": {
  "kernelspec": {
   "display_name": "Python 3 (ipykernel)",
   "language": "python",
   "name": "python3"
  },
  "language_info": {
   "codemirror_mode": {
    "name": "ipython",
    "version": 3
   },
   "file_extension": ".py",
   "mimetype": "text/x-python",
   "name": "python",
   "nbconvert_exporter": "python",
   "pygments_lexer": "ipython3",
   "version": "3.8.12"
  }
 },
 "nbformat": 4,
 "nbformat_minor": 5
}
