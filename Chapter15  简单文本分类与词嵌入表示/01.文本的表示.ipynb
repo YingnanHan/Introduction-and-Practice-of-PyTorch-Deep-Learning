{
 "cells": [
  {
   "cell_type": "code",
   "execution_count": 1,
   "id": "ac23351c",
   "metadata": {},
   "outputs": [],
   "source": [
    "import numpy as np\n",
    "import string\n",
    "import torch"
   ]
  },
  {
   "cell_type": "markdown",
   "id": "9b8c8dc4",
   "metadata": {},
   "source": [
    "##### 分词"
   ]
  },
  {
   "cell_type": "code",
   "execution_count": 2,
   "id": "4a2a67b2",
   "metadata": {},
   "outputs": [],
   "source": [
    "s = 'Life is not easy for any of us.We must work,and above all we must believe in ourselves.We must believe that each one of us is able to do some thing well.And that we must work until we succeed.'"
   ]
  },
  {
   "cell_type": "markdown",
   "id": "7a003d17",
   "metadata": {},
   "source": [
    "###### 方式一"
   ]
  },
  {
   "cell_type": "code",
   "execution_count": 3,
   "id": "e74a2ad0",
   "metadata": {},
   "outputs": [],
   "source": [
    "for c in string.punctuation:\n",
    "    s = s.replace(c,' ').lower()"
   ]
  },
  {
   "cell_type": "code",
   "execution_count": 4,
   "id": "6b5c4371",
   "metadata": {},
   "outputs": [
    {
     "data": {
      "text/plain": [
       "['l',\n",
       " 'i',\n",
       " 'f',\n",
       " 'e',\n",
       " ' ',\n",
       " 'i',\n",
       " 's',\n",
       " ' ',\n",
       " 'n',\n",
       " 'o',\n",
       " 't',\n",
       " ' ',\n",
       " 'e',\n",
       " 'a',\n",
       " 's',\n",
       " 'y',\n",
       " ' ',\n",
       " 'f',\n",
       " 'o',\n",
       " 'r',\n",
       " ' ',\n",
       " 'a',\n",
       " 'n',\n",
       " 'y',\n",
       " ' ',\n",
       " 'o',\n",
       " 'f',\n",
       " ' ',\n",
       " 'u',\n",
       " 's',\n",
       " ' ',\n",
       " 'w',\n",
       " 'e',\n",
       " ' ',\n",
       " 'm',\n",
       " 'u',\n",
       " 's',\n",
       " 't',\n",
       " ' ',\n",
       " 'w',\n",
       " 'o',\n",
       " 'r',\n",
       " 'k',\n",
       " ' ',\n",
       " 'a',\n",
       " 'n',\n",
       " 'd',\n",
       " ' ',\n",
       " 'a',\n",
       " 'b',\n",
       " 'o',\n",
       " 'v',\n",
       " 'e',\n",
       " ' ',\n",
       " 'a',\n",
       " 'l',\n",
       " 'l',\n",
       " ' ',\n",
       " 'w',\n",
       " 'e',\n",
       " ' ',\n",
       " 'm',\n",
       " 'u',\n",
       " 's',\n",
       " 't',\n",
       " ' ',\n",
       " 'b',\n",
       " 'e',\n",
       " 'l',\n",
       " 'i',\n",
       " 'e',\n",
       " 'v',\n",
       " 'e',\n",
       " ' ',\n",
       " 'i',\n",
       " 'n',\n",
       " ' ',\n",
       " 'o',\n",
       " 'u',\n",
       " 'r',\n",
       " 's',\n",
       " 'e',\n",
       " 'l',\n",
       " 'v',\n",
       " 'e',\n",
       " 's',\n",
       " ' ',\n",
       " 'w',\n",
       " 'e',\n",
       " ' ',\n",
       " 'm',\n",
       " 'u',\n",
       " 's',\n",
       " 't',\n",
       " ' ',\n",
       " 'b',\n",
       " 'e',\n",
       " 'l',\n",
       " 'i',\n",
       " 'e',\n",
       " 'v',\n",
       " 'e',\n",
       " ' ',\n",
       " 't',\n",
       " 'h',\n",
       " 'a',\n",
       " 't',\n",
       " ' ',\n",
       " 'e',\n",
       " 'a',\n",
       " 'c',\n",
       " 'h',\n",
       " ' ',\n",
       " 'o',\n",
       " 'n',\n",
       " 'e',\n",
       " ' ',\n",
       " 'o',\n",
       " 'f',\n",
       " ' ',\n",
       " 'u',\n",
       " 's',\n",
       " ' ',\n",
       " 'i',\n",
       " 's',\n",
       " ' ',\n",
       " 'a',\n",
       " 'b',\n",
       " 'l',\n",
       " 'e',\n",
       " ' ',\n",
       " 't',\n",
       " 'o',\n",
       " ' ',\n",
       " 'd',\n",
       " 'o',\n",
       " ' ',\n",
       " 's',\n",
       " 'o',\n",
       " 'm',\n",
       " 'e',\n",
       " ' ',\n",
       " 't',\n",
       " 'h',\n",
       " 'i',\n",
       " 'n',\n",
       " 'g',\n",
       " ' ',\n",
       " 'w',\n",
       " 'e',\n",
       " 'l',\n",
       " 'l',\n",
       " ' ',\n",
       " 'a',\n",
       " 'n',\n",
       " 'd',\n",
       " ' ',\n",
       " 't',\n",
       " 'h',\n",
       " 'a',\n",
       " 't',\n",
       " ' ',\n",
       " 'w',\n",
       " 'e',\n",
       " ' ',\n",
       " 'm',\n",
       " 'u',\n",
       " 's',\n",
       " 't',\n",
       " ' ',\n",
       " 'w',\n",
       " 'o',\n",
       " 'r',\n",
       " 'k',\n",
       " ' ',\n",
       " 'u',\n",
       " 'n',\n",
       " 't',\n",
       " 'i',\n",
       " 'l',\n",
       " ' ',\n",
       " 'w',\n",
       " 'e',\n",
       " ' ',\n",
       " 's',\n",
       " 'u',\n",
       " 'c',\n",
       " 'c',\n",
       " 'e',\n",
       " 'e',\n",
       " 'd',\n",
       " ' ']"
      ]
     },
     "execution_count": 4,
     "metadata": {},
     "output_type": "execute_result"
    }
   ],
   "source": [
    "list(s)                    ## 按字母进行分词 将得到的字母列表映射到独热编码"
   ]
  },
  {
   "cell_type": "markdown",
   "id": "62473d19",
   "metadata": {},
   "source": [
    "###### 方式二"
   ]
  },
  {
   "cell_type": "code",
   "execution_count": 5,
   "id": "e9f7c2cf",
   "metadata": {},
   "outputs": [
    {
     "data": {
      "text/plain": [
       "['life',\n",
       " 'is',\n",
       " 'not',\n",
       " 'easy',\n",
       " 'for',\n",
       " 'any',\n",
       " 'of',\n",
       " 'us',\n",
       " 'we',\n",
       " 'must',\n",
       " 'work',\n",
       " 'and',\n",
       " 'above',\n",
       " 'all',\n",
       " 'we',\n",
       " 'must',\n",
       " 'believe',\n",
       " 'in',\n",
       " 'ourselves',\n",
       " 'we',\n",
       " 'must',\n",
       " 'believe',\n",
       " 'that',\n",
       " 'each',\n",
       " 'one',\n",
       " 'of',\n",
       " 'us',\n",
       " 'is',\n",
       " 'able',\n",
       " 'to',\n",
       " 'do',\n",
       " 'some',\n",
       " 'thing',\n",
       " 'well',\n",
       " 'and',\n",
       " 'that',\n",
       " 'we',\n",
       " 'must',\n",
       " 'work',\n",
       " 'until',\n",
       " 'we',\n",
       " 'succeed']"
      ]
     },
     "execution_count": 5,
     "metadata": {},
     "output_type": "execute_result"
    }
   ],
   "source": [
    "s.split()                 ## 按单词进行分词"
   ]
  },
  {
   "cell_type": "markdown",
   "id": "93d5bbfb",
   "metadata": {},
   "source": [
    "###### 方式三     :   n-gram分词"
   ]
  },
  {
   "cell_type": "markdown",
   "id": "334be1a5",
   "metadata": {},
   "source": [
    "##### 单词的向量化                      "
   ]
  },
  {
   "cell_type": "raw",
   "id": "6cece409",
   "metadata": {},
   "source": [
    "向量化的方法: one-hot(独热编码)    embedding(词嵌入编码)"
   ]
  },
  {
   "cell_type": "markdown",
   "id": "ebfbfbef",
   "metadata": {},
   "source": [
    "#####  one-hot(独热编码) "
   ]
  },
  {
   "cell_type": "code",
   "execution_count": 6,
   "id": "93f1e02b",
   "metadata": {},
   "outputs": [
    {
     "data": {
      "text/plain": [
       "array(['able', 'above', 'all', 'and', 'any', 'believe', 'do', 'each',\n",
       "       'easy', 'for', 'in', 'is', 'life', 'must', 'not', 'of', 'one',\n",
       "       'ourselves', 'some', 'succeed', 'that', 'thing', 'to', 'until',\n",
       "       'us', 'we', 'well', 'work'], dtype='<U9')"
      ]
     },
     "execution_count": 6,
     "metadata": {},
     "output_type": "execute_result"
    }
   ],
   "source": [
    "# 根据以单词为单位的分词结果 创建词表 将单词映射到数值\n",
    "np.unique(s.split())"
   ]
  },
  {
   "cell_type": "code",
   "execution_count": 7,
   "id": "f9e452e3",
   "metadata": {},
   "outputs": [
    {
     "name": "stdout",
     "output_type": "stream",
     "text": [
      "{'able': 0, 'above': 1, 'all': 2, 'and': 3, 'any': 4, 'believe': 5, 'do': 6, 'each': 7, 'easy': 8, 'for': 9, 'in': 10, 'is': 11, 'life': 12, 'must': 13, 'not': 14, 'of': 15, 'one': 16, 'ourselves': 17, 'some': 18, 'succeed': 19, 'that': 20, 'thing': 21, 'to': 22, 'until': 23, 'us': 24, 'we': 25, 'well': 26, 'work': 27}\n"
     ]
    }
   ],
   "source": [
    "voacab = dict((word,index) for index,word in enumerate(np.unique(s.split())))\n",
    "print(voacab)  # 输出词表"
   ]
  },
  {
   "cell_type": "code",
   "execution_count": 8,
   "id": "4e1667e8",
   "metadata": {},
   "outputs": [
    {
     "name": "stdout",
     "output_type": "stream",
     "text": [
      "[12, 11, 14, 8, 9, 4, 15, 24, 25, 13, 27, 3, 1, 2, 25, 13, 5, 10, 17, 25, 13, 5, 20, 7, 16, 15, 24, 11, 0, 22, 6, 18, 21, 26, 3, 20, 25, 13, 27, 23, 25, 19]\n"
     ]
    }
   ],
   "source": [
    "## 将原有的文字按照词表的映射关系转换成数值化的文字\n",
    "s = [voacab.get(word) for word in s.split() ]\n",
    "print(s)"
   ]
  },
  {
   "cell_type": "code",
   "execution_count": 9,
   "id": "88e21faf",
   "metadata": {},
   "outputs": [
    {
     "name": "stdout",
     "output_type": "stream",
     "text": [
      "42 28\n"
     ]
    }
   ],
   "source": [
    "## 独热编码化\n",
    "print(len(s),len(voacab))       # 最终由于不同单词数目有28个，所以需要将原文本映射到28维的空间中"
   ]
  },
  {
   "cell_type": "code",
   "execution_count": 10,
   "id": "6ae87ca2",
   "metadata": {},
   "outputs": [],
   "source": [
    "b = np.zeros((len(s),len(voacab))) # 第一个参数表示有多少个单词 第二个参数表示每个单词使用多长的独热编码表示"
   ]
  },
  {
   "cell_type": "code",
   "execution_count": 11,
   "id": "8337a329",
   "metadata": {},
   "outputs": [],
   "source": [
    "for index,i in enumerate(s):   # 设置独热编码\n",
    "    b[index,i] = 1"
   ]
  },
  {
   "cell_type": "code",
   "execution_count": 12,
   "id": "37448a6d",
   "metadata": {},
   "outputs": [
    {
     "data": {
      "text/plain": [
       "array([[0., 0., 0., ..., 0., 0., 0.],\n",
       "       [0., 0., 0., ..., 0., 0., 0.],\n",
       "       [0., 0., 0., ..., 0., 0., 0.],\n",
       "       ...,\n",
       "       [0., 0., 0., ..., 0., 0., 0.],\n",
       "       [0., 0., 0., ..., 1., 0., 0.],\n",
       "       [0., 0., 0., ..., 0., 0., 0.]])"
      ]
     },
     "execution_count": 12,
     "metadata": {},
     "output_type": "execute_result"
    }
   ],
   "source": [
    "b"
   ]
  },
  {
   "cell_type": "markdown",
   "id": "b8c76cb3",
   "metadata": {},
   "source": [
    "##### embedding(词嵌入编码)"
   ]
  },
  {
   "cell_type": "code",
   "execution_count": 13,
   "id": "f8ff1ecb",
   "metadata": {},
   "outputs": [],
   "source": [
    "## 使用内置词嵌入层\n",
    "em   = torch.nn.Embedding(num_embeddings=len(voacab),embedding_dim=20) # 将词表voacab中的单词映射到长度为20的张量中"
   ]
  },
  {
   "cell_type": "code",
   "execution_count": 14,
   "id": "5a021285",
   "metadata": {},
   "outputs": [],
   "source": [
    "s_em = em(torch.LongTensor(s))"
   ]
  },
  {
   "cell_type": "code",
   "execution_count": 15,
   "id": "2c6ec96e",
   "metadata": {},
   "outputs": [
    {
     "data": {
      "text/plain": [
       "torch.Size([42, 20])"
      ]
     },
     "execution_count": 15,
     "metadata": {},
     "output_type": "execute_result"
    }
   ],
   "source": [
    "s_em.shape # 根据s_em 表示,词嵌入编码将42个单词映射到一个20维的向量空间中"
   ]
  },
  {
   "cell_type": "raw",
   "id": "649bda29",
   "metadata": {},
   "source": [
    "嵌入层还用于所有类型的分类输入，而不只是为自然语言进行词嵌入\n",
    "例如：如果要为超市里多个商品做推荐，则最好对商品名称做词嵌入，而不是将其作为单独的one-hot编码向量输送给神经网络"
   ]
  },
  {
   "cell_type": "markdown",
   "id": "5b159d4d",
   "metadata": {},
   "source": [
    "##### 文本处理的步骤"
   ]
  },
  {
   "cell_type": "raw",
   "id": "a310b434",
   "metadata": {},
   "source": [
    "分词: 使用jieba分词 或 按照空格对英文进行分词\n",
    "创建词表:\n",
    "词嵌入表示: 使用高维向量表示每一段分词 向量长度由用户自定义"
   ]
  }
 ],
 "metadata": {
  "kernelspec": {
   "display_name": "Python 3 (ipykernel)",
   "language": "python",
   "name": "python3"
  },
  "language_info": {
   "codemirror_mode": {
    "name": "ipython",
    "version": 3
   },
   "file_extension": ".py",
   "mimetype": "text/x-python",
   "name": "python",
   "nbconvert_exporter": "python",
   "pygments_lexer": "ipython3",
   "version": "3.8.12"
  }
 },
 "nbformat": 4,
 "nbformat_minor": 5
}
