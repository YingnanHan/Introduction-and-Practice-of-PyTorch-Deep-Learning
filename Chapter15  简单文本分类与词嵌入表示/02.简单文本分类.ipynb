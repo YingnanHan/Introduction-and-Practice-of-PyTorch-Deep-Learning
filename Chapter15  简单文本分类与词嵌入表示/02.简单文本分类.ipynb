{
 "cells": [
  {
   "cell_type": "code",
   "execution_count": 1,
   "id": "aab8cf14",
   "metadata": {},
   "outputs": [],
   "source": [
    "import torch\n",
    "import torchtext\n",
    "import numpy as np\n",
    "import torch.nn as nn\n",
    "import torch.nn.functional as F\n",
    "from   torchtext.vocab import GloVe\n",
    "from   torchtext.legacy.data import Field\n",
    "from   torch.optim import lr_scheduler"
   ]
  },
  {
   "cell_type": "markdown",
   "id": "9fadd7fd",
   "metadata": {},
   "source": [
    "##### 构造数据集"
   ]
  },
  {
   "cell_type": "code",
   "execution_count": 2,
   "id": "eda00347",
   "metadata": {},
   "outputs": [],
   "source": [
    "# step 1. 创建字段(字段就是数据集中都有哪些特征)\n",
    "# 加载pytorch中torchtext内置的IMDB电影评论数据集\n",
    "#                                  1.评论内容转为小写  2.评论截取200字符 3.设置第一维度是batch编号\n",
    "TEXT = torchtext.legacy.data.Field(lower=True,fix_length=200,batch_first=True)\n",
    "#                                  1.不进行对标签的乱序保证一一对应\n",
    "LABEL= torchtext.legacy.data.Field(sequential=False)"
   ]
  },
  {
   "cell_type": "code",
   "execution_count": 3,
   "id": "6625bb9d",
   "metadata": {},
   "outputs": [],
   "source": [
    "# step 2. 加载数据\n",
    "# 划分数据集为训练数据集以及测试数据集并设置自定义字段\n",
    "train,test = torchtext.legacy.datasets.IMDB.splits(TEXT,LABEL)"
   ]
  },
  {
   "cell_type": "code",
   "execution_count": 4,
   "id": "6168c49e",
   "metadata": {},
   "outputs": [],
   "source": [
    "# 查看train数据集中的字段\n",
    "# train.fields  "
   ]
  },
  {
   "cell_type": "code",
   "execution_count": 5,
   "id": "02006bf3",
   "metadata": {},
   "outputs": [],
   "source": [
    "# step 3. 创建词表\n",
    "# 根据train数据集创建词表，并且仅仅关注出现频率为前10000的单词 \n",
    "# 其他标注为Unknown ,设置出现频率小于3的单词被抛弃\n",
    "# 创建词表之后会将一个单词映射到一个固定且唯一的数值\n",
    "TEXT.build_vocab(train,max_size=10000,min_freq=3) \n",
    "LABEL.build_vocab(train)"
   ]
  },
  {
   "cell_type": "code",
   "execution_count": 6,
   "id": "d6feebbf",
   "metadata": {},
   "outputs": [],
   "source": [
    "# TEXT.vocab.freqs        # 查看每一个单词出现的频数"
   ]
  },
  {
   "cell_type": "code",
   "execution_count": 7,
   "id": "df9a5c71",
   "metadata": {},
   "outputs": [],
   "source": [
    "# TEXT.vocab.stoi         # 查看词表内容  "
   ]
  },
  {
   "cell_type": "code",
   "execution_count": 8,
   "id": "4759bae1",
   "metadata": {},
   "outputs": [],
   "source": [
    "# len(TEXT.vocab.stoi)    # 整个此表的长度为10002 (词表+未知值+填充值)        "
   ]
  },
  {
   "cell_type": "code",
   "execution_count": 9,
   "id": "9ed34725",
   "metadata": {},
   "outputs": [],
   "source": [
    "# 利用torchtext创建文本DataLoader\n",
    "train_iter,test_iter = torchtext.legacy.data.BucketIterator.splits((train,test),batch_size=16)"
   ]
  },
  {
   "cell_type": "code",
   "execution_count": 10,
   "id": "f3150411",
   "metadata": {},
   "outputs": [],
   "source": [
    "# 查看数据集中的数据\n",
    "# b = next(iter(train_iter))# 每一次返回的值是文本-标签对\n",
    "# print(b.text)             # 查看一批次自然语言文本(测试数据集中的一个batch)对应的数据向量\n",
    "# print(\"\\n\\n\")\n",
    "# print(b.label)            # 查看一批次自然语言文本(测试数据集中的一个batch)对应的标签\n",
    "# print(\"\\n\\n\")\n",
    "# print(b.text.shape)       # 查看一批次自然语言文本(测试数据集中的一个batch)的形状\n",
    "# print(\"\\n\\n\")\n",
    "# print(b.label.shape)      # 查看一批次自然语言文本对应标签(测试数据集中的一个batch)的形状"
   ]
  },
  {
   "cell_type": "markdown",
   "id": "592dfaaa",
   "metadata": {},
   "source": [
    "##### 创建模型"
   ]
  },
  {
   "cell_type": "code",
   "execution_count": 11,
   "id": "6d686244",
   "metadata": {},
   "outputs": [],
   "source": [
    "# 未考虑文本顺序 -- 效果差\n",
    "class Net(nn.Module):\n",
    "    def __init__(self):\n",
    "        super().__init__()\n",
    "        # 将单词做映射 参数为: 输入词表长度 以及 用多长的向量表示一个的单词\n",
    "        self.em  = nn.Embedding(len(TEXT.vocab.stoi),100) # batch*200单词 <--> batch*200*100向量\n",
    "        self.fc1 = nn.Linear(200*100,1024)                # \n",
    "        self.fc2 = nn.Linear(1024,3)                      # 定义为3分类模型\n",
    "    def forward(self,x):\n",
    "        x = self.em(x)                                    # 文本的词向量表示\n",
    "        x = x.view(x.size(0),-1)                          # 将数据扁平化\n",
    "        x = self.fc1(x)\n",
    "        x = F.relu(x)                                     # 激活\n",
    "        x = self.fc2(x)                                   # 输出值生成\n",
    "        return x"
   ]
  },
  {
   "cell_type": "code",
   "execution_count": 12,
   "id": "d799e047",
   "metadata": {},
   "outputs": [],
   "source": [
    "model = Net()\n",
    "model = model.to(\"cuda\")"
   ]
  },
  {
   "cell_type": "code",
   "execution_count": 13,
   "id": "e849c5ce",
   "metadata": {},
   "outputs": [],
   "source": [
    "loss_fn            = nn.CrossEntropyLoss()\n",
    "optimizer          = torch.optim.Adam(model.parameters())\n",
    "exp_lr_scheduler   = lr_scheduler.StepLR(optimizer, step_size=7, gamma=0.1)\n",
    "epochs             = 10"
   ]
  },
  {
   "cell_type": "markdown",
   "id": "0ed27ac4",
   "metadata": {},
   "source": [
    "##### 训练模型"
   ]
  },
  {
   "cell_type": "code",
   "execution_count": 14,
   "id": "a852ce95",
   "metadata": {},
   "outputs": [],
   "source": [
    "def fit(epoch, model, trainloader, testloader):\n",
    "    correct      = 0\n",
    "    total        = 0\n",
    "    running_loss = 0\n",
    "    \n",
    "    model.train()\n",
    "    for b in trainloader:\n",
    "        x, y     = b.text, b.label\n",
    "        if torch.cuda.is_available():\n",
    "            x, y = b.text.to('cuda'), b.label.to('cuda')\n",
    "        y_pred   = model(x)\n",
    "        loss     = loss_fn(y_pred, y)\n",
    "        optimizer.zero_grad()\n",
    "        loss.backward()\n",
    "        optimizer.step()\n",
    "        with torch.no_grad():\n",
    "            y_pred       = torch.argmax(y_pred, dim=1)\n",
    "            correct      += (y_pred == y).sum().item()\n",
    "            total        += y.size(0)\n",
    "            running_loss += loss.item()\n",
    "    exp_lr_scheduler.step()\n",
    "    epoch_loss = running_loss / len(trainloader.dataset)\n",
    "    epoch_acc  = correct / total\n",
    "        \n",
    "        \n",
    "    test_correct      = 0\n",
    "    test_total        = 0\n",
    "    test_running_loss = 0 \n",
    "    \n",
    "    model.eval()\n",
    "    with torch.no_grad():\n",
    "        for b in testloader:\n",
    "            x, y     = b.text, b.label\n",
    "            if torch.cuda.is_available():\n",
    "                x, y = x.to('cuda'), y.to('cuda')\n",
    "            y_pred             = model(x)\n",
    "            loss               = loss_fn(y_pred, y)\n",
    "            y_pred             = torch.argmax(y_pred, dim=1)\n",
    "            test_correct      += (y_pred == y).sum().item()\n",
    "            test_total        += y.size(0)\n",
    "            test_running_loss += loss.item()\n",
    "    epoch_test_loss = test_running_loss / len(testloader.dataset)\n",
    "    epoch_test_acc  = test_correct / test_total  \n",
    "    print('epoch: ', epoch, '\\t loss： ', round(epoch_loss, 3),'\\t accuracy:', round(epoch_acc, 3),'\\t test_loss： ', round(epoch_test_loss, 3),'\\t test_accuracy:', round(epoch_test_acc, 3))\n",
    "    return epoch_loss, epoch_acc, epoch_test_loss, epoch_test_acc"
   ]
  },
  {
   "cell_type": "code",
   "execution_count": 15,
   "id": "eb981417",
   "metadata": {},
   "outputs": [
    {
     "name": "stdout",
     "output_type": "stream",
     "text": [
      "epoch:  0 \t loss：  0.045 \t accuracy: 0.57 \t test_loss：  0.042 \t test_accuracy: 0.609\n",
      "epoch:  1 \t loss：  0.023 \t accuracy: 0.832 \t test_loss：  0.04 \t test_accuracy: 0.705\n",
      "epoch:  2 \t loss：  0.008 \t accuracy: 0.954 \t test_loss：  0.057 \t test_accuracy: 0.722\n",
      "epoch:  3 \t loss：  0.003 \t accuracy: 0.982 \t test_loss：  0.076 \t test_accuracy: 0.718\n",
      "epoch:  4 \t loss：  0.003 \t accuracy: 0.986 \t test_loss：  0.09 \t test_accuracy: 0.726\n",
      "epoch:  5 \t loss：  0.002 \t accuracy: 0.991 \t test_loss：  0.088 \t test_accuracy: 0.737\n",
      "epoch:  6 \t loss：  0.002 \t accuracy: 0.991 \t test_loss：  0.099 \t test_accuracy: 0.734\n",
      "epoch:  7 \t loss：  0.001 \t accuracy: 0.997 \t test_loss：  0.099 \t test_accuracy: 0.738\n",
      "epoch:  8 \t loss：  0.0 \t accuracy: 1.0 \t test_loss：  0.102 \t test_accuracy: 0.74\n",
      "epoch:  9 \t loss：  0.0 \t accuracy: 1.0 \t test_loss：  0.108 \t test_accuracy: 0.741\n"
     ]
    }
   ],
   "source": [
    "train_loss = []\n",
    "train_acc  = []\n",
    "test_loss  = []\n",
    "test_acc   = []\n",
    "\n",
    "for epoch in range(epochs):\n",
    "    epoch_loss, epoch_acc, epoch_test_loss, epoch_test_acc = fit(epoch, model,train_iter,test_iter)\n",
    "    train_loss.append(epoch_loss)\n",
    "    train_acc.append(epoch_acc)\n",
    "    test_loss.append(epoch_test_loss)\n",
    "    test_acc.append(epoch_test_acc)"
   ]
  }
 ],
 "metadata": {
  "kernelspec": {
   "display_name": "Python 3 (ipykernel)",
   "language": "python",
   "name": "python3"
  },
  "language_info": {
   "codemirror_mode": {
    "name": "ipython",
    "version": 3
   },
   "file_extension": ".py",
   "mimetype": "text/x-python",
   "name": "python",
   "nbconvert_exporter": "python",
   "pygments_lexer": "ipython3",
   "version": "3.8.12"
  }
 },
 "nbformat": 4,
 "nbformat_minor": 5
}
