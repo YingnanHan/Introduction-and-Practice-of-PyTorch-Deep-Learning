{
 "cells": [
  {
   "cell_type": "code",
   "execution_count": 1,
   "id": "f053533e",
   "metadata": {},
   "outputs": [],
   "source": [
    "import torch\n",
    "import torchtext\n",
    "import numpy as np\n",
    "import torch.nn as nn\n",
    "import torch.nn.functional as F\n",
    "from   torchtext.vocab import GloVe\n",
    "from   torchtext.legacy.data import Field\n",
    "from   torch.optim import lr_scheduler"
   ]
  },
  {
   "cell_type": "markdown",
   "id": "29e645c0",
   "metadata": {},
   "source": [
    "##### 构造数据集"
   ]
  },
  {
   "cell_type": "code",
   "execution_count": 2,
   "id": "7d352d17",
   "metadata": {},
   "outputs": [],
   "source": [
    "# 创建字段\n",
    "TEXT                 = torchtext.legacy.data.Field(lower=True,fix_length=200,batch_first=True)\n",
    "LABEL                = torchtext.legacy.data.Field(sequential=False)\n",
    "# 加载数据\n",
    "train,test           = torchtext.legacy.datasets.IMDB.splits(TEXT,LABEL)\n",
    "# 构建词表  使用GLoVe库的内置词向量 将词表映射到100维的向量空间中\n",
    "TEXT.build_vocab(train,vectors=GloVe(name=\"6B\",dim=100),max_size=20000,min_freq=10)\n",
    "LABEL.build_vocab(train)\n",
    "# 创建DataLoader\n",
    "train_iter,test_iter = torchtext.legacy.data.BucketIterator.splits((train,test),batch_size=16)"
   ]
  },
  {
   "cell_type": "markdown",
   "id": "51d52a45",
   "metadata": {},
   "source": [
    "##### 创建模型"
   ]
  },
  {
   "cell_type": "code",
   "execution_count": 3,
   "id": "5462d237",
   "metadata": {},
   "outputs": [],
   "source": [
    "class Net(nn.Module):\n",
    "    def __init__(self):\n",
    "        super().__init__()\n",
    "        # 将单词做映射 参数为: 输入词表长度 以及 用多长的向量表示一个的单词\n",
    "        self.em  = nn.Embedding(len(TEXT.vocab.stoi),100) # batch*200单词 <--> batch*200*100向量\n",
    "        self.fc1 = nn.Linear(200*100,1024)                # \n",
    "        self.fc2 = nn.Linear(1024,3)                      # 定义为3分类模型\n",
    "    def forward(self,x):\n",
    "        x = self.em(x)                                    # 文本的词向量表示\n",
    "        x = x.view(x.size(0),-1)                          # 将数据扁平化\n",
    "        x = self.fc1(x)\n",
    "        x = F.relu(x)                                     # 激活\n",
    "        x = self.fc2(x)                                   # 输出值生成\n",
    "        return x"
   ]
  },
  {
   "cell_type": "code",
   "execution_count": 4,
   "id": "57b3dcd9",
   "metadata": {},
   "outputs": [],
   "source": [
    "model                = Net()\n",
    "model                = model.to(\"cuda\")\n",
    "loss_fn              = nn.CrossEntropyLoss()\n",
    "optimizer            = torch.optim.Adam(model.parameters())\n",
    "exp_lr_scheduler     = lr_scheduler.StepLR(optimizer, step_size=7, gamma=0.1)\n",
    "epochs               = 10"
   ]
  },
  {
   "cell_type": "code",
   "execution_count": 5,
   "id": "44008ab7",
   "metadata": {},
   "outputs": [],
   "source": [
    "''' 使用已经训练好的词向量 '''\n",
    "model.em.weight.data          = TEXT.vocab.vectors\n",
    "model.em.weight.requires_grad = False\n",
    "''' 将model.em.weight从model.parameters()优化器中排除 '''\n",
    "optimizer  =  torch.optim.Adam(\n",
    "        [param for param in model.parameters() if param.requires_grad==True],\n",
    "        lr = 0.001\n",
    ")\n",
    "model      = model.cuda()"
   ]
  },
  {
   "cell_type": "markdown",
   "id": "3b25b3c5",
   "metadata": {},
   "source": [
    "##### 训练模型"
   ]
  },
  {
   "cell_type": "code",
   "execution_count": 6,
   "id": "0bd8b199",
   "metadata": {},
   "outputs": [],
   "source": [
    "def fit(epoch, model, trainloader, testloader):\n",
    "    correct      = 0\n",
    "    total        = 0\n",
    "    running_loss = 0\n",
    "    \n",
    "    model.train()\n",
    "    for b in trainloader:\n",
    "        x, y     = b.text, b.label\n",
    "        if torch.cuda.is_available():\n",
    "            x, y = b.text.to('cuda'), b.label.to('cuda')\n",
    "        y_pred   = model(x)\n",
    "        loss     = loss_fn(y_pred, y)\n",
    "        optimizer.zero_grad()\n",
    "        loss.backward()\n",
    "        optimizer.step()\n",
    "        with torch.no_grad():\n",
    "            y_pred       = torch.argmax(y_pred, dim=1)\n",
    "            correct      += (y_pred == y).sum().item()\n",
    "            total        += y.size(0)\n",
    "            running_loss += loss.item()\n",
    "    exp_lr_scheduler.step()\n",
    "    epoch_loss = running_loss / len(trainloader.dataset)\n",
    "    epoch_acc  = correct / total\n",
    "        \n",
    "        \n",
    "    test_correct      = 0\n",
    "    test_total        = 0\n",
    "    test_running_loss = 0 \n",
    "    \n",
    "    model.eval()\n",
    "    with torch.no_grad():\n",
    "        for b in testloader:\n",
    "            x, y     = b.text, b.label\n",
    "            if torch.cuda.is_available():\n",
    "                x, y = x.to('cuda'), y.to('cuda')\n",
    "            y_pred             = model(x)\n",
    "            loss               = loss_fn(y_pred, y)\n",
    "            y_pred             = torch.argmax(y_pred, dim=1)\n",
    "            test_correct      += (y_pred == y).sum().item()\n",
    "            test_total        += y.size(0)\n",
    "            test_running_loss += loss.item()\n",
    "    epoch_test_loss = test_running_loss / len(testloader.dataset)\n",
    "    epoch_test_acc  = test_correct / test_total  \n",
    "    print('epoch: ', epoch, '\\t loss： ', round(epoch_loss, 3),'\\t accuracy:', round(epoch_acc, 3),'\\t test_loss： ', round(epoch_test_loss, 3),'\\t test_accuracy:', round(epoch_test_acc, 3))\n",
    "    return epoch_loss, epoch_acc, epoch_test_loss, epoch_test_acc"
   ]
  },
  {
   "cell_type": "code",
   "execution_count": 7,
   "id": "9596ad55",
   "metadata": {},
   "outputs": [
    {
     "name": "stderr",
     "output_type": "stream",
     "text": [
      "D:\\Anaconda3\\envs\\pytorch\\lib\\site-packages\\torch\\optim\\lr_scheduler.py:129: UserWarning: Detected call of `lr_scheduler.step()` before `optimizer.step()`. In PyTorch 1.1.0 and later, you should call them in the opposite order: `optimizer.step()` before `lr_scheduler.step()`.  Failure to do this will result in PyTorch skipping the first value of the learning rate schedule. See more details at https://pytorch.org/docs/stable/optim.html#how-to-adjust-learning-rate\n",
      "  warnings.warn(\"Detected call of `lr_scheduler.step()` before `optimizer.step()`. \"\n"
     ]
    },
    {
     "name": "stdout",
     "output_type": "stream",
     "text": [
      "epoch:  0 \t loss：  0.041 \t accuracy: 0.656 \t test_loss：  0.036 \t test_accuracy: 0.694\n",
      "epoch:  1 \t loss：  0.032 \t accuracy: 0.753 \t test_loss：  0.038 \t test_accuracy: 0.698\n",
      "epoch:  2 \t loss：  0.025 \t accuracy: 0.819 \t test_loss：  0.04 \t test_accuracy: 0.696\n",
      "epoch:  3 \t loss：  0.019 \t accuracy: 0.871 \t test_loss：  0.045 \t test_accuracy: 0.688\n",
      "epoch:  4 \t loss：  0.011 \t accuracy: 0.925 \t test_loss：  0.065 \t test_accuracy: 0.692\n",
      "epoch:  5 \t loss：  0.007 \t accuracy: 0.956 \t test_loss：  0.075 \t test_accuracy: 0.692\n",
      "epoch:  6 \t loss：  0.005 \t accuracy: 0.969 \t test_loss：  0.104 \t test_accuracy: 0.674\n",
      "epoch:  7 \t loss：  0.004 \t accuracy: 0.975 \t test_loss：  0.113 \t test_accuracy: 0.677\n",
      "epoch:  8 \t loss：  0.004 \t accuracy: 0.977 \t test_loss：  0.115 \t test_accuracy: 0.683\n",
      "epoch:  9 \t loss：  0.003 \t accuracy: 0.981 \t test_loss：  0.108 \t test_accuracy: 0.683\n"
     ]
    }
   ],
   "source": [
    "train_loss = []\n",
    "train_acc  = []\n",
    "test_loss  = []\n",
    "test_acc   = []\n",
    "\n",
    "for epoch in range(epochs):\n",
    "    epoch_loss, epoch_acc, epoch_test_loss, epoch_test_acc = fit(epoch, model,train_iter,test_iter)\n",
    "    train_loss.append(epoch_loss)\n",
    "    train_acc.append(epoch_acc)\n",
    "    test_loss.append(epoch_test_loss)\n",
    "    test_acc.append(epoch_test_acc)"
   ]
  }
 ],
 "metadata": {
  "kernelspec": {
   "display_name": "Python 3 (ipykernel)",
   "language": "python",
   "name": "python3"
  },
  "language_info": {
   "codemirror_mode": {
    "name": "ipython",
    "version": 3
   },
   "file_extension": ".py",
   "mimetype": "text/x-python",
   "name": "python",
   "nbconvert_exporter": "python",
   "pygments_lexer": "ipython3",
   "version": "3.8.12"
  }
 },
 "nbformat": 4,
 "nbformat_minor": 5
}
