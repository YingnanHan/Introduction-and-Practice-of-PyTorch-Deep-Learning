{
 "cells": [
  {
   "cell_type": "code",
   "execution_count": 1,
   "id": "b67d6317",
   "metadata": {},
   "outputs": [],
   "source": [
    "import torch\n",
    "import torch.nn as nn\n",
    "import torch.nn.functional as F\n",
    "import torch.optim as optim\n",
    "import numpy as np\n",
    "import torchvision\n",
    "import os\n",
    "import shutil\n",
    "import matplotlib.pyplot as plt\n",
    "%matplotlib inline"
   ]
  },
  {
   "cell_type": "markdown",
   "id": "23df3da8",
   "metadata": {},
   "source": [
    "##### 创建图片分类文件夹"
   ]
  },
  {
   "cell_type": "code",
   "execution_count": 2,
   "id": "20031446",
   "metadata": {},
   "outputs": [],
   "source": [
    "base_dir = r\"./data/FourWeather/\""
   ]
  },
  {
   "cell_type": "code",
   "execution_count": 3,
   "id": "3726c29d",
   "metadata": {},
   "outputs": [],
   "source": [
    "if not os.path.isdir(base_dir):\n",
    "    os.mkdir(base_dir)\n",
    "    train_dir = os.path.join(base_dir,\"train\")\n",
    "    test_dir  = os.path.join(base_dir,\"test\")\n",
    "    os.mkdir(train_dir)\n",
    "    os.mkdir(test_dir)"
   ]
  },
  {
   "cell_type": "code",
   "execution_count": 4,
   "id": "2ce91fd4",
   "metadata": {},
   "outputs": [],
   "source": [
    "species = [\"cloudy\",\"rain\",\"shine\",\"sunrise\"]\n",
    "for train_or_test in ['train','test']:\n",
    "    for spec in species:\n",
    "        if not os.path.exists(os.path.join(base_dir,train_or_test,spec)):\n",
    "            os.mkdir(os.path.join(base_dir,train_or_test,spec))"
   ]
  },
  {
   "cell_type": "markdown",
   "id": "00d83443",
   "metadata": {},
   "source": [
    "##### 从dataset中转移图片到data/FourWeather"
   ]
  },
  {
   "cell_type": "code",
   "execution_count": 5,
   "id": "4ea700cc",
   "metadata": {},
   "outputs": [],
   "source": [
    "img_dir = r\"./data/dataset2/\""
   ]
  },
  {
   "cell_type": "code",
   "execution_count": 6,
   "id": "cc0a251f",
   "metadata": {},
   "outputs": [],
   "source": [
    "for i,img in enumerate(os.listdir(img_dir)):\n",
    "    for spec in species:\n",
    "        if spec in img:\n",
    "            if i%5==0:\n",
    "                s = os.path.join(img_dir,img)\n",
    "                d = os.path.join(base_dir,\"test\",spec,img)\n",
    "            else:\n",
    "                s = os.path.join(img_dir,img)\n",
    "                d = os.path.join(base_dir,\"train\",spec,img)\n",
    "            shutil.copy(s,d)"
   ]
  },
  {
   "cell_type": "markdown",
   "id": "7ee850f2",
   "metadata": {},
   "source": [
    "##### 读取图片数据"
   ]
  },
  {
   "cell_type": "code",
   "execution_count": 7,
   "id": "10afad2a",
   "metadata": {},
   "outputs": [],
   "source": [
    "from torchvision import transforms"
   ]
  },
  {
   "cell_type": "code",
   "execution_count": 8,
   "id": "a0b4098d",
   "metadata": {},
   "outputs": [],
   "source": [
    "transform = transforms.Compose([\n",
    "    transforms.Resize((96,96)),\n",
    "    transforms.ToTensor(),\n",
    "    transforms.Normalize(mean=[0.5,0.5,0.5],std=[0.5,0.5,0.5])\n",
    "])"
   ]
  },
  {
   "cell_type": "code",
   "execution_count": 9,
   "id": "82cd439a",
   "metadata": {},
   "outputs": [],
   "source": [
    "BATCH_SIZE = 16"
   ]
  },
  {
   "cell_type": "code",
   "execution_count": 10,
   "id": "48819804",
   "metadata": {},
   "outputs": [],
   "source": [
    "train_ds = torchvision.datasets.ImageFolder(\n",
    "    os.path.join(base_dir,\"train\"),\n",
    "    transform = transform\n",
    ")\n",
    "\n",
    "test_ds  = torchvision.datasets.ImageFolder(\n",
    "    os.path.join(base_dir,\"test\"),\n",
    "    transform = transform\n",
    ")\n",
    "train_dl   = torch.utils.data.DataLoader(train_ds,batch_size=BATCH_SIZE,shuffle=True)\n",
    "test_dl    = torch.utils.data.DataLoader(test_ds,batch_size=BATCH_SIZE,shuffle=True)"
   ]
  },
  {
   "cell_type": "code",
   "execution_count": 11,
   "id": "344bbf29",
   "metadata": {},
   "outputs": [],
   "source": [
    "class_to_id = train_ds.class_to_idx\n",
    "id_to_class = dict((v,k) for k,v in train_ds.class_to_idx.items())"
   ]
  },
  {
   "cell_type": "markdown",
   "id": "4dc10954",
   "metadata": {},
   "source": [
    "##### 创建模型  --->添加DropOut层"
   ]
  },
  {
   "cell_type": "code",
   "execution_count": 12,
   "id": "97a62070",
   "metadata": {},
   "outputs": [],
   "source": [
    "class Net(nn.Module):\n",
    "    def __init__(self):\n",
    "        super(Net,self).__init__()\n",
    "        self.conv_1  = nn.Conv2d(3,16,(3,3))\n",
    "        self.conv_2  = nn.Conv2d(16,32,(3,3))\n",
    "        self.conv_3  = nn.Conv2d(32,64,(3,3))\n",
    "        self.pool    = nn.MaxPool2d(2,2)\n",
    "        self.drop    = nn.Dropout(0.5)     # 在Linear层使用Dropout() 默认设置随机丢弃掉的节点的百分比 为 50%\n",
    "        self.drop2d  = nn.Dropout2d(0.5)   # 在Conv层后面使用DropOut2d\n",
    "        self.linear_1= nn.Linear(64*10*10,1024)\n",
    "        self.linear_2= nn.Linear(1024,256)\n",
    "        self.linear_3= nn.Linear(256,4)\n",
    "    \n",
    "    def forward(self,input):\n",
    "        x = self.conv_1(input)\n",
    "        x = F.relu(x)\n",
    "        x = self.pool(x)\n",
    "        x = self.conv_2(x)\n",
    "        x = F.relu(x)\n",
    "        x = self.pool(x)\n",
    "        x = self.conv_3(x)\n",
    "        x = F.relu(x)\n",
    "        x = self.pool(x)\n",
    "        x = self.drop2d(x)\n",
    "        x = x.view(-1,x.size(1)*x.size(2)*x.size(3))\n",
    "        x = self.linear_1(x)\n",
    "        x = F.relu(x)\n",
    "        x = self.drop(x)               # 一般在整个神经网络模型的后半部分进行dropout操作\n",
    "        x = self.linear_2(x)\n",
    "        x = F.relu(x)\n",
    "        x = self.drop(x)               # 一般在整个神经网络模型的后半部分进行dropout操作\n",
    "        x = self.linear_3(x)\n",
    "        return x"
   ]
  },
  {
   "cell_type": "markdown",
   "id": "b50b88fa",
   "metadata": {},
   "source": [
    "##### 训练模型"
   ]
  },
  {
   "cell_type": "code",
   "execution_count": 13,
   "id": "88b258c1",
   "metadata": {},
   "outputs": [],
   "source": [
    "model      = Net().to(\"cuda\")\n",
    "loss_fn    = torch.nn.CrossEntropyLoss()\n",
    "optim      = torch.optim.Adam(model.parameters(),lr=0.0001)\n",
    "epoches    = 20"
   ]
  },
  {
   "cell_type": "code",
   "execution_count": 14,
   "id": "030074af",
   "metadata": {},
   "outputs": [],
   "source": [
    "train_loss = []\n",
    "train_acc  = []\n",
    "test_loss  = []\n",
    "test_acc   = []"
   ]
  },
  {
   "cell_type": "code",
   "execution_count": 15,
   "id": "21f633e9",
   "metadata": {},
   "outputs": [],
   "source": [
    "# model.train()  训练模式 \n",
    "# model.eval()   预测模式 影响DropOut层 BatchNormalization层 (二者在两种模式下的表现是不同的)"
   ]
  },
  {
   "cell_type": "code",
   "execution_count": 16,
   "id": "76bd1c8d",
   "metadata": {},
   "outputs": [],
   "source": [
    "def fit(model,trainloader,testloader,epoch):\n",
    "    correct = 0       # 记录正确率\n",
    "    total   = 0       # 记录训练样本总数量\n",
    "    running_loss = 0\n",
    "    \n",
    "    model.train()     # 设置为训练模式 表示DropOut会起作用\n",
    "    \n",
    "    for x,y in trainloader:\n",
    "        if torch.cuda.is_available():\n",
    "            x,y = x.to(\"cuda\"),y.to(\"cuda\")\n",
    "        y_pred = model(x)\n",
    "        loss   = loss_fn(y_pred,y)\n",
    "        optim.zero_grad()\n",
    "        loss.backward()\n",
    "        optim.step()\n",
    "        with torch.no_grad():\n",
    "            y_pred = torch.argmax(y_pred,dim=1)\n",
    "            correct+=(y_pred == y).sum().item()\n",
    "            total  += y.size(0)\n",
    "            running_loss += loss.item()\n",
    "    \n",
    "    epoch_loss = running_loss / len(trainloader.dataset) # 得到每一个样本在本epoch下的平均loss\n",
    "    epoch_acc  = correct / total # 得到整个样本的平均预测正确率\n",
    "    \n",
    "    test_correct      = 0        # 记录正确率\n",
    "    test_total        = 0        # 记录训练样本总数量\n",
    "    test_running_loss = 0\n",
    "    \n",
    "    model.eval()                 # 将模型修改为预测模式 表示DropOut失效 注意在验证数据集上不需要进行Dropout\n",
    "    \n",
    "    with torch.no_grad():\n",
    "        for x,y in trainloader:\n",
    "            if torch.cuda.is_available():\n",
    "                x,y = x.to(\"cuda\"),y.to(\"cuda\")\n",
    "            y_pred = model(x)\n",
    "            loss   = loss_fn(y_pred,y)\n",
    "            y_pred = torch.argmax(y_pred,dim=1)\n",
    "            test_correct+=(y_pred == y).sum().item()\n",
    "            test_total  += y.size(0)\n",
    "            test_running_loss += loss.item()\n",
    "    \n",
    "    epoch_test_loss = test_running_loss / len(testloader.dataset) # 得到每一个样本在本epoch下的平均loss\n",
    "    epoch_test_acc  = test_correct / test_total                   # 得到整个样本的平均预测正确率\n",
    "    \n",
    "    print(\n",
    "            \"epoch:\",\"\\t\",epoch,\"\\t\",\n",
    "            \"loss: \",\"\\t\",round(epoch_loss,3),\"\\t\",\n",
    "            \"accuracy: \",\"\\t\",round(epoch_acc,3),\"\\t\",\n",
    "            \"test_loss: \",\"\\t\",round(epoch_test_loss,3),\"\\t\",\n",
    "            \"test_accuracy: \",\"\\t\",round(epoch_test_acc,3),\"\\t\"\n",
    "        )\n",
    "    return epoch_loss,epoch_acc,epoch_test_loss,epoch_test_acc"
   ]
  },
  {
   "cell_type": "code",
   "execution_count": 17,
   "id": "100b8054",
   "metadata": {},
   "outputs": [
    {
     "name": "stdout",
     "output_type": "stream",
     "text": [
      "epoch: \t 0 \t loss:  \t 0.079 \t accuracy:  \t 0.377 \t test_loss:  \t 0.249 \t test_accuracy:  \t 0.639 \t\n",
      "epoch: \t 1 \t loss:  \t 0.053 \t accuracy:  \t 0.659 \t test_loss:  \t 0.157 \t test_accuracy:  \t 0.742 \t\n",
      "epoch: \t 2 \t loss:  \t 0.041 \t accuracy:  \t 0.736 \t test_loss:  \t 0.128 \t test_accuracy:  \t 0.809 \t\n",
      "epoch: \t 3 \t loss:  \t 0.035 \t accuracy:  \t 0.778 \t test_loss:  \t 0.115 \t test_accuracy:  \t 0.84 \t\n",
      "epoch: \t 4 \t loss:  \t 0.033 \t accuracy:  \t 0.792 \t test_loss:  \t 0.104 \t test_accuracy:  \t 0.854 \t\n",
      "epoch: \t 5 \t loss:  \t 0.033 \t accuracy:  \t 0.804 \t test_loss:  \t 0.101 \t test_accuracy:  \t 0.866 \t\n",
      "epoch: \t 6 \t loss:  \t 0.029 \t accuracy:  \t 0.814 \t test_loss:  \t 0.095 \t test_accuracy:  \t 0.856 \t\n",
      "epoch: \t 7 \t loss:  \t 0.028 \t accuracy:  \t 0.839 \t test_loss:  \t 0.087 \t test_accuracy:  \t 0.88 \t\n",
      "epoch: \t 8 \t loss:  \t 0.026 \t accuracy:  \t 0.86 \t test_loss:  \t 0.082 \t test_accuracy:  \t 0.873 \t\n",
      "epoch: \t 9 \t loss:  \t 0.026 \t accuracy:  \t 0.84 \t test_loss:  \t 0.079 \t test_accuracy:  \t 0.89 \t\n",
      "epoch: \t 10 \t loss:  \t 0.025 \t accuracy:  \t 0.849 \t test_loss:  \t 0.076 \t test_accuracy:  \t 0.884 \t\n",
      "epoch: \t 11 \t loss:  \t 0.025 \t accuracy:  \t 0.857 \t test_loss:  \t 0.074 \t test_accuracy:  \t 0.89 \t\n",
      "epoch: \t 12 \t loss:  \t 0.023 \t accuracy:  \t 0.872 \t test_loss:  \t 0.072 \t test_accuracy:  \t 0.894 \t\n",
      "epoch: \t 13 \t loss:  \t 0.022 \t accuracy:  \t 0.874 \t test_loss:  \t 0.066 \t test_accuracy:  \t 0.902 \t\n",
      "epoch: \t 14 \t loss:  \t 0.024 \t accuracy:  \t 0.877 \t test_loss:  \t 0.066 \t test_accuracy:  \t 0.908 \t\n",
      "epoch: \t 15 \t loss:  \t 0.021 \t accuracy:  \t 0.878 \t test_loss:  \t 0.065 \t test_accuracy:  \t 0.908 \t\n",
      "epoch: \t 16 \t loss:  \t 0.019 \t accuracy:  \t 0.88 \t test_loss:  \t 0.059 \t test_accuracy:  \t 0.912 \t\n",
      "epoch: \t 17 \t loss:  \t 0.019 \t accuracy:  \t 0.891 \t test_loss:  \t 0.054 \t test_accuracy:  \t 0.916 \t\n",
      "epoch: \t 18 \t loss:  \t 0.019 \t accuracy:  \t 0.883 \t test_loss:  \t 0.066 \t test_accuracy:  \t 0.908 \t\n",
      "epoch: \t 19 \t loss:  \t 0.02 \t accuracy:  \t 0.88 \t test_loss:  \t 0.057 \t test_accuracy:  \t 0.918 \t\n"
     ]
    }
   ],
   "source": [
    "for epoch in range(epoches):\n",
    "    epoch_loss,epoch_acc,epoch_test_loss,epoch_test_acc = fit(model,train_dl,test_dl,epoch)\n",
    "    train_loss.append(epoch_loss)\n",
    "    train_acc.append(epoch_acc)\n",
    "    test_loss.append(epoch_test_loss)\n",
    "    test_acc.append(epoch_test_acc)"
   ]
  },
  {
   "cell_type": "code",
   "execution_count": 18,
   "id": "370f9ddf",
   "metadata": {},
   "outputs": [
    {
     "data": {
      "text/plain": [
       "<matplotlib.legend.Legend at 0x1fb0e18a3d0>"
      ]
     },
     "execution_count": 18,
     "metadata": {},
     "output_type": "execute_result"
    },
    {
     "data": {
      "image/png": "[encoded data removed]",
      "text/plain": [
       "<Figure size 432x288 with 1 Axes>"
      ]
     },
     "metadata": {
      "needs_background": "light"
     },
     "output_type": "display_data"
    }
   ],
   "source": [
    "plt.plot(range(1,epoches+1),train_loss,label = \"train_loss\")\n",
    "plt.plot(range(1,epoches+1),test_loss,label = \"test_loss\")\n",
    "plt.legend()"
   ]
  },
  {
   "cell_type": "code",
   "execution_count": 19,
   "id": "9fca936c",
   "metadata": {},
   "outputs": [
    {
     "data": {
      "text/plain": [
       "<matplotlib.legend.Legend at 0x1fb0e21bc70>"
      ]
     },
     "execution_count": 19,
     "metadata": {},
     "output_type": "execute_result"
    },
    {
     "data": {
      "image/png": "[encoded data removed]",
      "text/plain": [
       "<Figure size 432x288 with 1 Axes>"
      ]
     },
     "metadata": {
      "needs_background": "light"
     },
     "output_type": "display_data"
    }
   ],
   "source": [
    "plt.plot(range(1, epoches+1), train_acc, label='train_acc')\n",
    "plt.plot(range(1, epoches+1), test_acc, label='test_acc')\n",
    "plt.legend()"
   ]
  }
 ],
 "metadata": {
  "kernelspec": {
   "display_name": "Python 3 (ipykernel)",
   "language": "python",
   "name": "python3"
  },
  "language_info": {
   "codemirror_mode": {
    "name": "ipython",
    "version": 3
   },
   "file_extension": ".py",
   "mimetype": "text/x-python",
   "name": "python",
   "nbconvert_exporter": "python",
   "pygments_lexer": "ipython3",
   "version": "3.8.12"
  }
 },
 "nbformat": 4,
 "nbformat_minor": 5
}
