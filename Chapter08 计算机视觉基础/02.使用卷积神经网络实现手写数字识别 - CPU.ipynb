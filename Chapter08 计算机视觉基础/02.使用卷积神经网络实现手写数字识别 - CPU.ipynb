{
 "cells": [
  {
   "cell_type": "code",
   "execution_count": 1,
   "id": "2983e975",
   "metadata": {},
   "outputs": [],
   "source": [
    "import torch\n",
    "import torch.nn as nn\n",
    "import torch.nn.functional as F\n",
    "import torch.optim as optim\n",
    "import numpy as np\n",
    "import matplotlib.pyplot as plt\n",
    "%matplotlib inline"
   ]
  },
  {
   "cell_type": "markdown",
   "id": "5eeeda39",
   "metadata": {},
   "source": [
    "#### 准备数据"
   ]
  },
  {
   "cell_type": "markdown",
   "id": "d420c791",
   "metadata": {},
   "source": [
    "torchvision模块内置了常用的数据集和常见的模型"
   ]
  },
  {
   "cell_type": "code",
   "execution_count": 2,
   "id": "d61a3e95",
   "metadata": {},
   "outputs": [],
   "source": [
    "import torchvision"
   ]
  },
  {
   "cell_type": "code",
   "execution_count": 3,
   "id": "c4656256",
   "metadata": {},
   "outputs": [],
   "source": [
    "from torchvision import datasets  # 导入torchvision中的数据集\n",
    "from torchvision import transforms# 导入转换数据工具的工具集"
   ]
  },
  {
   "cell_type": "code",
   "execution_count": 4,
   "id": "50559048",
   "metadata": {},
   "outputs": [],
   "source": [
    "# transforms.ToTensor()    \n",
    "#                         ①将任何类型的输入数据转换为一个Tensor,\n",
    "#                         ②归一化,\n",
    "#                         ③将数据化图像的channel放在第一维\n",
    "# transforms.Normalize()   将任何类型的数据标准化到-1~1之间"
   ]
  },
  {
   "cell_type": "code",
   "execution_count": 5,
   "id": "c27b3c8a",
   "metadata": {},
   "outputs": [],
   "source": [
    "transformation = transforms.Compose([ # 定义需要对数据集进行的数据转换\n",
    "    transforms.ToTensor(),\n",
    "    #transforms.Normalize()\n",
    "])"
   ]
  },
  {
   "cell_type": "code",
   "execution_count": 6,
   "id": "66460f6e",
   "metadata": {},
   "outputs": [],
   "source": [
    "# 创建Dataset\n",
    "train_ds = datasets.MNIST(\n",
    "                          \"data/\",                   # 将数据集下载，并存储到指定目录\n",
    "                          train = True,              # 设定本数据集是否作为训练数据\n",
    "                          transform = transformation,# 设定数据集需要做何种变换\n",
    "                          download = True            # 是否将数据及下载到本地\n",
    "                         )                           # 得到手写数字识别数据集MNIST\n",
    "test_ds = datasets.MNIST(\n",
    "                         \"data/\",\n",
    "                         train = False,\n",
    "                         transform = transformation,\n",
    "                         download = True\n",
    "                        )"
   ]
  },
  {
   "cell_type": "code",
   "execution_count": 7,
   "id": "80e09daa",
   "metadata": {},
   "outputs": [],
   "source": [
    "# 创建DataLoader\n",
    "train_dl = torch.utils.data.DataLoader(train_ds,batch_size = 64,shuffle = True)\n",
    "test_dl  = torch.utils.data.DataLoader(test_ds,batch_size = 256,shuffle = False)"
   ]
  },
  {
   "cell_type": "code",
   "execution_count": 8,
   "id": "0a03d00d",
   "metadata": {},
   "outputs": [],
   "source": [
    "# 查看数据\n",
    "imgs,label = next(iter(train_dl))"
   ]
  },
  {
   "cell_type": "code",
   "execution_count": 9,
   "id": "b47b22a9",
   "metadata": {},
   "outputs": [
    {
     "data": {
      "text/plain": [
       "torch.Size([64, 1, 28, 28])"
      ]
     },
     "execution_count": 9,
     "metadata": {},
     "output_type": "execute_result"
    }
   ],
   "source": [
    "imgs.shape                                           # 批量图像的数字形式格式为[图像数量,通道数,高,宽] 也即 [batch,channel,,height,width]  "
   ]
  },
  {
   "cell_type": "code",
   "execution_count": 10,
   "id": "a863de5e",
   "metadata": {},
   "outputs": [
    {
     "name": "stdout",
     "output_type": "stream",
     "text": [
      "tensor(0)\n"
     ]
    },
    {
     "data": {
      "image/png": "[encoded data removed]",
      "text/plain": [
       "<Figure size 432x288 with 1 Axes>"
      ]
     },
     "metadata": {
      "needs_background": "light"
     },
     "output_type": "display_data"
    }
   ],
   "source": [
    "img = imgs[0]                                        # 取出一张图片数据 并进行图形化展示\n",
    "img = img.numpy()                                    # 将图像从torch转化为numpy\n",
    "img = np.squeeze(img)                                # 将多余的通道方向上的维度去掉\n",
    "plt.imshow(img)                                      # 绘制图像\n",
    "print(label[0])                                      # 输出改图项的正确标签"
   ]
  },
  {
   "cell_type": "code",
   "execution_count": 11,
   "id": "3deae400",
   "metadata": {},
   "outputs": [],
   "source": [
    "# 自定义绘图函数\n",
    "def imshow(img):\n",
    "    npimg = img.numpy()\n",
    "    npimg = np.squeeze(npimg)\n",
    "    plt.imshow(npimg)"
   ]
  },
  {
   "cell_type": "code",
   "execution_count": 12,
   "id": "25bb3a29",
   "metadata": {},
   "outputs": [
    {
     "name": "stdout",
     "output_type": "stream",
     "text": [
      "tensor(0)\n",
      "tensor(2)\n",
      "tensor(4)\n",
      "tensor(1)\n",
      "tensor(5)\n",
      "tensor(2)\n",
      "tensor(7)\n",
      "tensor(9)\n",
      "tensor(2)\n",
      "tensor(6)\n"
     ]
    },
    {
     "data": {
      "image/png": "[encoded data removed]",
      "text/plain": [
       "<Figure size 720x72 with 10 Axes>"
      ]
     },
     "metadata": {
      "needs_background": "light"
     },
     "output_type": "display_data"
    }
   ],
   "source": [
    "# 测试自定义绘图函数\n",
    "plt.figure(figsize=(10,1))                            #自定义10张画布\n",
    "for i,img in enumerate(imgs[:10]):                    #对数据集中的前十张图片\n",
    "    plt.subplot(1,10,i+1)                             #指定在当前迭代到的位置绘制哪一张图片\n",
    "    imshow(img)                                       #绘制图片\n",
    "    print(label[i])                                   #按顺序输出各个图片所对应的标签   "
   ]
  },
  {
   "cell_type": "markdown",
   "id": "4d112610",
   "metadata": {},
   "source": [
    "#### 创建模型"
   ]
  },
  {
   "cell_type": "code",
   "execution_count": 13,
   "id": "b9090b7c",
   "metadata": {},
   "outputs": [],
   "source": [
    "class Model(nn.Module):\n",
    "    def __init__(self):\n",
    "        super().__init__()\n",
    "        self.conv_1   = nn.Conv2d(1,6,(5,5)) # 参数 ： 输入图像通道数 输入图像通道数(卷积核的数量) 卷积核大小 默认跨度=1 默认填充=0\n",
    "        self.pool     = nn.MaxPool2d((2,2))  # 最大池化 下采样层 参数 ： 池化核大小\n",
    "        self.conv_2   = nn.Conv2d(6,16,(5,5))# 这里的通道数为上一层的输出层通道数\n",
    "        self.linear_1 = nn.Linear(16*4*4,256)# 16*4*4 是展平之后的长度\n",
    "        self.linear_2 = nn.Linear(256,10)\n",
    "    \n",
    "    def forward(self,input):\n",
    "        x = self.conv_1(input)\n",
    "        x = F.relu(x)\n",
    "        x = self.pool(x)\n",
    "        x = self.conv_2(x)\n",
    "        x = F.relu(x)\n",
    "        x = self.pool(x)\n",
    "        #print(x.size())\n",
    "        \n",
    "        x = x.view(-1,16*4*4)\n",
    "        x = self.linear_1(x)\n",
    "        x = F.relu(x)\n",
    "        x = self.linear_2(x)\n",
    "        return x                     # 这里不需要使用sigmoid函数进行二分类"
   ]
  },
  {
   "cell_type": "code",
   "execution_count": 14,
   "id": "8df5145f",
   "metadata": {},
   "outputs": [],
   "source": [
    "def fit(model,trainloader,testloader,epoch):\n",
    "    correct = 0       # 记录正确率\n",
    "    total   = 0       # 记录训练样本总数量\n",
    "    running_loss = 0\n",
    "    \n",
    "    for x,y in trainloader:\n",
    "        y_pred = model(x)\n",
    "        loss   = loss_fn(y_pred,y)\n",
    "        optim.zero_grad()\n",
    "        loss.backward()\n",
    "        optim.step()\n",
    "        with torch.no_grad():\n",
    "            y_pred = torch.argmax(y_pred,dim=1)\n",
    "            correct+=(y_pred == y).sum().item()\n",
    "            total  += y.size(0)\n",
    "            running_loss += loss.item()\n",
    "    \n",
    "    epoch_loss = running_loss / len(trainloader.dataset) # 得到每一个样本在本epoch下的平均loss\n",
    "    epoch_acc  = correct / total # 得到整个样本的平均预测正确率\n",
    "    \n",
    "    test_correct      = 0       # 记录正确率\n",
    "    test_total        = 0       # 记录训练样本总数量\n",
    "    test_running_loss = 0\n",
    "    \n",
    "    with torch.no_grad():\n",
    "        for x,y in trainloader:\n",
    "            y_pred = model(x)\n",
    "            loss   = loss_fn(y_pred,y)\n",
    "            y_pred = torch.argmax(y_pred,dim=1)\n",
    "            test_correct+=(y_pred == y).sum().item()\n",
    "            test_total  += y.size(0)\n",
    "            test_running_loss += loss.item()\n",
    "    \n",
    "    epoch_test_loss = test_running_loss / len(testloader.dataset) # 得到每一个样本在本epoch下的平均loss\n",
    "    epoch_test_acc  = test_correct / test_total # 得到整个样本的平均预测正确率\n",
    "    \n",
    "    print(\n",
    "            \"epoch:\",\"\\t\",epoch,\"\\t\",\n",
    "            \"loss: \",\"\\t\",round(epoch_loss,3),\"\\t\",\n",
    "            \"accuracy: \",\"\\t\",round(epoch_acc,3),\"\\t\",\n",
    "            \"test_loss: \",\"\\t\",round(epoch_test_loss,3),\"\\t\",\n",
    "            \"test_accuracy: \",\"\\t\",round(epoch_test_acc,3),\"\\t\"\n",
    "        )\n",
    "    return epoch_loss,epoch_acc,epoch_test_loss,epoch_test_acc"
   ]
  },
  {
   "cell_type": "code",
   "execution_count": 15,
   "id": "99360a50",
   "metadata": {},
   "outputs": [],
   "source": [
    "model               = Model()\n",
    "loss_fn             = torch.nn.CrossEntropyLoss()      # 将损失函数定义为交叉熵函数\n",
    "optim               = torch.optim.Adam(model.parameters(),lr = 0.0001)\n",
    "epochs              = 20"
   ]
  },
  {
   "cell_type": "code",
   "execution_count": 16,
   "id": "50904c49",
   "metadata": {},
   "outputs": [
    {
     "data": {
      "text/plain": [
       "tensor([[ 0.0091,  0.0422, -0.0079,  0.0212,  0.0504,  0.0040, -0.0049, -0.0289,\n",
       "          0.0796,  0.0597],\n",
       "        [-0.0167,  0.0119,  0.0228, -0.0079,  0.0314,  0.0491, -0.0172, -0.0440,\n",
       "          0.1047,  0.0619],\n",
       "        [-0.0045, -0.0153, -0.0350,  0.0410,  0.0476,  0.0377, -0.0301, -0.0530,\n",
       "          0.1063,  0.0537],\n",
       "        [-0.0004,  0.0319, -0.0461,  0.0300,  0.0339,  0.0395,  0.0019, -0.0123,\n",
       "          0.1011,  0.0736],\n",
       "        [-0.0132,  0.0184, -0.0651,  0.0197,  0.0293,  0.0025, -0.0160, -0.0179,\n",
       "          0.0856,  0.0486],\n",
       "        [-0.0068,  0.0489,  0.0028, -0.0111,  0.0132,  0.0278, -0.0059, -0.0500,\n",
       "          0.1161,  0.0754],\n",
       "        [-0.0084,  0.0155, -0.0295,  0.0072,  0.0467,  0.0250,  0.0007, -0.0055,\n",
       "          0.0866,  0.0759],\n",
       "        [-0.0093,  0.0109, -0.0264, -0.0132,  0.0425,  0.0348, -0.0150, -0.0321,\n",
       "          0.1122,  0.0692],\n",
       "        [-0.0071,  0.0148,  0.0069, -0.0150,  0.0232,  0.0310, -0.0356, -0.0396,\n",
       "          0.1016,  0.0618],\n",
       "        [ 0.0001,  0.0274, -0.0118,  0.0006,  0.0629,  0.0315, -0.0108, -0.0188,\n",
       "          0.1056,  0.0918],\n",
       "        [-0.0109,  0.0087, -0.0219,  0.0184,  0.0149,  0.0254, -0.0125, -0.0194,\n",
       "          0.0946,  0.0613],\n",
       "        [-0.0200,  0.0283, -0.0284,  0.0032,  0.0428,  0.0455, -0.0034, -0.0282,\n",
       "          0.1042,  0.0696],\n",
       "        [-0.0098,  0.0370, -0.0446,  0.0105,  0.0349,  0.0299, -0.0044, -0.0217,\n",
       "          0.0933,  0.0721],\n",
       "        [ 0.0028,  0.0080, -0.0288,  0.0104,  0.0492,  0.0321,  0.0014, -0.0166,\n",
       "          0.0713,  0.0760],\n",
       "        [-0.0230,  0.0053, -0.0189,  0.0016,  0.0319,  0.0331, -0.0126, -0.0272,\n",
       "          0.1046,  0.0809],\n",
       "        [ 0.0107,  0.0135, -0.0358,  0.0190,  0.0514,  0.0239, -0.0140, -0.0317,\n",
       "          0.0782,  0.0702],\n",
       "        [-0.0151,  0.0094, -0.0127,  0.0134,  0.0193,  0.0283, -0.0077, -0.0269,\n",
       "          0.0886,  0.0567],\n",
       "        [-0.0379, -0.0005, -0.0060, -0.0083,  0.0027,  0.0248, -0.0103, -0.0288,\n",
       "          0.1072,  0.0589],\n",
       "        [-0.0113,  0.0221,  0.0005,  0.0105,  0.0291,  0.0307, -0.0044, -0.0233,\n",
       "          0.0842,  0.0567],\n",
       "        [-0.0190,  0.0022, -0.0261,  0.0130,  0.0413,  0.0239, -0.0088, -0.0176,\n",
       "          0.0886,  0.0569],\n",
       "        [-0.0159,  0.0110, -0.0325,  0.0199,  0.0205,  0.0301, -0.0134, -0.0127,\n",
       "          0.0925,  0.0686],\n",
       "        [-0.0203,  0.0093, -0.0194, -0.0017,  0.0234,  0.0359,  0.0016, -0.0024,\n",
       "          0.1020,  0.0759],\n",
       "        [-0.0153, -0.0074, -0.0379,  0.0041,  0.0533,  0.0238, -0.0118, -0.0268,\n",
       "          0.0995,  0.0531],\n",
       "        [-0.0071,  0.0089, -0.0191,  0.0184,  0.0603,  0.0302, -0.0047, -0.0162,\n",
       "          0.0883,  0.0673],\n",
       "        [-0.0172,  0.0374, -0.0272, -0.0057,  0.0350,  0.0280, -0.0089, -0.0163,\n",
       "          0.0995,  0.0748],\n",
       "        [-0.0153,  0.0119, -0.0427,  0.0249,  0.0075,  0.0262, -0.0037, -0.0190,\n",
       "          0.0986,  0.0601],\n",
       "        [-0.0138,  0.0166,  0.0029,  0.0051,  0.0080,  0.0231, -0.0209, -0.0469,\n",
       "          0.1053,  0.0660],\n",
       "        [-0.0061,  0.0212, -0.0558,  0.0207,  0.0593,  0.0193, -0.0083,  0.0020,\n",
       "          0.0867,  0.0668],\n",
       "        [-0.0013,  0.0015, -0.0362,  0.0165,  0.0402,  0.0209, -0.0228, -0.0316,\n",
       "          0.0878,  0.0593],\n",
       "        [-0.0111,  0.0073, -0.0150,  0.0077,  0.0285,  0.0322, -0.0151, -0.0366,\n",
       "          0.0917,  0.0549],\n",
       "        [-0.0149,  0.0297,  0.0123,  0.0018,  0.0202,  0.0277, -0.0186, -0.0290,\n",
       "          0.1084,  0.0771],\n",
       "        [-0.0019,  0.0495, -0.0434,  0.0218,  0.0455,  0.0213,  0.0143, -0.0078,\n",
       "          0.1021,  0.0769],\n",
       "        [-0.0141,  0.0020, -0.0360, -0.0010,  0.0423,  0.0105, -0.0229,  0.0008,\n",
       "          0.0961,  0.0614],\n",
       "        [-0.0034,  0.0284, -0.0209,  0.0087,  0.0298,  0.0305, -0.0075, -0.0211,\n",
       "          0.0889,  0.0675],\n",
       "        [-0.0133,  0.0034, -0.0328,  0.0242,  0.0248,  0.0214, -0.0112, -0.0238,\n",
       "          0.0895,  0.0465],\n",
       "        [-0.0015,  0.0442, -0.0291,  0.0002,  0.0317,  0.0283, -0.0048, -0.0161,\n",
       "          0.0892,  0.0827],\n",
       "        [ 0.0003,  0.0332, -0.0268,  0.0368,  0.0210,  0.0227,  0.0019, -0.0435,\n",
       "          0.1011,  0.0681],\n",
       "        [-0.0041,  0.0266, -0.0122,  0.0102,  0.0550,  0.0449, -0.0051, -0.0083,\n",
       "          0.0957,  0.0758],\n",
       "        [-0.0189, -0.0032, -0.0252, -0.0077,  0.0127,  0.0219, -0.0038, -0.0367,\n",
       "          0.1099,  0.0421],\n",
       "        [ 0.0026, -0.0060, -0.0158,  0.0213,  0.0589,  0.0365, -0.0220, -0.0423,\n",
       "          0.0880,  0.0728],\n",
       "        [-0.0020,  0.0239, -0.0320,  0.0074,  0.0471,  0.0375, -0.0082, -0.0210,\n",
       "          0.0953,  0.0654],\n",
       "        [-0.0070,  0.0274, -0.0206,  0.0102,  0.0431,  0.0261, -0.0277, -0.0401,\n",
       "          0.1052,  0.0859],\n",
       "        [-0.0021,  0.0293, -0.0142,  0.0247,  0.0259,  0.0470, -0.0250, -0.0504,\n",
       "          0.0878,  0.0686],\n",
       "        [-0.0255,  0.0197, -0.0188,  0.0245,  0.0277,  0.0142, -0.0228, -0.0178,\n",
       "          0.0844,  0.0732],\n",
       "        [-0.0080,  0.0205, -0.0144,  0.0329,  0.0435,  0.0404, -0.0225, -0.0435,\n",
       "          0.1058,  0.0654],\n",
       "        [-0.0175, -0.0041, -0.0087, -0.0177, -0.0001,  0.0288, -0.0037, -0.0209,\n",
       "          0.1073,  0.0578],\n",
       "        [-0.0010,  0.0141, -0.0358,  0.0324,  0.0426,  0.0290, -0.0061, -0.0148,\n",
       "          0.0734,  0.0594],\n",
       "        [-0.0189,  0.0387, -0.0369,  0.0159,  0.0134,  0.0101, -0.0054, -0.0248,\n",
       "          0.0847,  0.0601],\n",
       "        [-0.0146,  0.0116, -0.0279,  0.0174,  0.0257,  0.0218, -0.0138, -0.0277,\n",
       "          0.1031,  0.0838],\n",
       "        [-0.0221,  0.0129, -0.0352,  0.0052,  0.0301,  0.0188, -0.0095, -0.0294,\n",
       "          0.0979,  0.0564],\n",
       "        [-0.0121,  0.0018, -0.0626,  0.0103,  0.0412,  0.0140, -0.0118, -0.0028,\n",
       "          0.1021,  0.0683],\n",
       "        [-0.0101,  0.0074, -0.0308,  0.0296,  0.0556,  0.0323, -0.0031, -0.0094,\n",
       "          0.0767,  0.0557],\n",
       "        [-0.0082,  0.0252, -0.0169,  0.0171,  0.0210,  0.0148, -0.0202, -0.0312,\n",
       "          0.1006,  0.0734],\n",
       "        [ 0.0069,  0.0271, -0.0161,  0.0081,  0.0340,  0.0417, -0.0171, -0.0443,\n",
       "          0.0774,  0.0520],\n",
       "        [-0.0209,  0.0029, -0.0302,  0.0185,  0.0184,  0.0069, -0.0284, -0.0043,\n",
       "          0.0889,  0.0628],\n",
       "        [-0.0063,  0.0320, -0.0331,  0.0207,  0.0323,  0.0336,  0.0047, -0.0058,\n",
       "          0.0925,  0.0680],\n",
       "        [-0.0065,  0.0063, -0.0388,  0.0022,  0.0417,  0.0292, -0.0089,  0.0093,\n",
       "          0.0997,  0.0737],\n",
       "        [-0.0018,  0.0110, -0.0265,  0.0094,  0.0578,  0.0219, -0.0076, -0.0069,\n",
       "          0.0698,  0.0831],\n",
       "        [-0.0064,  0.0154, -0.0295,  0.0130,  0.0344,  0.0356, -0.0171, -0.0040,\n",
       "          0.0866,  0.0598],\n",
       "        [-0.0295,  0.0125, -0.0113, -0.0129,  0.0345,  0.0299, -0.0036, -0.0296,\n",
       "          0.0965,  0.0714],\n",
       "        [-0.0019,  0.0175, -0.0458,  0.0135,  0.0582,  0.0262, -0.0023, -0.0186,\n",
       "          0.0909,  0.0730],\n",
       "        [-0.0051,  0.0165, -0.0190,  0.0166,  0.0259,  0.0270, -0.0115, -0.0247,\n",
       "          0.0881,  0.0609],\n",
       "        [-0.0092,  0.0127, -0.0320,  0.0103,  0.0223,  0.0172, -0.0116, -0.0088,\n",
       "          0.1010,  0.0683],\n",
       "        [-0.0284,  0.0244, -0.0411,  0.0115,  0.0558,  0.0233, -0.0054, -0.0236,\n",
       "          0.0917,  0.0638]], grad_fn=<AddmmBackward0>)"
      ]
     },
     "execution_count": 16,
     "metadata": {},
     "output_type": "execute_result"
    }
   ],
   "source": [
    "model(imgs)"
   ]
  },
  {
   "cell_type": "code",
   "execution_count": 17,
   "id": "7cac985f",
   "metadata": {},
   "outputs": [],
   "source": [
    "train_loss = []\n",
    "train_acc  = []\n",
    "test_loss  = []\n",
    "test_acc   = []"
   ]
  },
  {
   "cell_type": "code",
   "execution_count": 18,
   "id": "07edd1ce",
   "metadata": {},
   "outputs": [
    {
     "name": "stdout",
     "output_type": "stream",
     "text": [
      "epoch: \t 0 \t loss:  \t 0.012 \t accuracy:  \t 0.802 \t test_loss:  \t 0.027 \t test_accuracy:  \t 0.917 \t\n",
      "epoch: \t 1 \t loss:  \t 0.004 \t accuracy:  \t 0.932 \t test_loss:  \t 0.018 \t test_accuracy:  \t 0.945 \t\n",
      "epoch: \t 2 \t loss:  \t 0.003 \t accuracy:  \t 0.95 \t test_loss:  \t 0.014 \t test_accuracy:  \t 0.957 \t\n",
      "epoch: \t 3 \t loss:  \t 0.002 \t accuracy:  \t 0.96 \t test_loss:  \t 0.011 \t test_accuracy:  \t 0.965 \t\n",
      "epoch: \t 4 \t loss:  \t 0.002 \t accuracy:  \t 0.966 \t test_loss:  \t 0.01 \t test_accuracy:  \t 0.969 \t\n",
      "epoch: \t 5 \t loss:  \t 0.002 \t accuracy:  \t 0.971 \t test_loss:  \t 0.009 \t test_accuracy:  \t 0.973 \t\n",
      "epoch: \t 6 \t loss:  \t 0.001 \t accuracy:  \t 0.973 \t test_loss:  \t 0.008 \t test_accuracy:  \t 0.973 \t\n",
      "epoch: \t 7 \t loss:  \t 0.001 \t accuracy:  \t 0.976 \t test_loss:  \t 0.007 \t test_accuracy:  \t 0.978 \t\n",
      "epoch: \t 8 \t loss:  \t 0.001 \t accuracy:  \t 0.978 \t test_loss:  \t 0.006 \t test_accuracy:  \t 0.98 \t\n",
      "epoch: \t 9 \t loss:  \t 0.001 \t accuracy:  \t 0.979 \t test_loss:  \t 0.006 \t test_accuracy:  \t 0.982 \t\n",
      "epoch: \t 10 \t loss:  \t 0.001 \t accuracy:  \t 0.981 \t test_loss:  \t 0.006 \t test_accuracy:  \t 0.982 \t\n",
      "epoch: \t 11 \t loss:  \t 0.001 \t accuracy:  \t 0.982 \t test_loss:  \t 0.005 \t test_accuracy:  \t 0.982 \t\n",
      "epoch: \t 12 \t loss:  \t 0.001 \t accuracy:  \t 0.983 \t test_loss:  \t 0.005 \t test_accuracy:  \t 0.983 \t\n",
      "epoch: \t 13 \t loss:  \t 0.001 \t accuracy:  \t 0.984 \t test_loss:  \t 0.004 \t test_accuracy:  \t 0.986 \t\n",
      "epoch: \t 14 \t loss:  \t 0.001 \t accuracy:  \t 0.985 \t test_loss:  \t 0.004 \t test_accuracy:  \t 0.986 \t\n",
      "epoch: \t 15 \t loss:  \t 0.001 \t accuracy:  \t 0.986 \t test_loss:  \t 0.004 \t test_accuracy:  \t 0.987 \t\n",
      "epoch: \t 16 \t loss:  \t 0.001 \t accuracy:  \t 0.987 \t test_loss:  \t 0.004 \t test_accuracy:  \t 0.988 \t\n",
      "epoch: \t 17 \t loss:  \t 0.001 \t accuracy:  \t 0.987 \t test_loss:  \t 0.004 \t test_accuracy:  \t 0.987 \t\n",
      "epoch: \t 18 \t loss:  \t 0.001 \t accuracy:  \t 0.988 \t test_loss:  \t 0.003 \t test_accuracy:  \t 0.989 \t\n",
      "epoch: \t 19 \t loss:  \t 0.001 \t accuracy:  \t 0.988 \t test_loss:  \t 0.003 \t test_accuracy:  \t 0.989 \t\n"
     ]
    }
   ],
   "source": [
    "for epoch in range(epochs):\n",
    "    epoch_loss,epoch_acc,epoch_test_loss,epoch_test_acc = fit(model,train_dl,test_dl,epoch)\n",
    "    train_loss.append(epoch_loss)\n",
    "    train_acc.append(epoch_acc)\n",
    "    test_loss.append(epoch_test_loss)\n",
    "    test_acc.append(epoch_test_acc)"
   ]
  },
  {
   "cell_type": "code",
   "execution_count": 19,
   "id": "8ba40514",
   "metadata": {},
   "outputs": [
    {
     "data": {
      "text/plain": [
       "<matplotlib.legend.Legend at 0x1c1539a7d30>"
      ]
     },
     "execution_count": 19,
     "metadata": {},
     "output_type": "execute_result"
    },
    {
     "data": {
      "image/png": "[encoded data removed]",
      "text/plain": [
       "<Figure size 432x288 with 1 Axes>"
      ]
     },
     "metadata": {
      "needs_background": "light"
     },
     "output_type": "display_data"
    }
   ],
   "source": [
    "plt.plot(range(1,epochs+1),train_loss,label = \"train_loss\")\n",
    "plt.plot(range(1,epochs+1),test_loss,label = \"test_loss\")\n",
    "plt.legend()"
   ]
  },
  {
   "cell_type": "code",
   "execution_count": 20,
   "id": "ab421127",
   "metadata": {},
   "outputs": [
    {
     "data": {
      "text/plain": [
       "<matplotlib.legend.Legend at 0x1c1539a13d0>"
      ]
     },
     "execution_count": 20,
     "metadata": {},
     "output_type": "execute_result"
    },
    {
     "data": {
      "image/png": "[encoded data removed]",
      "text/plain": [
       "<Figure size 432x288 with 1 Axes>"
      ]
     },
     "metadata": {
      "needs_background": "light"
     },
     "output_type": "display_data"
    }
   ],
   "source": [
    "plt.plot(range(1, epochs+1), train_acc, label='train_acc')\n",
    "plt.plot(range(1, epochs+1), test_acc, label='test_acc')\n",
    "plt.legend()"
   ]
  }
 ],
 "metadata": {
  "kernelspec": {
   "display_name": "Python 3 (ipykernel)",
   "language": "python",
   "name": "python3"
  },
  "language_info": {
   "codemirror_mode": {
    "name": "ipython",
    "version": 3
   },
   "file_extension": ".py",
   "mimetype": "text/x-python",
   "name": "python",
   "nbconvert_exporter": "python",
   "pygments_lexer": "ipython3",
   "version": "3.8.12"
  }
 },
 "nbformat": 4,
 "nbformat_minor": 5
}
