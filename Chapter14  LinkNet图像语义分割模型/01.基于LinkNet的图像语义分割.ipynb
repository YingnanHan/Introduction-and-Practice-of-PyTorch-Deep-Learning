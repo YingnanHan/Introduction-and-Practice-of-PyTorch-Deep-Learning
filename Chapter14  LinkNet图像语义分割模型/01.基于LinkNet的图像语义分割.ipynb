{
 "cells": [
  {
   "cell_type": "markdown",
   "id": "d3d62c12",
   "metadata": {},
   "source": [
    "##### 导入必要的包"
   ]
  },
  {
   "cell_type": "code",
   "execution_count": 1,
   "id": "b0f78e45",
   "metadata": {},
   "outputs": [],
   "source": [
    "import torch\n",
    "import torch.nn as nn\n",
    "import torch.nn.functional as F\n",
    "import torchvision\n",
    "import glob\n",
    "import numpy as np\n",
    "import os\n",
    "from   lxml import etree\n",
    "from   matplotlib.patches import Rectangle\n",
    "from   matplotlib import pyplot as plt\n",
    "from   PIL import Image\n",
    "from   torch.optim import lr_scheduler\n",
    "from   torch.utils import data\n",
    "from   torchvision import transforms\n",
    "%matplotlib inline"
   ]
  },
  {
   "cell_type": "markdown",
   "id": "133618a7",
   "metadata": {},
   "source": [
    "##### 数据预处理"
   ]
  },
  {
   "cell_type": "code",
   "execution_count": 2,
   "id": "7f7785f8",
   "metadata": {},
   "outputs": [],
   "source": [
    "''' 构建训练数据集标签/图片路径 '''\n",
    "all_pictures      = glob.glob(r\"../Chapter13 图像的语义分割/HKdataset/HKdataset/training/*.png\")\n",
    "images            = [p for p in all_pictures if \"matte\" not in p]\n",
    "annotations       = [p for p in all_pictures if \"matte\" in p]\n",
    "''' 设置随机种子，同步乱序 '''\n",
    "np.random.seed(2021)\n",
    "index             = np.random.permutation(len(images))\n",
    "images            = np.array(images)[index]\n",
    "annotations       = np.array(annotations)[index]\n",
    "''' 构建测试数据集标签/图片路径 '''\n",
    "all_test_pictures = glob.glob(r\"./HKdataset/HKdataset/testing/*.png\")\n",
    "test_images       = [p for p in all_pictures if \"matte\" not in p]\n",
    "test_annotations  = [p for p in all_pictures if \"matte\" in p]\n",
    "''' 创建transform '''\n",
    "transform         = transforms.Compose([\n",
    "    transforms.Resize([256,256]),\n",
    "    transforms.ToTensor()\n",
    "])\n",
    "''' 自定义Dataset类 '''\n",
    "class HK_DataSet(data.Dataset):\n",
    "    def __init__(self,imgs_path,annos_path):\n",
    "        self.imgs_path = imgs_path\n",
    "        self.annos_path= annos_path\n",
    "    \n",
    "    def __getitem__(self,index):\n",
    "        img        = self.imgs_path[index]\n",
    "        anno       = self.annos_path[index]\n",
    "        \n",
    "        pil_img    = Image.open(img)\n",
    "        img_tensor = transform(pil_img)\n",
    "                               \n",
    "        anno_img   = Image.open(anno)\n",
    "        anno_tensor= transform(anno_img)\n",
    "        anno_tensor[anno_tensor>0] = 1\n",
    "        anno_tensor= torch.squeeze(anno_tensor).type(torch.LongTensor)\n",
    "        \n",
    "        return img_tensor,anno_tensor\n",
    "    \n",
    "    def __len__(self):\n",
    "        return len(self.imgs_path)\n",
    "''' 创建DataSet和DataLoader '''\n",
    "train_ds = HK_DataSet(images,annotations)\n",
    "test_ds  = HK_DataSet(test_images,test_annotations)\n",
    "train_dl = data.DataLoader(train_ds,batch_size=6,shuffle=True)\n",
    "test_dl  = data.DataLoader(test_ds,batch_size=6)"
   ]
  },
  {
   "cell_type": "markdown",
   "id": "3fdea5f1",
   "metadata": {},
   "source": [
    "##### 创建模型"
   ]
  },
  {
   "cell_type": "markdown",
   "id": "62cdfb59",
   "metadata": {},
   "source": [
    "模型创建要点:\n",
    "\n",
    "    1. 编写 卷积模块 (卷积 + BN + activate)\n",
    "    2. 编写 反卷积模块 (反卷积 + BN + activate)\n",
    "    3. 编码器 (4个卷积模块)\n",
    "    4. 解码器 (卷积模块 + 反卷积模块 + 卷积模块)\n",
    "    5. 实现整体网络结构 (卷积模块 + 反卷积模块 + 编码器 + 解码器)\n",
    "    "
   ]
  },
  {
   "cell_type": "code",
   "execution_count": 3,
   "id": "fb6e72c9",
   "metadata": {},
   "outputs": [],
   "source": [
    "# 卷积模块\n",
    "class Convblock(nn.Module):\n",
    "    \n",
    "    def __init__(self,in_channels,out_channels,kernel_size=(3,3),stride=1,padding=1):\n",
    "        super(Convblock,self).__init__()\n",
    "        self.conv_bn_relu = nn.Sequential(\n",
    "                            nn.Conv2d(in_channels,out_channels,kernel_size=kernel_size,stride=stride,padding=padding),\n",
    "                            nn.BatchNorm2d(out_channels),\n",
    "                            nn.ReLU(inplace=True)\n",
    "        )\n",
    "    \n",
    "    def forward(self,x):\n",
    "        x = self.conv_bn_relu(x)\n",
    "        return x"
   ]
  },
  {
   "cell_type": "code",
   "execution_count": 4,
   "id": "c696cc86",
   "metadata": {},
   "outputs": [],
   "source": [
    "# 反卷积模块\n",
    "class DeConvblock(nn.Module):\n",
    "    \n",
    "    def __init__(self,in_channels,out_channels,kernel_size=(3,3),stride=2,padding=1,output_padding=1):\n",
    "        super(DeConvblock,self).__init__()\n",
    "        self.deconv = nn.ConvTranspose2d(in_channels,out_channels,kernel_size=kernel_size,stride=stride,padding=padding,output_padding=output_padding)\n",
    "        self.bn     = nn.BatchNorm2d(out_channels)\n",
    "        \n",
    "    \n",
    "    def forward(self,x,is_out=True):\n",
    "        x = self.deconv(x)\n",
    "        if is_out:\n",
    "            x = torch.relu(self.bn(x))\n",
    "        return x"
   ]
  },
  {
   "cell_type": "code",
   "execution_count": 5,
   "id": "996d0d74",
   "metadata": {},
   "outputs": [],
   "source": [
    "# 编码器模块\n",
    "class Encodeblock(nn.Module):\n",
    "    \n",
    "    def __init__(self,in_channels,out_channels):\n",
    "        super(Encodeblock,self).__init__()\n",
    "        self.conv_1    = Convblock(in_channels,out_channels,stride=2)\n",
    "        self.conv_2    = Convblock(out_channels,out_channels)\n",
    "        self.conv_3    = Convblock(out_channels,out_channels)\n",
    "        self.conv_4    = Convblock(out_channels,out_channels)\n",
    "        self.short_cut = Convblock(in_channels,out_channels,stride=2)\n",
    "    \n",
    "    def forward(self,x):\n",
    "        out_1     = self.conv_1(x)\n",
    "        out_1     = self.conv_2(out_1)\n",
    "        short_cut = self.short_cut(x)\n",
    "        \n",
    "        out_2     = self.conv_3(out_1+short_cut)\n",
    "        out_2     = self.conv_4(out_2)\n",
    "        \n",
    "        res       = out_1 + out_2\n",
    "        \n",
    "        return res"
   ]
  },
  {
   "cell_type": "code",
   "execution_count": 6,
   "id": "a0bd355e",
   "metadata": {},
   "outputs": [],
   "source": [
    "# 解码器模块\n",
    "class Decodeblock(nn.Module):\n",
    "    \n",
    "    def __init__(self,in_channels,out_channels):\n",
    "        super(Decodeblock,self).__init__()\n",
    "        self.conv_1    = Convblock(in_channels,in_channels//4,kernel_size=(1,1),padding=0)\n",
    "        self.deconv    = DeConvblock(in_channels//4,in_channels//4)\n",
    "        self.conv_2    = Convblock(in_channels//4,out_channels,kernel_size=(1,1),padding=0)\n",
    "    \n",
    "    def forward(self,x):\n",
    "        x = self.conv_1(x)\n",
    "        x = self.deconv(x)\n",
    "        x = self.conv_2(x)\n",
    "        return x"
   ]
  },
  {
   "cell_type": "code",
   "execution_count": 7,
   "id": "6c58ed5b",
   "metadata": {},
   "outputs": [],
   "source": [
    "# 模型编写\n",
    "class Net(nn.Module):\n",
    "    \n",
    "    def __init__(self):\n",
    "        super(Net,self).__init__()\n",
    "        \n",
    "        self.input_conv    = Convblock(3,64,kernel_size=(7,7),stride=2,padding=3)\n",
    "        self.input_maxpool = nn.MaxPool2d(kernel_size=(2,2))\n",
    "        \n",
    "        self.encode_1      = Encodeblock(64,64)\n",
    "        self.encode_2      = Encodeblock(64,128)\n",
    "        self.encode_3      = Encodeblock(128,256)\n",
    "        self.encode_4      = Encodeblock(256,512)\n",
    "        \n",
    "        self.decode_4      = Decodeblock(512,256)\n",
    "        self.decode_3      = Decodeblock(256,128)\n",
    "        self.decode_2      = Decodeblock(128,64)\n",
    "        self.decode_1      = Decodeblock(64,64)\n",
    "        \n",
    "        self.deconv_out1   = DeConvblock(64,32)\n",
    "        self.conv_out      = Convblock(32,32)\n",
    "        #                                   输出类别数\n",
    "        self.deconv_out2   = DeConvblock(32,2,        kernel_size=2,padding=0,output_padding=0)\n",
    "        \n",
    "    \n",
    "    def forward(self,x):\n",
    "        x   = self.input_conv(x)\n",
    "        x   = self.input_maxpool(x)\n",
    "        \n",
    "        e1  = self.encode_1(x)\n",
    "        e2  = self.encode_2(e1)\n",
    "        e3  = self.encode_3(e2)\n",
    "        e4  = self.encode_4(e3)\n",
    "        \n",
    "        d4  = self.decode_4(e4)\n",
    "        d3  = self.decode_3(e3+d4)\n",
    "        d2  = self.decode_2(e2+d3)\n",
    "        d1  = self.decode_1(e1+d2)\n",
    "        \n",
    "        f1  = self.deconv_out1(d1)\n",
    "        f2  = self.conv_out(f1)\n",
    "        f3  = self.deconv_out2(f2,is_out=False)\n",
    "        \n",
    "        return f3"
   ]
  },
  {
   "cell_type": "code",
   "execution_count": 8,
   "id": "62ea301d",
   "metadata": {},
   "outputs": [],
   "source": [
    "model   = Net()\n",
    "model   = model.to(\"cuda\")"
   ]
  },
  {
   "cell_type": "code",
   "execution_count": 9,
   "id": "1fa2b920",
   "metadata": {},
   "outputs": [],
   "source": [
    "loss_fn = nn.CrossEntropyLoss()"
   ]
  },
  {
   "cell_type": "markdown",
   "id": "8e5edc98",
   "metadata": {},
   "source": [
    "##### 训练模型  -- 使用IOU指标"
   ]
  },
  {
   "cell_type": "code",
   "execution_count": 10,
   "id": "0cc442a6",
   "metadata": {},
   "outputs": [],
   "source": [
    "from torch.optim import lr_scheduler\n",
    "optimizer          = torch.optim.Adam(model.parameters(), lr=0.001)\n",
    "exp_lr_scheduler   = lr_scheduler.StepLR(optimizer, step_size=7, gamma=0.1)"
   ]
  },
  {
   "cell_type": "code",
   "execution_count": 11,
   "id": "99b83a15",
   "metadata": {},
   "outputs": [],
   "source": [
    "def fit(epoch, model, trainloader, testloader):\n",
    "    correct      = 0\n",
    "    total        = 0\n",
    "    running_loss = 0\n",
    "    epoch_iou    = []\n",
    "    \n",
    "    model.train()\n",
    "    for x, y in trainloader:\n",
    "        x = x.to(\"cuda\")\n",
    "        y = y.to(\"cuda\")\n",
    "        y_pred = model(x)\n",
    "        loss = loss_fn(y_pred, y)\n",
    "        optimizer.zero_grad()\n",
    "        loss.backward()\n",
    "        optimizer.step()\n",
    "        with torch.no_grad():\n",
    "            y_pred       = torch.argmax(y_pred, dim=1)\n",
    "            correct      += (y_pred == y).sum().item()\n",
    "            total        += y.size(0)\n",
    "            running_loss += loss.item()\n",
    "            \n",
    "            intersection = torch.logical_and(y, y_pred)\n",
    "            union        = torch.logical_or(y, y_pred)\n",
    "            batch_iou    = torch.true_divide(torch.sum(intersection), \n",
    "                                          torch.sum(union))\n",
    "            epoch_iou.append(batch_iou)\n",
    "            \n",
    "    exp_lr_scheduler.step()\n",
    "    epoch_loss = running_loss / len(trainloader.dataset)\n",
    "    epoch_acc  = correct / (total*256*256)\n",
    "        \n",
    "        \n",
    "    test_correct      = 0\n",
    "    test_total        = 0\n",
    "    test_running_loss = 0 \n",
    "    epoch_test_iou    = []\n",
    "    \n",
    "    model.eval()\n",
    "    with torch.no_grad():\n",
    "        for x, y in testloader:\n",
    "            x                       = x.to(\"cuda\")\n",
    "            y                       = y.to(\"cuda\")\n",
    "            y_pred                  = model(x)\n",
    "            loss                    = loss_fn(y_pred, y)\n",
    "            y_pred                  = torch.argmax(y_pred, dim=1)\n",
    "            test_correct            += (y_pred == y).sum().item()\n",
    "            test_total              += y.size(0)\n",
    "            test_running_loss       += loss.item()\n",
    "            intersection            = torch.logical_and(y, y_pred)\n",
    "            union                   = torch.logical_or(y, y_pred)\n",
    "            batch_iou               = torch.true_divide(torch.sum(intersection),torch.sum(union))\n",
    "            epoch_test_iou.append(batch_iou)\n",
    "            \n",
    "    \n",
    "    epoch_test_loss = test_running_loss / len(testloader.dataset)\n",
    "    epoch_test_acc  = test_correct / (test_total*256*256)\n",
    "    \n",
    "#     print('epoch: \\t', epoch,'loss: \\t', round(epoch_loss, 3),\n",
    "#           'accuracy: \\t', round(epoch_acc, 3),'IOU: \\t', round(np.mean(epoch_iou), 3),'\\t', \n",
    "#           'test_loss: \\t', round(epoch_test_loss, 3),'test_accuracy: \\t', round(epoch_test_acc, 3),\n",
    "#           'test_iou: \\t', round(np.mean(epoch_test_iou), 3))\n",
    "    \n",
    "    return epoch_loss, epoch_acc, epoch_test_loss, epoch_test_acc"
   ]
  },
  {
   "cell_type": "code",
   "execution_count": 12,
   "id": "2664ce89",
   "metadata": {},
   "outputs": [],
   "source": [
    "epochs = 40"
   ]
  },
  {
   "cell_type": "code",
   "execution_count": null,
   "id": "44710b64",
   "metadata": {},
   "outputs": [],
   "source": [
    "train_loss = []\n",
    "train_acc  = []\n",
    "test_loss  = []\n",
    "test_acc   = []\n",
    "\n",
    "for epoch in range(epochs):\n",
    "    epoch_loss, epoch_acc, epoch_test_loss, epoch_test_acc = fit(epoch,model,train_dl,test_dl)\n",
    "    train_loss.append(epoch_loss)\n",
    "    train_acc.append(epoch_acc)\n",
    "    test_loss.append(epoch_test_loss)\n",
    "    test_acc.append(epoch_test_acc)"
   ]
  },
  {
   "cell_type": "markdown",
   "id": "25b7afb1",
   "metadata": {},
   "source": [
    "##### 保存模型"
   ]
  },
  {
   "cell_type": "code",
   "execution_count": null,
   "id": "cab414b7",
   "metadata": {},
   "outputs": [],
   "source": [
    "PATH      = 'linknet_model.pth'\n",
    "torch.save(model.state_dict(), PATH)"
   ]
  },
  {
   "cell_type": "markdown",
   "id": "8002d000",
   "metadata": {},
   "source": [
    "##### 测试模型"
   ]
  },
  {
   "cell_type": "code",
   "execution_count": null,
   "id": "16e2778b",
   "metadata": {},
   "outputs": [],
   "source": [
    "my_model  = Net()\n",
    "my_model.load_state_dict(torch.load(PATH))\n",
    "num       = 3\n",
    "\n",
    "## train数据集上的测试结果\n",
    "\n",
    "image, mask = next(iter(train_dl))\n",
    "pred_mask   = my_model(image)\n",
    "\n",
    "plt.figure(figsize=(10, 10))\n",
    "for i in range(num):\n",
    "    plt.subplot(num, 3, i*num+1)\n",
    "    plt.imshow(image[i].permute(1,2,0).cpu().numpy())\n",
    "    plt.subplot(num, 3, i*num+2)\n",
    "    plt.imshow(mask[i].cpu().numpy())\n",
    "    plt.subplot(num, 3, i*num+3)\n",
    "    plt.imshow(torch.argmax(pred_mask[i].permute(1,2,0), axis=-1).detach().numpy())\n",
    " \n",
    "print(\"\\n\\n\\n\\n\\n\\n\\n\")\n",
    "\n",
    "## test数据集上的测试结果\n",
    "image, mask = next(iter(test_dl))\n",
    "pred_mask   = my_model(image)\n",
    "\n",
    "plt.figure(figsize=(10, 10))\n",
    "for i in range(num):\n",
    "    plt.subplot(num, 3, i*num+1)\n",
    "    plt.imshow(image[i].permute(1,2,0).cpu().numpy())\n",
    "    plt.subplot(num, 3, i*num+2)\n",
    "    plt.imshow(mask[i].cpu().numpy())\n",
    "    plt.subplot(num, 3, i*num+3)\n",
    "    plt.imshow(torch.argmax(pred_mask[i].permute(1,2,0), axis=-1).detach().numpy())"
   ]
  }
 ],
 "metadata": {
  "kernelspec": {
   "display_name": "Python 3 (ipykernel)",
   "language": "python",
   "name": "python3"
  },
  "language_info": {
   "codemirror_mode": {
    "name": "ipython",
    "version": 3
   },
   "file_extension": ".py",
   "mimetype": "text/x-python",
   "name": "python",
   "nbconvert_exporter": "python",
   "pygments_lexer": "ipython3",
   "version": "3.8.12"
  }
 },
 "nbformat": 4,
 "nbformat_minor": 5
}
