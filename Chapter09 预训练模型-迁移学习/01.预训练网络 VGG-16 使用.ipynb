{
 "cells": [
  {
   "cell_type": "code",
   "execution_count": 1,
   "id": "65887da5",
   "metadata": {},
   "outputs": [],
   "source": [
    "import torch\n",
    "import torch.nn as nn\n",
    "import torch.nn.functional as F\n",
    "import torch.optim as optim\n",
    "import numpy as np\n",
    "import torchvision\n",
    "import os\n",
    "import shutil\n",
    "import matplotlib.pyplot as plt\n",
    "%matplotlib inline"
   ]
  },
  {
   "cell_type": "markdown",
   "id": "4e5d8540",
   "metadata": {},
   "source": [
    "##### 读取数据集"
   ]
  },
  {
   "cell_type": "code",
   "execution_count": 2,
   "id": "e50fb211",
   "metadata": {},
   "outputs": [],
   "source": [
    "base_dir = r\"./data/FourWeather/\""
   ]
  },
  {
   "cell_type": "code",
   "execution_count": 3,
   "id": "96020df7",
   "metadata": {},
   "outputs": [],
   "source": [
    "from torchvision import transforms"
   ]
  },
  {
   "cell_type": "code",
   "execution_count": 4,
   "id": "6c8da608",
   "metadata": {},
   "outputs": [],
   "source": [
    "transform = transforms.Compose([\n",
    "    transforms.Resize((192,192)),\n",
    "    transforms.ToTensor(),\n",
    "    transforms.Normalize(mean=[0.5,0.5,0.5],std=[0.5,0.5,0.5])\n",
    "])"
   ]
  },
  {
   "cell_type": "code",
   "execution_count": 5,
   "id": "a0837a4a",
   "metadata": {},
   "outputs": [],
   "source": [
    "BATCH_SIZE = 8"
   ]
  },
  {
   "cell_type": "code",
   "execution_count": 6,
   "id": "cfe671ee",
   "metadata": {},
   "outputs": [],
   "source": [
    "train_ds = torchvision.datasets.ImageFolder(\n",
    "    os.path.join(base_dir,\"train\"),\n",
    "    transform = transform\n",
    ")\n",
    "\n",
    "test_ds  = torchvision.datasets.ImageFolder(\n",
    "    os.path.join(base_dir,\"test\"),\n",
    "    transform = transform\n",
    ")\n",
    "\n",
    "train_dl = torch.utils.data.DataLoader(train_ds,batch_size=BATCH_SIZE,shuffle=True)\n",
    "test_dl  = torch.utils.data.DataLoader(test_ds,batch_size=BATCH_SIZE,shuffle=True)"
   ]
  },
  {
   "cell_type": "code",
   "execution_count": 7,
   "id": "c0e3b3df",
   "metadata": {},
   "outputs": [],
   "source": [
    "class_to_id = train_ds.class_to_idx\n",
    "id_to_class = dict((v,k) for k,v in train_ds.class_to_idx.items())"
   ]
  },
  {
   "cell_type": "markdown",
   "id": "61874d5e",
   "metadata": {},
   "source": [
    "##### 创建/使用预训练 模型\n",
    "\n",
    "###### 预训练模型的使用步骤\n",
    "###### ① 拿到预训练好的模型/分类器\n",
    "###### ② 冻结卷积基\n",
    "###### ③ 按照实际需求随机初始化新分类器(一般是线性层)"
   ]
  },
  {
   "cell_type": "code",
   "execution_count": 8,
   "id": "f5e71472",
   "metadata": {},
   "outputs": [],
   "source": [
    "model = torchvision.models.vgg16(pretrained=True) # pretrained参数指定是否使用预训练好的权重"
   ]
  },
  {
   "cell_type": "markdown",
   "id": "4deacd18",
   "metadata": {},
   "source": [
    "######  拿到预训练好的模型/分类器"
   ]
  },
  {
   "cell_type": "code",
   "execution_count": 9,
   "id": "ef8233ad",
   "metadata": {},
   "outputs": [
    {
     "data": {
      "text/plain": [
       "VGG(\n",
       "  (features): Sequential(\n",
       "    (0): Conv2d(3, 64, kernel_size=(3, 3), stride=(1, 1), padding=(1, 1))\n",
       "    (1): ReLU(inplace=True)\n",
       "    (2): Conv2d(64, 64, kernel_size=(3, 3), stride=(1, 1), padding=(1, 1))\n",
       "    (3): ReLU(inplace=True)\n",
       "    (4): MaxPool2d(kernel_size=2, stride=2, padding=0, dilation=1, ceil_mode=False)\n",
       "    (5): Conv2d(64, 128, kernel_size=(3, 3), stride=(1, 1), padding=(1, 1))\n",
       "    (6): ReLU(inplace=True)\n",
       "    (7): Conv2d(128, 128, kernel_size=(3, 3), stride=(1, 1), padding=(1, 1))\n",
       "    (8): ReLU(inplace=True)\n",
       "    (9): MaxPool2d(kernel_size=2, stride=2, padding=0, dilation=1, ceil_mode=False)\n",
       "    (10): Conv2d(128, 256, kernel_size=(3, 3), stride=(1, 1), padding=(1, 1))\n",
       "    (11): ReLU(inplace=True)\n",
       "    (12): Conv2d(256, 256, kernel_size=(3, 3), stride=(1, 1), padding=(1, 1))\n",
       "    (13): ReLU(inplace=True)\n",
       "    (14): Conv2d(256, 256, kernel_size=(3, 3), stride=(1, 1), padding=(1, 1))\n",
       "    (15): ReLU(inplace=True)\n",
       "    (16): MaxPool2d(kernel_size=2, stride=2, padding=0, dilation=1, ceil_mode=False)\n",
       "    (17): Conv2d(256, 512, kernel_size=(3, 3), stride=(1, 1), padding=(1, 1))\n",
       "    (18): ReLU(inplace=True)\n",
       "    (19): Conv2d(512, 512, kernel_size=(3, 3), stride=(1, 1), padding=(1, 1))\n",
       "    (20): ReLU(inplace=True)\n",
       "    (21): Conv2d(512, 512, kernel_size=(3, 3), stride=(1, 1), padding=(1, 1))\n",
       "    (22): ReLU(inplace=True)\n",
       "    (23): MaxPool2d(kernel_size=2, stride=2, padding=0, dilation=1, ceil_mode=False)\n",
       "    (24): Conv2d(512, 512, kernel_size=(3, 3), stride=(1, 1), padding=(1, 1))\n",
       "    (25): ReLU(inplace=True)\n",
       "    (26): Conv2d(512, 512, kernel_size=(3, 3), stride=(1, 1), padding=(1, 1))\n",
       "    (27): ReLU(inplace=True)\n",
       "    (28): Conv2d(512, 512, kernel_size=(3, 3), stride=(1, 1), padding=(1, 1))\n",
       "    (29): ReLU(inplace=True)\n",
       "    (30): MaxPool2d(kernel_size=2, stride=2, padding=0, dilation=1, ceil_mode=False)\n",
       "  )\n",
       "  (avgpool): AdaptiveAvgPool2d(output_size=(7, 7))\n",
       "  (classifier): Sequential(\n",
       "    (0): Linear(in_features=25088, out_features=4096, bias=True)\n",
       "    (1): ReLU(inplace=True)\n",
       "    (2): Dropout(p=0.5, inplace=False)\n",
       "    (3): Linear(in_features=4096, out_features=4096, bias=True)\n",
       "    (4): ReLU(inplace=True)\n",
       "    (5): Dropout(p=0.5, inplace=False)\n",
       "    (6): Linear(in_features=4096, out_features=1000, bias=True)\n",
       "  )\n",
       ")"
      ]
     },
     "execution_count": 9,
     "metadata": {},
     "output_type": "execute_result"
    }
   ],
   "source": [
    "model                                             # 查看VGG-16的层结构"
   ]
  },
  {
   "cell_type": "markdown",
   "id": "7298087b",
   "metadata": {},
   "source": [
    "###### 冻结卷积层"
   ]
  },
  {
   "cell_type": "code",
   "execution_count": 10,
   "id": "faa63f4e",
   "metadata": {},
   "outputs": [],
   "source": [
    "for p in model.features.parameters():\n",
    "    p.requirs_grad = False                        # 设置卷积层里面的参数不再参与梯度下降与更新"
   ]
  },
  {
   "cell_type": "markdown",
   "id": "6d5faf1b",
   "metadata": {},
   "source": [
    "###### 按照实际需求随机初始化新分类器"
   ]
  },
  {
   "cell_type": "code",
   "execution_count": 11,
   "id": "083ea2bb",
   "metadata": {},
   "outputs": [],
   "source": [
    "optim     = torch.optim.Adam(model.parameters(),lr=0.0001)\n",
    "loss_fn   = nn.CrossEntropyLoss()\n",
    "epoches   = 20\n",
    "model.classifier[-1].out_features = 4             # 将输出分类数修改为目标数量 (本例为4)\n",
    "model     = model.to(\"cuda\")"
   ]
  },
  {
   "cell_type": "code",
   "execution_count": 12,
   "id": "9fe364a7",
   "metadata": {},
   "outputs": [],
   "source": [
    "train_loss = []\n",
    "train_acc  = []\n",
    "test_loss  = []\n",
    "test_acc   = []"
   ]
  },
  {
   "cell_type": "markdown",
   "id": "fa58f82f",
   "metadata": {},
   "source": [
    "##### 定义fit函数"
   ]
  },
  {
   "cell_type": "code",
   "execution_count": 13,
   "id": "06768746",
   "metadata": {},
   "outputs": [],
   "source": [
    "def fit(model,trainloader,testloader,epoch):\n",
    "    correct = 0       # 记录正确率\n",
    "    total   = 0       # 记录训练样本总数量\n",
    "    running_loss = 0\n",
    "    \n",
    "    model.train()     # 设置为训练模式 表示DropOut会起作用\n",
    "    \n",
    "    for x,y in trainloader:\n",
    "        x      = x.to(\"cuda\")\n",
    "        y      = y.to(\"cuda\")\n",
    "        y_pred = model(x)\n",
    "        loss   = loss_fn(y_pred,y)\n",
    "        optim.zero_grad()\n",
    "        loss.backward()\n",
    "        optim.step()\n",
    "        with torch.no_grad():\n",
    "            y_pred = torch.argmax(y_pred,dim=1)\n",
    "            correct+=(y_pred == y).sum().item()\n",
    "            total  += y.size(0)\n",
    "            running_loss += loss.item()\n",
    "    \n",
    "    epoch_loss = running_loss / len(trainloader.dataset) # 得到每一个样本在本epoch下的平均loss\n",
    "    epoch_acc  = correct / total # 得到整个样本的平均预测正确率\n",
    "    \n",
    "    test_correct      = 0        # 记录正确率\n",
    "    test_total        = 0        # 记录训练样本总数量\n",
    "    test_running_loss = 0\n",
    "    \n",
    "    model.eval()                 # 将模型修改为预测模式 表示DropOut失效 注意在验证数据集上不需要进行Dropout\n",
    "    \n",
    "    with torch.no_grad():\n",
    "        for x,y in trainloader:\n",
    "            x      = x.to(\"cuda\")\n",
    "            y      = y.to(\"cuda\")\n",
    "            y_pred = model(x)\n",
    "            loss   = loss_fn(y_pred,y)\n",
    "            y_pred = torch.argmax(y_pred,dim=1)\n",
    "            test_correct+=(y_pred == y).sum().item()\n",
    "            test_total  += y.size(0)\n",
    "            test_running_loss += loss.item()\n",
    "    \n",
    "    epoch_test_loss = test_running_loss / len(testloader.dataset) # 得到每一个样本在本epoch下的平均loss\n",
    "    epoch_test_acc  = test_correct / test_total                   # 得到整个样本的平均预测正确率\n",
    "    \n",
    "    print(\n",
    "            \"epoch:\",\"\\t\",epoch,\"\\t\",\n",
    "            \"loss: \",\"\\t\",round(epoch_loss,3),\"\\t\",\n",
    "            \"accuracy: \",\"\\t\",round(epoch_acc,3),\"\\t\",\n",
    "            \"test_loss: \",\"\\t\",round(epoch_test_loss,3),\"\\t\",\n",
    "            \"test_accuracy: \",\"\\t\",round(epoch_test_acc,3),\"\\t\"\n",
    "        )\n",
    "    return epoch_loss,epoch_acc,epoch_test_loss,epoch_test_acc"
   ]
  },
  {
   "cell_type": "markdown",
   "id": "2a958ab4",
   "metadata": {},
   "source": [
    "##### 对模型进行训练"
   ]
  },
  {
   "cell_type": "code",
   "execution_count": null,
   "id": "3a7c4266",
   "metadata": {
    "scrolled": true
   },
   "outputs": [
    {
     "name": "stdout",
     "output_type": "stream",
     "text": [
      "epoch: \t 0 \t loss:  \t 0.086 \t accuracy:  \t 0.833 \t test_loss:  \t 0.08 \t test_accuracy:  \t 0.941 \t\n",
      "epoch: \t 1 \t loss:  \t 0.027 \t accuracy:  \t 0.939 \t test_loss:  \t 0.052 \t test_accuracy:  \t 0.973 \t\n",
      "epoch: \t 2 \t loss:  \t 0.022 \t accuracy:  \t 0.95 \t test_loss:  \t 0.027 \t test_accuracy:  \t 0.988 \t\n",
      "epoch: \t 3 \t loss:  \t 0.016 \t accuracy:  \t 0.967 \t test_loss:  \t 0.024 \t test_accuracy:  \t 0.987 \t\n",
      "epoch: \t 4 \t loss:  \t 0.017 \t accuracy:  \t 0.963 \t test_loss:  \t 0.006 \t test_accuracy:  \t 0.996 \t\n",
      "epoch: \t 5 \t loss:  \t 0.008 \t accuracy:  \t 0.977 \t test_loss:  \t 0.041 \t test_accuracy:  \t 0.971 \t\n",
      "epoch: \t 6 \t loss:  \t 0.002 \t accuracy:  \t 0.991 \t test_loss:  \t 0.003 \t test_accuracy:  \t 0.999 \t\n",
      "epoch: \t 7 \t loss:  \t 0.011 \t accuracy:  \t 0.978 \t test_loss:  \t 0.057 \t test_accuracy:  \t 0.961 \t\n",
      "epoch: \t 8 \t loss:  \t 0.026 \t accuracy:  \t 0.95 \t test_loss:  \t 0.028 \t test_accuracy:  \t 0.98 \t\n",
      "epoch: \t 9 \t loss:  \t 0.065 \t accuracy:  \t 0.894 \t test_loss:  \t 0.121 \t test_accuracy:  \t 0.91 \t\n",
      "epoch: \t 10 \t loss:  \t 0.026 \t accuracy:  \t 0.95 \t test_loss:  \t 0.031 \t test_accuracy:  \t 0.988 \t\n",
      "epoch: \t 11 \t loss:  \t 0.018 \t accuracy:  \t 0.959 \t test_loss:  \t 0.025 \t test_accuracy:  \t 0.989 \t\n",
      "epoch: \t 12 \t loss:  \t 0.007 \t accuracy:  \t 0.983 \t test_loss:  \t 0.009 \t test_accuracy:  \t 0.994 \t\n",
      "epoch: \t 13 \t loss:  \t 0.005 \t accuracy:  \t 0.989 \t test_loss:  \t 0.034 \t test_accuracy:  \t 0.986 \t\n"
     ]
    }
   ],
   "source": [
    "torch.cuda.empty_cache()\n",
    "for epoch in range(epoches):\n",
    "    epoch_loss,epoch_acc,epoch_test_loss,epoch_test_acc = fit(model,train_dl,test_dl,epoch)\n",
    "    train_loss.append(epoch_loss)\n",
    "    train_acc.append(epoch_acc)\n",
    "    test_loss.append(epoch_test_loss)\n",
    "    test_acc.append(epoch_test_acc)"
   ]
  },
  {
   "cell_type": "code",
   "execution_count": null,
   "id": "4a72cc74",
   "metadata": {},
   "outputs": [],
   "source": [
    "plt.plot(range(1,epoches+1),train_loss,label = \"train_loss\")\n",
    "plt.plot(range(1,epoches+1),test_loss,label = \"test_loss\")\n",
    "plt.legend()"
   ]
  },
  {
   "cell_type": "code",
   "execution_count": null,
   "id": "4461ce09",
   "metadata": {},
   "outputs": [],
   "source": [
    "plt.plot(range(1, epoches+1), train_acc, label='train_acc')\n",
    "plt.plot(range(1, epoches+1), test_acc, label='test_acc')\n",
    "plt.legend()"
   ]
  }
 ],
 "metadata": {
  "kernelspec": {
   "display_name": "Python 3 (ipykernel)",
   "language": "python",
   "name": "python3"
  },
  "language_info": {
   "codemirror_mode": {
    "name": "ipython",
    "version": 3
   },
   "file_extension": ".py",
   "mimetype": "text/x-python",
   "name": "python",
   "nbconvert_exporter": "python",
   "pygments_lexer": "ipython3",
   "version": "3.8.12"
  }
 },
 "nbformat": 4,
 "nbformat_minor": 5
}
