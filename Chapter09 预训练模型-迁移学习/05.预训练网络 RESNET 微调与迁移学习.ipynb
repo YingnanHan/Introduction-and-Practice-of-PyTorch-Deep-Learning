{
 "cells": [
  {
   "cell_type": "markdown",
   "id": "5a9387c5",
   "metadata": {},
   "source": [
    "微调步骤\n",
    "\n",
    "    在预训练卷积基上添加自定义层\n",
    "    冻结卷积基上所有层\n",
    "    训练添加的分类层\n",
    "    解冻卷积基的一部分层(习惯上解冻靠近输出部分的卷积)\n",
    "    联合训练解冻卷积层和添加自定义层"
   ]
  },
  {
   "cell_type": "code",
   "execution_count": 1,
   "id": "c1649311",
   "metadata": {},
   "outputs": [],
   "source": [
    "import torch\n",
    "import torch.nn as nn\n",
    "import torch.nn.functional as F\n",
    "import torch.optim as optim\n",
    "import numpy as np\n",
    "import torchvision\n",
    "import os\n",
    "import shutil\n",
    "import matplotlib.pyplot as plt\n",
    "from   torchvision import transforms\n",
    "%matplotlib inline"
   ]
  },
  {
   "cell_type": "markdown",
   "id": "47557953",
   "metadata": {},
   "source": [
    "##### 读取数据集"
   ]
  },
  {
   "cell_type": "code",
   "execution_count": 2,
   "id": "d970bea5",
   "metadata": {},
   "outputs": [],
   "source": [
    "base_dir = r'./data/FourWeather/'\n",
    "train_dir= os.path.join(base_dir,\"train\")\n",
    "test_dir = os.path.join(base_dir,\"test\")"
   ]
  },
  {
   "cell_type": "code",
   "execution_count": 3,
   "id": "1c3fc19f",
   "metadata": {},
   "outputs": [],
   "source": [
    "train_transform = transforms.Compose([                                # 将图片在输入管道上做出一定变化，完成数据增强\n",
    "    transforms.Resize(224),    \n",
    "    transforms.RandomCrop(192),           \n",
    "    transforms.RandomHorizontalFlip(),\n",
    "    transforms.RandomRotation(0.2),\n",
    "    transforms.ColorJitter(brightness=0.5),\n",
    "    transforms.ColorJitter(contrast=0.5),\n",
    "    transforms.ToTensor(),\n",
    "    transforms.Normalize(mean=[0.5,0.5,0.5],std=[0.5,0.5,0.5])\n",
    "])\n",
    "\n",
    "test_transform  = transforms.Compose([\n",
    "    transforms.Resize((192,192)),\n",
    "    transforms.ToTensor(),\n",
    "    transforms.Normalize(mean=[0.5,0.5,0.5],std=[0.5,0.5,0.5])\n",
    "])"
   ]
  },
  {
   "cell_type": "code",
   "execution_count": 4,
   "id": "3712e65b",
   "metadata": {},
   "outputs": [],
   "source": [
    "BATCH_SIZE = 8"
   ]
  },
  {
   "cell_type": "code",
   "execution_count": 5,
   "id": "3ba31da3",
   "metadata": {},
   "outputs": [],
   "source": [
    "train_ds = torchvision.datasets.ImageFolder(\n",
    "    os.path.join(base_dir,\"train\"),\n",
    "    transform = train_transform\n",
    ")\n",
    "\n",
    "test_ds  = torchvision.datasets.ImageFolder(\n",
    "    os.path.join(base_dir,\"test\"),\n",
    "    transform = test_transform\n",
    ")\n",
    "\n",
    "train_dl = torch.utils.data.DataLoader(train_ds,batch_size=BATCH_SIZE,shuffle=True)\n",
    "test_dl  = torch.utils.data.DataLoader(test_ds,batch_size=BATCH_SIZE,shuffle=True)"
   ]
  },
  {
   "cell_type": "code",
   "execution_count": 6,
   "id": "c590abcb",
   "metadata": {},
   "outputs": [],
   "source": [
    "class_to_id = train_ds.class_to_idx\n",
    "id_to_class = dict((v,k) for k,v in train_ds.class_to_idx.items())"
   ]
  },
  {
   "cell_type": "markdown",
   "id": "a5eb5e0c",
   "metadata": {},
   "source": [
    "##### 创建模型"
   ]
  },
  {
   "cell_type": "code",
   "execution_count": 7,
   "id": "6659f0a1",
   "metadata": {},
   "outputs": [
    {
     "name": "stderr",
     "output_type": "stream",
     "text": [
      "Downloading: \"https://download.pytorch.org/models/resnet101-5d3b4d8f.pth\" to C:\\Users\\20613/.cache\\torch\\hub\\checkpoints\\resnet101-5d3b4d8f.pth\n"
     ]
    },
    {
     "data": {
      "application/vnd.jupyter.widget-view+json": {
       "model_id": "d8acd6a9857242e89b95160b6f8ef017",
       "version_major": 2,
       "version_minor": 0
      },
      "text/plain": [
       "  0%|          | 0.00/170M [00:00<?, ?B/s]"
      ]
     },
     "metadata": {},
     "output_type": "display_data"
    }
   ],
   "source": [
    "model = torchvision.models.resnet101(pretrained=True)"
   ]
  },
  {
   "cell_type": "markdown",
   "id": "1aac8043",
   "metadata": {},
   "source": [
    "###### 修改预训练模型"
   ]
  },
  {
   "cell_type": "code",
   "execution_count": 8,
   "id": "3326fde3",
   "metadata": {},
   "outputs": [],
   "source": [
    "for param in model.parameters():\n",
    "    param.requires_grad = False\n",
    "    \n",
    "in_fc    = model.fc.in_features\n",
    "model.fc = nn.Linear(in_fc,4)"
   ]
  },
  {
   "cell_type": "markdown",
   "id": "6ec51212",
   "metadata": {},
   "source": [
    "###### 迁移训练模型到GPU并定义优化/损失函数"
   ]
  },
  {
   "cell_type": "code",
   "execution_count": 9,
   "id": "6c7a5cb6",
   "metadata": {},
   "outputs": [],
   "source": [
    "model   = model.to(\"cuda\")\n",
    "optim   = torch.optim.Adam(model.fc.parameters(),lr=0.001)            \n",
    "epoches = 20\n",
    "loss_fn = nn.CrossEntropyLoss()"
   ]
  },
  {
   "cell_type": "code",
   "execution_count": 10,
   "id": "693e7220",
   "metadata": {},
   "outputs": [],
   "source": [
    "from torch.optim import lr_scheduler\n",
    "exp_lr_scheduler = lr_scheduler.StepLR(optim, step_size=7, gamma=0.1) "
   ]
  },
  {
   "cell_type": "markdown",
   "id": "d1284126",
   "metadata": {},
   "source": [
    "###### 定义fit函数"
   ]
  },
  {
   "cell_type": "code",
   "execution_count": 11,
   "id": "f90b7e34",
   "metadata": {},
   "outputs": [],
   "source": [
    "def fit(model,trainloader,testloader,epoch):\n",
    "    correct = 0       # 记录正确率\n",
    "    total   = 0       # 记录训练样本总数量\n",
    "    running_loss = 0\n",
    "    \n",
    "    model.train()     # 设置为训练模式 表示DropOut会起作用\n",
    "    \n",
    "    for x,y in trainloader:\n",
    "        x,y    = x.to(\"cuda\"),y.to(\"cuda\")\n",
    "        y_pred = model(x)\n",
    "        loss   = loss_fn(y_pred,y)\n",
    "        optim.zero_grad()\n",
    "        loss.backward()\n",
    "        optim.step()\n",
    "        with torch.no_grad():\n",
    "            y_pred = torch.argmax(y_pred,dim=1)\n",
    "            correct+=(y_pred == y).sum().item()\n",
    "            total  += y.size(0)\n",
    "            running_loss += loss.item()\n",
    "    \n",
    "    exp_lr_scheduler.step()\n",
    "    epoch_loss = running_loss / len(trainloader.dataset) # 得到每一个样本在本epoch下的平均loss\n",
    "    epoch_acc  = correct / total                         # 得到整个样本的平均预测正确率\n",
    "    \n",
    "    test_correct      = 0        # 记录正确率\n",
    "    test_total        = 0        # 记录训练样本总数量\n",
    "    test_running_loss = 0\n",
    "    \n",
    "    model.eval()                 # 将模型修改为预测模式 表示DropOut失效 注意在验证数据集上不需要进行Dropout\n",
    "    \n",
    "    with torch.no_grad():\n",
    "        for x,y in testloader:\n",
    "            x,y    = x.to(\"cuda\"),y.to(\"cuda\")\n",
    "            y_pred = model(x)\n",
    "            loss   = loss_fn(y_pred,y)\n",
    "            y_pred = torch.argmax(y_pred,dim=1)\n",
    "            test_correct+=(y_pred == y).sum().item()\n",
    "            test_total  += y.size(0)\n",
    "            test_running_loss += loss.item()\n",
    "    \n",
    "    epoch_test_loss = test_running_loss / len(testloader.dataset) # 得到每一个样本在本epoch下的平均loss\n",
    "    epoch_test_acc  = test_correct / test_total                   # 得到整个样本的平均预测正确率\n",
    "    \n",
    "    print(\n",
    "            \"epoch:\",\"\\t\",epoch,\"\\t\",\n",
    "            \"loss: \",\"\\t\",round(epoch_loss,3),\"\\t\",\n",
    "            \"accuracy: \",\"\\t\",round(epoch_acc,3),\"\\t\",\n",
    "            \"test_loss: \",\"\\t\",round(epoch_test_loss,3),\"\\t\",\n",
    "            \"test_accuracy: \",\"\\t\",round(epoch_test_acc,3),\"\\t\"\n",
    "        )\n",
    "    return epoch_loss,epoch_acc,epoch_test_loss,epoch_test_acc"
   ]
  },
  {
   "cell_type": "code",
   "execution_count": 12,
   "id": "d9186355",
   "metadata": {},
   "outputs": [],
   "source": [
    "train_loss = []\n",
    "train_acc  = []\n",
    "test_loss  = []\n",
    "test_acc   = []"
   ]
  },
  {
   "cell_type": "markdown",
   "id": "56cbbbbc",
   "metadata": {},
   "source": [
    "#### 训练模型"
   ]
  },
  {
   "cell_type": "code",
   "execution_count": 13,
   "id": "6bc12d93",
   "metadata": {},
   "outputs": [
    {
     "name": "stdout",
     "output_type": "stream",
     "text": [
      "epoch: \t 0 \t loss:  \t 0.092 \t accuracy:  \t 0.729 \t test_loss:  \t 0.035 \t test_accuracy:  \t 0.924 \t\n",
      "epoch: \t 1 \t loss:  \t 0.055 \t accuracy:  \t 0.847 \t test_loss:  \t 0.032 \t test_accuracy:  \t 0.911 \t\n",
      "epoch: \t 2 \t loss:  \t 0.044 \t accuracy:  \t 0.881 \t test_loss:  \t 0.025 \t test_accuracy:  \t 0.942 \t\n",
      "epoch: \t 3 \t loss:  \t 0.041 \t accuracy:  \t 0.879 \t test_loss:  \t 0.022 \t test_accuracy:  \t 0.942 \t\n",
      "epoch: \t 4 \t loss:  \t 0.043 \t accuracy:  \t 0.878 \t test_loss:  \t 0.037 \t test_accuracy:  \t 0.898 \t\n",
      "epoch: \t 5 \t loss:  \t 0.036 \t accuracy:  \t 0.884 \t test_loss:  \t 0.027 \t test_accuracy:  \t 0.938 \t\n",
      "epoch: \t 6 \t loss:  \t 0.038 \t accuracy:  \t 0.883 \t test_loss:  \t 0.036 \t test_accuracy:  \t 0.916 \t\n",
      "epoch: \t 7 \t loss:  \t 0.032 \t accuracy:  \t 0.908 \t test_loss:  \t 0.024 \t test_accuracy:  \t 0.942 \t\n",
      "epoch: \t 8 \t loss:  \t 0.031 \t accuracy:  \t 0.909 \t test_loss:  \t 0.025 \t test_accuracy:  \t 0.938 \t\n",
      "epoch: \t 9 \t loss:  \t 0.028 \t accuracy:  \t 0.921 \t test_loss:  \t 0.027 \t test_accuracy:  \t 0.924 \t\n",
      "epoch: \t 10 \t loss:  \t 0.028 \t accuracy:  \t 0.918 \t test_loss:  \t 0.026 \t test_accuracy:  \t 0.942 \t\n",
      "epoch: \t 11 \t loss:  \t 0.028 \t accuracy:  \t 0.916 \t test_loss:  \t 0.024 \t test_accuracy:  \t 0.938 \t\n",
      "epoch: \t 12 \t loss:  \t 0.027 \t accuracy:  \t 0.926 \t test_loss:  \t 0.024 \t test_accuracy:  \t 0.938 \t\n",
      "epoch: \t 13 \t loss:  \t 0.028 \t accuracy:  \t 0.929 \t test_loss:  \t 0.026 \t test_accuracy:  \t 0.938 \t\n",
      "epoch: \t 14 \t loss:  \t 0.028 \t accuracy:  \t 0.922 \t test_loss:  \t 0.026 \t test_accuracy:  \t 0.938 \t\n",
      "epoch: \t 15 \t loss:  \t 0.034 \t accuracy:  \t 0.907 \t test_loss:  \t 0.022 \t test_accuracy:  \t 0.938 \t\n",
      "epoch: \t 16 \t loss:  \t 0.027 \t accuracy:  \t 0.923 \t test_loss:  \t 0.023 \t test_accuracy:  \t 0.942 \t\n",
      "epoch: \t 17 \t loss:  \t 0.03 \t accuracy:  \t 0.912 \t test_loss:  \t 0.022 \t test_accuracy:  \t 0.942 \t\n",
      "epoch: \t 18 \t loss:  \t 0.028 \t accuracy:  \t 0.917 \t test_loss:  \t 0.023 \t test_accuracy:  \t 0.929 \t\n",
      "epoch: \t 19 \t loss:  \t 0.026 \t accuracy:  \t 0.932 \t test_loss:  \t 0.024 \t test_accuracy:  \t 0.942 \t\n"
     ]
    }
   ],
   "source": [
    "for epoch in range(epoches):\n",
    "    epoch_loss,epoch_acc,epoch_test_loss,epoch_test_acc = fit(model,train_dl,test_dl,epoch)\n",
    "    train_loss.append(epoch_loss)\n",
    "    train_acc.append(epoch_acc)\n",
    "    test_loss.append(epoch_test_loss)\n",
    "    test_acc.append(epoch_test_acc)"
   ]
  },
  {
   "cell_type": "code",
   "execution_count": 14,
   "id": "74fdf6f6",
   "metadata": {},
   "outputs": [
    {
     "data": {
      "text/plain": [
       "<matplotlib.legend.Legend at 0x1e51b4366d0>"
      ]
     },
     "execution_count": 14,
     "metadata": {},
     "output_type": "execute_result"
    },
    {
     "data": {
      "image/png": "[encoded data removed]",
      "text/plain": [
       "<Figure size 432x288 with 1 Axes>"
      ]
     },
     "metadata": {
      "needs_background": "light"
     },
     "output_type": "display_data"
    }
   ],
   "source": [
    "plt.plot(range(1,epoches+1),train_loss,label = \"train_loss\")\n",
    "plt.plot(range(1,epoches+1),test_loss,label = \"test_loss\")\n",
    "plt.legend()"
   ]
  },
  {
   "cell_type": "code",
   "execution_count": 15,
   "id": "2a62e163",
   "metadata": {},
   "outputs": [
    {
     "data": {
      "text/plain": [
       "<matplotlib.legend.Legend at 0x1e51bc08910>"
      ]
     },
     "execution_count": 15,
     "metadata": {},
     "output_type": "execute_result"
    },
    {
     "data": {
      "image/png": "[encoded data removed]",
      "text/plain": [
       "<Figure size 432x288 with 1 Axes>"
      ]
     },
     "metadata": {
      "needs_background": "light"
     },
     "output_type": "display_data"
    }
   ],
   "source": [
    "plt.plot(range(1, epoches+1), train_acc, label='train_acc')\n",
    "plt.plot(range(1, epoches+1), test_acc, label='test_acc')\n",
    "plt.legend()"
   ]
  },
  {
   "cell_type": "markdown",
   "id": "4f57f5b0",
   "metadata": {},
   "source": [
    "##### 微调模型(本操作只能在训练结束的时候进行)"
   ]
  },
  {
   "cell_type": "code",
   "execution_count": 16,
   "id": "eb76d13e",
   "metadata": {},
   "outputs": [],
   "source": [
    "for param in model.parameters():                                # 首先解冻结所有的可训练参数\n",
    "    param.requires_grad = True"
   ]
  },
  {
   "cell_type": "code",
   "execution_count": 17,
   "id": "0424bb1b",
   "metadata": {},
   "outputs": [],
   "source": [
    "extend_epoch = 30\n",
    "optim        = torch.optim.Adam(model.parameters(),lr=0.00001) # 目前需要优化全部参数 训练速率调低\n",
    "train_loss   = []\n",
    "train_acc    = []\n",
    "test_loss    = []\n",
    "test_acc     = []"
   ]
  },
  {
   "cell_type": "code",
   "execution_count": 18,
   "id": "1199cc06",
   "metadata": {},
   "outputs": [
    {
     "name": "stdout",
     "output_type": "stream",
     "text": [
      "epoch: \t 0 \t loss:  \t 0.028 \t accuracy:  \t 0.916 \t test_loss:  \t 0.019 \t test_accuracy:  \t 0.951 \t\n",
      "epoch: \t 1 \t loss:  \t 0.021 \t accuracy:  \t 0.947 \t test_loss:  \t 0.016 \t test_accuracy:  \t 0.951 \t\n",
      "epoch: \t 2 \t loss:  \t 0.024 \t accuracy:  \t 0.932 \t test_loss:  \t 0.02 \t test_accuracy:  \t 0.947 \t\n",
      "epoch: \t 3 \t loss:  \t 0.016 \t accuracy:  \t 0.967 \t test_loss:  \t 0.017 \t test_accuracy:  \t 0.956 \t\n",
      "epoch: \t 4 \t loss:  \t 0.02 \t accuracy:  \t 0.946 \t test_loss:  \t 0.018 \t test_accuracy:  \t 0.951 \t\n",
      "epoch: \t 5 \t loss:  \t 0.013 \t accuracy:  \t 0.971 \t test_loss:  \t 0.018 \t test_accuracy:  \t 0.942 \t\n",
      "epoch: \t 6 \t loss:  \t 0.015 \t accuracy:  \t 0.957 \t test_loss:  \t 0.015 \t test_accuracy:  \t 0.956 \t\n",
      "epoch: \t 7 \t loss:  \t 0.013 \t accuracy:  \t 0.97 \t test_loss:  \t 0.021 \t test_accuracy:  \t 0.951 \t\n",
      "epoch: \t 8 \t loss:  \t 0.011 \t accuracy:  \t 0.97 \t test_loss:  \t 0.018 \t test_accuracy:  \t 0.956 \t\n",
      "epoch: \t 9 \t loss:  \t 0.01 \t accuracy:  \t 0.971 \t test_loss:  \t 0.018 \t test_accuracy:  \t 0.964 \t\n",
      "epoch: \t 10 \t loss:  \t 0.009 \t accuracy:  \t 0.978 \t test_loss:  \t 0.013 \t test_accuracy:  \t 0.96 \t\n",
      "epoch: \t 11 \t loss:  \t 0.011 \t accuracy:  \t 0.971 \t test_loss:  \t 0.015 \t test_accuracy:  \t 0.973 \t\n",
      "epoch: \t 12 \t loss:  \t 0.01 \t accuracy:  \t 0.971 \t test_loss:  \t 0.016 \t test_accuracy:  \t 0.96 \t\n",
      "epoch: \t 13 \t loss:  \t 0.007 \t accuracy:  \t 0.982 \t test_loss:  \t 0.019 \t test_accuracy:  \t 0.964 \t\n",
      "epoch: \t 14 \t loss:  \t 0.007 \t accuracy:  \t 0.981 \t test_loss:  \t 0.022 \t test_accuracy:  \t 0.938 \t\n",
      "epoch: \t 15 \t loss:  \t 0.006 \t accuracy:  \t 0.987 \t test_loss:  \t 0.02 \t test_accuracy:  \t 0.956 \t\n",
      "epoch: \t 16 \t loss:  \t 0.007 \t accuracy:  \t 0.982 \t test_loss:  \t 0.019 \t test_accuracy:  \t 0.96 \t\n",
      "epoch: \t 17 \t loss:  \t 0.006 \t accuracy:  \t 0.986 \t test_loss:  \t 0.018 \t test_accuracy:  \t 0.956 \t\n",
      "epoch: \t 18 \t loss:  \t 0.007 \t accuracy:  \t 0.986 \t test_loss:  \t 0.018 \t test_accuracy:  \t 0.951 \t\n",
      "epoch: \t 19 \t loss:  \t 0.003 \t accuracy:  \t 0.994 \t test_loss:  \t 0.014 \t test_accuracy:  \t 0.964 \t\n",
      "epoch: \t 20 \t loss:  \t 0.006 \t accuracy:  \t 0.984 \t test_loss:  \t 0.018 \t test_accuracy:  \t 0.956 \t\n",
      "epoch: \t 21 \t loss:  \t 0.006 \t accuracy:  \t 0.989 \t test_loss:  \t 0.02 \t test_accuracy:  \t 0.96 \t\n",
      "epoch: \t 22 \t loss:  \t 0.005 \t accuracy:  \t 0.991 \t test_loss:  \t 0.023 \t test_accuracy:  \t 0.96 \t\n",
      "epoch: \t 23 \t loss:  \t 0.005 \t accuracy:  \t 0.993 \t test_loss:  \t 0.021 \t test_accuracy:  \t 0.96 \t\n",
      "epoch: \t 24 \t loss:  \t 0.008 \t accuracy:  \t 0.981 \t test_loss:  \t 0.014 \t test_accuracy:  \t 0.982 \t\n",
      "epoch: \t 25 \t loss:  \t 0.003 \t accuracy:  \t 0.997 \t test_loss:  \t 0.018 \t test_accuracy:  \t 0.964 \t\n",
      "epoch: \t 26 \t loss:  \t 0.005 \t accuracy:  \t 0.991 \t test_loss:  \t 0.016 \t test_accuracy:  \t 0.973 \t\n",
      "epoch: \t 27 \t loss:  \t 0.003 \t accuracy:  \t 0.997 \t test_loss:  \t 0.019 \t test_accuracy:  \t 0.964 \t\n",
      "epoch: \t 28 \t loss:  \t 0.003 \t accuracy:  \t 0.993 \t test_loss:  \t 0.022 \t test_accuracy:  \t 0.964 \t\n",
      "epoch: \t 29 \t loss:  \t 0.003 \t accuracy:  \t 0.994 \t test_loss:  \t 0.022 \t test_accuracy:  \t 0.969 \t\n"
     ]
    }
   ],
   "source": [
    "for epoch in range(extend_epoch):\n",
    "    epoch_loss,epoch_acc,epoch_test_loss,epoch_test_acc = fit(model,train_dl,test_dl,epoch)\n",
    "    train_loss.append(epoch_loss)\n",
    "    train_acc.append(epoch_acc)\n",
    "    test_loss.append(epoch_test_loss)\n",
    "    test_acc.append(epoch_test_acc)"
   ]
  },
  {
   "cell_type": "code",
   "execution_count": 27,
   "id": "9d3b8f25",
   "metadata": {},
   "outputs": [
    {
     "data": {
      "text/plain": [
       "<matplotlib.legend.Legend at 0x1e5bb7291c0>"
      ]
     },
     "execution_count": 27,
     "metadata": {},
     "output_type": "execute_result"
    },
    {
     "data": {
      "image/png": "[encoded data removed]",
      "text/plain": [
       "<Figure size 432x288 with 1 Axes>"
      ]
     },
     "metadata": {
      "needs_background": "light"
     },
     "output_type": "display_data"
    }
   ],
   "source": [
    "plt.plot(range(len(train_loss)),train_loss,label = \"train_loss\")\n",
    "plt.plot(range(len(test_loss)),test_loss,label = \"test_loss\")\n",
    "plt.legend()"
   ]
  },
  {
   "cell_type": "code",
   "execution_count": 29,
   "id": "bfd130ae",
   "metadata": {},
   "outputs": [
    {
     "data": {
      "text/plain": [
       "<matplotlib.legend.Legend at 0x1e5fdeaedf0>"
      ]
     },
     "execution_count": 29,
     "metadata": {},
     "output_type": "execute_result"
    },
    {
     "data": {
      "image/png": "[encoded data removed]",
      "text/plain": [
       "<Figure size 432x288 with 1 Axes>"
      ]
     },
     "metadata": {
      "needs_background": "light"
     },
     "output_type": "display_data"
    }
   ],
   "source": [
    "plt.plot(range(len(train_acc)), train_acc, label='train_acc')\n",
    "plt.plot(range(len(test_acc)), test_acc, label='test_acc')\n",
    "plt.legend()"
   ]
  }
 ],
 "metadata": {
  "kernelspec": {
   "display_name": "Python 3 (ipykernel)",
   "language": "python",
   "name": "python3"
  },
  "language_info": {
   "codemirror_mode": {
    "name": "ipython",
    "version": 3
   },
   "file_extension": ".py",
   "mimetype": "text/x-python",
   "name": "python",
   "nbconvert_exporter": "python",
   "pygments_lexer": "ipython3",
   "version": "3.8.12"
  }
 },
 "nbformat": 4,
 "nbformat_minor": 5
}
