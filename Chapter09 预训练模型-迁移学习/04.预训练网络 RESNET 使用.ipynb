{
 "cells": [
  {
   "cell_type": "code",
   "execution_count": 1,
   "id": "e1444103",
   "metadata": {},
   "outputs": [],
   "source": [
    "import torch\n",
    "import torch.nn as nn\n",
    "import torch.nn.functional as F\n",
    "import torch.optim as optim\n",
    "import numpy as np\n",
    "import torchvision\n",
    "import os\n",
    "import shutil\n",
    "import matplotlib.pyplot as plt\n",
    "from   torchvision import transforms\n",
    "%matplotlib inline"
   ]
  },
  {
   "cell_type": "markdown",
   "id": "a3a6b65f",
   "metadata": {},
   "source": [
    "##### 读取数据集"
   ]
  },
  {
   "cell_type": "code",
   "execution_count": 2,
   "id": "b8cd7555",
   "metadata": {},
   "outputs": [],
   "source": [
    "base_dir = r'./data/FourWeather/'\n",
    "train_dir= os.path.join(base_dir,\"train\")\n",
    "test_dir = os.path.join(base_dir,\"test\")"
   ]
  },
  {
   "cell_type": "code",
   "execution_count": 3,
   "id": "4557aea2",
   "metadata": {},
   "outputs": [],
   "source": [
    "train_transform = transforms.Compose([                                # 将图片在输入管道上做出一定变化，完成数据增强\n",
    "    transforms.Resize(224),    \n",
    "    transforms.RandomCrop(192),           \n",
    "    transforms.RandomHorizontalFlip(),\n",
    "    transforms.RandomRotation(0.2),\n",
    "    transforms.ColorJitter(brightness=0.5),\n",
    "    transforms.ColorJitter(contrast=0.5),\n",
    "    transforms.ToTensor(),\n",
    "    transforms.Normalize(mean=[0.5,0.5,0.5],std=[0.5,0.5,0.5])\n",
    "])\n",
    "\n",
    "test_transform  = transforms.Compose([\n",
    "    transforms.Resize((192,192)),\n",
    "    transforms.ToTensor(),\n",
    "    transforms.Normalize(mean=[0.5,0.5,0.5],std=[0.5,0.5,0.5])\n",
    "])"
   ]
  },
  {
   "cell_type": "code",
   "execution_count": 4,
   "id": "0db0771b",
   "metadata": {},
   "outputs": [],
   "source": [
    "BATCH_SIZE = 8"
   ]
  },
  {
   "cell_type": "code",
   "execution_count": 5,
   "id": "5ad578de",
   "metadata": {},
   "outputs": [],
   "source": [
    "train_ds = torchvision.datasets.ImageFolder(\n",
    "    os.path.join(base_dir,\"train\"),\n",
    "    transform = train_transform\n",
    ")\n",
    "\n",
    "test_ds  = torchvision.datasets.ImageFolder(\n",
    "    os.path.join(base_dir,\"test\"),\n",
    "    transform = test_transform\n",
    ")\n",
    "\n",
    "train_dl = torch.utils.data.DataLoader(train_ds,batch_size=BATCH_SIZE,shuffle=True)\n",
    "test_dl  = torch.utils.data.DataLoader(test_ds,batch_size=BATCH_SIZE,shuffle=True)"
   ]
  },
  {
   "cell_type": "code",
   "execution_count": 6,
   "id": "59753bd9",
   "metadata": {},
   "outputs": [],
   "source": [
    "class_to_id = train_ds.class_to_idx\n",
    "id_to_class = dict((v,k) for k,v in train_ds.class_to_idx.items())"
   ]
  },
  {
   "cell_type": "markdown",
   "id": "92d27b6f",
   "metadata": {},
   "source": [
    "##### 创建模型"
   ]
  },
  {
   "cell_type": "code",
   "execution_count": 7,
   "id": "e93587d9",
   "metadata": {
    "scrolled": true
   },
   "outputs": [
    {
     "name": "stderr",
     "output_type": "stream",
     "text": [
      "Downloading: \"https://download.pytorch.org/models/resnet18-5c106cde.pth\" to C:\\Users\\20613/.cache\\torch\\hub\\checkpoints\\resnet18-5c106cde.pth\n"
     ]
    },
    {
     "data": {
      "application/vnd.jupyter.widget-view+json": {
       "model_id": "e193689c0fc84561a41cb64bcffdf011",
       "version_major": 2,
       "version_minor": 0
      },
      "text/plain": [
       "  0%|          | 0.00/44.7M [00:00<?, ?B/s]"
      ]
     },
     "metadata": {},
     "output_type": "display_data"
    }
   ],
   "source": [
    "model = torchvision.models.resnet18(pretrained=True)"
   ]
  },
  {
   "cell_type": "markdown",
   "id": "a4db1427",
   "metadata": {},
   "source": [
    "###### 修改预训练模型"
   ]
  },
  {
   "cell_type": "code",
   "execution_count": 8,
   "id": "1086f724",
   "metadata": {},
   "outputs": [],
   "source": [
    "for param in model.parameters():\n",
    "    param.requires_grad = False\n",
    "\n",
    "in_fc    = model.fc.in_features                                       #保存最后一层的输入 修改输出层数\n",
    "model.fc = nn.Linear(in_fc,4)                                         #为原有模型重建神经网络层之间的映射关系"
   ]
  },
  {
   "cell_type": "markdown",
   "id": "7abf924c",
   "metadata": {},
   "source": [
    "###### 迁移训练模型到GPU并定义优化/损失函数"
   ]
  },
  {
   "cell_type": "code",
   "execution_count": 9,
   "id": "e5f766a0",
   "metadata": {},
   "outputs": [],
   "source": [
    "model   = model.to(\"cuda\")\n",
    "optim   = torch.optim.Adam(model.fc.parameters(),lr=0.001)            #这里需要优化的仅仅是最后认为修改并定义的参数\n",
    "epoches = 20\n",
    "loss_fn = nn.CrossEntropyLoss()"
   ]
  },
  {
   "cell_type": "markdown",
   "id": "07df6171",
   "metadata": {},
   "source": [
    "###### 定义fit函数"
   ]
  },
  {
   "cell_type": "code",
   "execution_count": 10,
   "id": "c0e10298",
   "metadata": {},
   "outputs": [],
   "source": [
    "def fit(model,trainloader,testloader,epoch):\n",
    "    correct = 0       # 记录正确率\n",
    "    total   = 0       # 记录训练样本总数量\n",
    "    running_loss = 0\n",
    "    \n",
    "    model.train()     # 设置为训练模式 表示DropOut会起作用\n",
    "    \n",
    "    for x,y in trainloader:\n",
    "        x,y    = x.to(\"cuda\"),y.to(\"cuda\")\n",
    "        y_pred = model(x)\n",
    "        loss   = loss_fn(y_pred,y)\n",
    "        optim.zero_grad()\n",
    "        loss.backward()\n",
    "        optim.step()\n",
    "        with torch.no_grad():\n",
    "            y_pred = torch.argmax(y_pred,dim=1)\n",
    "            correct+=(y_pred == y).sum().item()\n",
    "            total  += y.size(0)\n",
    "            running_loss += loss.item()\n",
    "    \n",
    "    epoch_loss = running_loss / len(trainloader.dataset) # 得到每一个样本在本epoch下的平均loss\n",
    "    epoch_acc  = correct / total                         # 得到整个样本的平均预测正确率\n",
    "    \n",
    "    test_correct      = 0        # 记录正确率\n",
    "    test_total        = 0        # 记录训练样本总数量\n",
    "    test_running_loss = 0\n",
    "    \n",
    "    model.eval()                 # 将模型修改为预测模式 表示DropOut失效 注意在验证数据集上不需要进行Dropout\n",
    "    \n",
    "    with torch.no_grad():\n",
    "        for x,y in testloader:\n",
    "            x,y    = x.to(\"cuda\"),y.to(\"cuda\")\n",
    "            y_pred = model(x)\n",
    "            loss   = loss_fn(y_pred,y)\n",
    "            y_pred = torch.argmax(y_pred,dim=1)\n",
    "            test_correct+=(y_pred == y).sum().item()\n",
    "            test_total  += y.size(0)\n",
    "            test_running_loss += loss.item()\n",
    "    \n",
    "    epoch_test_loss = test_running_loss / len(testloader.dataset) # 得到每一个样本在本epoch下的平均loss\n",
    "    epoch_test_acc  = test_correct / test_total                   # 得到整个样本的平均预测正确率\n",
    "    \n",
    "    print(\n",
    "            \"epoch:\",\"\\t\",epoch,\"\\t\",\n",
    "            \"loss: \",\"\\t\",round(epoch_loss,3),\"\\t\",\n",
    "            \"accuracy: \",\"\\t\",round(epoch_acc,3),\"\\t\",\n",
    "            \"test_loss: \",\"\\t\",round(epoch_test_loss,3),\"\\t\",\n",
    "            \"test_accuracy: \",\"\\t\",round(epoch_test_acc,3),\"\\t\"\n",
    "        )\n",
    "    return epoch_loss,epoch_acc,epoch_test_loss,epoch_test_acc"
   ]
  },
  {
   "cell_type": "code",
   "execution_count": 11,
   "id": "d4027e40",
   "metadata": {},
   "outputs": [],
   "source": [
    "train_loss = []\n",
    "train_acc  = []\n",
    "test_loss  = []\n",
    "test_acc   = []"
   ]
  },
  {
   "cell_type": "markdown",
   "id": "092a85b0",
   "metadata": {},
   "source": [
    "##### 训练模型"
   ]
  },
  {
   "cell_type": "code",
   "execution_count": 12,
   "id": "e00282bf",
   "metadata": {},
   "outputs": [
    {
     "name": "stdout",
     "output_type": "stream",
     "text": [
      "epoch: \t 0 \t loss:  \t 0.113 \t accuracy:  \t 0.633 \t test_loss:  \t 0.055 \t test_accuracy:  \t 0.884 \t\n",
      "epoch: \t 1 \t loss:  \t 0.068 \t accuracy:  \t 0.832 \t test_loss:  \t 0.037 \t test_accuracy:  \t 0.929 \t\n",
      "epoch: \t 2 \t loss:  \t 0.059 \t accuracy:  \t 0.847 \t test_loss:  \t 0.031 \t test_accuracy:  \t 0.924 \t\n",
      "epoch: \t 3 \t loss:  \t 0.052 \t accuracy:  \t 0.85 \t test_loss:  \t 0.025 \t test_accuracy:  \t 0.964 \t\n",
      "epoch: \t 4 \t loss:  \t 0.049 \t accuracy:  \t 0.87 \t test_loss:  \t 0.027 \t test_accuracy:  \t 0.938 \t\n",
      "epoch: \t 5 \t loss:  \t 0.045 \t accuracy:  \t 0.876 \t test_loss:  \t 0.023 \t test_accuracy:  \t 0.956 \t\n",
      "epoch: \t 6 \t loss:  \t 0.043 \t accuracy:  \t 0.882 \t test_loss:  \t 0.027 \t test_accuracy:  \t 0.929 \t\n",
      "epoch: \t 7 \t loss:  \t 0.044 \t accuracy:  \t 0.878 \t test_loss:  \t 0.018 \t test_accuracy:  \t 0.956 \t\n",
      "epoch: \t 8 \t loss:  \t 0.04 \t accuracy:  \t 0.898 \t test_loss:  \t 0.018 \t test_accuracy:  \t 0.96 \t\n",
      "epoch: \t 9 \t loss:  \t 0.035 \t accuracy:  \t 0.908 \t test_loss:  \t 0.017 \t test_accuracy:  \t 0.951 \t\n",
      "epoch: \t 10 \t loss:  \t 0.042 \t accuracy:  \t 0.871 \t test_loss:  \t 0.016 \t test_accuracy:  \t 0.96 \t\n",
      "epoch: \t 11 \t loss:  \t 0.034 \t accuracy:  \t 0.9 \t test_loss:  \t 0.014 \t test_accuracy:  \t 0.96 \t\n",
      "epoch: \t 12 \t loss:  \t 0.047 \t accuracy:  \t 0.858 \t test_loss:  \t 0.018 \t test_accuracy:  \t 0.96 \t\n",
      "epoch: \t 13 \t loss:  \t 0.037 \t accuracy:  \t 0.89 \t test_loss:  \t 0.016 \t test_accuracy:  \t 0.951 \t\n",
      "epoch: \t 14 \t loss:  \t 0.038 \t accuracy:  \t 0.881 \t test_loss:  \t 0.017 \t test_accuracy:  \t 0.956 \t\n",
      "epoch: \t 15 \t loss:  \t 0.033 \t accuracy:  \t 0.916 \t test_loss:  \t 0.015 \t test_accuracy:  \t 0.964 \t\n",
      "epoch: \t 16 \t loss:  \t 0.029 \t accuracy:  \t 0.924 \t test_loss:  \t 0.016 \t test_accuracy:  \t 0.964 \t\n",
      "epoch: \t 17 \t loss:  \t 0.039 \t accuracy:  \t 0.878 \t test_loss:  \t 0.018 \t test_accuracy:  \t 0.96 \t\n",
      "epoch: \t 18 \t loss:  \t 0.046 \t accuracy:  \t 0.867 \t test_loss:  \t 0.013 \t test_accuracy:  \t 0.96 \t\n",
      "epoch: \t 19 \t loss:  \t 0.039 \t accuracy:  \t 0.882 \t test_loss:  \t 0.014 \t test_accuracy:  \t 0.956 \t\n"
     ]
    }
   ],
   "source": [
    "for epoch in range(epoches):\n",
    "    epoch_loss,epoch_acc,epoch_test_loss,epoch_test_acc = fit(model,train_dl,test_dl,epoch)\n",
    "    train_loss.append(epoch_loss)\n",
    "    train_acc.append(epoch_acc)\n",
    "    test_loss.append(epoch_test_loss)\n",
    "    test_acc.append(epoch_test_acc)"
   ]
  },
  {
   "cell_type": "code",
   "execution_count": 13,
   "id": "313a9779",
   "metadata": {},
   "outputs": [
    {
     "data": {
      "text/plain": [
       "<matplotlib.legend.Legend at 0x1af781add90>"
      ]
     },
     "execution_count": 13,
     "metadata": {},
     "output_type": "execute_result"
    },
    {
     "data": {
      "image/png": "[encoded data removed]",
      "text/plain": [
       "<Figure size 432x288 with 1 Axes>"
      ]
     },
     "metadata": {
      "needs_background": "light"
     },
     "output_type": "display_data"
    }
   ],
   "source": [
    "plt.plot(range(1,epoches+1),train_loss,label = \"train_loss\")\n",
    "plt.plot(range(1,epoches+1),test_loss,label = \"test_loss\")\n",
    "plt.legend()"
   ]
  },
  {
   "cell_type": "code",
   "execution_count": 14,
   "id": "842eea99",
   "metadata": {},
   "outputs": [
    {
     "data": {
      "text/plain": [
       "<matplotlib.legend.Legend at 0x1af78299a60>"
      ]
     },
     "execution_count": 14,
     "metadata": {},
     "output_type": "execute_result"
    },
    {
     "data": {
      "image/png": "[encoded data removed]",
      "text/plain": [
       "<Figure size 432x288 with 1 Axes>"
      ]
     },
     "metadata": {
      "needs_background": "light"
     },
     "output_type": "display_data"
    }
   ],
   "source": [
    "plt.plot(range(1, epoches+1), train_acc, label='train_acc')\n",
    "plt.plot(range(1, epoches+1), test_acc, label='test_acc')\n",
    "plt.legend()"
   ]
  },
  {
   "cell_type": "code",
   "execution_count": null,
   "id": "10616d46",
   "metadata": {},
   "outputs": [],
   "source": []
  }
 ],
 "metadata": {
  "kernelspec": {
   "display_name": "Python 3 (ipykernel)",
   "language": "python",
   "name": "python3"
  },
  "language_info": {
   "codemirror_mode": {
    "name": "ipython",
    "version": 3
   },
   "file_extension": ".py",
   "mimetype": "text/x-python",
   "name": "python",
   "nbconvert_exporter": "python",
   "pygments_lexer": "ipython3",
   "version": "3.8.12"
  }
 },
 "nbformat": 4,
 "nbformat_minor": 5
}
