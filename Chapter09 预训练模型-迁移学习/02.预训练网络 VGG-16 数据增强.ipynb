{
 "cells": [
  {
   "cell_type": "code",
   "execution_count": null,
   "id": "b530d3f4",
   "metadata": {},
   "outputs": [],
   "source": [
    "import torch\n",
    "import torch.nn as nn\n",
    "import torch.nn.functional as F\n",
    "import torch.optim as optim\n",
    "import numpy as np\n",
    "import torchvision\n",
    "import os\n",
    "import shutil\n",
    "import matplotlib.pyplot as plt\n",
    "from   torchvision import transforms\n",
    "%matplotlib inline"
   ]
  },
  {
   "cell_type": "markdown",
   "id": "23da9000",
   "metadata": {},
   "source": [
    "##### 读取数据集"
   ]
  },
  {
   "cell_type": "code",
   "execution_count": null,
   "id": "1b41be75",
   "metadata": {},
   "outputs": [],
   "source": [
    "base_dir = r'./data/FourWeather/'\n",
    "train_dir= os.path.join(base_dir,\"train\")\n",
    "test_dir = os.path.join(base_dir,\"test\")"
   ]
  },
  {
   "cell_type": "raw",
   "id": "bcfb5e04",
   "metadata": {},
   "source": [
    "数据增强方法\n",
    "transforms.RandomCrop                   随机位置裁剪\n",
    "transforms.CenterCrop                   中心位置裁剪\n",
    "transforms.RandomHorizontalFlip(p=1)    随机水平翻转\n",
    "transforms.RandomVerticalFlip(p=1)      随机上下翻转\n",
    "transforms.RandomRotation               随机旋转图片\n",
    "transforms.ColorJitter(brighteness=1)   修改亮度\n",
    "transforms.ColorJitter(contrast=1)      修改对比度\n",
    "transforms.ColorJitter(saturation=0.5)  修改饱和度\n",
    "transforms.ColorJitter(hue=0.5)         修改色彩\n",
    "transforms.RandomGreyscale(p=0.5)       随机灰度化"
   ]
  },
  {
   "cell_type": "code",
   "execution_count": null,
   "id": "c2488cbf",
   "metadata": {},
   "outputs": [],
   "source": [
    "train_transform = transforms.Compose([                                # 将图片在输入管道上做出一定变化，完成数据增强\n",
    "    transforms.Resize(224),    \n",
    "    transforms.RandomCrop(192),           \n",
    "    transforms.RandomHorizontalFlip(),\n",
    "    transforms.RandomRotation(0.2),\n",
    "    transforms.ColorJitter(brightness=0.5),\n",
    "    transforms.ColorJitter(contrast=0.5),\n",
    "    transforms.ToTensor(),\n",
    "    transforms.Normalize(mean=[0.5,0.5,0.5],std=[0.5,0.5,0.5])\n",
    "    \n",
    "])\n",
    "\n",
    "test_transform  = transforms.Compose([\n",
    "    transforms.Resize((192,192)),\n",
    "    transforms.ToTensor(),\n",
    "    transforms.Normalize(mean=[0.5,0.5,0.5],std=[0.5,0.5,0.5])\n",
    "])"
   ]
  },
  {
   "cell_type": "code",
   "execution_count": null,
   "id": "8d5d41aa",
   "metadata": {},
   "outputs": [],
   "source": [
    "BATCH_SIZE = 8"
   ]
  },
  {
   "cell_type": "code",
   "execution_count": null,
   "id": "8cc5cea7",
   "metadata": {},
   "outputs": [],
   "source": [
    "train_ds = torchvision.datasets.ImageFolder(\n",
    "    os.path.join(base_dir,\"train\"),\n",
    "    transform = train_transform\n",
    ")\n",
    "\n",
    "test_ds  = torchvision.datasets.ImageFolder(\n",
    "    os.path.join(base_dir,\"test\"),\n",
    "    transform = test_transform\n",
    ")\n",
    "\n",
    "train_dl = torch.utils.data.DataLoader(train_ds,batch_size=BATCH_SIZE,shuffle=True)\n",
    "test_dl  = torch.utils.data.DataLoader(test_ds,batch_size=BATCH_SIZE,shuffle=True)"
   ]
  },
  {
   "cell_type": "code",
   "execution_count": null,
   "id": "f4e287f4",
   "metadata": {},
   "outputs": [],
   "source": [
    "class_to_id = train_ds.class_to_idx\n",
    "id_to_class = dict((v,k) for k,v in train_ds.class_to_idx.items())"
   ]
  },
  {
   "cell_type": "markdown",
   "id": "744cac9f",
   "metadata": {},
   "source": [
    "##### 定义模型"
   ]
  },
  {
   "cell_type": "code",
   "execution_count": null,
   "id": "a03e781a",
   "metadata": {},
   "outputs": [],
   "source": [
    "model = torchvision.models.vgg16(pretrained=True) "
   ]
  },
  {
   "cell_type": "code",
   "execution_count": null,
   "id": "3f701b2a",
   "metadata": {},
   "outputs": [],
   "source": [
    "for p in model.features.parameters():\n",
    "    p.requirs_grad = False                        # 设置卷积层里面的参数不再参与梯度下降与更新"
   ]
  },
  {
   "cell_type": "code",
   "execution_count": null,
   "id": "700dacb7",
   "metadata": {},
   "outputs": [],
   "source": [
    "optim     = torch.optim.Adam(model.parameters(),lr=0.0001)\n",
    "loss_fn   = nn.CrossEntropyLoss()\n",
    "epoches   = 20\n",
    "model.classifier[-1].out_features = 4             # 将输出分类数修改为目标数量 (本例为4)"
   ]
  },
  {
   "cell_type": "code",
   "execution_count": null,
   "id": "08c7631c",
   "metadata": {},
   "outputs": [],
   "source": [
    "train_loss = []\n",
    "train_acc  = []\n",
    "test_loss  = []\n",
    "test_acc   = []"
   ]
  },
  {
   "cell_type": "markdown",
   "id": "45129548",
   "metadata": {},
   "source": [
    "##### 定义fit函数"
   ]
  },
  {
   "cell_type": "code",
   "execution_count": null,
   "id": "d84523d3",
   "metadata": {},
   "outputs": [],
   "source": [
    "def fit(model,trainloader,testloader,epoch):\n",
    "    correct = 0       # 记录正确率\n",
    "    total   = 0       # 记录训练样本总数量\n",
    "    running_loss = 0\n",
    "    \n",
    "    model.train()     # 设置为训练模式 表示DropOut会起作用\n",
    "    \n",
    "    for x,y in trainloader:\n",
    "        y_pred = model(x)\n",
    "        loss   = loss_fn(y_pred,y)\n",
    "        optim.zero_grad()\n",
    "        loss.backward()\n",
    "        optim.step()\n",
    "        with torch.no_grad():\n",
    "            y_pred = torch.argmax(y_pred,dim=1)\n",
    "            correct+=(y_pred == y).sum().item()\n",
    "            total  += y.size(0)\n",
    "            running_loss += loss.item()\n",
    "    \n",
    "    epoch_loss = running_loss / len(trainloader.dataset) # 得到每一个样本在本epoch下的平均loss\n",
    "    epoch_acc  = correct / total # 得到整个样本的平均预测正确率\n",
    "    \n",
    "    test_correct      = 0        # 记录正确率\n",
    "    test_total        = 0        # 记录训练样本总数量\n",
    "    test_running_loss = 0\n",
    "    \n",
    "    model.eval()                 # 将模型修改为预测模式 表示DropOut失效 注意在验证数据集上不需要进行Dropout\n",
    "    \n",
    "    with torch.no_grad():\n",
    "        for x,y in trainloader:\n",
    "            y_pred = model(x)\n",
    "            loss   = loss_fn(y_pred,y)\n",
    "            y_pred = torch.argmax(y_pred,dim=1)\n",
    "            test_correct+=(y_pred == y).sum().item()\n",
    "            test_total  += y.size(0)\n",
    "            test_running_loss += loss.item()\n",
    "    \n",
    "    epoch_test_loss = test_running_loss / len(testloader.dataset) # 得到每一个样本在本epoch下的平均loss\n",
    "    epoch_test_acc  = test_correct / test_total                   # 得到整个样本的平均预测正确率\n",
    "    \n",
    "    print(\n",
    "            \"epoch:\",\"\\t\",epoch,\"\\t\",\n",
    "            \"loss: \",\"\\t\",round(epoch_loss,3),\"\\t\",\n",
    "            \"accuracy: \",\"\\t\",round(epoch_acc,3),\"\\t\",\n",
    "            \"test_loss: \",\"\\t\",round(epoch_test_loss,3),\"\\t\",\n",
    "            \"test_accuracy: \",\"\\t\",round(epoch_test_acc,3),\"\\t\"\n",
    "        )\n",
    "    return epoch_loss,epoch_acc,epoch_test_loss,epoch_test_acc"
   ]
  },
  {
   "cell_type": "markdown",
   "id": "ca990846",
   "metadata": {},
   "source": [
    "##### 训练模型"
   ]
  },
  {
   "cell_type": "code",
   "execution_count": null,
   "id": "3a209833",
   "metadata": {},
   "outputs": [],
   "source": [
    "for epoch in range(epoches):\n",
    "    epoch_loss,epoch_acc,epoch_test_loss,epoch_test_acc = fit(model,train_dl,test_dl,epoch)\n",
    "    train_loss.append(epoch_loss)\n",
    "    train_acc.append(epoch_acc)\n",
    "    test_loss.append(epoch_test_loss)\n",
    "    test_acc.append(epoch_test_acc)"
   ]
  },
  {
   "cell_type": "code",
   "execution_count": null,
   "id": "95d8670e",
   "metadata": {},
   "outputs": [],
   "source": [
    "plt.plot(range(1,epoches+1),train_loss,label = \"train_loss\")\n",
    "plt.plot(range(1,epoches+1),test_loss,label = \"test_loss\")\n",
    "plt.legend()"
   ]
  },
  {
   "cell_type": "code",
   "execution_count": null,
   "id": "245e8434",
   "metadata": {},
   "outputs": [],
   "source": [
    "plt.plot(range(1, epoches+1), train_acc, label='train_acc')\n",
    "plt.plot(range(1, epoches+1), test_acc, label='test_acc')\n",
    "plt.legend()"
   ]
  }
 ],
 "metadata": {
  "kernelspec": {
   "display_name": "Python 3",
   "language": "python",
   "name": "python3"
  },
  "language_info": {
   "codemirror_mode": {
    "name": "ipython",
    "version": 3
   },
   "file_extension": ".py",
   "mimetype": "text/x-python",
   "name": "python",
   "nbconvert_exporter": "python",
   "pygments_lexer": "ipython3",
   "version": "3.8.10"
  }
 },
 "nbformat": 4,
 "nbformat_minor": 5
}
