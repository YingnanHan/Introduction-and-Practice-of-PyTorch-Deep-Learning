{
 "cells": [
  {
   "cell_type": "code",
   "execution_count": 1,
   "id": "4636eb00",
   "metadata": {},
   "outputs": [],
   "source": [
    "from torch.utils.tensorboard import SummaryWriter"
   ]
  },
  {
   "cell_type": "code",
   "execution_count": 2,
   "id": "6aa84cc6",
   "metadata": {},
   "outputs": [],
   "source": [
    "# 在 C:\\Users\\20613\\Desktop\\01.PyTorch深度学习入门与实践\\Chapter20  Tensorboard可视化> 目录下执行命令 tensorboard --logdir=runs\n",
    "# 即可看到欲可视化的图像"
   ]
  },
  {
   "cell_type": "code",
   "execution_count": 3,
   "id": "2f56c337",
   "metadata": {},
   "outputs": [],
   "source": [
    "writer = SummaryWriter('runs/scalar_example')\n",
    "for i in range(10):\n",
    "    writer.add_scalar('quadratic', i**2, global_step=i)\n",
    "    writer.add_scalar('exponential', 2**i, global_step=i)"
   ]
  }
 ],
 "metadata": {
  "kernelspec": {
   "display_name": "Python 3 (ipykernel)",
   "language": "python",
   "name": "python3"
  },
  "language_info": {
   "codemirror_mode": {
    "name": "ipython",
    "version": 3
   },
   "file_extension": ".py",
   "mimetype": "text/x-python",
   "name": "python",
   "nbconvert_exporter": "python",
   "pygments_lexer": "ipython3",
   "version": "3.8.12"
  }
 },
 "nbformat": 4,
 "nbformat_minor": 5
}
