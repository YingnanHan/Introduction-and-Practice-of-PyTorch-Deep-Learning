{
 "cells": [
  {
   "cell_type": "code",
   "execution_count": 1,
   "id": "2983e975",
   "metadata": {},
   "outputs": [],
   "source": [
    "import torch\n",
    "import torch.nn as nn\n",
    "import torch.nn.functional as F\n",
    "import torch.optim as optim\n",
    "import numpy as np\n",
    "import matplotlib.pyplot as plt\n",
    "import torchvision\n",
    "from   torchvision import datasets\n",
    "from   torchvision import transforms\n",
    "%matplotlib inline"
   ]
  },
  {
   "cell_type": "markdown",
   "id": "5eeeda39",
   "metadata": {},
   "source": [
    "#### 准备数据"
   ]
  },
  {
   "cell_type": "code",
   "execution_count": 2,
   "id": "c27b3c8a",
   "metadata": {},
   "outputs": [],
   "source": [
    "transformation = transforms.Compose([ \n",
    "    transforms.ToTensor(),\n",
    "])"
   ]
  },
  {
   "cell_type": "code",
   "execution_count": 3,
   "id": "11c940f4",
   "metadata": {},
   "outputs": [],
   "source": [
    "device = torch.device(\"cuda:0\" if torch.cuda.is_available() else \"cpu\")"
   ]
  },
  {
   "cell_type": "code",
   "execution_count": 4,
   "id": "66460f6e",
   "metadata": {},
   "outputs": [
    {
     "name": "stdout",
     "output_type": "stream",
     "text": [
      "Downloading http://yann.lecun.com/exdb/mnist/train-images-idx3-ubyte.gz\n",
      "Downloading http://yann.lecun.com/exdb/mnist/train-images-idx3-ubyte.gz to data/MNIST\\raw\\train-images-idx3-ubyte.gz\n"
     ]
    },
    {
     "data": {
      "application/vnd.jupyter.widget-view+json": {
       "model_id": "0cadd59d671c4f68971e6c5f97a25c2e",
       "version_major": 2,
       "version_minor": 0
      },
      "text/plain": [
       "  0%|          | 0/9912422 [00:00<?, ?it/s]"
      ]
     },
     "metadata": {},
     "output_type": "display_data"
    },
    {
     "name": "stdout",
     "output_type": "stream",
     "text": [
      "Extracting data/MNIST\\raw\\train-images-idx3-ubyte.gz to data/MNIST\\raw\n",
      "\n",
      "Downloading http://yann.lecun.com/exdb/mnist/train-labels-idx1-ubyte.gz\n",
      "Downloading http://yann.lecun.com/exdb/mnist/train-labels-idx1-ubyte.gz to data/MNIST\\raw\\train-labels-idx1-ubyte.gz\n"
     ]
    },
    {
     "data": {
      "application/vnd.jupyter.widget-view+json": {
       "model_id": "324098edfe0c48ce98a84806ceb7a6fa",
       "version_major": 2,
       "version_minor": 0
      },
      "text/plain": [
       "  0%|          | 0/28881 [00:00<?, ?it/s]"
      ]
     },
     "metadata": {},
     "output_type": "display_data"
    },
    {
     "name": "stdout",
     "output_type": "stream",
     "text": [
      "Extracting data/MNIST\\raw\\train-labels-idx1-ubyte.gz to data/MNIST\\raw\n",
      "\n",
      "Downloading http://yann.lecun.com/exdb/mnist/t10k-images-idx3-ubyte.gz\n",
      "Downloading http://yann.lecun.com/exdb/mnist/t10k-images-idx3-ubyte.gz to data/MNIST\\raw\\t10k-images-idx3-ubyte.gz\n"
     ]
    },
    {
     "data": {
      "application/vnd.jupyter.widget-view+json": {
       "model_id": "9a3b0c2d4a1c4538b023136b176106ca",
       "version_major": 2,
       "version_minor": 0
      },
      "text/plain": [
       "  0%|          | 0/1648877 [00:00<?, ?it/s]"
      ]
     },
     "metadata": {},
     "output_type": "display_data"
    },
    {
     "name": "stdout",
     "output_type": "stream",
     "text": [
      "Extracting data/MNIST\\raw\\t10k-images-idx3-ubyte.gz to data/MNIST\\raw\n",
      "\n",
      "Downloading http://yann.lecun.com/exdb/mnist/t10k-labels-idx1-ubyte.gz\n",
      "Downloading http://yann.lecun.com/exdb/mnist/t10k-labels-idx1-ubyte.gz to data/MNIST\\raw\\t10k-labels-idx1-ubyte.gz\n"
     ]
    },
    {
     "data": {
      "application/vnd.jupyter.widget-view+json": {
       "model_id": "5cabc1a1a5ba44c9a710547ada2a7d3e",
       "version_major": 2,
       "version_minor": 0
      },
      "text/plain": [
       "  0%|          | 0/4542 [00:00<?, ?it/s]"
      ]
     },
     "metadata": {},
     "output_type": "display_data"
    },
    {
     "name": "stdout",
     "output_type": "stream",
     "text": [
      "Extracting data/MNIST\\raw\\t10k-labels-idx1-ubyte.gz to data/MNIST\\raw\n",
      "\n"
     ]
    }
   ],
   "source": [
    "# 创建Dataset\n",
    "train_ds = datasets.MNIST(\n",
    "                          \"data/\",                   # 将数据集下载，并存储到指定目录\n",
    "                          train = True,              # 设定本数据集是否作为训练数据\n",
    "                          transform = transformation,# 设定数据集需要做何种变换\n",
    "                          download = True            # 是否将数据及下载到本地\n",
    "                         )                           # 得到手写数字识别数据集MNIST\n",
    "test_ds = datasets.MNIST(\n",
    "                         \"data/\",\n",
    "                         train = False,\n",
    "                         transform = transformation,\n",
    "                         download = True\n",
    "                        )"
   ]
  },
  {
   "cell_type": "code",
   "execution_count": 5,
   "id": "80e09daa",
   "metadata": {},
   "outputs": [],
   "source": [
    "# 创建DataLoader\n",
    "train_dl = torch.utils.data.DataLoader(train_ds,batch_size = 64,shuffle = True)\n",
    "test_dl  = torch.utils.data.DataLoader(test_ds,batch_size = 256,shuffle = False)"
   ]
  },
  {
   "cell_type": "markdown",
   "id": "76f1e6bd",
   "metadata": {},
   "source": [
    "##### 使用Numpy进行数据可视化"
   ]
  },
  {
   "cell_type": "code",
   "execution_count": 6,
   "id": "0a03d00d",
   "metadata": {},
   "outputs": [],
   "source": [
    "# 查看数据\n",
    "imgs,label = next(iter(train_dl))"
   ]
  },
  {
   "cell_type": "code",
   "execution_count": 7,
   "id": "b47b22a9",
   "metadata": {},
   "outputs": [
    {
     "data": {
      "text/plain": [
       "torch.Size([64, 1, 28, 28])"
      ]
     },
     "execution_count": 7,
     "metadata": {},
     "output_type": "execute_result"
    }
   ],
   "source": [
    "imgs.shape                                           # 批量图像的数字形式格式为[图像数量,通道数,高,宽] 也即 [batch,channel,,height,width]  "
   ]
  },
  {
   "cell_type": "code",
   "execution_count": 8,
   "id": "a863de5e",
   "metadata": {},
   "outputs": [
    {
     "name": "stdout",
     "output_type": "stream",
     "text": [
      "tensor(1)\n"
     ]
    },
    {
     "data": {
      "image/png": "[encoded data removed]",
      "text/plain": [
       "<Figure size 432x288 with 1 Axes>"
      ]
     },
     "metadata": {
      "needs_background": "light"
     },
     "output_type": "display_data"
    }
   ],
   "source": [
    "img = imgs[0]                                        # 取出一张图片数据 并进行图形化展示\n",
    "img = img.numpy()                                    # 将图像从torch转化为numpy\n",
    "img = np.squeeze(img)                                # 将多余的通道方向上的维度去掉\n",
    "plt.imshow(img)                                      # 绘制图像\n",
    "print(label[0])                                      # 输出改图项的正确标签"
   ]
  },
  {
   "cell_type": "code",
   "execution_count": 9,
   "id": "3deae400",
   "metadata": {},
   "outputs": [],
   "source": [
    "# 自定义绘图函数\n",
    "def imshow(img):\n",
    "    npimg = img.numpy()\n",
    "    npimg = np.squeeze(npimg)\n",
    "    plt.imshow(npimg)"
   ]
  },
  {
   "cell_type": "code",
   "execution_count": 10,
   "id": "25bb3a29",
   "metadata": {},
   "outputs": [
    {
     "name": "stdout",
     "output_type": "stream",
     "text": [
      "tensor(1)\n",
      "tensor(0)\n",
      "tensor(9)\n",
      "tensor(6)\n",
      "tensor(6)\n",
      "tensor(5)\n",
      "tensor(7)\n",
      "tensor(0)\n",
      "tensor(9)\n",
      "tensor(7)\n"
     ]
    },
    {
     "data": {
      "image/png": "[encoded data removed]",
      "text/plain": [
       "<Figure size 720x72 with 10 Axes>"
      ]
     },
     "metadata": {
      "needs_background": "light"
     },
     "output_type": "display_data"
    }
   ],
   "source": [
    "# 测试自定义绘图函数\n",
    "plt.figure(figsize=(10,1))                            #自定义10张画布\n",
    "for i,img in enumerate(imgs[:10]):                    #对数据集中的前十张图片\n",
    "    plt.subplot(1,10,i+1)                             #指定在当前迭代到的位置绘制哪一张图片\n",
    "    imshow(img)                                       #绘制图片\n",
    "    print(label[i])                                   #按顺序输出各个图片所对应的标签   "
   ]
  },
  {
   "cell_type": "markdown",
   "id": "3baa0ea7",
   "metadata": {},
   "source": [
    "##### 使用Tensorboard进行图片数据可视化"
   ]
  },
  {
   "cell_type": "markdown",
   "id": "409cf6d7",
   "metadata": {},
   "source": [
    "Tensorboard可视化两步骤:\n",
    "\n",
    "    1.在代码中将需要可视化的数据写入磁盘\n",
    "    2.在命令行中打开tensorboard，并制定指定写入文件的位置，并进行可视化"
   ]
  },
  {
   "cell_type": "code",
   "execution_count": 11,
   "id": "009ec001",
   "metadata": {},
   "outputs": [],
   "source": [
    "from torch.utils.tensorboard import SummaryWriter"
   ]
  },
  {
   "cell_type": "code",
   "execution_count": 12,
   "id": "a65f78a1",
   "metadata": {},
   "outputs": [],
   "source": [
    "'''指定图像内容要写入的磁盘文件位置并定义SummerWriter对象'''\n",
    "writer      = SummaryWriter('my_log/mnist') "
   ]
  },
  {
   "cell_type": "code",
   "execution_count": 13,
   "id": "2ee503fd",
   "metadata": {},
   "outputs": [],
   "source": [
    "'''得到准备显示的图片'''\n",
    "imgs,labels = next(iter(train_dl))"
   ]
  },
  {
   "cell_type": "code",
   "execution_count": 14,
   "id": "36f81b77",
   "metadata": {},
   "outputs": [],
   "source": [
    "'''将得到的图片合并'''\n",
    "img_grid    = torchvision.utils.make_grid(imgs[:8])"
   ]
  },
  {
   "cell_type": "code",
   "execution_count": 15,
   "id": "99e107e9",
   "metadata": {},
   "outputs": [
    {
     "data": {
      "text/plain": [
       "<matplotlib.image.AxesImage at 0x209f052a5b0>"
      ]
     },
     "execution_count": 15,
     "metadata": {},
     "output_type": "execute_result"
    },
    {
     "data": {
      "image/png": "[encoded data removed]",
      "text/plain": [
       "<Figure size 432x288 with 1 Axes>"
      ]
     },
     "metadata": {
      "needs_background": "light"
     },
     "output_type": "display_data"
    }
   ],
   "source": [
    "'''①首先使用matplotlib进行绘图'''\n",
    "npimg       = img_grid.permute(1,2,0)\n",
    "plt.imshow(npimg)"
   ]
  },
  {
   "cell_type": "code",
   "execution_count": 16,
   "id": "a9e9891d",
   "metadata": {},
   "outputs": [],
   "source": [
    "'''②其次使用Tensorboard进行可视化'''\n",
    "'''直接将torchvision截取下来的图片填入writer对象之中'''\n",
    "writer.add_image(\"eight_imgs\",img_grid)"
   ]
  },
  {
   "cell_type": "raw",
   "id": "530f9778",
   "metadata": {},
   "source": [
    "# 查看可视化结果的方法 打开pytorch所在虚拟环境的命令行\n",
    "# 在命令行中输入 tensorboard --logdir=\"C:\\Users\\20613\\Desktop\\02.PyTorch深度学习入门与实践\\Chapter20  Tensorboard可视化\\my_log\"\n",
    "# 其标准格式如下 tensorboard --logdir=\"<SummaryWriter指定目录的上一级目录>\""
   ]
  },
  {
   "cell_type": "code",
   "execution_count": 17,
   "id": "107bbc6c",
   "metadata": {},
   "outputs": [],
   "source": [
    "'''动态显示数据集中的后八张图片的信息'''\n",
    "img_grid    = torchvision.utils.make_grid(imgs[-8:])\n",
    "writer.add_image(\"last_eight_imgs\",img_grid)"
   ]
  },
  {
   "cell_type": "markdown",
   "id": "4d112610",
   "metadata": {},
   "source": [
    "#### 定义模型"
   ]
  },
  {
   "cell_type": "code",
   "execution_count": 18,
   "id": "b9090b7c",
   "metadata": {},
   "outputs": [],
   "source": [
    "class Model(nn.Module):\n",
    "    def __init__(self):\n",
    "        super().__init__()\n",
    "        self.conv_1   = nn.Conv2d(1,6,(5,5)) # 参数 ： 输入图像通道数 输入图像通道数(卷积核的数量) 卷积核大小 默认跨度=1 默认填充=0\n",
    "        self.pool     = nn.MaxPool2d((2,2))  # 最大池化 下采样层 参数 ： 池化核大小\n",
    "        self.conv_2   = nn.Conv2d(6,16,(5,5))# 这里的通道数为上一层的输出层通道数\n",
    "        self.linear_1 = nn.Linear(16*4*4,256)# 16*4*4 是展平之后的长度\n",
    "        self.linear_2 = nn.Linear(256,10)\n",
    "    \n",
    "    def forward(self,input):\n",
    "        x = self.conv_1(input)\n",
    "        x = F.relu(x)\n",
    "        x = self.pool(x)\n",
    "        x = self.conv_2(x)\n",
    "        x = F.relu(x)\n",
    "        x = self.pool(x)\n",
    "        #print(x.size())             # 使用这种方式确定最后的卷积层输出数据的规模\n",
    "        \n",
    "        x = x.view(-1,16*4*4)\n",
    "        x = self.linear_1(x)\n",
    "        x = F.relu(x)\n",
    "        x = self.linear_2(x)\n",
    "        return x                     # 这里不需要使用sigmoid函数进行二分类"
   ]
  },
  {
   "cell_type": "markdown",
   "id": "536e091c",
   "metadata": {},
   "source": [
    "##### 定义fit以及相关变量/函数对象并对loss数据进行可视化显示"
   ]
  },
  {
   "cell_type": "code",
   "execution_count": 19,
   "id": "8df5145f",
   "metadata": {},
   "outputs": [],
   "source": [
    "def fit(model,trainloader,testloader,epoch):\n",
    "    correct = 0       # 记录正确率\n",
    "    total   = 0       # 记录训练样本总数量\n",
    "    running_loss = 0\n",
    "    for x,y in trainloader:\n",
    "        x,y    = x.to(device),y.to(device)\n",
    "        y_pred = model(x)\n",
    "        loss   = loss_fn(y_pred,y)\n",
    "        optim.zero_grad()\n",
    "        loss.backward()\n",
    "        optim.step()\n",
    "        with torch.no_grad():\n",
    "            y_pred = torch.argmax(y_pred,dim=1)\n",
    "            correct+=(y_pred == y).sum().item()\n",
    "            total  += y.size(0)\n",
    "            running_loss += loss.item()\n",
    "    epoch_loss = running_loss / len(trainloader.dataset) # 得到每一个样本在本epoch下的平均loss\n",
    "    epoch_acc  = correct / total # 得到整个样本的平均预测正确率\n",
    "    \n",
    "    '''将标量数据写入writer'''\n",
    "    writer.add_scalar('train_loss',epoch_loss,epoch+1)\n",
    "    \n",
    "    test_correct      = 0       # 记录正确率\n",
    "    test_total        = 0       # 记录训练样本总数量\n",
    "    test_running_loss = 0\n",
    "    with torch.no_grad():\n",
    "        for x,y in trainloader:\n",
    "            x,y    = x.to(device),y.to(device)\n",
    "            y_pred = model(x)\n",
    "            loss   = loss_fn(y_pred,y)\n",
    "            y_pred = torch.argmax(y_pred,dim=1)\n",
    "            test_correct+=(y_pred == y).sum().item()\n",
    "            test_total  += y.size(0)\n",
    "            test_running_loss += loss.item()\n",
    "    epoch_test_loss = test_running_loss / len(testloader.dataset) # 得到每一个样本在本epoch下的平均loss\n",
    "    epoch_test_acc  = test_correct / test_total # 得到整个样本的平均预测正确率\n",
    "    \n",
    "    '''将标量数据写入writer'''\n",
    "    writer.add_scalar('test_loss',epoch_test_loss,epoch+1)\n",
    "    \n",
    "    print(\"epoch:\",\"\\t\",epoch,\"\\t\",\"loss: \",\"\\t\",round(epoch_loss,3),\"\\t\",\"accuracy: \",\"\\t\",round(epoch_acc,3),\"\\t\",\"test_loss: \",\"\\t\",round(epoch_test_loss,3),\"\\t\",\"test_accuracy: \",\"\\t\",round(epoch_test_acc,3),\"\\t\")\n",
    "    return epoch_loss,epoch_acc,epoch_test_loss,epoch_test_acc"
   ]
  },
  {
   "cell_type": "code",
   "execution_count": 20,
   "id": "99360a50",
   "metadata": {},
   "outputs": [],
   "source": [
    "model               = Model()\n",
    "model               = model.to(\"cuda\")\n",
    "loss_fn             = torch.nn.CrossEntropyLoss()      # 将损失函数定义为交叉熵函数\n",
    "optim               = torch.optim.Adam(model.parameters(),lr = 0.0001)\n",
    "epochs              = 20"
   ]
  },
  {
   "cell_type": "markdown",
   "id": "5c43c876",
   "metadata": {},
   "source": [
    "##### 使用Tensorboard进行模型数据可视化"
   ]
  },
  {
   "cell_type": "code",
   "execution_count": 21,
   "id": "879bd401",
   "metadata": {},
   "outputs": [],
   "source": [
    "imgs = imgs.to(\"cuda\")\n",
    "writer.add_graph(model,imgs) # add_graph的参数是 (模型，一个批次的数据)"
   ]
  },
  {
   "cell_type": "markdown",
   "id": "16201279",
   "metadata": {},
   "source": [
    "##### 训练模型"
   ]
  },
  {
   "cell_type": "code",
   "execution_count": 22,
   "id": "7cac985f",
   "metadata": {},
   "outputs": [],
   "source": [
    "train_loss = []\n",
    "train_acc  = []\n",
    "test_loss  = []\n",
    "test_acc   = []"
   ]
  },
  {
   "cell_type": "code",
   "execution_count": null,
   "id": "07edd1ce",
   "metadata": {},
   "outputs": [
    {
     "name": "stdout",
     "output_type": "stream",
     "text": [
      "epoch: \t 0 \t loss:  \t 0.012 \t accuracy:  \t 0.806 \t test_loss:  \t 0.026 \t test_accuracy:  \t 0.915 \t\n"
     ]
    }
   ],
   "source": [
    "for epoch in range(epochs):\n",
    "    epoch_loss,epoch_acc,epoch_test_loss,epoch_test_acc = fit(model,train_dl,test_dl,epoch)\n",
    "    train_loss.append(epoch_loss)\n",
    "    train_acc.append(epoch_acc)\n",
    "    test_loss.append(epoch_test_loss)\n",
    "    test_acc.append(epoch_test_acc)"
   ]
  },
  {
   "cell_type": "code",
   "execution_count": null,
   "id": "8ba40514",
   "metadata": {},
   "outputs": [],
   "source": [
    "plt.plot(range(1,epochs+1),train_loss,label = \"train_loss\")\n",
    "plt.plot(range(1,epochs+1),test_loss,label = \"test_loss\")\n",
    "plt.legend()"
   ]
  },
  {
   "cell_type": "code",
   "execution_count": null,
   "id": "f0d294db",
   "metadata": {},
   "outputs": [],
   "source": [
    "plt.plot(range(1, epochs+1), train_acc, label='train_acc')\n",
    "plt.plot(range(1, epochs+1), test_acc, label='test_acc')\n",
    "plt.legend()"
   ]
  },
  {
   "cell_type": "markdown",
   "id": "af70b416",
   "metadata": {},
   "source": [
    "##### 模型的使用"
   ]
  },
  {
   "cell_type": "code",
   "execution_count": null,
   "id": "d5a705de",
   "metadata": {},
   "outputs": [],
   "source": [
    "y_pred = model(imgs.to(device))\n",
    "y_pred = torch.argmax(y_pred,dim=1)"
   ]
  },
  {
   "cell_type": "code",
   "execution_count": null,
   "id": "fc96d2b1",
   "metadata": {},
   "outputs": [],
   "source": [
    "y_pred"
   ]
  },
  {
   "cell_type": "code",
   "execution_count": null,
   "id": "b9efc870",
   "metadata": {},
   "outputs": [],
   "source": [
    "plt.figure(figsize=(64,1))                            #自定义10张画布\n",
    "for i,img in enumerate(imgs[:64]):                    #对数据集中的前十张图片\n",
    "    img = img.to(\"cpu\")\n",
    "    plt.subplot(1,64,i+1)                             #指定在当前迭代到的位置绘制哪一张图片\n",
    "    imshow(img)                                       #绘制图片\n",
    "    print(label[i])                                   #按顺序输出各个图片所对应的标签   "
   ]
  }
 ],
 "metadata": {
  "kernelspec": {
   "display_name": "Python 3 (ipykernel)",
   "language": "python",
   "name": "python3"
  },
  "language_info": {
   "codemirror_mode": {
    "name": "ipython",
    "version": 3
   },
   "file_extension": ".py",
   "mimetype": "text/x-python",
   "name": "python",
   "nbconvert_exporter": "python",
   "pygments_lexer": "ipython3",
   "version": "3.8.12"
  }
 },
 "nbformat": 4,
 "nbformat_minor": 5
}
