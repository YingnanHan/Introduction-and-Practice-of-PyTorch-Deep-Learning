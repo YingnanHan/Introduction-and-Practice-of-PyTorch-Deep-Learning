{
 "cells": [
  {
   "cell_type": "code",
   "execution_count": 1,
   "id": "bcce048b",
   "metadata": {},
   "outputs": [],
   "source": [
    "import numpy\n",
    "import torch\n",
    "import pandas as pd\n",
    "import matplotlib.pyplot as plt\n",
    "%matplotlib inline"
   ]
  },
  {
   "cell_type": "markdown",
   "id": "66c3862e",
   "metadata": {},
   "source": [
    "##### 处理数据集"
   ]
  },
  {
   "cell_type": "code",
   "execution_count": 2,
   "id": "0f48cbcd",
   "metadata": {},
   "outputs": [],
   "source": [
    "data = pd.read_csv(\"./dataset/HR.csv\")"
   ]
  },
  {
   "cell_type": "code",
   "execution_count": 3,
   "id": "cee1dbd2",
   "metadata": {},
   "outputs": [],
   "source": [
    "data = data.join(pd.get_dummies(data.salary))\n",
    "del  data[\"salary\"]\n",
    "data = data.join(pd.get_dummies(data.part))\n",
    "del  data[\"part\"]"
   ]
  },
  {
   "cell_type": "code",
   "execution_count": 4,
   "id": "8817207e",
   "metadata": {},
   "outputs": [],
   "source": [
    "X_data = data[[c for c in data.columns if c != \"left\"]].values\n",
    "X      = torch.from_numpy(X_data).type(torch.FloatTensor)\n",
    "Y_data = data[[c for c in data.columns if c == \"left\"]].values\n",
    "Y      = torch.from_numpy(Y_data).type(torch.FloatTensor)"
   ]
  },
  {
   "cell_type": "markdown",
   "id": "2bcd1aaa",
   "metadata": {},
   "source": [
    "##### 创建模型"
   ]
  },
  {
   "cell_type": "code",
   "execution_count": 5,
   "id": "f0ff720f",
   "metadata": {},
   "outputs": [],
   "source": [
    "from torch import nn\n",
    "from torch.nn import functional as F"
   ]
  },
  {
   "cell_type": "code",
   "execution_count": 6,
   "id": "0d64fe69",
   "metadata": {},
   "outputs": [],
   "source": [
    "class Model(nn.Module):\n",
    "    def __init__(self):\n",
    "        super().__init__()\n",
    "        self.linear_1 = nn.Linear(20,64)\n",
    "        self.linear_2 = nn.Linear(64,64)\n",
    "        self.linear_3 = nn.Linear(64,1)\n",
    "    \n",
    "    def forward(self,input):\n",
    "        x = self.linear_1(input)\n",
    "        x = F.relu(x)\n",
    "        x = self.linear_2(x)\n",
    "        x = F.relu(x)\n",
    "        x = self.linear_3(x)\n",
    "        x = F.sigmoid(x)\n",
    "        return x"
   ]
  },
  {
   "cell_type": "markdown",
   "id": "4fa990f1",
   "metadata": {},
   "source": [
    "##### 训练模型"
   ]
  },
  {
   "cell_type": "code",
   "execution_count": 7,
   "id": "235e947f",
   "metadata": {},
   "outputs": [],
   "source": [
    "def get_model():\n",
    "    model = Model()\n",
    "    opt   = torch.optim.Adam(model.parameters(),lr = 0.0001)\n",
    "    return model,opt"
   ]
  },
  {
   "cell_type": "code",
   "execution_count": 8,
   "id": "3025baae",
   "metadata": {},
   "outputs": [],
   "source": [
    "model,optim      = get_model()\n",
    "loss_fn          = nn.BCELoss()\n",
    "\n",
    "batch_size       = 64\n",
    "number_of_batches= len(data)//batch_size\n",
    "epoches          = 100"
   ]
  },
  {
   "cell_type": "code",
   "execution_count": 9,
   "id": "41af86fc",
   "metadata": {},
   "outputs": [],
   "source": [
    "from torch.utils.data import DataLoader,TensorDataset"
   ]
  },
  {
   "cell_type": "code",
   "execution_count": 10,
   "id": "4d089031",
   "metadata": {},
   "outputs": [],
   "source": [
    "HR_ds = TensorDataset(X,Y)\n",
    "HR_dl = DataLoader(HR_ds,batch_size=batch_size,shuffle=True)"
   ]
  },
  {
   "cell_type": "code",
   "execution_count": 11,
   "id": "3d396aaf",
   "metadata": {},
   "outputs": [
    {
     "data": {
      "text/plain": [
       "(torch.Size([14999, 20]), torch.Size([14999, 1]))"
      ]
     },
     "execution_count": 11,
     "metadata": {},
     "output_type": "execute_result"
    }
   ],
   "source": [
    "X.shape,Y.shape"
   ]
  },
  {
   "cell_type": "code",
   "execution_count": 12,
   "id": "b3cec530",
   "metadata": {},
   "outputs": [
    {
     "name": "stderr",
     "output_type": "stream",
     "text": [
      "D:\\Anaconda3\\envs\\pytorch\\lib\\site-packages\\torch\\nn\\functional.py:1806: UserWarning: nn.functional.sigmoid is deprecated. Use torch.sigmoid instead.\n",
      "  warnings.warn(\"nn.functional.sigmoid is deprecated. Use torch.sigmoid instead.\")\n"
     ]
    },
    {
     "name": "stdout",
     "output_type": "stream",
     "text": [
      "epoch: 0 \t\t\t loss: 0.5649502873420715\n",
      "epoch: 1 \t\t\t loss: 0.5593029856681824\n",
      "epoch: 2 \t\t\t loss: 0.555637001991272\n",
      "epoch: 3 \t\t\t loss: 0.553297758102417\n",
      "epoch: 4 \t\t\t loss: 0.5478798747062683\n",
      "epoch: 5 \t\t\t loss: 0.5433433651924133\n",
      "epoch: 6 \t\t\t loss: 0.5433761477470398\n",
      "epoch: 7 \t\t\t loss: 0.5321493148803711\n",
      "epoch: 8 \t\t\t loss: 0.5287121534347534\n",
      "epoch: 9 \t\t\t loss: 0.5217085480690002\n",
      "epoch: 10 \t\t\t loss: 0.51450115442276\n",
      "epoch: 11 \t\t\t loss: 0.5075799226760864\n",
      "epoch: 12 \t\t\t loss: 0.5191758871078491\n",
      "epoch: 13 \t\t\t loss: 0.4968515932559967\n",
      "epoch: 14 \t\t\t loss: 0.49558162689208984\n",
      "epoch: 15 \t\t\t loss: 0.4835684299468994\n",
      "epoch: 16 \t\t\t loss: 0.483013778924942\n",
      "epoch: 17 \t\t\t loss: 0.4712466895580292\n",
      "epoch: 18 \t\t\t loss: 0.4721296429634094\n",
      "epoch: 19 \t\t\t loss: 0.46166175603866577\n",
      "epoch: 20 \t\t\t loss: 0.45727017521858215\n",
      "epoch: 21 \t\t\t loss: 0.47059035301208496\n",
      "epoch: 22 \t\t\t loss: 0.4523974657058716\n",
      "epoch: 23 \t\t\t loss: 0.44228148460388184\n",
      "epoch: 24 \t\t\t loss: 0.44058388471603394\n",
      "epoch: 25 \t\t\t loss: 0.43422019481658936\n",
      "epoch: 26 \t\t\t loss: 0.43053752183914185\n",
      "epoch: 27 \t\t\t loss: 0.4247637689113617\n",
      "epoch: 28 \t\t\t loss: 0.42456358671188354\n",
      "epoch: 29 \t\t\t loss: 0.41772961616516113\n",
      "epoch: 30 \t\t\t loss: 0.41605228185653687\n",
      "epoch: 31 \t\t\t loss: 0.41032928228378296\n",
      "epoch: 32 \t\t\t loss: 0.40733641386032104\n",
      "epoch: 33 \t\t\t loss: 0.4086197316646576\n",
      "epoch: 34 \t\t\t loss: 0.3965703845024109\n",
      "epoch: 35 \t\t\t loss: 0.3939807713031769\n",
      "epoch: 36 \t\t\t loss: 0.39126333594322205\n",
      "epoch: 37 \t\t\t loss: 0.3887253701686859\n",
      "epoch: 38 \t\t\t loss: 0.3809069097042084\n",
      "epoch: 39 \t\t\t loss: 0.376785546541214\n",
      "epoch: 40 \t\t\t loss: 0.3743259906768799\n",
      "epoch: 41 \t\t\t loss: 0.36935701966285706\n",
      "epoch: 42 \t\t\t loss: 0.36521145701408386\n",
      "epoch: 43 \t\t\t loss: 0.3648447096347809\n",
      "epoch: 44 \t\t\t loss: 0.3583031892776489\n",
      "epoch: 45 \t\t\t loss: 0.3592314124107361\n",
      "epoch: 46 \t\t\t loss: 0.34813523292541504\n",
      "epoch: 47 \t\t\t loss: 0.348589152097702\n",
      "epoch: 48 \t\t\t loss: 0.34201955795288086\n",
      "epoch: 49 \t\t\t loss: 0.3521818220615387\n",
      "epoch: 50 \t\t\t loss: 0.3345170319080353\n",
      "epoch: 51 \t\t\t loss: 0.33970776200294495\n",
      "epoch: 52 \t\t\t loss: 0.33471405506134033\n",
      "epoch: 53 \t\t\t loss: 0.3453883230686188\n",
      "epoch: 54 \t\t\t loss: 0.32580557465553284\n",
      "epoch: 55 \t\t\t loss: 0.3204813003540039\n",
      "epoch: 56 \t\t\t loss: 0.3198946714401245\n",
      "epoch: 57 \t\t\t loss: 0.3205994963645935\n",
      "epoch: 58 \t\t\t loss: 0.3130483627319336\n",
      "epoch: 59 \t\t\t loss: 0.314973384141922\n",
      "epoch: 60 \t\t\t loss: 0.31113600730895996\n",
      "epoch: 61 \t\t\t loss: 0.30699270963668823\n",
      "epoch: 62 \t\t\t loss: 0.3062061369419098\n",
      "epoch: 63 \t\t\t loss: 0.30217355489730835\n",
      "epoch: 64 \t\t\t loss: 0.31126508116722107\n",
      "epoch: 65 \t\t\t loss: 0.3012423813343048\n",
      "epoch: 66 \t\t\t loss: 0.3056856393814087\n",
      "epoch: 67 \t\t\t loss: 0.29545876383781433\n",
      "epoch: 68 \t\t\t loss: 0.2942602336406708\n",
      "epoch: 69 \t\t\t loss: 0.29491937160491943\n",
      "epoch: 70 \t\t\t loss: 0.3045821487903595\n",
      "epoch: 71 \t\t\t loss: 0.28968173265457153\n",
      "epoch: 72 \t\t\t loss: 0.29643529653549194\n",
      "epoch: 73 \t\t\t loss: 0.29290294647216797\n",
      "epoch: 74 \t\t\t loss: 0.29072096943855286\n",
      "epoch: 75 \t\t\t loss: 0.2858186960220337\n",
      "epoch: 76 \t\t\t loss: 0.2835046350955963\n",
      "epoch: 77 \t\t\t loss: 0.28798002004623413\n",
      "epoch: 78 \t\t\t loss: 0.28503209352493286\n",
      "epoch: 79 \t\t\t loss: 0.2787165641784668\n",
      "epoch: 80 \t\t\t loss: 0.28139984607696533\n",
      "epoch: 81 \t\t\t loss: 0.27710220217704773\n",
      "epoch: 82 \t\t\t loss: 0.27915120124816895\n",
      "epoch: 83 \t\t\t loss: 0.27504998445510864\n",
      "epoch: 84 \t\t\t loss: 0.2754559814929962\n",
      "epoch: 85 \t\t\t loss: 0.28076276183128357\n",
      "epoch: 86 \t\t\t loss: 0.2725769877433777\n",
      "epoch: 87 \t\t\t loss: 0.2714402377605438\n",
      "epoch: 88 \t\t\t loss: 0.2768661379814148\n",
      "epoch: 89 \t\t\t loss: 0.2690674960613251\n",
      "epoch: 90 \t\t\t loss: 0.2776232659816742\n",
      "epoch: 91 \t\t\t loss: 0.27062246203422546\n",
      "epoch: 92 \t\t\t loss: 0.27898910641670227\n",
      "epoch: 93 \t\t\t loss: 0.26987355947494507\n",
      "epoch: 94 \t\t\t loss: 0.26915299892425537\n",
      "epoch: 95 \t\t\t loss: 0.2664232850074768\n",
      "epoch: 96 \t\t\t loss: 0.2728017568588257\n",
      "epoch: 97 \t\t\t loss: 0.2648698687553406\n",
      "epoch: 98 \t\t\t loss: 0.2613453269004822\n",
      "epoch: 99 \t\t\t loss: 0.26258373260498047\n"
     ]
    }
   ],
   "source": [
    "for epoch in range(epoches):\n",
    "    for x,y in HR_dl:\n",
    "        y_pred = model(x)\n",
    "        loss   = loss_fn(y_pred,y)\n",
    "        optim.zero_grad()\n",
    "        loss.backward()\n",
    "        optim.step()\n",
    "    with torch.no_grad():\n",
    "        print(\"epoch:\",epoch,\"\\t\\t\\t\",\"loss:\",loss_fn(model(X),Y).data.item())        "
   ]
  }
 ],
 "metadata": {
  "kernelspec": {
   "display_name": "Python 3 (ipykernel)",
   "language": "python",
   "name": "python3"
  },
  "language_info": {
   "codemirror_mode": {
    "name": "ipython",
    "version": 3
   },
   "file_extension": ".py",
   "mimetype": "text/x-python",
   "name": "python",
   "nbconvert_exporter": "python",
   "pygments_lexer": "ipython3",
   "version": "3.8.12"
  }
 },
 "nbformat": 4,
 "nbformat_minor": 5
}
