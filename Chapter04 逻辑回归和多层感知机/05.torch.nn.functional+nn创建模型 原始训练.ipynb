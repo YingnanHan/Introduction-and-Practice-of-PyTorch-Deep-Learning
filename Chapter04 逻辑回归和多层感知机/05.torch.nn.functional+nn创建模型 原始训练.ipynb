{
 "cells": [
  {
   "cell_type": "code",
   "execution_count": 1,
   "id": "74069c2a",
   "metadata": {},
   "outputs": [],
   "source": [
    "import torch\n",
    "import numpy as np\n",
    "import matplotlib.pyplot as plt\n",
    "import pandas as pd\n",
    "%matplotlib inline"
   ]
  },
  {
   "cell_type": "markdown",
   "id": "852e647c",
   "metadata": {},
   "source": [
    "##### 处理数据集"
   ]
  },
  {
   "cell_type": "code",
   "execution_count": 2,
   "id": "f1d7eedd",
   "metadata": {},
   "outputs": [],
   "source": [
    "data = pd.read_csv(\"./dataset/HR.csv\")"
   ]
  },
  {
   "cell_type": "code",
   "execution_count": 3,
   "id": "5dedc115",
   "metadata": {},
   "outputs": [],
   "source": [
    "data = data.join(pd.get_dummies(data.salary))\n",
    "del  data['salary']\n",
    "data = data.join(pd.get_dummies(data.part))\n",
    "del  data['part']"
   ]
  },
  {
   "cell_type": "code",
   "execution_count": 4,
   "id": "7a2392b4",
   "metadata": {},
   "outputs": [],
   "source": [
    "X_data = data[[c for c in data.columns if c != 'left']].values\n",
    "X      = torch.from_numpy(X_data).type(torch.FloatTensor)\n",
    "Y_data = data[[c for c in data.columns if c == 'left']].values\n",
    "Y      = torch.from_numpy(Y_data).type(torch.FloatTensor)"
   ]
  },
  {
   "cell_type": "markdown",
   "id": "f68004a8",
   "metadata": {},
   "source": [
    "##### 创建模型"
   ]
  },
  {
   "cell_type": "code",
   "execution_count": 5,
   "id": "c1f58cbf",
   "metadata": {},
   "outputs": [],
   "source": [
    "from torch import nn\n",
    "import torch.nn.functional as F"
   ]
  },
  {
   "cell_type": "code",
   "execution_count": 6,
   "id": "a321c1d0",
   "metadata": {},
   "outputs": [],
   "source": [
    "class Model(nn.Module):\n",
    "    def __init__(self):\n",
    "        super().__init__()\n",
    "        self.linear_1 = nn.Linear(20,64)\n",
    "        self.linear_2 = nn.Linear(64,64)\n",
    "        self.linear_3 = nn.Linear(64,1)\n",
    "        \n",
    "    def forward(self,input):\n",
    "        x = self.linear_1(input)\n",
    "        x = F.relu(x)\n",
    "        x = self.linear_2(x)\n",
    "        x = F.relu(x)\n",
    "        x = self.linear_3(x)\n",
    "        x = F.sigmoid(x)\n",
    "        return x"
   ]
  },
  {
   "cell_type": "markdown",
   "id": "08b87fb4",
   "metadata": {},
   "source": [
    "##### 训练模型"
   ]
  },
  {
   "cell_type": "code",
   "execution_count": 7,
   "id": "8b69d5ca",
   "metadata": {},
   "outputs": [],
   "source": [
    "def get_model():\n",
    "    model = Model()\n",
    "    opt   = torch.optim.Adam(model.parameters(),lr=0.0001)\n",
    "    return model,opt"
   ]
  },
  {
   "cell_type": "code",
   "execution_count": 8,
   "id": "4a32c5ea",
   "metadata": {},
   "outputs": [],
   "source": [
    "model,optim       = get_model()\n",
    "loss_fn           = nn.BCELoss()\n",
    "\n",
    "batch_size        = 64\n",
    "number_of_batches = len(data)//batch_size\n",
    "epoches           = 100"
   ]
  },
  {
   "cell_type": "code",
   "execution_count": 9,
   "id": "af31d6f4",
   "metadata": {
    "scrolled": true
   },
   "outputs": [
    {
     "name": "stderr",
     "output_type": "stream",
     "text": [
      "D:\\Anaconda3\\envs\\pytorch\\lib\\site-packages\\torch\\nn\\functional.py:1806: UserWarning: nn.functional.sigmoid is deprecated. Use torch.sigmoid instead.\n",
      "  warnings.warn(\"nn.functional.sigmoid is deprecated. Use torch.sigmoid instead.\")\n"
     ]
    },
    {
     "name": "stdout",
     "output_type": "stream",
     "text": [
      "epoch:\t 0 \t\t\t loss:\t 0.7075486779212952\n",
      "epoch:\t 1 \t\t\t loss:\t 0.7288095355033875\n",
      "epoch:\t 2 \t\t\t loss:\t 0.7137643694877625\n",
      "epoch:\t 3 \t\t\t loss:\t 0.7012246251106262\n",
      "epoch:\t 4 \t\t\t loss:\t 0.6933883428573608\n",
      "epoch:\t 5 \t\t\t loss:\t 0.6841027736663818\n",
      "epoch:\t 6 \t\t\t loss:\t 0.6689909100532532\n",
      "epoch:\t 7 \t\t\t loss:\t 0.6601163744926453\n",
      "epoch:\t 8 \t\t\t loss:\t 0.6510088443756104\n",
      "epoch:\t 9 \t\t\t loss:\t 0.6418108344078064\n",
      "epoch:\t 10 \t\t\t loss:\t 0.6326261162757874\n",
      "epoch:\t 11 \t\t\t loss:\t 0.6209865212440491\n",
      "epoch:\t 12 \t\t\t loss:\t 0.608540415763855\n",
      "epoch:\t 13 \t\t\t loss:\t 0.6012986898422241\n",
      "epoch:\t 14 \t\t\t loss:\t 0.594216525554657\n",
      "epoch:\t 15 \t\t\t loss:\t 0.5816237926483154\n",
      "epoch:\t 16 \t\t\t loss:\t 0.5761025547981262\n",
      "epoch:\t 17 \t\t\t loss:\t 0.5701773166656494\n",
      "epoch:\t 18 \t\t\t loss:\t 0.5663467645645142\n",
      "epoch:\t 19 \t\t\t loss:\t 0.5637797117233276\n",
      "epoch:\t 20 \t\t\t loss:\t 0.5613133907318115\n",
      "epoch:\t 21 \t\t\t loss:\t 0.5603255033493042\n",
      "epoch:\t 22 \t\t\t loss:\t 0.5841894745826721\n",
      "epoch:\t 23 \t\t\t loss:\t 0.5597661137580872\n",
      "epoch:\t 24 \t\t\t loss:\t 0.5598292946815491\n",
      "epoch:\t 25 \t\t\t loss:\t 0.556334376335144\n",
      "epoch:\t 26 \t\t\t loss:\t 0.5557491183280945\n",
      "epoch:\t 27 \t\t\t loss:\t 0.5555298328399658\n",
      "epoch:\t 28 \t\t\t loss:\t 0.5555362105369568\n",
      "epoch:\t 29 \t\t\t loss:\t 0.5557390451431274\n",
      "epoch:\t 30 \t\t\t loss:\t 0.5560771822929382\n",
      "epoch:\t 31 \t\t\t loss:\t 0.5555393695831299\n",
      "epoch:\t 32 \t\t\t loss:\t 0.5570412874221802\n",
      "epoch:\t 33 \t\t\t loss:\t 0.560036838054657\n",
      "epoch:\t 34 \t\t\t loss:\t 0.5612014532089233\n",
      "epoch:\t 35 \t\t\t loss:\t 0.5612849593162537\n",
      "epoch:\t 36 \t\t\t loss:\t 0.5612037181854248\n",
      "epoch:\t 37 \t\t\t loss:\t 0.5616110563278198\n",
      "epoch:\t 38 \t\t\t loss:\t 0.5617424249649048\n",
      "epoch:\t 39 \t\t\t loss:\t 0.5641257166862488\n",
      "epoch:\t 40 \t\t\t loss:\t 0.5773559808731079\n",
      "epoch:\t 41 \t\t\t loss:\t 0.5597532391548157\n",
      "epoch:\t 42 \t\t\t loss:\t 0.5912591814994812\n",
      "epoch:\t 43 \t\t\t loss:\t 0.5620213150978088\n",
      "epoch:\t 44 \t\t\t loss:\t 0.5707608461380005\n",
      "epoch:\t 45 \t\t\t loss:\t 0.5635567307472229\n",
      "epoch:\t 46 \t\t\t loss:\t 0.5841009020805359\n",
      "epoch:\t 47 \t\t\t loss:\t 0.563859224319458\n",
      "epoch:\t 48 \t\t\t loss:\t 0.5649402737617493\n",
      "epoch:\t 49 \t\t\t loss:\t 0.5641779899597168\n",
      "epoch:\t 50 \t\t\t loss:\t 0.5641711354255676\n",
      "epoch:\t 51 \t\t\t loss:\t 0.5638444423675537\n",
      "epoch:\t 52 \t\t\t loss:\t 0.5623756051063538\n",
      "epoch:\t 53 \t\t\t loss:\t 0.5628843307495117\n",
      "epoch:\t 54 \t\t\t loss:\t 0.5586891770362854\n",
      "epoch:\t 55 \t\t\t loss:\t 0.5599894523620605\n",
      "epoch:\t 56 \t\t\t loss:\t 0.5621388554573059\n",
      "epoch:\t 57 \t\t\t loss:\t 0.5621517896652222\n",
      "epoch:\t 58 \t\t\t loss:\t 0.560840368270874\n",
      "epoch:\t 59 \t\t\t loss:\t 0.5713863968849182\n",
      "epoch:\t 60 \t\t\t loss:\t 0.6073055863380432\n",
      "epoch:\t 61 \t\t\t loss:\t 0.5788082480430603\n",
      "epoch:\t 62 \t\t\t loss:\t 0.5658376216888428\n",
      "epoch:\t 63 \t\t\t loss:\t 0.5625686049461365\n",
      "epoch:\t 64 \t\t\t loss:\t 0.5591277480125427\n",
      "epoch:\t 65 \t\t\t loss:\t 0.56056809425354\n",
      "epoch:\t 66 \t\t\t loss:\t 0.5598450899124146\n",
      "epoch:\t 67 \t\t\t loss:\t 0.5907639265060425\n",
      "epoch:\t 68 \t\t\t loss:\t 0.5788755416870117\n",
      "epoch:\t 69 \t\t\t loss:\t 0.5631634593009949\n",
      "epoch:\t 70 \t\t\t loss:\t 0.5525370836257935\n",
      "epoch:\t 71 \t\t\t loss:\t 0.5609666109085083\n",
      "epoch:\t 72 \t\t\t loss:\t 0.5615200996398926\n",
      "epoch:\t 73 \t\t\t loss:\t 0.5598906874656677\n",
      "epoch:\t 74 \t\t\t loss:\t 0.5583698153495789\n",
      "epoch:\t 75 \t\t\t loss:\t 0.5589560270309448\n",
      "epoch:\t 76 \t\t\t loss:\t 0.557830810546875\n",
      "epoch:\t 77 \t\t\t loss:\t 0.5589268207550049\n",
      "epoch:\t 78 \t\t\t loss:\t 0.5564107894897461\n",
      "epoch:\t 79 \t\t\t loss:\t 0.5629922747612\n",
      "epoch:\t 80 \t\t\t loss:\t 0.5556319355964661\n",
      "epoch:\t 81 \t\t\t loss:\t 0.5702847242355347\n",
      "epoch:\t 82 \t\t\t loss:\t 0.5549132227897644\n",
      "epoch:\t 83 \t\t\t loss:\t 0.5555790662765503\n",
      "epoch:\t 84 \t\t\t loss:\t 0.5529484748840332\n",
      "epoch:\t 85 \t\t\t loss:\t 0.5547447204589844\n",
      "epoch:\t 86 \t\t\t loss:\t 0.5470039248466492\n",
      "epoch:\t 87 \t\t\t loss:\t 0.5816029906272888\n",
      "epoch:\t 88 \t\t\t loss:\t 0.5522245764732361\n",
      "epoch:\t 89 \t\t\t loss:\t 0.5518015623092651\n",
      "epoch:\t 90 \t\t\t loss:\t 0.5461137890815735\n",
      "epoch:\t 91 \t\t\t loss:\t 0.5470799803733826\n",
      "epoch:\t 92 \t\t\t loss:\t 0.5429499745368958\n",
      "epoch:\t 93 \t\t\t loss:\t 0.5697880387306213\n",
      "epoch:\t 94 \t\t\t loss:\t 0.5510047078132629\n",
      "epoch:\t 95 \t\t\t loss:\t 0.5477042198181152\n",
      "epoch:\t 96 \t\t\t loss:\t 0.5426607131958008\n",
      "epoch:\t 97 \t\t\t loss:\t 0.5381502509117126\n",
      "epoch:\t 98 \t\t\t loss:\t 0.5440687537193298\n",
      "epoch:\t 99 \t\t\t loss:\t 0.5415108799934387\n"
     ]
    }
   ],
   "source": [
    "for epoch in range(epoches):\n",
    "    for i in range(number_of_batches):\n",
    "        start = i*batch_size\n",
    "        end   = i*batch_size + batch_size\n",
    "        x     = X[start:end]\n",
    "        y     = Y[start:end]\n",
    "        y_pred= model(x)\n",
    "        loss  = loss_fn(y_pred,y)\n",
    "        optim.zero_grad()\n",
    "        loss.backward()\n",
    "        optim.step()\n",
    "    with torch.no_grad():\n",
    "        loss_fn(model(X),Y)\n",
    "        print(\"epoch:\\t\",epoch,\"\\t\\t\\t\",\"loss:\\t\",loss_fn(model(X),Y).data.item())"
   ]
  },
  {
   "cell_type": "code",
   "execution_count": null,
   "id": "67d96c6a",
   "metadata": {},
   "outputs": [],
   "source": []
  }
 ],
 "metadata": {
  "kernelspec": {
   "display_name": "Python 3 (ipykernel)",
   "language": "python",
   "name": "python3"
  },
  "language_info": {
   "codemirror_mode": {
    "name": "ipython",
    "version": 3
   },
   "file_extension": ".py",
   "mimetype": "text/x-python",
   "name": "python",
   "nbconvert_exporter": "python",
   "pygments_lexer": "ipython3",
   "version": "3.8.12"
  }
 },
 "nbformat": 4,
 "nbformat_minor": 5
}
