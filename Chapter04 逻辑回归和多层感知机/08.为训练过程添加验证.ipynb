{
 "cells": [
  {
   "cell_type": "code",
   "execution_count": 1,
   "id": "138f7a7c",
   "metadata": {},
   "outputs": [],
   "source": [
    "import torch\n",
    "import numpy as np\n",
    "import matplotlib.pyplot as plt\n",
    "import pandas as pd\n",
    "%matplotlib inline"
   ]
  },
  {
   "cell_type": "markdown",
   "id": "2a5c2de3",
   "metadata": {},
   "source": [
    "##### 准备数据"
   ]
  },
  {
   "cell_type": "code",
   "execution_count": 2,
   "id": "5b57061a",
   "metadata": {},
   "outputs": [],
   "source": [
    "data   = pd.read_csv(\"dataset/HR.csv\")"
   ]
  },
  {
   "cell_type": "code",
   "execution_count": 3,
   "id": "4b488ed0",
   "metadata": {},
   "outputs": [],
   "source": [
    "data   = data.join(pd.get_dummies(data.salary))\n",
    "del    data[\"salary\"]\n",
    "data   = data.join(pd.get_dummies(data.part))\n",
    "del    data[\"part\"]"
   ]
  },
  {
   "cell_type": "code",
   "execution_count": 4,
   "id": "917847ec",
   "metadata": {},
   "outputs": [],
   "source": [
    "X_data = data[[c for c in data.columns if c != \"left\"]].values\n",
    "Y_data = data[[c for c in data.columns if c == \"left\"]].values"
   ]
  },
  {
   "cell_type": "markdown",
   "id": "3b98b3aa",
   "metadata": {},
   "source": [
    "##### 创建模型"
   ]
  },
  {
   "cell_type": "code",
   "execution_count": 5,
   "id": "6b1120b2",
   "metadata": {},
   "outputs": [],
   "source": [
    "from torch import nn\n",
    "import torch.nn.functional as F"
   ]
  },
  {
   "cell_type": "code",
   "execution_count": 6,
   "id": "dad50fb0",
   "metadata": {},
   "outputs": [],
   "source": [
    "class Model(nn.Module):\n",
    "    def __init__(self):\n",
    "        super().__init__()\n",
    "        self.linear_1 = nn.Linear(20,64)\n",
    "        self.linear_2 = nn.Linear(64,64)\n",
    "        self.linear_3 = nn.Linear(64,1)\n",
    "    \n",
    "    def forward(self,input):\n",
    "        x = self.linear_1(input)\n",
    "        x = F.relu(x)  \n",
    "        x = self.linear_2(x)\n",
    "        x = F.relu(x)\n",
    "        x = self.linear_3(x)\n",
    "        x = F.sigmoid(x) \n",
    "        return x"
   ]
  },
  {
   "cell_type": "markdown",
   "id": "8d1663d7",
   "metadata": {},
   "source": [
    "##### 训练模型"
   ]
  },
  {
   "cell_type": "code",
   "execution_count": 7,
   "id": "f9ca67ef",
   "metadata": {},
   "outputs": [],
   "source": [
    "def get_model(): \n",
    "    model = Model() \n",
    "    opt   = torch.optim.Adam(model.parameters(),lr = 0.0001)  \n",
    "    return model,opt"
   ]
  },
  {
   "cell_type": "code",
   "execution_count": 8,
   "id": "5fdaf8ed",
   "metadata": {},
   "outputs": [],
   "source": [
    "def accuracy(y_predict,y_true):\n",
    "    y_predict = (y_predict>0.5).type(torch.int32)\n",
    "    acc       = (y_predict == y_true).float().mean()\n",
    "    return acc"
   ]
  },
  {
   "cell_type": "code",
   "execution_count": 9,
   "id": "920e58c0",
   "metadata": {},
   "outputs": [],
   "source": [
    "model,opt         = get_model()\n",
    "loss_fn           = nn.BCELoss()\n",
    "batch_size        = 64\n",
    "number_of_batches = len(data)//batch_size\n",
    "epochs            = 100"
   ]
  },
  {
   "cell_type": "markdown",
   "id": "5a7145c3",
   "metadata": {},
   "source": [
    "##### 切分数据集并重新包装"
   ]
  },
  {
   "cell_type": "code",
   "execution_count": 10,
   "id": "9a08de1d",
   "metadata": {},
   "outputs": [],
   "source": [
    "from sklearn.model_selection import train_test_split\n",
    "from torch.utils.data import TensorDataset\n",
    "from torch.utils.data import DataLoader"
   ]
  },
  {
   "cell_type": "code",
   "execution_count": 11,
   "id": "07b2cdac",
   "metadata": {},
   "outputs": [],
   "source": [
    "train_x,test_x,train_y,test_y = train_test_split(X_data,Y_data)"
   ]
  },
  {
   "cell_type": "code",
   "execution_count": 12,
   "id": "c0117dfd",
   "metadata": {},
   "outputs": [],
   "source": [
    "train_x = torch.from_numpy(train_x).type(torch.float32)\n",
    "train_y = torch.from_numpy(train_y).type(torch.float32)\n",
    "test_x  = torch.from_numpy(test_x).type(torch.float32)\n",
    "test_y  = torch.from_numpy(test_y).type(torch.float32)"
   ]
  },
  {
   "cell_type": "code",
   "execution_count": 13,
   "id": "8aba59a8",
   "metadata": {},
   "outputs": [],
   "source": [
    "train_ds = TensorDataset(train_x,train_y)\n",
    "train_dl = DataLoader(train_ds,batch_size=batch_size,shuffle=True)\n",
    "test_ds  = TensorDataset(test_x,test_y)\n",
    "test_dl  = DataLoader(test_ds,batch_size=batch_size) "
   ]
  },
  {
   "cell_type": "markdown",
   "id": "cb47f387",
   "metadata": {},
   "source": [
    "##### 利用验证数据集对模型进行验证"
   ]
  },
  {
   "cell_type": "code",
   "execution_count": 14,
   "id": "468cc718",
   "metadata": {},
   "outputs": [
    {
     "name": "stderr",
     "output_type": "stream",
     "text": [
      "D:\\Anaconda3\\envs\\pytorch\\lib\\site-packages\\torch\\nn\\functional.py:1806: UserWarning: nn.functional.sigmoid is deprecated. Use torch.sigmoid instead.\n",
      "  warnings.warn(\"nn.functional.sigmoid is deprecated. Use torch.sigmoid instead.\")\n"
     ]
    },
    {
     "name": "stdout",
     "output_type": "stream",
     "text": [
      "epoch: \t 0 \t loss:  \t 0.577 \t accuracy:  \t 0.764 \t test_loss:  \t 0.578 \t test_accuracy:  \t 0.757 \t\n",
      "epoch: \t 1 \t loss:  \t 0.569 \t accuracy:  \t 0.764 \t test_loss:  \t 0.571 \t test_accuracy:  \t 0.757 \t\n",
      "epoch: \t 2 \t loss:  \t 0.558 \t accuracy:  \t 0.764 \t test_loss:  \t 0.561 \t test_accuracy:  \t 0.757 \t\n",
      "epoch: \t 3 \t loss:  \t 0.556 \t accuracy:  \t 0.764 \t test_loss:  \t 0.559 \t test_accuracy:  \t 0.757 \t\n",
      "epoch: \t 4 \t loss:  \t 0.552 \t accuracy:  \t 0.764 \t test_loss:  \t 0.555 \t test_accuracy:  \t 0.757 \t\n",
      "epoch: \t 5 \t loss:  \t 0.548 \t accuracy:  \t 0.764 \t test_loss:  \t 0.551 \t test_accuracy:  \t 0.757 \t\n",
      "epoch: \t 6 \t loss:  \t 0.544 \t accuracy:  \t 0.764 \t test_loss:  \t 0.547 \t test_accuracy:  \t 0.757 \t\n",
      "epoch: \t 7 \t loss:  \t 0.537 \t accuracy:  \t 0.764 \t test_loss:  \t 0.541 \t test_accuracy:  \t 0.757 \t\n",
      "epoch: \t 8 \t loss:  \t 0.535 \t accuracy:  \t 0.764 \t test_loss:  \t 0.538 \t test_accuracy:  \t 0.757 \t\n",
      "epoch: \t 9 \t loss:  \t 0.527 \t accuracy:  \t 0.764 \t test_loss:  \t 0.53 \t test_accuracy:  \t 0.757 \t\n",
      "epoch: \t 10 \t loss:  \t 0.528 \t accuracy:  \t 0.764 \t test_loss:  \t 0.533 \t test_accuracy:  \t 0.757 \t\n",
      "epoch: \t 11 \t loss:  \t 0.514 \t accuracy:  \t 0.764 \t test_loss:  \t 0.518 \t test_accuracy:  \t 0.757 \t\n",
      "epoch: \t 12 \t loss:  \t 0.504 \t accuracy:  \t 0.764 \t test_loss:  \t 0.509 \t test_accuracy:  \t 0.757 \t\n",
      "epoch: \t 13 \t loss:  \t 0.497 \t accuracy:  \t 0.764 \t test_loss:  \t 0.502 \t test_accuracy:  \t 0.757 \t\n",
      "epoch: \t 14 \t loss:  \t 0.49 \t accuracy:  \t 0.764 \t test_loss:  \t 0.495 \t test_accuracy:  \t 0.757 \t\n",
      "epoch: \t 15 \t loss:  \t 0.484 \t accuracy:  \t 0.764 \t test_loss:  \t 0.489 \t test_accuracy:  \t 0.757 \t\n",
      "epoch: \t 16 \t loss:  \t 0.475 \t accuracy:  \t 0.764 \t test_loss:  \t 0.481 \t test_accuracy:  \t 0.757 \t\n",
      "epoch: \t 17 \t loss:  \t 0.468 \t accuracy:  \t 0.764 \t test_loss:  \t 0.473 \t test_accuracy:  \t 0.757 \t\n",
      "epoch: \t 18 \t loss:  \t 0.462 \t accuracy:  \t 0.763 \t test_loss:  \t 0.468 \t test_accuracy:  \t 0.757 \t\n",
      "epoch: \t 19 \t loss:  \t 0.453 \t accuracy:  \t 0.762 \t test_loss:  \t 0.459 \t test_accuracy:  \t 0.755 \t\n",
      "epoch: \t 20 \t loss:  \t 0.45 \t accuracy:  \t 0.763 \t test_loss:  \t 0.457 \t test_accuracy:  \t 0.757 \t\n",
      "epoch: \t 21 \t loss:  \t 0.438 \t accuracy:  \t 0.761 \t test_loss:  \t 0.445 \t test_accuracy:  \t 0.754 \t\n",
      "epoch: \t 22 \t loss:  \t 0.431 \t accuracy:  \t 0.76 \t test_loss:  \t 0.438 \t test_accuracy:  \t 0.753 \t\n",
      "epoch: \t 23 \t loss:  \t 0.431 \t accuracy:  \t 0.786 \t test_loss:  \t 0.439 \t test_accuracy:  \t 0.779 \t\n",
      "epoch: \t 24 \t loss:  \t 0.419 \t accuracy:  \t 0.782 \t test_loss:  \t 0.427 \t test_accuracy:  \t 0.774 \t\n",
      "epoch: \t 25 \t loss:  \t 0.415 \t accuracy:  \t 0.767 \t test_loss:  \t 0.423 \t test_accuracy:  \t 0.759 \t\n",
      "epoch: \t 26 \t loss:  \t 0.405 \t accuracy:  \t 0.774 \t test_loss:  \t 0.413 \t test_accuracy:  \t 0.766 \t\n",
      "epoch: \t 27 \t loss:  \t 0.398 \t accuracy:  \t 0.781 \t test_loss:  \t 0.407 \t test_accuracy:  \t 0.77 \t\n",
      "epoch: \t 28 \t loss:  \t 0.396 \t accuracy:  \t 0.803 \t test_loss:  \t 0.405 \t test_accuracy:  \t 0.791 \t\n",
      "epoch: \t 29 \t loss:  \t 0.387 \t accuracy:  \t 0.783 \t test_loss:  \t 0.395 \t test_accuracy:  \t 0.772 \t\n",
      "epoch: \t 30 \t loss:  \t 0.383 \t accuracy:  \t 0.839 \t test_loss:  \t 0.392 \t test_accuracy:  \t 0.832 \t\n",
      "epoch: \t 31 \t loss:  \t 0.376 \t accuracy:  \t 0.803 \t test_loss:  \t 0.385 \t test_accuracy:  \t 0.797 \t\n",
      "epoch: \t 32 \t loss:  \t 0.371 \t accuracy:  \t 0.836 \t test_loss:  \t 0.38 \t test_accuracy:  \t 0.83 \t\n",
      "epoch: \t 33 \t loss:  \t 0.366 \t accuracy:  \t 0.845 \t test_loss:  \t 0.375 \t test_accuracy:  \t 0.837 \t\n",
      "epoch: \t 34 \t loss:  \t 0.36 \t accuracy:  \t 0.812 \t test_loss:  \t 0.369 \t test_accuracy:  \t 0.806 \t\n",
      "epoch: \t 35 \t loss:  \t 0.366 \t accuracy:  \t 0.864 \t test_loss:  \t 0.376 \t test_accuracy:  \t 0.855 \t\n",
      "epoch: \t 36 \t loss:  \t 0.354 \t accuracy:  \t 0.819 \t test_loss:  \t 0.364 \t test_accuracy:  \t 0.813 \t\n",
      "epoch: \t 37 \t loss:  \t 0.347 \t accuracy:  \t 0.846 \t test_loss:  \t 0.356 \t test_accuracy:  \t 0.839 \t\n",
      "epoch: \t 38 \t loss:  \t 0.346 \t accuracy:  \t 0.863 \t test_loss:  \t 0.356 \t test_accuracy:  \t 0.852 \t\n",
      "epoch: \t 39 \t loss:  \t 0.344 \t accuracy:  \t 0.818 \t test_loss:  \t 0.352 \t test_accuracy:  \t 0.813 \t\n",
      "epoch: \t 40 \t loss:  \t 0.336 \t accuracy:  \t 0.866 \t test_loss:  \t 0.345 \t test_accuracy:  \t 0.855 \t\n",
      "epoch: \t 41 \t loss:  \t 0.336 \t accuracy:  \t 0.829 \t test_loss:  \t 0.345 \t test_accuracy:  \t 0.826 \t\n",
      "epoch: \t 42 \t loss:  \t 0.329 \t accuracy:  \t 0.865 \t test_loss:  \t 0.338 \t test_accuracy:  \t 0.857 \t\n",
      "epoch: \t 43 \t loss:  \t 0.327 \t accuracy:  \t 0.864 \t test_loss:  \t 0.337 \t test_accuracy:  \t 0.853 \t\n",
      "epoch: \t 44 \t loss:  \t 0.323 \t accuracy:  \t 0.868 \t test_loss:  \t 0.332 \t test_accuracy:  \t 0.858 \t\n",
      "epoch: \t 45 \t loss:  \t 0.32 \t accuracy:  \t 0.876 \t test_loss:  \t 0.33 \t test_accuracy:  \t 0.865 \t\n",
      "epoch: \t 46 \t loss:  \t 0.321 \t accuracy:  \t 0.886 \t test_loss:  \t 0.331 \t test_accuracy:  \t 0.88 \t\n",
      "epoch: \t 47 \t loss:  \t 0.315 \t accuracy:  \t 0.872 \t test_loss:  \t 0.324 \t test_accuracy:  \t 0.862 \t\n",
      "epoch: \t 48 \t loss:  \t 0.316 \t accuracy:  \t 0.863 \t test_loss:  \t 0.326 \t test_accuracy:  \t 0.853 \t\n",
      "epoch: \t 49 \t loss:  \t 0.312 \t accuracy:  \t 0.887 \t test_loss:  \t 0.322 \t test_accuracy:  \t 0.879 \t\n",
      "epoch: \t 50 \t loss:  \t 0.308 \t accuracy:  \t 0.882 \t test_loss:  \t 0.317 \t test_accuracy:  \t 0.871 \t\n",
      "epoch: \t 51 \t loss:  \t 0.306 \t accuracy:  \t 0.882 \t test_loss:  \t 0.316 \t test_accuracy:  \t 0.872 \t\n",
      "epoch: \t 52 \t loss:  \t 0.306 \t accuracy:  \t 0.869 \t test_loss:  \t 0.315 \t test_accuracy:  \t 0.863 \t\n",
      "epoch: \t 53 \t loss:  \t 0.302 \t accuracy:  \t 0.884 \t test_loss:  \t 0.311 \t test_accuracy:  \t 0.876 \t\n",
      "epoch: \t 54 \t loss:  \t 0.312 \t accuracy:  \t 0.888 \t test_loss:  \t 0.324 \t test_accuracy:  \t 0.885 \t\n",
      "epoch: \t 55 \t loss:  \t 0.302 \t accuracy:  \t 0.885 \t test_loss:  \t 0.312 \t test_accuracy:  \t 0.881 \t\n",
      "epoch: \t 56 \t loss:  \t 0.299 \t accuracy:  \t 0.88 \t test_loss:  \t 0.308 \t test_accuracy:  \t 0.874 \t\n",
      "epoch: \t 57 \t loss:  \t 0.298 \t accuracy:  \t 0.886 \t test_loss:  \t 0.309 \t test_accuracy:  \t 0.883 \t\n",
      "epoch: \t 58 \t loss:  \t 0.295 \t accuracy:  \t 0.892 \t test_loss:  \t 0.305 \t test_accuracy:  \t 0.889 \t\n",
      "epoch: \t 59 \t loss:  \t 0.297 \t accuracy:  \t 0.89 \t test_loss:  \t 0.307 \t test_accuracy:  \t 0.887 \t\n",
      "epoch: \t 60 \t loss:  \t 0.292 \t accuracy:  \t 0.895 \t test_loss:  \t 0.302 \t test_accuracy:  \t 0.891 \t\n",
      "epoch: \t 61 \t loss:  \t 0.291 \t accuracy:  \t 0.891 \t test_loss:  \t 0.3 \t test_accuracy:  \t 0.884 \t\n",
      "epoch: \t 62 \t loss:  \t 0.29 \t accuracy:  \t 0.894 \t test_loss:  \t 0.3 \t test_accuracy:  \t 0.889 \t\n",
      "epoch: \t 63 \t loss:  \t 0.288 \t accuracy:  \t 0.892 \t test_loss:  \t 0.297 \t test_accuracy:  \t 0.889 \t\n",
      "epoch: \t 64 \t loss:  \t 0.298 \t accuracy:  \t 0.887 \t test_loss:  \t 0.31 \t test_accuracy:  \t 0.885 \t\n",
      "epoch: \t 65 \t loss:  \t 0.29 \t accuracy:  \t 0.878 \t test_loss:  \t 0.299 \t test_accuracy:  \t 0.875 \t\n",
      "epoch: \t 66 \t loss:  \t 0.284 \t accuracy:  \t 0.895 \t test_loss:  \t 0.294 \t test_accuracy:  \t 0.891 \t\n",
      "epoch: \t 67 \t loss:  \t 0.286 \t accuracy:  \t 0.886 \t test_loss:  \t 0.296 \t test_accuracy:  \t 0.883 \t\n",
      "epoch: \t 68 \t loss:  \t 0.288 \t accuracy:  \t 0.878 \t test_loss:  \t 0.297 \t test_accuracy:  \t 0.877 \t\n",
      "epoch: \t 69 \t loss:  \t 0.293 \t accuracy:  \t 0.892 \t test_loss:  \t 0.305 \t test_accuracy:  \t 0.888 \t\n",
      "epoch: \t 70 \t loss:  \t 0.28 \t accuracy:  \t 0.897 \t test_loss:  \t 0.29 \t test_accuracy:  \t 0.894 \t\n",
      "epoch: \t 71 \t loss:  \t 0.28 \t accuracy:  \t 0.894 \t test_loss:  \t 0.289 \t test_accuracy:  \t 0.891 \t\n",
      "epoch: \t 72 \t loss:  \t 0.278 \t accuracy:  \t 0.899 \t test_loss:  \t 0.288 \t test_accuracy:  \t 0.895 \t\n",
      "epoch: \t 73 \t loss:  \t 0.28 \t accuracy:  \t 0.896 \t test_loss:  \t 0.291 \t test_accuracy:  \t 0.892 \t\n",
      "epoch: \t 74 \t loss:  \t 0.281 \t accuracy:  \t 0.882 \t test_loss:  \t 0.29 \t test_accuracy:  \t 0.879 \t\n",
      "epoch: \t 75 \t loss:  \t 0.275 \t accuracy:  \t 0.895 \t test_loss:  \t 0.284 \t test_accuracy:  \t 0.89 \t\n",
      "epoch: \t 76 \t loss:  \t 0.274 \t accuracy:  \t 0.896 \t test_loss:  \t 0.284 \t test_accuracy:  \t 0.892 \t\n",
      "epoch: \t 77 \t loss:  \t 0.273 \t accuracy:  \t 0.897 \t test_loss:  \t 0.284 \t test_accuracy:  \t 0.894 \t\n",
      "epoch: \t 78 \t loss:  \t 0.271 \t accuracy:  \t 0.899 \t test_loss:  \t 0.282 \t test_accuracy:  \t 0.895 \t\n",
      "epoch: \t 79 \t loss:  \t 0.272 \t accuracy:  \t 0.898 \t test_loss:  \t 0.283 \t test_accuracy:  \t 0.896 \t\n",
      "epoch: \t 80 \t loss:  \t 0.272 \t accuracy:  \t 0.896 \t test_loss:  \t 0.281 \t test_accuracy:  \t 0.892 \t\n",
      "epoch: \t 81 \t loss:  \t 0.271 \t accuracy:  \t 0.899 \t test_loss:  \t 0.282 \t test_accuracy:  \t 0.896 \t\n",
      "epoch: \t 82 \t loss:  \t 0.267 \t accuracy:  \t 0.9 \t test_loss:  \t 0.278 \t test_accuracy:  \t 0.897 \t\n",
      "epoch: \t 83 \t loss:  \t 0.271 \t accuracy:  \t 0.898 \t test_loss:  \t 0.283 \t test_accuracy:  \t 0.896 \t\n"
     ]
    },
    {
     "name": "stdout",
     "output_type": "stream",
     "text": [
      "epoch: \t 84 \t loss:  \t 0.274 \t accuracy:  \t 0.888 \t test_loss:  \t 0.283 \t test_accuracy:  \t 0.887 \t\n",
      "epoch: \t 85 \t loss:  \t 0.275 \t accuracy:  \t 0.899 \t test_loss:  \t 0.287 \t test_accuracy:  \t 0.895 \t\n",
      "epoch: \t 86 \t loss:  \t 0.266 \t accuracy:  \t 0.899 \t test_loss:  \t 0.276 \t test_accuracy:  \t 0.897 \t\n",
      "epoch: \t 87 \t loss:  \t 0.269 \t accuracy:  \t 0.895 \t test_loss:  \t 0.281 \t test_accuracy:  \t 0.895 \t\n",
      "epoch: \t 88 \t loss:  \t 0.264 \t accuracy:  \t 0.9 \t test_loss:  \t 0.275 \t test_accuracy:  \t 0.897 \t\n",
      "epoch: \t 89 \t loss:  \t 0.266 \t accuracy:  \t 0.901 \t test_loss:  \t 0.277 \t test_accuracy:  \t 0.9 \t\n",
      "epoch: \t 90 \t loss:  \t 0.264 \t accuracy:  \t 0.902 \t test_loss:  \t 0.275 \t test_accuracy:  \t 0.9 \t\n",
      "epoch: \t 91 \t loss:  \t 0.272 \t accuracy:  \t 0.896 \t test_loss:  \t 0.285 \t test_accuracy:  \t 0.895 \t\n",
      "epoch: \t 92 \t loss:  \t 0.261 \t accuracy:  \t 0.904 \t test_loss:  \t 0.272 \t test_accuracy:  \t 0.899 \t\n",
      "epoch: \t 93 \t loss:  \t 0.26 \t accuracy:  \t 0.904 \t test_loss:  \t 0.271 \t test_accuracy:  \t 0.902 \t\n",
      "epoch: \t 94 \t loss:  \t 0.259 \t accuracy:  \t 0.905 \t test_loss:  \t 0.27 \t test_accuracy:  \t 0.903 \t\n",
      "epoch: \t 95 \t loss:  \t 0.259 \t accuracy:  \t 0.905 \t test_loss:  \t 0.27 \t test_accuracy:  \t 0.902 \t\n",
      "epoch: \t 96 \t loss:  \t 0.267 \t accuracy:  \t 0.893 \t test_loss:  \t 0.276 \t test_accuracy:  \t 0.891 \t\n",
      "epoch: \t 97 \t loss:  \t 0.258 \t accuracy:  \t 0.905 \t test_loss:  \t 0.269 \t test_accuracy:  \t 0.902 \t\n",
      "epoch: \t 98 \t loss:  \t 0.259 \t accuracy:  \t 0.903 \t test_loss:  \t 0.269 \t test_accuracy:  \t 0.901 \t\n",
      "epoch: \t 99 \t loss:  \t 0.257 \t accuracy:  \t 0.905 \t test_loss:  \t 0.268 \t test_accuracy:  \t 0.903 \t\n"
     ]
    }
   ],
   "source": [
    "for epoch in range(epochs):\n",
    "    for x,y in train_dl:\n",
    "        y_pred = model(x)\n",
    "        loss = loss_fn(y_pred,y)\n",
    "        opt.zero_grad()\n",
    "        loss.backward()\n",
    "        opt.step()\n",
    "    with torch.no_grad():\n",
    "        epoch_accuracy = accuracy(model(train_x),train_y)\n",
    "        epoch_loss = loss_fn(model(train_x),train_y).data\n",
    "        \n",
    "        epoch_test_accuracy = accuracy(model(test_x),test_y)\n",
    "        epoch_test_loss = loss_fn(model(test_x),test_y).data\n",
    "        \n",
    "        print(\"epoch:\",\"\\t\",epoch,\"\\t\",\"loss: \",\"\\t\",round(epoch_loss.item(),3),\"\\t\",\n",
    "                             \"accuracy: \",\"\\t\",round(epoch_accuracy.item(),3),\"\\t\",\n",
    "                             \"test_loss: \",\"\\t\",round(epoch_test_loss.item(),3),\"\\t\",\n",
    "                             \"test_accuracy: \",\"\\t\",round(epoch_test_accuracy.item(),3),\"\\t\"\n",
    "             )\n",
    "        "
   ]
  }
 ],
 "metadata": {
  "kernelspec": {
   "display_name": "Python 3 (ipykernel)",
   "language": "python",
   "name": "python3"
  },
  "language_info": {
   "codemirror_mode": {
    "name": "ipython",
    "version": 3
   },
   "file_extension": ".py",
   "mimetype": "text/x-python",
   "name": "python",
   "nbconvert_exporter": "python",
   "pygments_lexer": "ipython3",
   "version": "3.8.12"
  }
 },
 "nbformat": 4,
 "nbformat_minor": 5
}
