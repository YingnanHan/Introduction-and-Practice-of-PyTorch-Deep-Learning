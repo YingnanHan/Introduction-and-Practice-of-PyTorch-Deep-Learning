{
 "cells": [
  {
   "cell_type": "code",
   "execution_count": 1,
   "id": "2983e975",
   "metadata": {},
   "outputs": [],
   "source": [
    "import torch\n",
    "import torch.nn as nn\n",
    "import torch.nn.functional as F\n",
    "import torch.optim as optim\n",
    "import numpy as np\n",
    "import matplotlib.pyplot as plt\n",
    "%matplotlib inline"
   ]
  },
  {
   "cell_type": "code",
   "execution_count": 2,
   "id": "d08e38bd",
   "metadata": {},
   "outputs": [],
   "source": [
    "device = torch.device(\"cuda:0\" if torch.cuda.is_available() else \"cpu\")"
   ]
  },
  {
   "cell_type": "markdown",
   "id": "5eeeda39",
   "metadata": {},
   "source": [
    "#### 准备数据"
   ]
  },
  {
   "cell_type": "markdown",
   "id": "d420c791",
   "metadata": {},
   "source": [
    "torchvision模块内置了常用的数据集和常见的模型"
   ]
  },
  {
   "cell_type": "code",
   "execution_count": 3,
   "id": "d61a3e95",
   "metadata": {},
   "outputs": [],
   "source": [
    "import torchvision"
   ]
  },
  {
   "cell_type": "code",
   "execution_count": 4,
   "id": "c4656256",
   "metadata": {},
   "outputs": [],
   "source": [
    "from torchvision import datasets  # 导入torchvision中的数据集\n",
    "from torchvision import transforms# 导入转换数据工具的工具集"
   ]
  },
  {
   "cell_type": "code",
   "execution_count": 5,
   "id": "50559048",
   "metadata": {},
   "outputs": [],
   "source": [
    "# transforms.ToTensor()    \n",
    "#                         ①将任何类型的输入数据转换为一个Tensor,\n",
    "#                         ②归一化,\n",
    "#                         ③将数据化图像的channel放在第一维\n",
    "# transforms.Normalize()   将任何类型的数据标准化到-1~1之间"
   ]
  },
  {
   "cell_type": "code",
   "execution_count": 6,
   "id": "c27b3c8a",
   "metadata": {},
   "outputs": [],
   "source": [
    "transformation = transforms.Compose([ # 定义需要对数据集进行的数据转换\n",
    "    transforms.ToTensor(),\n",
    "    #transforms.Normalize()\n",
    "])"
   ]
  },
  {
   "cell_type": "code",
   "execution_count": 7,
   "id": "66460f6e",
   "metadata": {},
   "outputs": [
    {
     "name": "stdout",
     "output_type": "stream",
     "text": [
      "Downloading http://yann.lecun.com/exdb/mnist/train-images-idx3-ubyte.gz\n",
      "Downloading http://yann.lecun.com/exdb/mnist/train-images-idx3-ubyte.gz to data/MNIST\\raw\\train-images-idx3-ubyte.gz\n"
     ]
    },
    {
     "data": {
      "application/vnd.jupyter.widget-view+json": {
       "model_id": "6de703ec7939414c943042c7bc53a516",
       "version_major": 2,
       "version_minor": 0
      },
      "text/plain": [
       "  0%|          | 0/9912422 [00:00<?, ?it/s]"
      ]
     },
     "metadata": {},
     "output_type": "display_data"
    },
    {
     "name": "stdout",
     "output_type": "stream",
     "text": [
      "Extracting data/MNIST\\raw\\train-images-idx3-ubyte.gz to data/MNIST\\raw\n",
      "\n",
      "Downloading http://yann.lecun.com/exdb/mnist/train-labels-idx1-ubyte.gz\n",
      "Downloading http://yann.lecun.com/exdb/mnist/train-labels-idx1-ubyte.gz to data/MNIST\\raw\\train-labels-idx1-ubyte.gz\n"
     ]
    },
    {
     "data": {
      "application/vnd.jupyter.widget-view+json": {
       "model_id": "16cab226bf02424f85f33d82369497e0",
       "version_major": 2,
       "version_minor": 0
      },
      "text/plain": [
       "  0%|          | 0/28881 [00:00<?, ?it/s]"
      ]
     },
     "metadata": {},
     "output_type": "display_data"
    },
    {
     "name": "stdout",
     "output_type": "stream",
     "text": [
      "Extracting data/MNIST\\raw\\train-labels-idx1-ubyte.gz to data/MNIST\\raw\n",
      "\n",
      "Downloading http://yann.lecun.com/exdb/mnist/t10k-images-idx3-ubyte.gz\n",
      "Downloading http://yann.lecun.com/exdb/mnist/t10k-images-idx3-ubyte.gz to data/MNIST\\raw\\t10k-images-idx3-ubyte.gz\n"
     ]
    },
    {
     "data": {
      "application/vnd.jupyter.widget-view+json": {
       "model_id": "327b5556d6ae4ae38581ce4faf53137d",
       "version_major": 2,
       "version_minor": 0
      },
      "text/plain": [
       "  0%|          | 0/1648877 [00:00<?, ?it/s]"
      ]
     },
     "metadata": {},
     "output_type": "display_data"
    },
    {
     "name": "stdout",
     "output_type": "stream",
     "text": [
      "Extracting data/MNIST\\raw\\t10k-images-idx3-ubyte.gz to data/MNIST\\raw\n",
      "\n",
      "Downloading http://yann.lecun.com/exdb/mnist/t10k-labels-idx1-ubyte.gz\n",
      "Downloading http://yann.lecun.com/exdb/mnist/t10k-labels-idx1-ubyte.gz to data/MNIST\\raw\\t10k-labels-idx1-ubyte.gz\n"
     ]
    },
    {
     "data": {
      "application/vnd.jupyter.widget-view+json": {
       "model_id": "08ef9c2398414adcbc98ea5cd12678cf",
       "version_major": 2,
       "version_minor": 0
      },
      "text/plain": [
       "  0%|          | 0/4542 [00:00<?, ?it/s]"
      ]
     },
     "metadata": {},
     "output_type": "display_data"
    },
    {
     "name": "stdout",
     "output_type": "stream",
     "text": [
      "Extracting data/MNIST\\raw\\t10k-labels-idx1-ubyte.gz to data/MNIST\\raw\n",
      "\n"
     ]
    }
   ],
   "source": [
    "# 创建Dataset\n",
    "train_ds = datasets.MNIST(\n",
    "                          \"data/\",                   # 将数据集下载，并存储到指定目录\n",
    "                          train = True,              # 设定本数据集是否作为训练数据\n",
    "                          transform = transformation,# 设定数据集需要做何种变换\n",
    "                          download = True            # 是否将数据及下载到本地\n",
    "                         )                           # 得到手写数字识别数据集MNIST\n",
    "test_ds = datasets.MNIST(\n",
    "                         \"data/\",\n",
    "                         train = False,\n",
    "                         transform = transformation,\n",
    "                         download = True\n",
    "                        )"
   ]
  },
  {
   "cell_type": "code",
   "execution_count": 8,
   "id": "80e09daa",
   "metadata": {},
   "outputs": [],
   "source": [
    "# 创建DataLoader\n",
    "train_dl = torch.utils.data.DataLoader(train_ds,batch_size = 64,shuffle = True)\n",
    "test_dl  = torch.utils.data.DataLoader(test_ds,batch_size = 256,shuffle = False)"
   ]
  },
  {
   "cell_type": "code",
   "execution_count": 9,
   "id": "0a03d00d",
   "metadata": {},
   "outputs": [],
   "source": [
    "# 查看数据\n",
    "imgs,label = next(iter(train_dl))"
   ]
  },
  {
   "cell_type": "code",
   "execution_count": 10,
   "id": "b47b22a9",
   "metadata": {},
   "outputs": [
    {
     "data": {
      "text/plain": [
       "torch.Size([64, 1, 28, 28])"
      ]
     },
     "execution_count": 10,
     "metadata": {},
     "output_type": "execute_result"
    }
   ],
   "source": [
    "imgs.shape                                           # 批量图像的数字形式格式为[图像数量,通道数,高,宽] 也即 [batch,channel,,height,width]  "
   ]
  },
  {
   "cell_type": "code",
   "execution_count": 11,
   "id": "a863de5e",
   "metadata": {},
   "outputs": [
    {
     "name": "stdout",
     "output_type": "stream",
     "text": [
      "tensor(2)\n"
     ]
    },
    {
     "data": {
      "image/png": "[encoded data removed]",
      "text/plain": [
       "<Figure size 432x288 with 1 Axes>"
      ]
     },
     "metadata": {
      "needs_background": "light"
     },
     "output_type": "display_data"
    }
   ],
   "source": [
    "img = imgs[0]                                        # 取出一张图片数据 并进行图形化展示\n",
    "img = img.numpy()                                    # 将图像从torch转化为numpy\n",
    "img = np.squeeze(img)                                # 将多余的通道方向上的维度去掉\n",
    "plt.imshow(img)                                      # 绘制图像\n",
    "print(label[0])                                      # 输出改图项的正确标签"
   ]
  },
  {
   "cell_type": "code",
   "execution_count": 12,
   "id": "3deae400",
   "metadata": {},
   "outputs": [],
   "source": [
    "# 自定义绘图函数\n",
    "def imshow(img):\n",
    "    npimg = img.numpy()\n",
    "    npimg = np.squeeze(npimg)\n",
    "    plt.imshow(npimg)"
   ]
  },
  {
   "cell_type": "code",
   "execution_count": 13,
   "id": "25bb3a29",
   "metadata": {},
   "outputs": [
    {
     "name": "stdout",
     "output_type": "stream",
     "text": [
      "tensor(2)\n",
      "tensor(6)\n",
      "tensor(6)\n",
      "tensor(5)\n",
      "tensor(3)\n",
      "tensor(0)\n",
      "tensor(6)\n",
      "tensor(9)\n",
      "tensor(2)\n",
      "tensor(1)\n"
     ]
    },
    {
     "data": {
      "image/png": "[encoded data removed]",
      "text/plain": [
       "<Figure size 720x72 with 10 Axes>"
      ]
     },
     "metadata": {
      "needs_background": "light"
     },
     "output_type": "display_data"
    }
   ],
   "source": [
    "# 测试自定义绘图函数\n",
    "plt.figure(figsize=(10,1))                            #自定义10张画布\n",
    "for i,img in enumerate(imgs[:10]):                    #对数据集中的前十张图片\n",
    "    plt.subplot(1,10,i+1)                             #指定在当前迭代到的位置绘制哪一张图片\n",
    "    imshow(img)                                       #绘制图片\n",
    "    print(label[i])                                   #按顺序输出各个图片所对应的标签   "
   ]
  },
  {
   "cell_type": "markdown",
   "id": "4d112610",
   "metadata": {},
   "source": [
    "#### 创建模型"
   ]
  },
  {
   "cell_type": "code",
   "execution_count": 14,
   "id": "b9090b7c",
   "metadata": {},
   "outputs": [],
   "source": [
    "class Model(nn.Module):\n",
    "    def __init__(self):\n",
    "        super().__init__()\n",
    "        self.linear_1 = nn.Linear(28*28,1200)\n",
    "        self.linear_2 = nn.Linear(1200,84)\n",
    "        self.linear_3 = nn.Linear(84,10)\n",
    "    \n",
    "    def forward(self,input):\n",
    "        x = input.view(-1,28*28)     # 将数据展平为一维数组\n",
    "        x = self.linear_1(x)\n",
    "        x = F.relu(x)\n",
    "        x = self.linear_2(x)\n",
    "        x = F.relu(x)\n",
    "        x = self.linear_3(x)\n",
    "        return x                     # 这里不需要使用sigmoid函数进行二分类"
   ]
  },
  {
   "cell_type": "code",
   "execution_count": 15,
   "id": "8df5145f",
   "metadata": {},
   "outputs": [],
   "source": [
    "def fit(model,trainloader,testloader,epoch):\n",
    "    correct = 0       # 记录正确率\n",
    "    total   = 0       # 记录训练样本总数量\n",
    "    running_loss = 0\n",
    "    \n",
    "    for x,y in trainloader:\n",
    "        x,y    = x.to(device),y.to(device)\n",
    "        y_pred = model(x)\n",
    "        loss   = loss_fn(y_pred,y)\n",
    "        optim.zero_grad()\n",
    "        loss.backward()\n",
    "        optim.step()\n",
    "        with torch.no_grad():\n",
    "            y_pred = torch.argmax(y_pred,dim=1)\n",
    "            correct+=(y_pred == y).sum().item()\n",
    "            total  += y.size(0)\n",
    "            running_loss += loss.item()\n",
    "    \n",
    "    epoch_loss = running_loss / len(trainloader.dataset) # 得到每一个样本在本epoch下的平均loss\n",
    "    epoch_acc  = correct / total # 得到整个样本的平均预测正确率\n",
    "    \n",
    "    test_correct      = 0       # 记录正确率\n",
    "    test_total        = 0       # 记录训练样本总数量\n",
    "    test_running_loss = 0\n",
    "    \n",
    "    with torch.no_grad():\n",
    "        for x,y in trainloader:\n",
    "            x,y    = x.to(device),y.to(device)\n",
    "            y_pred = model(x)\n",
    "            loss   = loss_fn(y_pred,y)\n",
    "            y_pred = torch.argmax(y_pred,dim=1)\n",
    "            test_correct+=(y_pred == y).sum().item()\n",
    "            test_total  += y.size(0)\n",
    "            test_running_loss += loss.item()\n",
    "    \n",
    "    epoch_test_loss = test_running_loss / len(testloader.dataset) # 得到每一个样本在本epoch下的平均loss\n",
    "    epoch_test_acc  = test_correct / test_total # 得到整个样本的平均预测正确率\n",
    "    \n",
    "    print(\n",
    "            \"epoch:\",\"\\t\",epoch,\"\\t\",\n",
    "            \"loss: \",\"\\t\",round(epoch_loss,3),\"\\t\",\n",
    "            \"accuracy: \",\"\\t\",round(epoch_acc,3),\"\\t\",\n",
    "            \"test_loss: \",\"\\t\",round(epoch_test_loss,3),\"\\t\",\n",
    "            \"test_accuracy: \",\"\\t\",round(epoch_test_acc,3),\"\\t\"\n",
    "        )\n",
    "    return epoch_loss,epoch_acc,epoch_test_loss,epoch_test_acc"
   ]
  },
  {
   "cell_type": "code",
   "execution_count": 16,
   "id": "99360a50",
   "metadata": {},
   "outputs": [],
   "source": [
    "model               = Model().to(device)\n",
    "loss_fn             = torch.nn.CrossEntropyLoss()      # 将损失函数定义为交叉熵函数\n",
    "optim               = torch.optim.Adam(model.parameters(),lr = 0.0001)\n",
    "epochs              = 20"
   ]
  },
  {
   "cell_type": "code",
   "execution_count": 17,
   "id": "7cac985f",
   "metadata": {},
   "outputs": [],
   "source": [
    "train_loss = []\n",
    "train_acc  = []\n",
    "test_loss  = []\n",
    "test_acc   = []"
   ]
  },
  {
   "cell_type": "code",
   "execution_count": null,
   "id": "07edd1ce",
   "metadata": {},
   "outputs": [
    {
     "name": "stdout",
     "output_type": "stream",
     "text": [
      "epoch: \t 0 \t loss:  \t 0.008 \t accuracy:  \t 0.871 \t test_loss:  \t 0.025 \t test_accuracy:  \t 0.925 \t\n"
     ]
    }
   ],
   "source": [
    "for epoch in range(epochs):\n",
    "    epoch_loss,epoch_acc,epoch_test_loss,epoch_test_acc = fit(model,train_dl,test_dl,epoch)\n",
    "    train_loss.append(epoch_loss)\n",
    "    train_acc.append(epoch_acc)\n",
    "    test_loss.append(epoch_test_loss)\n",
    "    test_acc.append(epoch_test_acc)"
   ]
  }
 ],
 "metadata": {
  "kernelspec": {
   "display_name": "Python 3 (ipykernel)",
   "language": "python",
   "name": "python3"
  },
  "language_info": {
   "codemirror_mode": {
    "name": "ipython",
    "version": 3
   },
   "file_extension": ".py",
   "mimetype": "text/x-python",
   "name": "python",
   "nbconvert_exporter": "python",
   "pygments_lexer": "ipython3",
   "version": "3.8.12"
  }
 },
 "nbformat": 4,
 "nbformat_minor": 5
}
