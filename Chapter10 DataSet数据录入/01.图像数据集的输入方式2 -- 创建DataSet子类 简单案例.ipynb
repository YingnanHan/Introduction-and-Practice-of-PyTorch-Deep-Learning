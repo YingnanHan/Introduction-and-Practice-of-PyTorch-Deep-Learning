{
 "cells": [
  {
   "cell_type": "code",
   "execution_count": 1,
   "id": "37636ac1",
   "metadata": {},
   "outputs": [],
   "source": [
    "import glob\n",
    "import matplotlib.pyplot as plt\n",
    "import numpy as np\n",
    "import os\n",
    "import shutil\n",
    "import torch\n",
    "import torch.nn as nn\n",
    "import torch.nn.functional as F\n",
    "import torch.optim as optim\n",
    "import torchvision\n",
    "from   PIL import Image\n",
    "from   torch.utils import data\n",
    "%matplotlib inline"
   ]
  },
  {
   "cell_type": "markdown",
   "id": "b2e803bb",
   "metadata": {},
   "source": [
    "##### 自定义输入Dataset类"
   ]
  },
  {
   "cell_type": "code",
   "execution_count": 2,
   "id": "feea0e7c",
   "metadata": {},
   "outputs": [],
   "source": [
    "# 自定义图片数据读取类\n",
    "#                  ① 继承Dataset   \n",
    "#                  ② 必须创建__getitem__ 实现切片  \n",
    "#                  ③ __len__() 实现len()可应用性\n",
    "\n",
    "class Mydataset(data.Dataset):\n",
    "    \n",
    "    def __init__(self,root):                             # 传入图片数据集的路径\n",
    "        self.imgs_path = root\n",
    "    \n",
    "    def __getitem__(self,index):                         # 实现对图片数据集的切片\n",
    "        img_path = self.imgs_path[index]\n",
    "        return img_path\n",
    "    \n",
    "    def __len__(self):                                   # 返回图片的数量\n",
    "        return len(self.imgs_path)"
   ]
  },
  {
   "cell_type": "code",
   "execution_count": 3,
   "id": "643048ca",
   "metadata": {},
   "outputs": [],
   "source": [
    "all_imgs_path   = glob.glob(r\"./data/dataset2/*.jpg\")                               # 返回所有以jpg结尾的文件的路径"
   ]
  },
  {
   "cell_type": "code",
   "execution_count": 4,
   "id": "21204129",
   "metadata": {},
   "outputs": [],
   "source": [
    "weather_dataset = Mydataset(all_imgs_path)                                          # 创建MyDataSet的实例"
   ]
  },
  {
   "cell_type": "code",
   "execution_count": 5,
   "id": "e13e4f0d",
   "metadata": {},
   "outputs": [],
   "source": [
    "wh_dl           = torch.utils.data.DataLoader(weather_dataset,batch_size=4)         # 创建DataLoader 设定每一次返回batch_size=4的BATCH"
   ]
  },
  {
   "cell_type": "code",
   "execution_count": 6,
   "id": "d66c7e63",
   "metadata": {},
   "outputs": [
    {
     "data": {
      "text/plain": [
       "['./data/dataset2\\\\cloudy1.jpg',\n",
       " './data/dataset2\\\\cloudy10.jpg',\n",
       " './data/dataset2\\\\cloudy100.jpg',\n",
       " './data/dataset2\\\\cloudy101.jpg']"
      ]
     },
     "execution_count": 6,
     "metadata": {},
     "output_type": "execute_result"
    }
   ],
   "source": [
    "next(iter(wh_dl)) "
   ]
  }
 ],
 "metadata": {
  "kernelspec": {
   "display_name": "Python 3",
   "language": "python",
   "name": "python3"
  },
  "language_info": {
   "codemirror_mode": {
    "name": "ipython",
    "version": 3
   },
   "file_extension": ".py",
   "mimetype": "text/x-python",
   "name": "python",
   "nbconvert_exporter": "python",
   "pygments_lexer": "ipython3",
   "version": "3.8.10"
  }
 },
 "nbformat": 4,
 "nbformat_minor": 5
}
