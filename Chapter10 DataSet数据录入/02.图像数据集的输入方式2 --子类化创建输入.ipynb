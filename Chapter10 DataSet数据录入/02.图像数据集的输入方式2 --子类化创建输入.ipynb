{
 "cells": [
  {
   "cell_type": "code",
   "execution_count": 1,
   "id": "9b79d111",
   "metadata": {},
   "outputs": [],
   "source": [
    "import glob\n",
    "import matplotlib.pyplot as plt\n",
    "import numpy as np\n",
    "import os\n",
    "import shutil\n",
    "import torch\n",
    "import torch.nn as nn\n",
    "import torch.nn.functional as F\n",
    "import torch.optim as optim\n",
    "import torchvision\n",
    "from   PIL import Image\n",
    "from   torch.utils import data\n",
    "from   torchvision import transforms\n",
    "%matplotlib inline"
   ]
  },
  {
   "cell_type": "markdown",
   "id": "7c3c8c85",
   "metadata": {},
   "source": [
    "##### 自定义Dataset类"
   ]
  },
  {
   "cell_type": "code",
   "execution_count": 2,
   "id": "a27378a8",
   "metadata": {},
   "outputs": [],
   "source": [
    "all_imgs_path   = glob.glob(r\"./data/dataset2/*.jpg\")      # 返回所有以jpg结尾的文件的路径\n",
    "species         = ['cloudy','rain','shine','sunrise']      # 定义类别列表\n",
    "species_to_idx  = dict((v,k) for k,v in enumerate(species))# 将类别数值化\n",
    "idx_to_species  = dict((k,v) for k,v in enumerate(species))# 将数字映射到类别\n",
    "all_lables      = []                                       # 保存所有图片的标签"
   ]
  },
  {
   "cell_type": "code",
   "execution_count": 3,
   "id": "907820cd",
   "metadata": {},
   "outputs": [],
   "source": [
    "for img in all_imgs_path:         # 对每一个路经对应的图片\n",
    "    for i,c in enumerate(species):# 考察其可能的种类\n",
    "        if c in img:              # 当图像类别确定下来后\n",
    "            all_lables.append(i)  # 令all_labels[<图片在文件夹中的序号>]=图像对应的类别"
   ]
  },
  {
   "cell_type": "code",
   "execution_count": 4,
   "id": "d2524851",
   "metadata": {},
   "outputs": [],
   "source": [
    "transform = transforms.Compose([\n",
    "    transforms.Resize((96,96)),\n",
    "    transforms.ToTensor(),\n",
    "     transforms.Normalize(mean=[0.5,0.5,0.5],std=[0.5,0.5,0.5])\n",
    "])"
   ]
  },
  {
   "cell_type": "code",
   "execution_count": null,
   "id": "3be9c3af",
   "metadata": {},
   "outputs": [],
   "source": [
    "class MyDataSet(data.Dataset):\n",
    "    \n",
    "    def __init__(self,img_paths,labels,transform):\n",
    "        self.imgs       = img_paths\n",
    "        self.labels     = labels\n",
    "        self.transforms = transform\n",
    "    \n",
    "    def __getitem__(self,index):\n",
    "        img             = self.imgs[index]        #获取图像路径\n",
    "        label           = self.labels[index]      #获取图像对应的标签\n",
    "        pil_img         = Image.open(img)         #获得图像对象\n",
    "        data            = self.transforms(pil_img)#将图像对象转化为数字形式\n",
    "        return data,label                         #返回图像数据以及对应标签\n",
    "    \n",
    "    def __len__(self):\n",
    "        return len(self.imgs)                     #返回数据数量  "
   ]
  }
 ],
 "metadata": {
  "kernelspec": {
   "display_name": "Python 3",
   "language": "python",
   "name": "python3"
  },
  "language_info": {
   "codemirror_mode": {
    "name": "ipython",
    "version": 3
   },
   "file_extension": ".py",
   "mimetype": "text/x-python",
   "name": "python",
   "nbconvert_exporter": "python",
   "pygments_lexer": "ipython3",
   "version": "3.8.10"
  }
 },
 "nbformat": 4,
 "nbformat_minor": 5
}
