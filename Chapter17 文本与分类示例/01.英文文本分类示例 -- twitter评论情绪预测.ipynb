{
 "cells": [
  {
   "cell_type": "markdown",
   "id": "febd98db",
   "metadata": {},
   "source": [
    "##### 导入必要的包"
   ]
  },
  {
   "cell_type": "code",
   "execution_count": 1,
   "id": "9c706384",
   "metadata": {},
   "outputs": [],
   "source": [
    "import torch\n",
    "import torchtext\n",
    "import torch.nn as nn\n",
    "import torch.nn.functional as F\n",
    "import numpy as np\n",
    "import pandas as pd\n",
    "import re\n",
    "from   sklearn.model_selection import train_test_split\n",
    "from   matplotlib import pyplot as plt"
   ]
  },
  {
   "cell_type": "markdown",
   "id": "2a54fde8",
   "metadata": {},
   "source": [
    "##### 读取数据"
   ]
  },
  {
   "cell_type": "code",
   "execution_count": 2,
   "id": "3461a13e",
   "metadata": {},
   "outputs": [
    {
     "data": {
      "text/plain": [
       "' 查看数据 '"
      ]
     },
     "execution_count": 2,
     "metadata": {},
     "output_type": "execute_result"
    }
   ],
   "source": [
    "''' 读取数据 '''\n",
    "data = pd.read_csv(\"./Tweets.csv\")\n",
    "''' 选出两列用于构造数据集 '''\n",
    "data = data[['airline_sentiment','text']]\n",
    "''' 查看数据 '''\n",
    "# data"
   ]
  },
  {
   "cell_type": "code",
   "execution_count": 3,
   "id": "48413597",
   "metadata": {},
   "outputs": [
    {
     "data": {
      "text/plain": [
       "' 查看评论中的情绪分类类型数量 '"
      ]
     },
     "execution_count": 3,
     "metadata": {},
     "output_type": "execute_result"
    }
   ],
   "source": [
    "''' 查看评论中的情绪分类类型数量 '''\n",
    "# data.airline_sentiment.unique()"
   ]
  },
  {
   "cell_type": "code",
   "execution_count": 4,
   "id": "a98c9258",
   "metadata": {},
   "outputs": [
    {
     "data": {
      "text/plain": [
       "' 判断是否有缺失值 '"
      ]
     },
     "execution_count": 4,
     "metadata": {},
     "output_type": "execute_result"
    }
   ],
   "source": [
    "''' 查看数据集的详情 '''\n",
    "''' 判断是否有缺失值 '''\n",
    "# data.info()"
   ]
  },
  {
   "cell_type": "code",
   "execution_count": 5,
   "id": "315ff7a7",
   "metadata": {},
   "outputs": [
    {
     "data": {
      "text/plain": [
       "' 判断是否有重复值 '"
      ]
     },
     "execution_count": 5,
     "metadata": {},
     "output_type": "execute_result"
    }
   ],
   "source": [
    "''' 判断是否有重复值 '''\n",
    "# data.duplicated().sum() #如果两个值是重复的则设置为True~1 反之则为False~0"
   ]
  },
  {
   "cell_type": "code",
   "execution_count": 6,
   "id": "51e7a2cb",
   "metadata": {},
   "outputs": [],
   "source": [
    "''' 就地删除重复值 '''\n",
    "data.drop_duplicates(inplace=True)"
   ]
  },
  {
   "cell_type": "code",
   "execution_count": 7,
   "id": "ffb2b929",
   "metadata": {},
   "outputs": [
    {
     "data": {
      "text/plain": [
       "' 查看不同种类情绪的数量 '"
      ]
     },
     "execution_count": 7,
     "metadata": {},
     "output_type": "execute_result"
    }
   ],
   "source": [
    "''' 查看不同种类情绪的数量 '''\n",
    "# data.airline_sentiment.value_counts()"
   ]
  },
  {
   "cell_type": "code",
   "execution_count": 8,
   "id": "76c4586d",
   "metadata": {},
   "outputs": [],
   "source": [
    "''' 将评论结果数据数值化 '''\n",
    "label = pd.factorize(data.airline_sentiment)[0]"
   ]
  },
  {
   "cell_type": "code",
   "execution_count": 9,
   "id": "781b067c",
   "metadata": {},
   "outputs": [
    {
     "data": {
      "text/plain": [
       "'  输出最后的数据集 '"
      ]
     },
     "execution_count": 9,
     "metadata": {},
     "output_type": "execute_result"
    }
   ],
   "source": [
    "''' 处理评论数据 '''\n",
    "tokren = re.compile('[A-Za-z]+')\n",
    "def pre_text(text):\n",
    "    text = tokren.findall(text)\n",
    "    text = [w.lower() for w in text] # 将文本转化为小写\n",
    "    return text\n",
    "x = data.text.apply(pre_text) #在数据集上对 text属性应用pre_text函数\n",
    "'''  输出最后的数据集 '''\n",
    "# x"
   ]
  },
  {
   "cell_type": "code",
   "execution_count": 10,
   "id": "bf08ba58",
   "metadata": {},
   "outputs": [],
   "source": [
    "''' 创建词表 '''\n",
    "\n",
    "# 将所有的单词添加到set中\n",
    "word_set = set()\n",
    "for t in x:\n",
    "    for word in t:\n",
    "        word_set.add(word)"
   ]
  },
  {
   "cell_type": "code",
   "execution_count": 11,
   "id": "a7737c74",
   "metadata": {},
   "outputs": [
    {
     "data": {
      "text/plain": [
       "' 查看一共需要考虑多少个单词  '"
      ]
     },
     "execution_count": 11,
     "metadata": {},
     "output_type": "execute_result"
    }
   ],
   "source": [
    "''' 查看一共需要考虑多少个单词  '''\n",
    "# len(word_set)"
   ]
  },
  {
   "cell_type": "code",
   "execution_count": 12,
   "id": "2962a50c",
   "metadata": {},
   "outputs": [],
   "source": [
    "''' 设置词表一共需要为多少个单词进行编码 '''\n",
    "max_word = len(word_set) + 1  # +1表示unknown"
   ]
  },
  {
   "cell_type": "code",
   "execution_count": 13,
   "id": "2f27eeca",
   "metadata": {},
   "outputs": [],
   "source": [
    "word_list = list(word_set)"
   ]
  },
  {
   "cell_type": "code",
   "execution_count": 14,
   "id": "7f9d14c9",
   "metadata": {},
   "outputs": [
    {
     "data": {
      "text/plain": [
       "'  查看某一个单词在列表中的index序号 '"
      ]
     },
     "execution_count": 14,
     "metadata": {},
     "output_type": "execute_result"
    }
   ],
   "source": [
    "'''  查看某一个单词在列表中的index序号 '''\n",
    "# word_list.index('you')"
   ]
  },
  {
   "cell_type": "code",
   "execution_count": 15,
   "id": "b32884fc",
   "metadata": {},
   "outputs": [],
   "source": [
    "word_to_index = dict((w,word_list.index(w)+1) for w in word_list) #0号位置存放unknown"
   ]
  },
  {
   "cell_type": "code",
   "execution_count": 16,
   "id": "d49e7ff0",
   "metadata": {},
   "outputs": [
    {
     "data": {
      "text/plain": [
       "' 查看所创建的词表 '"
      ]
     },
     "execution_count": 16,
     "metadata": {},
     "output_type": "execute_result"
    }
   ],
   "source": [
    "''' 查看所创建的词表 '''\n",
    "# word_to_index "
   ]
  },
  {
   "cell_type": "code",
   "execution_count": 17,
   "id": "9fd13f80",
   "metadata": {},
   "outputs": [],
   "source": [
    "x = x.apply(lambda t:[word_to_index.get(w,0) for w in t]) #将x中的文字编码为数值形式 t指的就是数据集x中的每一句话\n",
    "# x"
   ]
  },
  {
   "cell_type": "code",
   "execution_count": 18,
   "id": "d272d208",
   "metadata": {},
   "outputs": [],
   "source": [
    "''' 找出评论的最大长度 '''\n",
    "maxlen = max(len(t) for t in x)\n",
    "# maxlen"
   ]
  },
  {
   "cell_type": "code",
   "execution_count": 19,
   "id": "192ef058",
   "metadata": {},
   "outputs": [],
   "source": [
    "''' 简单起见，将评论长度全部填充为长度34 '''\n",
    "pad_x = [t + (maxlen-len(t))*[0] for t in x]"
   ]
  },
  {
   "cell_type": "code",
   "execution_count": 20,
   "id": "7b692c68",
   "metadata": {},
   "outputs": [],
   "source": [
    "pad_x = np.array(pad_x)"
   ]
  },
  {
   "cell_type": "code",
   "execution_count": 21,
   "id": "a4510762",
   "metadata": {},
   "outputs": [
    {
     "data": {
      "text/plain": [
       "' 填充过后的数据形状 '"
      ]
     },
     "execution_count": 21,
     "metadata": {},
     "output_type": "execute_result"
    }
   ],
   "source": [
    "''' 填充过后的数据形状 '''\n",
    "# pad_x.shape  "
   ]
  },
  {
   "cell_type": "code",
   "execution_count": 22,
   "id": "db266766",
   "metadata": {},
   "outputs": [],
   "source": [
    "# label.shape"
   ]
  },
  {
   "cell_type": "code",
   "execution_count": 23,
   "id": "65003252",
   "metadata": {},
   "outputs": [],
   "source": [
    "''' 切分数据集为测试&训练两部分 '''\n",
    "x_train,x_test,y_train,y_test = train_test_split(pad_x,label)"
   ]
  },
  {
   "cell_type": "code",
   "execution_count": 24,
   "id": "2551f3c7",
   "metadata": {},
   "outputs": [],
   "source": [
    "# x_train.shape"
   ]
  },
  {
   "cell_type": "code",
   "execution_count": 25,
   "id": "125a9bf1",
   "metadata": {},
   "outputs": [],
   "source": [
    "# x_test.shape"
   ]
  },
  {
   "cell_type": "code",
   "execution_count": 26,
   "id": "4ca2f0a9",
   "metadata": {},
   "outputs": [],
   "source": [
    "# y_train.shape"
   ]
  },
  {
   "cell_type": "code",
   "execution_count": 27,
   "id": "3a69bfa4",
   "metadata": {},
   "outputs": [],
   "source": [
    "# y_test.shape"
   ]
  },
  {
   "cell_type": "code",
   "execution_count": 28,
   "id": "1061c046",
   "metadata": {},
   "outputs": [],
   "source": [
    "class MyDataSet(torch.utils.data.Dataset):\n",
    "    def __init__(self,text,label):\n",
    "        self.text_array = text\n",
    "        self.label_array= label\n",
    "    \n",
    "    def __getitem__(self,index):\n",
    "        text = torch.LongTensor(self.text_array[index])\n",
    "        label= self.label_array[index]\n",
    "        return text,label\n",
    "        \n",
    "    def __len__(self):\n",
    "        return len(self.text_array)"
   ]
  },
  {
   "cell_type": "code",
   "execution_count": 29,
   "id": "347da8bc",
   "metadata": {},
   "outputs": [],
   "source": [
    "train_ds = MyDataSet(x_train,y_train)\n",
    "test_ds  = MyDataSet(x_test,y_test)"
   ]
  },
  {
   "cell_type": "code",
   "execution_count": 30,
   "id": "77fe0e98",
   "metadata": {},
   "outputs": [],
   "source": [
    "BATCH_SIZE = 32"
   ]
  },
  {
   "cell_type": "code",
   "execution_count": 31,
   "id": "b06ebd17",
   "metadata": {},
   "outputs": [],
   "source": [
    "train_dl = torch.utils.data.DataLoader(train_ds,batch_size=BATCH_SIZE,shuffle=True)\n",
    "test_dl  = torch.utils.data.DataLoader(test_ds ,batch_size=BATCH_SIZE,shuffle=True)"
   ]
  },
  {
   "cell_type": "markdown",
   "id": "753ec1c0",
   "metadata": {},
   "source": [
    "##### 创建模型 并测试(version01 全连接模型)"
   ]
  },
  {
   "cell_type": "code",
   "execution_count": 32,
   "id": "8633db70",
   "metadata": {},
   "outputs": [],
   "source": [
    "embedding_dim = 100"
   ]
  },
  {
   "cell_type": "code",
   "execution_count": 33,
   "id": "588920e4",
   "metadata": {},
   "outputs": [],
   "source": [
    "class Net01(nn.Module):\n",
    "    def __init__(self):\n",
    "        super(Net01,self).__init__()\n",
    "        self.em = nn.Embedding(max_word,embedding_dim)#将max_word个单词编码到embedding_dim维向量中  batch*maxlen*100\n",
    "        self.fc1= nn.Linear(maxlen*100,1024)\n",
    "        self.fc2= nn.Linear(1024,3)\n",
    "    \n",
    "    def forward(self,x):\n",
    "        x = self.em(x)\n",
    "        x = x.view(x.size(0),-1)\n",
    "        x = self.fc1(x)\n",
    "        x = F.relu(x)\n",
    "        x = self.fc2(x)\n",
    "        return x"
   ]
  },
  {
   "cell_type": "code",
   "execution_count": 34,
   "id": "57f23178",
   "metadata": {},
   "outputs": [],
   "source": [
    "model     = Net01()\n",
    "model     = model.to(\"cuda\")\n",
    "loss_fn   = nn.CrossEntropyLoss()\n",
    "optimizer = torch.optim.Adam(model.parameters(), lr=0.001)"
   ]
  },
  {
   "cell_type": "code",
   "execution_count": 35,
   "id": "7594f2d7",
   "metadata": {},
   "outputs": [],
   "source": [
    "def fit(epoch, model, trainloader, testloader):\n",
    "    correct      = 0\n",
    "    total        = 0\n",
    "    running_loss = 0\n",
    "    \n",
    "    model.train()\n",
    "    for x, y in trainloader:\n",
    "        x, y   = x.to(\"cuda\"), y.to(\"cuda\")\n",
    "        y_pred = model(x)\n",
    "        loss   = loss_fn(y_pred, y)\n",
    "        optimizer.zero_grad()\n",
    "        loss.backward()\n",
    "        optimizer.step()\n",
    "        with torch.no_grad():\n",
    "            y_pred        = torch.argmax(y_pred, dim=1)\n",
    "            correct      += (y_pred == y).sum().item()\n",
    "            total        += y.size(0)\n",
    "            running_loss += loss.item()\n",
    "#    exp_lr_scheduler.step()\n",
    "    epoch_loss = running_loss / len(trainloader.dataset)\n",
    "    epoch_acc  = correct / total\n",
    "        \n",
    "        \n",
    "    test_correct      = 0\n",
    "    test_total        = 0\n",
    "    test_running_loss = 0 \n",
    "    \n",
    "    model.eval()\n",
    "    with torch.no_grad():\n",
    "        for x, y in testloader:\n",
    "            x, y   = x.to(\"cuda\"), y.to(\"cuda\")\n",
    "            y_pred = model(x)\n",
    "            loss   = loss_fn(y_pred, y)\n",
    "            y_pred = torch.argmax(y_pred, dim=1)\n",
    "            test_correct      += (y_pred == y).sum().item()\n",
    "            test_total        += y.size(0)\n",
    "            test_running_loss += loss.item()\n",
    "    \n",
    "    epoch_test_loss = test_running_loss / len(testloader.dataset)\n",
    "    epoch_test_acc  = test_correct / test_total\n",
    "    \n",
    "        \n",
    "    print('epoch: ', epoch,'loss： ', round(epoch_loss, 3),'accuracy:', round(epoch_acc, 3),'test_loss： ', round(epoch_test_loss, 3),'test_accuracy:', round(epoch_test_acc, 3))\n",
    "        \n",
    "    return epoch_loss, epoch_acc, epoch_test_loss, epoch_test_acc"
   ]
  },
  {
   "cell_type": "code",
   "execution_count": 36,
   "id": "2a6b00b5",
   "metadata": {},
   "outputs": [],
   "source": [
    "epochs     = 10\n",
    "train_loss = []\n",
    "train_acc  = []\n",
    "test_loss  = []\n",
    "test_acc   = []"
   ]
  },
  {
   "cell_type": "code",
   "execution_count": 37,
   "id": "121362b9",
   "metadata": {},
   "outputs": [
    {
     "name": "stdout",
     "output_type": "stream",
     "text": [
      "epoch:  0 loss：  0.025 accuracy: 0.671 test_loss：  0.024 test_accuracy: 0.682\n",
      "epoch:  1 loss：  0.019 accuracy: 0.748 test_loss：  0.023 test_accuracy: 0.709\n",
      "epoch:  2 loss：  0.013 accuracy: 0.825 test_loss：  0.024 test_accuracy: 0.729\n",
      "epoch:  3 loss：  0.009 accuracy: 0.89 test_loss：  0.029 test_accuracy: 0.729\n",
      "epoch:  4 loss：  0.006 accuracy: 0.934 test_loss：  0.032 test_accuracy: 0.723\n",
      "epoch:  5 loss：  0.004 accuracy: 0.956 test_loss：  0.037 test_accuracy: 0.714\n",
      "epoch:  6 loss：  0.003 accuracy: 0.968 test_loss：  0.042 test_accuracy: 0.717\n",
      "epoch:  7 loss：  0.002 accuracy: 0.979 test_loss：  0.044 test_accuracy: 0.726\n",
      "epoch:  8 loss：  0.002 accuracy: 0.985 test_loss：  0.048 test_accuracy: 0.715\n",
      "epoch:  9 loss：  0.001 accuracy: 0.989 test_loss：  0.056 test_accuracy: 0.706\n"
     ]
    }
   ],
   "source": [
    "for epoch in range(epochs):\n",
    "    epoch_loss, epoch_acc, epoch_test_loss, epoch_test_acc = fit(epoch,model,train_dl,test_dl)\n",
    "    train_loss.append(epoch_loss)\n",
    "    train_acc.append(epoch_acc)\n",
    "    test_loss.append(epoch_test_loss)\n",
    "    test_acc.append(epoch_test_acc)"
   ]
  },
  {
   "cell_type": "code",
   "execution_count": 38,
   "id": "a1c34859",
   "metadata": {},
   "outputs": [
    {
     "data": {
      "text/plain": [
       "<matplotlib.legend.Legend at 0x12e0e799fd0>"
      ]
     },
     "execution_count": 38,
     "metadata": {},
     "output_type": "execute_result"
    },
    {
     "data": {
      "image/png": "[encoded data removed]",
      "text/plain": [
       "<Figure size 432x288 with 1 Axes>"
      ]
     },
     "metadata": {
      "needs_background": "light"
     },
     "output_type": "display_data"
    }
   ],
   "source": [
    "plt.plot(range(epochs), train_acc, c='r', label='train_acc')\n",
    "plt.plot(range(epochs), test_acc,  c='b', label='test_acc')\n",
    "plt.legend()"
   ]
  },
  {
   "cell_type": "code",
   "execution_count": 39,
   "id": "06def075",
   "metadata": {},
   "outputs": [
    {
     "data": {
      "text/plain": [
       "<matplotlib.legend.Legend at 0x12e0ea0feb0>"
      ]
     },
     "execution_count": 39,
     "metadata": {},
     "output_type": "execute_result"
    },
    {
     "data": {
      "image/png": "[encoded data removed]",
      "text/plain": [
       "<Figure size 432x288 with 1 Axes>"
      ]
     },
     "metadata": {
      "needs_background": "light"
     },
     "output_type": "display_data"
    }
   ],
   "source": [
    "plt.plot(range(epochs), train_loss, c='r', label='train_loss')\n",
    "plt.plot(range(epochs), test_loss,  c='b', label='test_loss')\n",
    "plt.legend()"
   ]
  },
  {
   "cell_type": "markdown",
   "id": "0e8c5369",
   "metadata": {},
   "source": [
    "##### 创建模型 并测试(version02 LSTM模型)"
   ]
  },
  {
   "cell_type": "code",
   "execution_count": 40,
   "id": "0c114b9e",
   "metadata": {},
   "outputs": [],
   "source": [
    "embedding_dim = 100\n",
    "hidden_size   = 200"
   ]
  },
  {
   "cell_type": "code",
   "execution_count": 41,
   "id": "e8471733",
   "metadata": {},
   "outputs": [],
   "source": [
    "class Net02(nn.Module):\n",
    "    def __init__(self,max_word,embedding_dim):\n",
    "        super(Net02,self).__init__()\n",
    "        self.em   = nn.Embedding(max_word,embedding_dim)#将max_word个单词编码到embedding_dim维向量中  batch*maxlen*100\n",
    "        self.lstm = nn.LSTM(embedding_dim,hidden_size,batch_first=True)\n",
    "        self.fc1  = nn.Linear(hidden_size,256)\n",
    "        self.fc2  = nn.Linear(256,3)\n",
    "    \n",
    "    def forward(self,x):\n",
    "        x   = self.em(x)\n",
    "        x,_ = self.lstm(x)\n",
    "        x   = self.fc1(x[:,-1,:])\n",
    "        x   = F.relu(x)\n",
    "        x   = self.fc2(x)\n",
    "        return x"
   ]
  },
  {
   "cell_type": "code",
   "execution_count": 42,
   "id": "de5c5dc2",
   "metadata": {},
   "outputs": [],
   "source": [
    "model     = Net02(max_word,embedding_dim)\n",
    "model     = model.to(\"cuda\")\n",
    "loss_fn   = nn.CrossEntropyLoss()\n",
    "optimizer = torch.optim.Adam(model.parameters(), lr=0.001)"
   ]
  },
  {
   "cell_type": "code",
   "execution_count": 43,
   "id": "ab530f45",
   "metadata": {},
   "outputs": [],
   "source": [
    "epochs     = 10\n",
    "train_loss = []\n",
    "train_acc  = []\n",
    "test_loss  = []\n",
    "test_acc   = []"
   ]
  },
  {
   "cell_type": "code",
   "execution_count": 44,
   "id": "c3a33c9b",
   "metadata": {},
   "outputs": [
    {
     "name": "stdout",
     "output_type": "stream",
     "text": [
      "epoch:  0 loss：  0.026 accuracy: 0.649 test_loss：  0.023 test_accuracy: 0.669\n",
      "epoch:  1 loss：  0.021 accuracy: 0.712 test_loss：  0.021 test_accuracy: 0.73\n",
      "epoch:  2 loss：  0.017 accuracy: 0.779 test_loss：  0.02 test_accuracy: 0.754\n",
      "epoch:  3 loss：  0.014 accuracy: 0.831 test_loss：  0.02 test_accuracy: 0.748\n",
      "epoch:  4 loss：  0.011 accuracy: 0.878 test_loss：  0.02 test_accuracy: 0.762\n",
      "epoch:  5 loss：  0.008 accuracy: 0.918 test_loss：  0.022 test_accuracy: 0.763\n",
      "epoch:  6 loss：  0.006 accuracy: 0.944 test_loss：  0.025 test_accuracy: 0.755\n",
      "epoch:  7 loss：  0.004 accuracy: 0.96 test_loss：  0.027 test_accuracy: 0.746\n",
      "epoch:  8 loss：  0.003 accuracy: 0.974 test_loss：  0.032 test_accuracy: 0.751\n",
      "epoch:  9 loss：  0.002 accuracy: 0.981 test_loss：  0.037 test_accuracy: 0.748\n"
     ]
    }
   ],
   "source": [
    "for epoch in range(epochs):\n",
    "    epoch_loss, epoch_acc, epoch_test_loss, epoch_test_acc = fit(epoch,model,train_dl,test_dl)\n",
    "    train_loss.append(epoch_loss)\n",
    "    train_acc.append(epoch_acc)\n",
    "    test_loss.append(epoch_test_loss)\n",
    "    test_acc.append(epoch_test_acc)"
   ]
  },
  {
   "cell_type": "code",
   "execution_count": 45,
   "id": "d7fad671",
   "metadata": {},
   "outputs": [
    {
     "data": {
      "text/plain": [
       "<matplotlib.legend.Legend at 0x12e0e7b9910>"
      ]
     },
     "execution_count": 45,
     "metadata": {},
     "output_type": "execute_result"
    },
    {
     "data": {
      "image/png": "[encoded data removed]",
      "text/plain": [
       "<Figure size 432x288 with 1 Axes>"
      ]
     },
     "metadata": {
      "needs_background": "light"
     },
     "output_type": "display_data"
    }
   ],
   "source": [
    "plt.plot(range(epochs), train_acc, c='r', label='train_acc')\n",
    "plt.plot(range(epochs), test_acc,  c='b', label='test_acc')\n",
    "plt.legend()"
   ]
  },
  {
   "cell_type": "code",
   "execution_count": 46,
   "id": "ece3c3ce",
   "metadata": {},
   "outputs": [
    {
     "data": {
      "text/plain": [
       "<matplotlib.legend.Legend at 0x12e0eac1eb0>"
      ]
     },
     "execution_count": 46,
     "metadata": {},
     "output_type": "execute_result"
    },
    {
     "data": {
      "image/png": "[encoded data removed]",
      "text/plain": [
       "<Figure size 432x288 with 1 Axes>"
      ]
     },
     "metadata": {
      "needs_background": "light"
     },
     "output_type": "display_data"
    }
   ],
   "source": [
    "plt.plot(range(epochs), train_loss, c='r', label='train_loss')\n",
    "plt.plot(range(epochs), test_loss,  c='b', label='test_loss')\n",
    "plt.legend()"
   ]
  }
 ],
 "metadata": {
  "kernelspec": {
   "display_name": "Python 3 (ipykernel)",
   "language": "python",
   "name": "python3"
  },
  "language_info": {
   "codemirror_mode": {
    "name": "ipython",
    "version": 3
   },
   "file_extension": ".py",
   "mimetype": "text/x-python",
   "name": "python",
   "nbconvert_exporter": "python",
   "pygments_lexer": "ipython3",
   "version": "3.8.12"
  }
 },
 "nbformat": 4,
 "nbformat_minor": 5
}
