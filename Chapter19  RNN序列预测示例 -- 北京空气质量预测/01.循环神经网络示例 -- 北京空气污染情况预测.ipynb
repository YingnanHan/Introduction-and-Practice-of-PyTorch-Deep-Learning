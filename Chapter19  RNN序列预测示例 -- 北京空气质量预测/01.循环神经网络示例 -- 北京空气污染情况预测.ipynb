{
 "cells": [
  {
   "cell_type": "markdown",
   "id": "6f781581",
   "metadata": {},
   "source": [
    "##### 导入必要的包"
   ]
  },
  {
   "cell_type": "code",
   "execution_count": 1,
   "id": "8ab9a869",
   "metadata": {},
   "outputs": [],
   "source": [
    "import datetime\n",
    "import torch\n",
    "import torch.nn as nn\n",
    "import torch.nn.functional as F\n",
    "import torchtext\n",
    "import math\n",
    "import matplotlib.pyplot as plt\n",
    "import numpy as np\n",
    "import pandas as pd\n",
    "from   torchtext.vocab import GloVe"
   ]
  },
  {
   "cell_type": "code",
   "execution_count": 2,
   "id": "e71addf1",
   "metadata": {},
   "outputs": [],
   "source": [
    "from   torchtext.data import Field\n",
    "from   torch.optim import lr_scheduler\n",
    "%matplotlib inline"
   ]
  },
  {
   "cell_type": "markdown",
   "id": "4245a623",
   "metadata": {},
   "source": [
    "##### 数据预处理"
   ]
  },
  {
   "cell_type": "code",
   "execution_count": 3,
   "id": "89242d2c",
   "metadata": {},
   "outputs": [],
   "source": [
    "data         = pd.read_csv(\"./PRSA_data_2010.1.1-2014.12.31.csv\")\n",
    "'''删除前24条PM2.5数值为NaN的条目并'''\n",
    "'''使用前向填充的方法填充PM2.5的NaN'''\n",
    "'''值，来近似保证数据的完整性与合理性'''\n",
    "data         = data.iloc[24:].fillna(method='ffill')\n",
    "'''合并多条时间数据(年月日)到一列当中'''\n",
    "data['time'] = data.apply(lambda x : datetime.datetime(year=x['year'],month=x['month'],day=x['day'],hour=x['hour']),axis=1)\n",
    "'''设置time为索引'''\n",
    "data         = data.set_index('time')\n",
    "'''删除年月日以及No列'''\n",
    "data         = data.drop(columns=['year', 'month', 'day', 'hour','No'])\n",
    "'''将风向数据独热编码化'''\n",
    "data         = data.join(pd.get_dummies(data.cbwd))\n",
    "'''删除年月日以及cbwd列'''\n",
    "data         = data.drop(columns=['cbwd'])\n",
    "\n",
    "seq_length   = 5*24  # 观测过去五天的特征数据\n",
    "delay_length = 1*24  # 预测未来一天的特征数据\n",
    "'''数据采样'''\n",
    "data_        = []\n",
    "for i in range(len(data)-seq_length-delay_length):\n",
    "    data_.append(data.iloc[i:i+seq_length+delay_length])\n",
    "data_        = np.array([df.values for df in data_],dtype=np.float32)\n",
    "'''数据乱序'''\n",
    "np.random.shuffle(data_)\n",
    "'''获取训练数据以及目标值'''\n",
    "x            = data_[:,:5*24,:]\n",
    "y            = data_[:,-1,0]\n",
    "'''切分数据集'''\n",
    "split_b      = int(data_.shape[0]*0.8)\n",
    "train_x      = x[:split_b]\n",
    "train_y      = y[:split_b]\n",
    "test_x       = x[split_b:]\n",
    "test_y       = y[split_b:]\n",
    "'''数据标准化'''\n",
    "mean         = train_x.mean(axis=0)  #在每一列上取均值\n",
    "std          = train_x.std(axis=0)   #在每一列上取方差\n",
    "train_x      = (train_x-mean) / std\n",
    "test_x       = (test_x-mean)  / std"
   ]
  },
  {
   "cell_type": "markdown",
   "id": "df216965",
   "metadata": {},
   "source": [
    "##### 创建DataSet"
   ]
  },
  {
   "cell_type": "code",
   "execution_count": 4,
   "id": "686b7a6f",
   "metadata": {},
   "outputs": [],
   "source": [
    "class My_Dataset(torch.utils.data.Dataset):\n",
    "    \n",
    "    def __init__(self,features,labels):\n",
    "        self.features = features\n",
    "        self.labels   = labels\n",
    "    \n",
    "    def __getitem__(self,index):\n",
    "        return self.features[index],self.labels[index]\n",
    "    \n",
    "    def __len__(self):\n",
    "        return len(self.features)"
   ]
  },
  {
   "cell_type": "code",
   "execution_count": 5,
   "id": "79f08d3e",
   "metadata": {},
   "outputs": [],
   "source": [
    "train_ds = My_Dataset(train_x,train_y)\n",
    "test_ds  = My_Dataset(test_x , test_y)\n",
    "train_dl = torch.utils.data.DataLoader(train_ds,batch_size=128,shuffle=True)\n",
    "test_dl  = torch.utils.data.DataLoader(test_ds ,batch_size=128)"
   ]
  },
  {
   "cell_type": "markdown",
   "id": "cd5e4dee",
   "metadata": {},
   "source": [
    "##### 构建模型"
   ]
  },
  {
   "cell_type": "code",
   "execution_count": 6,
   "id": "248b3102",
   "metadata": {},
   "outputs": [],
   "source": [
    "hidden_size = 64  # 设置64个隐藏层单元"
   ]
  },
  {
   "cell_type": "code",
   "execution_count": 7,
   "id": "37523aae",
   "metadata": {},
   "outputs": [],
   "source": [
    "class Net(nn.Module):\n",
    "    def __init__(self,hidden_size):\n",
    "        super(Net,self).__init__()\n",
    "        self.rnn = nn.LSTM(train_x.shape[-1],hidden_size,batch_first=True)\n",
    "        self.fc1 = nn.Linear(hidden_size,128)\n",
    "        self.fc2 = nn.Linear(128,1) # 回归问题 输出为1\n",
    "    \n",
    "    def forward(self,inputs):\n",
    "        _,s_o = self.rnn(inputs) # s_o是每一个时间步的中间状态列表\n",
    "        s_o   = s_o[-1]\n",
    "        x     = self.fc1(s_o)\n",
    "        x     = F.relu(x)\n",
    "        x     = F.dropout(x)\n",
    "        x     = self.fc2(x) # shape==（128X1） -> label shape 128\n",
    "        return torch.squeeze(x)\n",
    "    \n",
    "    "
   ]
  },
  {
   "cell_type": "code",
   "execution_count": 8,
   "id": "36269876",
   "metadata": {},
   "outputs": [],
   "source": [
    "model      = Net(hidden_size)\n",
    "model      = model.to(\"cuda\")\n",
    "loss_fn    = nn.MSELoss()\n",
    "optimizer  = torch.optim.Adam(model.parameters(),lr = 0.0001)\n",
    "epochs     = 60\n",
    "train_loss = []\n",
    "train_acc  = []\n",
    "test_loss  = []\n",
    "test_acc   = []"
   ]
  },
  {
   "cell_type": "markdown",
   "id": "841673a9",
   "metadata": {},
   "source": [
    "##### 训练模型"
   ]
  },
  {
   "cell_type": "code",
   "execution_count": 9,
   "id": "cdea09af",
   "metadata": {},
   "outputs": [],
   "source": [
    "def fit(epoch, model, trainloader, testloader):\n",
    "    total        = 0\n",
    "    running_loss = 0\n",
    "    \n",
    "    model.train()\n",
    "    for x, y in trainloader:\n",
    "        if torch.cuda.is_available():\n",
    "            x, y = x.to('cuda'), y.to('cuda')\n",
    "        y_pred   = model(x)\n",
    "        loss     = loss_fn(y_pred, y)\n",
    "        optimizer.zero_grad()\n",
    "        loss.backward()\n",
    "        optimizer.step()\n",
    "        with torch.no_grad():\n",
    "            total        += y.size(0)\n",
    "            running_loss += loss.item()\n",
    "    epoch_loss = running_loss / len(trainloader.dataset)\n",
    "        \n",
    "        \n",
    "    test_total        = 0\n",
    "    test_running_loss = 0 \n",
    "    \n",
    "    model.eval()\n",
    "    with torch.no_grad():\n",
    "        for x, y in testloader:\n",
    "            if torch.cuda.is_available():\n",
    "                x, y = x.to('cuda'), y.to('cuda')\n",
    "            y_pred   = model(x)\n",
    "            loss     = loss_fn(y_pred, y)\n",
    "            test_total        += y.size(0)\n",
    "            test_running_loss += loss.item()\n",
    "    \n",
    "    epoch_test_loss = test_running_loss / len(testloader.dataset)\n",
    "    print('\\tepoch:\\t\\t', epoch, '\\tloss:\\t\\t', str(round(epoch_loss, 2)).rjust(5),'\\ttest_loss:\\t\\t', str(round(epoch_test_loss, 2)).rjust(5))\n",
    "    return epoch_loss, epoch_test_loss"
   ]
  },
  {
   "cell_type": "code",
   "execution_count": 10,
   "id": "db3f5eb5",
   "metadata": {},
   "outputs": [
    {
     "name": "stdout",
     "output_type": "stream",
     "text": [
      "\tepoch:\t\t 0 \tloss:\t\t 121.75 \ttest_loss:\t\t 65.73\n",
      "\tepoch:\t\t 1 \tloss:\t\t 60.47 \ttest_loss:\t\t 60.28\n",
      "\tepoch:\t\t 2 \tloss:\t\t 57.84 \ttest_loss:\t\t 58.89\n",
      "\tepoch:\t\t 3 \tloss:\t\t 57.19 \ttest_loss:\t\t  58.2\n",
      "\tepoch:\t\t 4 \tloss:\t\t 56.71 \ttest_loss:\t\t 57.69\n",
      "\tepoch:\t\t 5 \tloss:\t\t 56.22 \ttest_loss:\t\t 57.72\n",
      "\tepoch:\t\t 6 \tloss:\t\t 55.66 \ttest_loss:\t\t 57.55\n",
      "\tepoch:\t\t 7 \tloss:\t\t 55.47 \ttest_loss:\t\t 56.58\n",
      "\tepoch:\t\t 8 \tloss:\t\t 54.39 \ttest_loss:\t\t 57.07\n",
      "\tepoch:\t\t 9 \tloss:\t\t 54.24 \ttest_loss:\t\t  55.3\n",
      "\tepoch:\t\t 10 \tloss:\t\t 53.73 \ttest_loss:\t\t 55.05\n",
      "\tepoch:\t\t 11 \tloss:\t\t 53.07 \ttest_loss:\t\t  54.6\n",
      "\tepoch:\t\t 12 \tloss:\t\t 52.68 \ttest_loss:\t\t 53.95\n",
      "\tepoch:\t\t 13 \tloss:\t\t 51.93 \ttest_loss:\t\t 53.97\n",
      "\tepoch:\t\t 14 \tloss:\t\t  51.8 \ttest_loss:\t\t 53.15\n",
      "\tepoch:\t\t 15 \tloss:\t\t 51.21 \ttest_loss:\t\t 52.77\n",
      "\tepoch:\t\t 16 \tloss:\t\t 51.09 \ttest_loss:\t\t  53.4\n",
      "\tepoch:\t\t 17 \tloss:\t\t 50.56 \ttest_loss:\t\t 53.03\n",
      "\tepoch:\t\t 18 \tloss:\t\t 50.58 \ttest_loss:\t\t 51.45\n",
      "\tepoch:\t\t 19 \tloss:\t\t 49.64 \ttest_loss:\t\t 50.91\n",
      "\tepoch:\t\t 20 \tloss:\t\t 50.32 \ttest_loss:\t\t 51.29\n",
      "\tepoch:\t\t 21 \tloss:\t\t 49.56 \ttest_loss:\t\t 52.35\n",
      "\tepoch:\t\t 22 \tloss:\t\t  49.6 \ttest_loss:\t\t 50.59\n",
      "\tepoch:\t\t 23 \tloss:\t\t 48.65 \ttest_loss:\t\t 51.33\n",
      "\tepoch:\t\t 24 \tloss:\t\t 48.71 \ttest_loss:\t\t 50.51\n",
      "\tepoch:\t\t 25 \tloss:\t\t 48.41 \ttest_loss:\t\t  50.3\n",
      "\tepoch:\t\t 26 \tloss:\t\t 48.59 \ttest_loss:\t\t  52.8\n",
      "\tepoch:\t\t 27 \tloss:\t\t 48.59 \ttest_loss:\t\t 50.23\n",
      "\tepoch:\t\t 28 \tloss:\t\t 47.87 \ttest_loss:\t\t 51.37\n",
      "\tepoch:\t\t 29 \tloss:\t\t 48.44 \ttest_loss:\t\t 52.19\n",
      "\tepoch:\t\t 30 \tloss:\t\t 48.34 \ttest_loss:\t\t 50.09\n",
      "\tepoch:\t\t 31 \tloss:\t\t 47.74 \ttest_loss:\t\t 49.56\n",
      "\tepoch:\t\t 32 \tloss:\t\t 47.66 \ttest_loss:\t\t 49.68\n",
      "\tepoch:\t\t 33 \tloss:\t\t  47.2 \ttest_loss:\t\t 49.49\n",
      "\tepoch:\t\t 34 \tloss:\t\t 47.26 \ttest_loss:\t\t 49.73\n",
      "\tepoch:\t\t 35 \tloss:\t\t  46.8 \ttest_loss:\t\t 49.31\n",
      "\tepoch:\t\t 36 \tloss:\t\t 46.85 \ttest_loss:\t\t 51.31\n",
      "\tepoch:\t\t 37 \tloss:\t\t 49.02 \ttest_loss:\t\t 50.33\n",
      "\tepoch:\t\t 38 \tloss:\t\t 46.99 \ttest_loss:\t\t 49.27\n",
      "\tepoch:\t\t 39 \tloss:\t\t  47.0 \ttest_loss:\t\t 51.85\n",
      "\tepoch:\t\t 40 \tloss:\t\t 46.71 \ttest_loss:\t\t 48.65\n",
      "\tepoch:\t\t 41 \tloss:\t\t 46.33 \ttest_loss:\t\t 48.48\n",
      "\tepoch:\t\t 42 \tloss:\t\t 46.23 \ttest_loss:\t\t 50.33\n",
      "\tepoch:\t\t 43 \tloss:\t\t 45.59 \ttest_loss:\t\t 48.44\n",
      "\tepoch:\t\t 44 \tloss:\t\t 45.91 \ttest_loss:\t\t 48.54\n",
      "\tepoch:\t\t 45 \tloss:\t\t 45.46 \ttest_loss:\t\t 49.93\n",
      "\tepoch:\t\t 46 \tloss:\t\t 46.15 \ttest_loss:\t\t 48.42\n",
      "\tepoch:\t\t 47 \tloss:\t\t 45.14 \ttest_loss:\t\t 47.29\n",
      "\tepoch:\t\t 48 \tloss:\t\t 45.85 \ttest_loss:\t\t 48.86\n",
      "\tepoch:\t\t 49 \tloss:\t\t  45.3 \ttest_loss:\t\t 47.78\n",
      "\tepoch:\t\t 50 \tloss:\t\t 44.95 \ttest_loss:\t\t 47.39\n",
      "\tepoch:\t\t 51 \tloss:\t\t 44.23 \ttest_loss:\t\t 46.94\n",
      "\tepoch:\t\t 52 \tloss:\t\t 45.09 \ttest_loss:\t\t 49.36\n",
      "\tepoch:\t\t 53 \tloss:\t\t 44.62 \ttest_loss:\t\t 47.32\n",
      "\tepoch:\t\t 54 \tloss:\t\t 44.13 \ttest_loss:\t\t 46.29\n",
      "\tepoch:\t\t 55 \tloss:\t\t 44.64 \ttest_loss:\t\t 47.24\n",
      "\tepoch:\t\t 56 \tloss:\t\t 43.81 \ttest_loss:\t\t 46.28\n",
      "\tepoch:\t\t 57 \tloss:\t\t 43.44 \ttest_loss:\t\t 46.78\n",
      "\tepoch:\t\t 58 \tloss:\t\t  44.5 \ttest_loss:\t\t 46.27\n",
      "\tepoch:\t\t 59 \tloss:\t\t 42.97 \ttest_loss:\t\t 46.28\n"
     ]
    }
   ],
   "source": [
    "for epoch in range(epochs):\n",
    "    epoch_loss,epoch_test_loss = fit(epoch,model,train_dl,test_dl)\n",
    "    train_loss.append(epoch_loss)\n",
    "    test_loss.append(epoch_test_loss)"
   ]
  },
  {
   "cell_type": "markdown",
   "id": "02e1a48f",
   "metadata": {},
   "source": [
    "##### 预测演示"
   ]
  },
  {
   "cell_type": "code",
   "execution_count": 11,
   "id": "44d50ac3",
   "metadata": {},
   "outputs": [
    {
     "data": {
      "text/plain": [
       "[<matplotlib.lines.Line2D at 0x1a991de2c10>]"
      ]
     },
     "execution_count": 11,
     "metadata": {},
     "output_type": "execute_result"
    },
    {
     "data": {
      "image/png": "[encoded data removed]",
      "text/plain": [
       "<Figure size 432x288 with 1 Axes>"
      ]
     },
     "metadata": {
      "needs_background": "light"
     },
     "output_type": "display_data"
    }
   ],
   "source": [
    "plt.plot(range(1,len(train_loss)+1),train_loss,label=\"train_loss\")\n",
    "plt.plot(range(1,len(test_loss )+1),test_loss ,label=\"test_loss\" )"
   ]
  },
  {
   "cell_type": "code",
   "execution_count": 12,
   "id": "959c8cb0",
   "metadata": {},
   "outputs": [
    {
     "data": {
      "text/plain": [
       "(8732, 120, 11)"
      ]
     },
     "execution_count": 12,
     "metadata": {},
     "output_type": "execute_result"
    }
   ],
   "source": [
    "'''批量预测01'''\n",
    "test_x.shape"
   ]
  },
  {
   "cell_type": "code",
   "execution_count": 13,
   "id": "04ee6e75",
   "metadata": {},
   "outputs": [],
   "source": [
    "pred_test = model(torch.from_numpy(test_x).cuda())"
   ]
  },
  {
   "cell_type": "code",
   "execution_count": 14,
   "id": "244a4171",
   "metadata": {},
   "outputs": [
    {
     "data": {
      "text/plain": [
       "torch.Size([8732])"
      ]
     },
     "execution_count": 14,
     "metadata": {},
     "output_type": "execute_result"
    }
   ],
   "source": [
    "pred_test.shape"
   ]
  },
  {
   "cell_type": "code",
   "execution_count": 15,
   "id": "76866e46",
   "metadata": {},
   "outputs": [
    {
     "data": {
      "text/plain": [
       "tensor([161.2150, 306.6635, 127.8636,  99.7120,  71.6993], device='cuda:0',\n",
       "       grad_fn=<SliceBackward>)"
      ]
     },
     "execution_count": 15,
     "metadata": {},
     "output_type": "execute_result"
    }
   ],
   "source": [
    "pred_test[:5]"
   ]
  },
  {
   "cell_type": "code",
   "execution_count": 16,
   "id": "cacc6c9c",
   "metadata": {},
   "outputs": [],
   "source": [
    "'''批量预测02'''\n",
    "result = []\n",
    "for test_b,_ in test_dl:\n",
    "    pred_b = model(test_b.cuda())\n",
    "    result.append(pred_b.cpu().detach().numpy())#detach获取模型pred_b的值，忽略grad属性"
   ]
  },
  {
   "cell_type": "code",
   "execution_count": 17,
   "id": "5e3516b8",
   "metadata": {},
   "outputs": [
    {
     "name": "stdout",
     "output_type": "stream",
     "text": [
      "[169.09084  302.4623   160.94534  ...  63.218876 113.25458  107.49961 ]\n"
     ]
    }
   ],
   "source": [
    "result = np.concatenate(result)\n",
    "print(result)"
   ]
  },
  {
   "cell_type": "code",
   "execution_count": 18,
   "id": "5abaf041",
   "metadata": {},
   "outputs": [
    {
     "data": {
      "text/plain": [
       "(120, 11)"
      ]
     },
     "execution_count": 18,
     "metadata": {},
     "output_type": "execute_result"
    }
   ],
   "source": [
    "'''单条预测'''\n",
    "'''预测24h后 比如2015.1.1 23时 的PM2.5的值'''\n",
    "data_last = data.iloc[-120:,:]  # 取最后120条数据\n",
    "data_last.shape"
   ]
  },
  {
   "cell_type": "code",
   "execution_count": 19,
   "id": "60ebdc5a",
   "metadata": {},
   "outputs": [
    {
     "data": {
      "text/plain": [
       "(1, 120, 11)"
      ]
     },
     "execution_count": 19,
     "metadata": {},
     "output_type": "execute_result"
    }
   ],
   "source": [
    "data_last = np.expand_dims(data_last.values,0)#在第0维增加数据 满足模型的条件\n",
    "data_last.shape"
   ]
  },
  {
   "cell_type": "code",
   "execution_count": 20,
   "id": "ba3ec799",
   "metadata": {},
   "outputs": [],
   "source": [
    "'''数据归一化'''\n",
    "data_last = (data_last-mean)/std"
   ]
  },
  {
   "cell_type": "code",
   "execution_count": 21,
   "id": "e58a261b",
   "metadata": {},
   "outputs": [],
   "source": [
    "'''预测'''\n",
    "pred_ = model(torch.from_numpy(data_last).float().cuda())"
   ]
  },
  {
   "cell_type": "code",
   "execution_count": 22,
   "id": "6a7bf6cb",
   "metadata": {},
   "outputs": [
    {
     "data": {
      "text/plain": [
       "tensor(68.2217, device='cuda:0', grad_fn=<SqueezeBackward0>)"
      ]
     },
     "execution_count": 22,
     "metadata": {},
     "output_type": "execute_result"
    }
   ],
   "source": [
    "pred_"
   ]
  }
 ],
 "metadata": {
  "kernelspec": {
   "display_name": "Python 3 (ipykernel)",
   "language": "python",
   "name": "python3"
  },
  "language_info": {
   "codemirror_mode": {
    "name": "ipython",
    "version": 3
   },
   "file_extension": ".py",
   "mimetype": "text/x-python",
   "name": "python",
   "nbconvert_exporter": "python",
   "pygments_lexer": "ipython3",
   "version": "3.8.12"
  }
 },
 "nbformat": 4,
 "nbformat_minor": 5
}
