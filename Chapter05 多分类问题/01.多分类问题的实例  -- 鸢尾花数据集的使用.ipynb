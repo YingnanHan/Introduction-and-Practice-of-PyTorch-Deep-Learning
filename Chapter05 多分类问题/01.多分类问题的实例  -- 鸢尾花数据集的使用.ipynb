{
 "cells": [
  {
   "cell_type": "markdown",
   "id": "8d7e5b3f",
   "metadata": {},
   "source": [
    "##### 导入所需包"
   ]
  },
  {
   "cell_type": "code",
   "execution_count": 1,
   "id": "ab3d7271",
   "metadata": {},
   "outputs": [],
   "source": [
    "import torch\n",
    "import numpy as np\n",
    "import matplotlib.pyplot as plt\n",
    "import pandas as pd\n",
    "%matplotlib inline"
   ]
  },
  {
   "cell_type": "markdown",
   "id": "6bc99757",
   "metadata": {},
   "source": [
    "##### 数据预处理"
   ]
  },
  {
   "cell_type": "code",
   "execution_count": 2,
   "id": "9915fe94",
   "metadata": {},
   "outputs": [],
   "source": [
    "data            = pd.read_csv(\"./dataset/iris.csv\")"
   ]
  },
  {
   "cell_type": "markdown",
   "id": "fd5c75a0",
   "metadata": {},
   "source": [
    "###### 修改数据集"
   ]
  },
  {
   "cell_type": "code",
   "execution_count": 3,
   "id": "336fdde2",
   "metadata": {},
   "outputs": [],
   "source": [
    "data['Species'] = pd.factorize(data.Species)[0]  ## 将鸢尾花的类别从字符串转化为数值"
   ]
  },
  {
   "cell_type": "markdown",
   "id": "5750ae81",
   "metadata": {},
   "source": [
    "###### 从数据集中选取X Y"
   ]
  },
  {
   "cell_type": "code",
   "execution_count": 4,
   "id": "862b98af",
   "metadata": {},
   "outputs": [],
   "source": [
    "X               = data.iloc[:,1:-1].values"
   ]
  },
  {
   "cell_type": "code",
   "execution_count": 5,
   "id": "4806574c",
   "metadata": {},
   "outputs": [],
   "source": [
    "Y               = data.iloc[:,-1].values"
   ]
  },
  {
   "cell_type": "markdown",
   "id": "900e0f59",
   "metadata": {},
   "source": [
    "###### 使用train_test_split切分数据集"
   ]
  },
  {
   "cell_type": "code",
   "execution_count": 6,
   "id": "0595adff",
   "metadata": {},
   "outputs": [],
   "source": [
    "from sklearn.model_selection import train_test_split"
   ]
  },
  {
   "cell_type": "code",
   "execution_count": 7,
   "id": "ce073bc8",
   "metadata": {},
   "outputs": [],
   "source": [
    "train_x,test_x,train_y,test_y = train_test_split(X,Y)"
   ]
  },
  {
   "cell_type": "markdown",
   "id": "994904e7",
   "metadata": {},
   "source": [
    "###### 将切分好的数据及转化为Tensor"
   ]
  },
  {
   "cell_type": "code",
   "execution_count": 8,
   "id": "569c7097",
   "metadata": {},
   "outputs": [],
   "source": [
    "train_x = torch.from_numpy(train_x).type(torch.float32)\n",
    "train_y = torch.from_numpy(train_y).type(torch.int64)\n",
    "test_x  = torch.from_numpy(test_x).type(torch.float32)\n",
    "test_y  = torch.from_numpy(test_y).type(torch.int64)  # 注意数据类型"
   ]
  },
  {
   "cell_type": "markdown",
   "id": "41f4b47d",
   "metadata": {},
   "source": [
    "###### 将Tensor使用DataLoader与TensorData包装"
   ]
  },
  {
   "cell_type": "code",
   "execution_count": 9,
   "id": "d2ffcdd4",
   "metadata": {},
   "outputs": [],
   "source": [
    "from torch.utils.data import DataLoader\n",
    "from torch.utils.data import TensorDataset"
   ]
  },
  {
   "cell_type": "code",
   "execution_count": 10,
   "id": "54c74a03",
   "metadata": {},
   "outputs": [],
   "source": [
    "batch_size = 8"
   ]
  },
  {
   "cell_type": "code",
   "execution_count": 11,
   "id": "4a236214",
   "metadata": {},
   "outputs": [],
   "source": [
    "train_ds = TensorDataset(train_x,train_y)\n",
    "train_dl = DataLoader(train_ds,batch_size = batch_size,shuffle=True)"
   ]
  },
  {
   "cell_type": "code",
   "execution_count": 12,
   "id": "5c9ef4de",
   "metadata": {},
   "outputs": [],
   "source": [
    "test_ds  = TensorDataset(test_x,test_y)\n",
    "test_dl  = DataLoader(test_ds,batch_size  = batch_size)"
   ]
  },
  {
   "cell_type": "markdown",
   "id": "23bf83c7",
   "metadata": {},
   "source": [
    "##### 创建多分类模型"
   ]
  },
  {
   "cell_type": "code",
   "execution_count": 13,
   "id": "1901aee6",
   "metadata": {},
   "outputs": [],
   "source": [
    "from torch import nn\n",
    "from torch.nn import functional as F"
   ]
  },
  {
   "cell_type": "code",
   "execution_count": 14,
   "id": "8e622a37",
   "metadata": {},
   "outputs": [],
   "source": [
    "class Model(nn.Module):\n",
    "    \n",
    "    def __init__(self):\n",
    "        super().__init__()\n",
    "        self.linear_1 = nn.Linear(4,32)\n",
    "        self.linear_2 = nn.Linear(32,32)\n",
    "        self.linear_3 = nn.Linear(32,3)\n",
    "    \n",
    "    def forward(self,input):\n",
    "        x = self.linear_1(input)\n",
    "        x = F.relu(x)\n",
    "        x = self.linear_2(x)\n",
    "        x = F.relu(x)\n",
    "        x = self.linear_3(x)  ## 这里要进行多分类不进行激活\n",
    "        return x"
   ]
  },
  {
   "cell_type": "markdown",
   "id": "16d291b8",
   "metadata": {},
   "source": [
    "##### 初始化模型"
   ]
  },
  {
   "cell_type": "code",
   "execution_count": 15,
   "id": "34100b5e",
   "metadata": {},
   "outputs": [],
   "source": [
    "model = Model()"
   ]
  },
  {
   "cell_type": "markdown",
   "id": "e58b7e16",
   "metadata": {},
   "source": [
    "##### 定义损失函数"
   ]
  },
  {
   "cell_type": "code",
   "execution_count": 16,
   "id": "bbeea8d6",
   "metadata": {},
   "outputs": [],
   "source": [
    "loss_fn = nn.CrossEntropyLoss()"
   ]
  },
  {
   "cell_type": "markdown",
   "id": "307145d3",
   "metadata": {},
   "source": [
    "###### 模型的返回结果及其形式的简单测试"
   ]
  },
  {
   "cell_type": "code",
   "execution_count": 17,
   "id": "3f8d1b6e",
   "metadata": {},
   "outputs": [
    {
     "name": "stdout",
     "output_type": "stream",
     "text": [
      "torch.Size([8, 4]) torch.Size([8])\n"
     ]
    }
   ],
   "source": [
    "input_batch,label_batch = next(iter(train_dl))\n",
    "print(input_batch.shape,label_batch.shape)"
   ]
  },
  {
   "cell_type": "code",
   "execution_count": 18,
   "id": "bf8d352c",
   "metadata": {},
   "outputs": [],
   "source": [
    "y_pred  =  model(input_batch)"
   ]
  },
  {
   "cell_type": "code",
   "execution_count": 19,
   "id": "6373035e",
   "metadata": {},
   "outputs": [
    {
     "data": {
      "text/plain": [
       "torch.Size([8, 3])"
      ]
     },
     "execution_count": 19,
     "metadata": {},
     "output_type": "execute_result"
    }
   ],
   "source": [
    "y_pred.shape  # 预测结果中那个值最大，那么最终的结果就是几"
   ]
  },
  {
   "cell_type": "code",
   "execution_count": 20,
   "id": "33329efd",
   "metadata": {},
   "outputs": [
    {
     "data": {
      "text/plain": [
       "tensor([[ 0.4493,  0.0240, -0.5465],\n",
       "        [-0.0529, -0.0944, -0.2070],\n",
       "        [ 0.3407, -0.0340, -0.4467],\n",
       "        [ 0.2596,  0.0364, -0.5512],\n",
       "        [ 0.2079, -0.0028, -0.3980],\n",
       "        [ 0.3127, -0.0087, -0.4784],\n",
       "        [ 0.3860, -0.0238, -0.4037],\n",
       "        [ 0.2210, -0.0143, -0.5396]], grad_fn=<AddmmBackward0>)"
      ]
     },
     "execution_count": 20,
     "metadata": {},
     "output_type": "execute_result"
    }
   ],
   "source": [
    "y_pred"
   ]
  },
  {
   "cell_type": "code",
   "execution_count": 21,
   "id": "3b5bb9e9",
   "metadata": {},
   "outputs": [
    {
     "data": {
      "text/plain": [
       "tensor([0, 0, 0, 0, 0, 0, 0, 0])"
      ]
     },
     "execution_count": 21,
     "metadata": {},
     "output_type": "execute_result"
    }
   ],
   "source": [
    "torch.argmax(y_pred,dim=1) #在第二个维度 纵向找到最大值，充当预测结果"
   ]
  },
  {
   "cell_type": "markdown",
   "id": "6b3ba8a7",
   "metadata": {},
   "source": [
    "##### 创建并训练模型"
   ]
  },
  {
   "cell_type": "code",
   "execution_count": 22,
   "id": "17749599",
   "metadata": {},
   "outputs": [],
   "source": [
    "# 求解多分类问题的正确率\n",
    "def accuracy(y_pred,y_true):\n",
    "    y_pred = torch.argmax(y_pred,dim=1)   #找到结果中的最大值对应的下标\n",
    "    acc    = (y_pred == y_true).float().mean() #将该下标作为预测结果，计算准\n",
    "    return acc                            #确率"
   ]
  },
  {
   "cell_type": "code",
   "execution_count": 23,
   "id": "9dcc1e52",
   "metadata": {},
   "outputs": [],
   "source": [
    "train_loss = []\n",
    "train_acc  = []\n",
    "test_loss  = []\n",
    "test_acc   = []\n",
    "epochs     = 20\n",
    "optim      = torch.optim.Adam(model.parameters(),lr = 0.0001)"
   ]
  },
  {
   "cell_type": "code",
   "execution_count": 24,
   "id": "9fe94883",
   "metadata": {},
   "outputs": [
    {
     "name": "stdout",
     "output_type": "stream",
     "text": [
      "epoch: 0 loss:  1.246 accuracy:  0.304 test_loss:  1.181 test_accuracy:  0.368\n",
      "epoch: 1 loss:  1.21 accuracy:  0.286 test_loss:  1.153 test_accuracy:  0.395\n",
      "epoch: 2 loss:  1.179 accuracy:  0.446 test_loss:  1.131 test_accuracy:  0.553\n",
      "epoch: 3 loss:  1.154 accuracy:  0.536 test_loss:  1.113 test_accuracy:  0.684\n",
      "epoch: 4 loss:  1.134 accuracy:  0.607 test_loss:  1.099 test_accuracy:  0.711\n",
      "epoch: 5 loss:  1.115 accuracy:  0.616 test_loss:  1.086 test_accuracy:  0.763\n",
      "epoch: 6 loss:  1.098 accuracy:  0.625 test_loss:  1.074 test_accuracy:  0.763\n",
      "epoch: 7 loss:  1.084 accuracy:  0.625 test_loss:  1.065 test_accuracy:  0.763\n",
      "epoch: 8 loss:  1.07 accuracy:  0.625 test_loss:  1.058 test_accuracy:  0.763\n",
      "epoch: 9 loss:  1.058 accuracy:  0.616 test_loss:  1.051 test_accuracy:  0.763\n",
      "epoch: 10 loss:  1.047 accuracy:  0.598 test_loss:  1.043 test_accuracy:  0.711\n",
      "epoch: 11 loss:  1.037 accuracy:  0.616 test_loss:  1.038 test_accuracy:  0.605\n",
      "epoch: 12 loss:  1.028 accuracy:  0.652 test_loss:  1.033 test_accuracy:  0.632\n",
      "epoch: 13 loss:  1.02 accuracy:  0.58 test_loss:  1.027 test_accuracy:  0.579\n",
      "epoch: 14 loss:  1.012 accuracy:  0.625 test_loss:  1.021 test_accuracy:  0.632\n",
      "epoch: 15 loss:  1.004 accuracy:  0.616 test_loss:  1.016 test_accuracy:  0.579\n",
      "epoch: 16 loss:  0.996 accuracy:  0.571 test_loss:  1.011 test_accuracy:  0.5\n",
      "epoch: 17 loss:  0.989 accuracy:  0.527 test_loss:  1.006 test_accuracy:  0.474\n",
      "epoch: 18 loss:  0.982 accuracy:  0.589 test_loss:  0.999 test_accuracy:  0.605\n",
      "epoch: 19 loss:  0.975 accuracy:  0.589 test_loss:  0.994 test_accuracy:  0.553\n"
     ]
    }
   ],
   "source": [
    "for epoch in range(epochs):\n",
    "    for x,y in train_dl:\n",
    "        y_pred = model(x)\n",
    "        loss   = loss_fn(y_pred,y)\n",
    "        optim.zero_grad()\n",
    "        loss.backward()\n",
    "        optim.step()\n",
    "    with torch.no_grad():\n",
    "        epoch_accuracy      = accuracy(model(train_x),train_y)\n",
    "        epoch_loss          = loss_fn(model(train_x),train_y).data\n",
    "        \n",
    "        epoch_test_accuracy = accuracy(model(test_x),test_y)\n",
    "        epoch_test_loss     = loss_fn(model(test_x),test_y).data\n",
    "        \n",
    "        print(\"epoch:\",epoch,\"loss: \",round(epoch_loss.item(),3),\n",
    "                             \"accuracy: \",round(epoch_accuracy.item(),3),\n",
    "                             \"test_loss: \",round(epoch_test_loss.item(),3),\n",
    "                             \"test_accuracy: \",round(epoch_test_accuracy.item(),3)\n",
    "             )\n",
    "        train_loss.append(epoch_loss)\n",
    "        train_acc.append(epoch_accuracy)\n",
    "        test_loss.append(epoch_test_loss)\n",
    "        test_acc.append(epoch_test_accuracy)"
   ]
  },
  {
   "cell_type": "markdown",
   "id": "193084cb",
   "metadata": {},
   "source": [
    "##### 可视化训练过程"
   ]
  },
  {
   "cell_type": "code",
   "execution_count": 25,
   "id": "a6d35b9a",
   "metadata": {},
   "outputs": [
    {
     "data": {
      "text/plain": [
       "<matplotlib.legend.Legend at 0x28e8a39cb20>"
      ]
     },
     "execution_count": 25,
     "metadata": {},
     "output_type": "execute_result"
    },
    {
     "data": {
      "image/png": "[encoded data removed]",
      "text/plain": [
       "<Figure size 432x288 with 1 Axes>"
      ]
     },
     "metadata": {
      "needs_background": "light"
     },
     "output_type": "display_data"
    }
   ],
   "source": [
    "plt.plot(range(1,epochs+1),train_loss,label = \"train_loss\")\n",
    "plt.plot(range(1,epochs+1),test_loss,label = \"test_loss\")\n",
    "plt.legend()"
   ]
  },
  {
   "cell_type": "code",
   "execution_count": 26,
   "id": "18452d3e",
   "metadata": {},
   "outputs": [
    {
     "data": {
      "text/plain": [
       "<matplotlib.legend.Legend at 0x28e8a4df6a0>"
      ]
     },
     "execution_count": 26,
     "metadata": {},
     "output_type": "execute_result"
    },
    {
     "data": {
      "image/png": "[encoded data removed]",
      "text/plain": [
       "<Figure size 432x288 with 1 Axes>"
      ]
     },
     "metadata": {
      "needs_background": "light"
     },
     "output_type": "display_data"
    }
   ],
   "source": [
    "plt.plot(range(1,epochs+1),train_acc,label = \"train_acc\")\n",
    "plt.plot(range(1,epochs+1),test_acc,label = \"test_acc\")\n",
    "plt.legend()"
   ]
  },
  {
   "cell_type": "code",
   "execution_count": null,
   "id": "3f7043f1",
   "metadata": {},
   "outputs": [],
   "source": []
  },
  {
   "cell_type": "markdown",
   "id": "cf78d8e4",
   "metadata": {},
   "source": [
    "#### 模型训练模板"
   ]
  },
  {
   "cell_type": "code",
   "execution_count": 27,
   "id": "16c31433",
   "metadata": {},
   "outputs": [],
   "source": [
    "# 1. 创建输入（dataloader）\n",
    "# 2. 创建模型（model）\n",
    "# 3  创建损失函数"
   ]
  },
  {
   "cell_type": "code",
   "execution_count": 28,
   "id": "72d2807d",
   "metadata": {},
   "outputs": [],
   "source": [
    "def fit(model,trainloader,testloader,epoch):\n",
    "    \n",
    "    correct = 0       # 记录正确率\n",
    "    total   = 0       # 记录训练样本总数量\n",
    "    running_loss = 0\n",
    "    for x,y in trainloader:\n",
    "        y_pred = model(x)\n",
    "        loss   = loss_fn(y_pred,y)\n",
    "        optim.zero_grad()\n",
    "        loss.backward()\n",
    "        optim.step()\n",
    "        with torch.no_grad():\n",
    "            y_pred = torch.argmax(y_pred,dim=1)\n",
    "            correct+=(y_pred == y).sum().item()\n",
    "            total  += y.size(0)\n",
    "            running_loss += loss.item()\n",
    "    \n",
    "    epoch_loss = running_loss / len(trainloader.dataset) # 得到每一个样本在本epoch下的平均loss\n",
    "    epoch_acc  = correct / total # 得到整个样本的平均预测正确率\n",
    "    \n",
    "    test_correct      = 0       # 记录正确率\n",
    "    test_total        = 0       # 记录训练样本总数量\n",
    "    test_running_loss = 0\n",
    "    \n",
    "    with torch.no_grad():\n",
    "        for x,y in trainloader:\n",
    "            y_pred = model(x)\n",
    "            loss   = loss_fn(y_pred,y)\n",
    "            y_pred = torch.argmax(y_pred,dim=1)\n",
    "            test_correct+=(y_pred == y).sum().item()\n",
    "            test_total  += y.size(0)\n",
    "            test_running_loss += loss.item()\n",
    "    \n",
    "    epoch_test_loss = test_running_loss / len(testloader.dataset) # 得到每一个样本在本epoch下的平均loss\n",
    "    epoch_test_acc  = test_correct / test_total # 得到整个样本的平均预测正确率\n",
    "    \n",
    "    print(\n",
    "            \"epoch:\",\"\\t\",epoch,\"\\t\",\n",
    "            \"loss: \",\"\\t\",round(epoch_loss,3),\"\\t\",\n",
    "            \"accuracy: \",\"\\t\",round(epoch_acc,3),\"\\t\",\n",
    "            \"test_loss: \",\"\\t\",round(epoch_test_loss,3),\"\\t\",\n",
    "            \"test_accuracy: \",\"\\t\",round(epoch_test_acc,3),\"\\t\"\n",
    "        )\n",
    "    return epoch_loss,epoch_acc,epoch_test_loss,epoch_test_acc"
   ]
  },
  {
   "cell_type": "markdown",
   "id": "0605805f",
   "metadata": {},
   "source": [
    "#### 自定义FIT函数的调用示例"
   ]
  },
  {
   "cell_type": "code",
   "execution_count": 29,
   "id": "bb165eb8",
   "metadata": {},
   "outputs": [],
   "source": [
    "model = Model()\n",
    "optim = torch.optim.Adam(model.parameters(),lr = 0.0001)"
   ]
  },
  {
   "cell_type": "code",
   "execution_count": 30,
   "id": "8469a42b",
   "metadata": {},
   "outputs": [],
   "source": [
    "epochs= 500"
   ]
  },
  {
   "cell_type": "code",
   "execution_count": 31,
   "id": "563f682a",
   "metadata": {},
   "outputs": [],
   "source": [
    "train_loss = []\n",
    "train_acc  = []\n",
    "test_loss  = []\n",
    "test_acc   = []"
   ]
  },
  {
   "cell_type": "code",
   "execution_count": 32,
   "id": "dae0adf2",
   "metadata": {},
   "outputs": [
    {
     "name": "stdout",
     "output_type": "stream",
     "text": [
      "epoch: \t 0 \t loss:  \t 0.147 \t accuracy:  \t 0.366 \t test_loss:  \t 0.43 \t test_accuracy:  \t 0.366 \t\n",
      "epoch: \t 1 \t loss:  \t 0.145 \t accuracy:  \t 0.366 \t test_loss:  \t 0.422 \t test_accuracy:  \t 0.366 \t\n",
      "epoch: \t 2 \t loss:  \t 0.142 \t accuracy:  \t 0.366 \t test_loss:  \t 0.416 \t test_accuracy:  \t 0.366 \t\n",
      "epoch: \t 3 \t loss:  \t 0.14 \t accuracy:  \t 0.366 \t test_loss:  \t 0.41 \t test_accuracy:  \t 0.366 \t\n",
      "epoch: \t 4 \t loss:  \t 0.138 \t accuracy:  \t 0.366 \t test_loss:  \t 0.405 \t test_accuracy:  \t 0.366 \t\n",
      "epoch: \t 5 \t loss:  \t 0.136 \t accuracy:  \t 0.366 \t test_loss:  \t 0.399 \t test_accuracy:  \t 0.366 \t\n",
      "epoch: \t 6 \t loss:  \t 0.134 \t accuracy:  \t 0.366 \t test_loss:  \t 0.393 \t test_accuracy:  \t 0.366 \t\n",
      "epoch: \t 7 \t loss:  \t 0.133 \t accuracy:  \t 0.366 \t test_loss:  \t 0.388 \t test_accuracy:  \t 0.366 \t\n",
      "epoch: \t 8 \t loss:  \t 0.131 \t accuracy:  \t 0.366 \t test_loss:  \t 0.384 \t test_accuracy:  \t 0.366 \t\n",
      "epoch: \t 9 \t loss:  \t 0.13 \t accuracy:  \t 0.366 \t test_loss:  \t 0.38 \t test_accuracy:  \t 0.366 \t\n",
      "epoch: \t 10 \t loss:  \t 0.128 \t accuracy:  \t 0.366 \t test_loss:  \t 0.376 \t test_accuracy:  \t 0.366 \t\n",
      "epoch: \t 11 \t loss:  \t 0.127 \t accuracy:  \t 0.366 \t test_loss:  \t 0.373 \t test_accuracy:  \t 0.366 \t\n",
      "epoch: \t 12 \t loss:  \t 0.126 \t accuracy:  \t 0.366 \t test_loss:  \t 0.37 \t test_accuracy:  \t 0.366 \t\n",
      "epoch: \t 13 \t loss:  \t 0.125 \t accuracy:  \t 0.366 \t test_loss:  \t 0.366 \t test_accuracy:  \t 0.366 \t\n",
      "epoch: \t 14 \t loss:  \t 0.124 \t accuracy:  \t 0.366 \t test_loss:  \t 0.363 \t test_accuracy:  \t 0.366 \t\n",
      "epoch: \t 15 \t loss:  \t 0.123 \t accuracy:  \t 0.366 \t test_loss:  \t 0.36 \t test_accuracy:  \t 0.366 \t\n",
      "epoch: \t 16 \t loss:  \t 0.122 \t accuracy:  \t 0.366 \t test_loss:  \t 0.357 \t test_accuracy:  \t 0.366 \t\n",
      "epoch: \t 17 \t loss:  \t 0.121 \t accuracy:  \t 0.366 \t test_loss:  \t 0.355 \t test_accuracy:  \t 0.366 \t\n",
      "epoch: \t 18 \t loss:  \t 0.12 \t accuracy:  \t 0.366 \t test_loss:  \t 0.352 \t test_accuracy:  \t 0.366 \t\n",
      "epoch: \t 19 \t loss:  \t 0.119 \t accuracy:  \t 0.366 \t test_loss:  \t 0.349 \t test_accuracy:  \t 0.366 \t\n",
      "epoch: \t 20 \t loss:  \t 0.118 \t accuracy:  \t 0.366 \t test_loss:  \t 0.347 \t test_accuracy:  \t 0.366 \t\n",
      "epoch: \t 21 \t loss:  \t 0.117 \t accuracy:  \t 0.366 \t test_loss:  \t 0.344 \t test_accuracy:  \t 0.366 \t\n",
      "epoch: \t 22 \t loss:  \t 0.116 \t accuracy:  \t 0.366 \t test_loss:  \t 0.341 \t test_accuracy:  \t 0.366 \t\n",
      "epoch: \t 23 \t loss:  \t 0.115 \t accuracy:  \t 0.366 \t test_loss:  \t 0.339 \t test_accuracy:  \t 0.366 \t\n",
      "epoch: \t 24 \t loss:  \t 0.114 \t accuracy:  \t 0.366 \t test_loss:  \t 0.336 \t test_accuracy:  \t 0.366 \t\n",
      "epoch: \t 25 \t loss:  \t 0.114 \t accuracy:  \t 0.366 \t test_loss:  \t 0.333 \t test_accuracy:  \t 0.366 \t\n",
      "epoch: \t 26 \t loss:  \t 0.113 \t accuracy:  \t 0.366 \t test_loss:  \t 0.33 \t test_accuracy:  \t 0.366 \t\n",
      "epoch: \t 27 \t loss:  \t 0.112 \t accuracy:  \t 0.366 \t test_loss:  \t 0.328 \t test_accuracy:  \t 0.411 \t\n",
      "epoch: \t 28 \t loss:  \t 0.111 \t accuracy:  \t 0.473 \t test_loss:  \t 0.325 \t test_accuracy:  \t 0.509 \t\n",
      "epoch: \t 29 \t loss:  \t 0.11 \t accuracy:  \t 0.554 \t test_loss:  \t 0.322 \t test_accuracy:  \t 0.562 \t\n",
      "epoch: \t 30 \t loss:  \t 0.109 \t accuracy:  \t 0.58 \t test_loss:  \t 0.32 \t test_accuracy:  \t 0.616 \t\n",
      "epoch: \t 31 \t loss:  \t 0.108 \t accuracy:  \t 0.634 \t test_loss:  \t 0.317 \t test_accuracy:  \t 0.643 \t\n",
      "epoch: \t 32 \t loss:  \t 0.107 \t accuracy:  \t 0.652 \t test_loss:  \t 0.314 \t test_accuracy:  \t 0.661 \t\n",
      "epoch: \t 33 \t loss:  \t 0.106 \t accuracy:  \t 0.661 \t test_loss:  \t 0.311 \t test_accuracy:  \t 0.67 \t\n",
      "epoch: \t 34 \t loss:  \t 0.105 \t accuracy:  \t 0.679 \t test_loss:  \t 0.308 \t test_accuracy:  \t 0.679 \t\n",
      "epoch: \t 35 \t loss:  \t 0.104 \t accuracy:  \t 0.679 \t test_loss:  \t 0.306 \t test_accuracy:  \t 0.679 \t\n",
      "epoch: \t 36 \t loss:  \t 0.103 \t accuracy:  \t 0.679 \t test_loss:  \t 0.303 \t test_accuracy:  \t 0.679 \t\n",
      "epoch: \t 37 \t loss:  \t 0.102 \t accuracy:  \t 0.679 \t test_loss:  \t 0.3 \t test_accuracy:  \t 0.679 \t\n",
      "epoch: \t 38 \t loss:  \t 0.101 \t accuracy:  \t 0.679 \t test_loss:  \t 0.297 \t test_accuracy:  \t 0.679 \t\n",
      "epoch: \t 39 \t loss:  \t 0.101 \t accuracy:  \t 0.679 \t test_loss:  \t 0.294 \t test_accuracy:  \t 0.679 \t\n",
      "epoch: \t 40 \t loss:  \t 0.099 \t accuracy:  \t 0.679 \t test_loss:  \t 0.291 \t test_accuracy:  \t 0.679 \t\n",
      "epoch: \t 41 \t loss:  \t 0.098 \t accuracy:  \t 0.679 \t test_loss:  \t 0.289 \t test_accuracy:  \t 0.679 \t\n",
      "epoch: \t 42 \t loss:  \t 0.097 \t accuracy:  \t 0.679 \t test_loss:  \t 0.286 \t test_accuracy:  \t 0.679 \t\n",
      "epoch: \t 43 \t loss:  \t 0.096 \t accuracy:  \t 0.679 \t test_loss:  \t 0.283 \t test_accuracy:  \t 0.679 \t\n",
      "epoch: \t 44 \t loss:  \t 0.096 \t accuracy:  \t 0.679 \t test_loss:  \t 0.28 \t test_accuracy:  \t 0.679 \t\n",
      "epoch: \t 45 \t loss:  \t 0.095 \t accuracy:  \t 0.679 \t test_loss:  \t 0.277 \t test_accuracy:  \t 0.679 \t\n",
      "epoch: \t 46 \t loss:  \t 0.094 \t accuracy:  \t 0.679 \t test_loss:  \t 0.274 \t test_accuracy:  \t 0.679 \t\n",
      "epoch: \t 47 \t loss:  \t 0.093 \t accuracy:  \t 0.679 \t test_loss:  \t 0.271 \t test_accuracy:  \t 0.679 \t\n",
      "epoch: \t 48 \t loss:  \t 0.092 \t accuracy:  \t 0.679 \t test_loss:  \t 0.268 \t test_accuracy:  \t 0.679 \t\n",
      "epoch: \t 49 \t loss:  \t 0.091 \t accuracy:  \t 0.679 \t test_loss:  \t 0.265 \t test_accuracy:  \t 0.679 \t\n",
      "epoch: \t 50 \t loss:  \t 0.09 \t accuracy:  \t 0.679 \t test_loss:  \t 0.263 \t test_accuracy:  \t 0.679 \t\n",
      "epoch: \t 51 \t loss:  \t 0.089 \t accuracy:  \t 0.679 \t test_loss:  \t 0.26 \t test_accuracy:  \t 0.679 \t\n",
      "epoch: \t 52 \t loss:  \t 0.088 \t accuracy:  \t 0.679 \t test_loss:  \t 0.257 \t test_accuracy:  \t 0.679 \t\n",
      "epoch: \t 53 \t loss:  \t 0.087 \t accuracy:  \t 0.679 \t test_loss:  \t 0.254 \t test_accuracy:  \t 0.679 \t\n",
      "epoch: \t 54 \t loss:  \t 0.086 \t accuracy:  \t 0.679 \t test_loss:  \t 0.252 \t test_accuracy:  \t 0.679 \t\n",
      "epoch: \t 55 \t loss:  \t 0.085 \t accuracy:  \t 0.679 \t test_loss:  \t 0.249 \t test_accuracy:  \t 0.679 \t\n",
      "epoch: \t 56 \t loss:  \t 0.084 \t accuracy:  \t 0.679 \t test_loss:  \t 0.246 \t test_accuracy:  \t 0.679 \t\n",
      "epoch: \t 57 \t loss:  \t 0.083 \t accuracy:  \t 0.679 \t test_loss:  \t 0.244 \t test_accuracy:  \t 0.679 \t\n",
      "epoch: \t 58 \t loss:  \t 0.082 \t accuracy:  \t 0.679 \t test_loss:  \t 0.241 \t test_accuracy:  \t 0.679 \t\n",
      "epoch: \t 59 \t loss:  \t 0.081 \t accuracy:  \t 0.679 \t test_loss:  \t 0.239 \t test_accuracy:  \t 0.679 \t\n",
      "epoch: \t 60 \t loss:  \t 0.081 \t accuracy:  \t 0.679 \t test_loss:  \t 0.236 \t test_accuracy:  \t 0.679 \t\n",
      "epoch: \t 61 \t loss:  \t 0.08 \t accuracy:  \t 0.679 \t test_loss:  \t 0.234 \t test_accuracy:  \t 0.679 \t\n",
      "epoch: \t 62 \t loss:  \t 0.079 \t accuracy:  \t 0.679 \t test_loss:  \t 0.231 \t test_accuracy:  \t 0.679 \t\n",
      "epoch: \t 63 \t loss:  \t 0.078 \t accuracy:  \t 0.679 \t test_loss:  \t 0.229 \t test_accuracy:  \t 0.679 \t\n",
      "epoch: \t 64 \t loss:  \t 0.077 \t accuracy:  \t 0.679 \t test_loss:  \t 0.226 \t test_accuracy:  \t 0.679 \t\n",
      "epoch: \t 65 \t loss:  \t 0.077 \t accuracy:  \t 0.679 \t test_loss:  \t 0.224 \t test_accuracy:  \t 0.679 \t\n",
      "epoch: \t 66 \t loss:  \t 0.076 \t accuracy:  \t 0.679 \t test_loss:  \t 0.222 \t test_accuracy:  \t 0.679 \t\n",
      "epoch: \t 67 \t loss:  \t 0.075 \t accuracy:  \t 0.679 \t test_loss:  \t 0.22 \t test_accuracy:  \t 0.679 \t\n",
      "epoch: \t 68 \t loss:  \t 0.074 \t accuracy:  \t 0.679 \t test_loss:  \t 0.217 \t test_accuracy:  \t 0.679 \t\n",
      "epoch: \t 69 \t loss:  \t 0.073 \t accuracy:  \t 0.679 \t test_loss:  \t 0.215 \t test_accuracy:  \t 0.679 \t\n",
      "epoch: \t 70 \t loss:  \t 0.073 \t accuracy:  \t 0.679 \t test_loss:  \t 0.213 \t test_accuracy:  \t 0.679 \t\n",
      "epoch: \t 71 \t loss:  \t 0.072 \t accuracy:  \t 0.679 \t test_loss:  \t 0.211 \t test_accuracy:  \t 0.679 \t\n",
      "epoch: \t 72 \t loss:  \t 0.071 \t accuracy:  \t 0.679 \t test_loss:  \t 0.209 \t test_accuracy:  \t 0.679 \t\n",
      "epoch: \t 73 \t loss:  \t 0.071 \t accuracy:  \t 0.679 \t test_loss:  \t 0.207 \t test_accuracy:  \t 0.679 \t\n",
      "epoch: \t 74 \t loss:  \t 0.07 \t accuracy:  \t 0.679 \t test_loss:  \t 0.205 \t test_accuracy:  \t 0.679 \t\n",
      "epoch: \t 75 \t loss:  \t 0.069 \t accuracy:  \t 0.679 \t test_loss:  \t 0.203 \t test_accuracy:  \t 0.679 \t\n",
      "epoch: \t 76 \t loss:  \t 0.069 \t accuracy:  \t 0.679 \t test_loss:  \t 0.201 \t test_accuracy:  \t 0.679 \t\n",
      "epoch: \t 77 \t loss:  \t 0.068 \t accuracy:  \t 0.679 \t test_loss:  \t 0.199 \t test_accuracy:  \t 0.679 \t\n",
      "epoch: \t 78 \t loss:  \t 0.067 \t accuracy:  \t 0.679 \t test_loss:  \t 0.198 \t test_accuracy:  \t 0.679 \t\n",
      "epoch: \t 79 \t loss:  \t 0.067 \t accuracy:  \t 0.688 \t test_loss:  \t 0.196 \t test_accuracy:  \t 0.679 \t\n",
      "epoch: \t 80 \t loss:  \t 0.066 \t accuracy:  \t 0.723 \t test_loss:  \t 0.194 \t test_accuracy:  \t 0.723 \t\n",
      "epoch: \t 81 \t loss:  \t 0.066 \t accuracy:  \t 0.723 \t test_loss:  \t 0.192 \t test_accuracy:  \t 0.723 \t\n",
      "epoch: \t 82 \t loss:  \t 0.065 \t accuracy:  \t 0.723 \t test_loss:  \t 0.191 \t test_accuracy:  \t 0.741 \t\n",
      "epoch: \t 83 \t loss:  \t 0.064 \t accuracy:  \t 0.741 \t test_loss:  \t 0.189 \t test_accuracy:  \t 0.741 \t\n",
      "epoch: \t 84 \t loss:  \t 0.064 \t accuracy:  \t 0.768 \t test_loss:  \t 0.187 \t test_accuracy:  \t 0.768 \t\n"
     ]
    },
    {
     "name": "stdout",
     "output_type": "stream",
     "text": [
      "epoch: \t 85 \t loss:  \t 0.063 \t accuracy:  \t 0.777 \t test_loss:  \t 0.186 \t test_accuracy:  \t 0.768 \t\n",
      "epoch: \t 86 \t loss:  \t 0.063 \t accuracy:  \t 0.768 \t test_loss:  \t 0.184 \t test_accuracy:  \t 0.768 \t\n",
      "epoch: \t 87 \t loss:  \t 0.062 \t accuracy:  \t 0.768 \t test_loss:  \t 0.183 \t test_accuracy:  \t 0.768 \t\n",
      "epoch: \t 88 \t loss:  \t 0.062 \t accuracy:  \t 0.768 \t test_loss:  \t 0.181 \t test_accuracy:  \t 0.768 \t\n",
      "epoch: \t 89 \t loss:  \t 0.061 \t accuracy:  \t 0.786 \t test_loss:  \t 0.18 \t test_accuracy:  \t 0.786 \t\n",
      "epoch: \t 90 \t loss:  \t 0.061 \t accuracy:  \t 0.804 \t test_loss:  \t 0.178 \t test_accuracy:  \t 0.804 \t\n",
      "epoch: \t 91 \t loss:  \t 0.06 \t accuracy:  \t 0.812 \t test_loss:  \t 0.177 \t test_accuracy:  \t 0.821 \t\n",
      "epoch: \t 92 \t loss:  \t 0.06 \t accuracy:  \t 0.821 \t test_loss:  \t 0.175 \t test_accuracy:  \t 0.821 \t\n",
      "epoch: \t 93 \t loss:  \t 0.059 \t accuracy:  \t 0.821 \t test_loss:  \t 0.174 \t test_accuracy:  \t 0.821 \t\n",
      "epoch: \t 94 \t loss:  \t 0.059 \t accuracy:  \t 0.821 \t test_loss:  \t 0.173 \t test_accuracy:  \t 0.821 \t\n",
      "epoch: \t 95 \t loss:  \t 0.058 \t accuracy:  \t 0.83 \t test_loss:  \t 0.171 \t test_accuracy:  \t 0.839 \t\n",
      "epoch: \t 96 \t loss:  \t 0.058 \t accuracy:  \t 0.848 \t test_loss:  \t 0.17 \t test_accuracy:  \t 0.848 \t\n",
      "epoch: \t 97 \t loss:  \t 0.058 \t accuracy:  \t 0.839 \t test_loss:  \t 0.169 \t test_accuracy:  \t 0.839 \t\n",
      "epoch: \t 98 \t loss:  \t 0.057 \t accuracy:  \t 0.839 \t test_loss:  \t 0.167 \t test_accuracy:  \t 0.848 \t\n",
      "epoch: \t 99 \t loss:  \t 0.057 \t accuracy:  \t 0.839 \t test_loss:  \t 0.166 \t test_accuracy:  \t 0.848 \t\n",
      "epoch: \t 100 \t loss:  \t 0.056 \t accuracy:  \t 0.848 \t test_loss:  \t 0.165 \t test_accuracy:  \t 0.857 \t\n",
      "epoch: \t 101 \t loss:  \t 0.056 \t accuracy:  \t 0.857 \t test_loss:  \t 0.164 \t test_accuracy:  \t 0.857 \t\n",
      "epoch: \t 102 \t loss:  \t 0.055 \t accuracy:  \t 0.857 \t test_loss:  \t 0.163 \t test_accuracy:  \t 0.857 \t\n",
      "epoch: \t 103 \t loss:  \t 0.055 \t accuracy:  \t 0.848 \t test_loss:  \t 0.161 \t test_accuracy:  \t 0.857 \t\n",
      "epoch: \t 104 \t loss:  \t 0.055 \t accuracy:  \t 0.848 \t test_loss:  \t 0.16 \t test_accuracy:  \t 0.857 \t\n",
      "epoch: \t 105 \t loss:  \t 0.054 \t accuracy:  \t 0.857 \t test_loss:  \t 0.159 \t test_accuracy:  \t 0.884 \t\n",
      "epoch: \t 106 \t loss:  \t 0.054 \t accuracy:  \t 0.866 \t test_loss:  \t 0.158 \t test_accuracy:  \t 0.866 \t\n",
      "epoch: \t 107 \t loss:  \t 0.053 \t accuracy:  \t 0.875 \t test_loss:  \t 0.157 \t test_accuracy:  \t 0.866 \t\n",
      "epoch: \t 108 \t loss:  \t 0.053 \t accuracy:  \t 0.866 \t test_loss:  \t 0.156 \t test_accuracy:  \t 0.866 \t\n",
      "epoch: \t 109 \t loss:  \t 0.053 \t accuracy:  \t 0.884 \t test_loss:  \t 0.155 \t test_accuracy:  \t 0.893 \t\n",
      "epoch: \t 110 \t loss:  \t 0.052 \t accuracy:  \t 0.893 \t test_loss:  \t 0.154 \t test_accuracy:  \t 0.893 \t\n",
      "epoch: \t 111 \t loss:  \t 0.052 \t accuracy:  \t 0.875 \t test_loss:  \t 0.153 \t test_accuracy:  \t 0.866 \t\n",
      "epoch: \t 112 \t loss:  \t 0.052 \t accuracy:  \t 0.893 \t test_loss:  \t 0.152 \t test_accuracy:  \t 0.893 \t\n",
      "epoch: \t 113 \t loss:  \t 0.051 \t accuracy:  \t 0.92 \t test_loss:  \t 0.151 \t test_accuracy:  \t 0.92 \t\n",
      "epoch: \t 114 \t loss:  \t 0.051 \t accuracy:  \t 0.92 \t test_loss:  \t 0.15 \t test_accuracy:  \t 0.92 \t\n",
      "epoch: \t 115 \t loss:  \t 0.051 \t accuracy:  \t 0.92 \t test_loss:  \t 0.149 \t test_accuracy:  \t 0.92 \t\n",
      "epoch: \t 116 \t loss:  \t 0.05 \t accuracy:  \t 0.911 \t test_loss:  \t 0.148 \t test_accuracy:  \t 0.893 \t\n",
      "epoch: \t 117 \t loss:  \t 0.05 \t accuracy:  \t 0.893 \t test_loss:  \t 0.147 \t test_accuracy:  \t 0.893 \t\n",
      "epoch: \t 118 \t loss:  \t 0.05 \t accuracy:  \t 0.902 \t test_loss:  \t 0.146 \t test_accuracy:  \t 0.92 \t\n",
      "epoch: \t 119 \t loss:  \t 0.049 \t accuracy:  \t 0.92 \t test_loss:  \t 0.145 \t test_accuracy:  \t 0.92 \t\n",
      "epoch: \t 120 \t loss:  \t 0.049 \t accuracy:  \t 0.893 \t test_loss:  \t 0.144 \t test_accuracy:  \t 0.893 \t\n",
      "epoch: \t 121 \t loss:  \t 0.049 \t accuracy:  \t 0.911 \t test_loss:  \t 0.143 \t test_accuracy:  \t 0.92 \t\n",
      "epoch: \t 122 \t loss:  \t 0.048 \t accuracy:  \t 0.92 \t test_loss:  \t 0.142 \t test_accuracy:  \t 0.92 \t\n",
      "epoch: \t 123 \t loss:  \t 0.048 \t accuracy:  \t 0.92 \t test_loss:  \t 0.141 \t test_accuracy:  \t 0.92 \t\n",
      "epoch: \t 124 \t loss:  \t 0.048 \t accuracy:  \t 0.92 \t test_loss:  \t 0.14 \t test_accuracy:  \t 0.92 \t\n",
      "epoch: \t 125 \t loss:  \t 0.047 \t accuracy:  \t 0.92 \t test_loss:  \t 0.139 \t test_accuracy:  \t 0.92 \t\n",
      "epoch: \t 126 \t loss:  \t 0.047 \t accuracy:  \t 0.92 \t test_loss:  \t 0.138 \t test_accuracy:  \t 0.92 \t\n",
      "epoch: \t 127 \t loss:  \t 0.047 \t accuracy:  \t 0.929 \t test_loss:  \t 0.137 \t test_accuracy:  \t 0.938 \t\n",
      "epoch: \t 128 \t loss:  \t 0.047 \t accuracy:  \t 0.938 \t test_loss:  \t 0.136 \t test_accuracy:  \t 0.938 \t\n",
      "epoch: \t 129 \t loss:  \t 0.046 \t accuracy:  \t 0.929 \t test_loss:  \t 0.136 \t test_accuracy:  \t 0.92 \t\n",
      "epoch: \t 130 \t loss:  \t 0.046 \t accuracy:  \t 0.92 \t test_loss:  \t 0.135 \t test_accuracy:  \t 0.929 \t\n",
      "epoch: \t 131 \t loss:  \t 0.046 \t accuracy:  \t 0.938 \t test_loss:  \t 0.134 \t test_accuracy:  \t 0.938 \t\n",
      "epoch: \t 132 \t loss:  \t 0.045 \t accuracy:  \t 0.938 \t test_loss:  \t 0.133 \t test_accuracy:  \t 0.946 \t\n",
      "epoch: \t 133 \t loss:  \t 0.045 \t accuracy:  \t 0.946 \t test_loss:  \t 0.132 \t test_accuracy:  \t 0.938 \t\n",
      "epoch: \t 134 \t loss:  \t 0.045 \t accuracy:  \t 0.938 \t test_loss:  \t 0.131 \t test_accuracy:  \t 0.938 \t\n",
      "epoch: \t 135 \t loss:  \t 0.044 \t accuracy:  \t 0.938 \t test_loss:  \t 0.13 \t test_accuracy:  \t 0.938 \t\n",
      "epoch: \t 136 \t loss:  \t 0.044 \t accuracy:  \t 0.938 \t test_loss:  \t 0.129 \t test_accuracy:  \t 0.938 \t\n",
      "epoch: \t 137 \t loss:  \t 0.044 \t accuracy:  \t 0.938 \t test_loss:  \t 0.129 \t test_accuracy:  \t 0.938 \t\n",
      "epoch: \t 138 \t loss:  \t 0.044 \t accuracy:  \t 0.938 \t test_loss:  \t 0.128 \t test_accuracy:  \t 0.938 \t\n",
      "epoch: \t 139 \t loss:  \t 0.043 \t accuracy:  \t 0.938 \t test_loss:  \t 0.127 \t test_accuracy:  \t 0.938 \t\n",
      "epoch: \t 140 \t loss:  \t 0.043 \t accuracy:  \t 0.938 \t test_loss:  \t 0.126 \t test_accuracy:  \t 0.938 \t\n",
      "epoch: \t 141 \t loss:  \t 0.043 \t accuracy:  \t 0.946 \t test_loss:  \t 0.125 \t test_accuracy:  \t 0.946 \t\n",
      "epoch: \t 142 \t loss:  \t 0.042 \t accuracy:  \t 0.946 \t test_loss:  \t 0.124 \t test_accuracy:  \t 0.946 \t\n",
      "epoch: \t 143 \t loss:  \t 0.042 \t accuracy:  \t 0.946 \t test_loss:  \t 0.123 \t test_accuracy:  \t 0.946 \t\n",
      "epoch: \t 144 \t loss:  \t 0.042 \t accuracy:  \t 0.946 \t test_loss:  \t 0.123 \t test_accuracy:  \t 0.955 \t\n",
      "epoch: \t 145 \t loss:  \t 0.042 \t accuracy:  \t 0.955 \t test_loss:  \t 0.122 \t test_accuracy:  \t 0.955 \t\n",
      "epoch: \t 146 \t loss:  \t 0.041 \t accuracy:  \t 0.955 \t test_loss:  \t 0.121 \t test_accuracy:  \t 0.955 \t\n",
      "epoch: \t 147 \t loss:  \t 0.041 \t accuracy:  \t 0.955 \t test_loss:  \t 0.12 \t test_accuracy:  \t 0.955 \t\n",
      "epoch: \t 148 \t loss:  \t 0.041 \t accuracy:  \t 0.955 \t test_loss:  \t 0.119 \t test_accuracy:  \t 0.955 \t\n",
      "epoch: \t 149 \t loss:  \t 0.04 \t accuracy:  \t 0.955 \t test_loss:  \t 0.118 \t test_accuracy:  \t 0.955 \t\n",
      "epoch: \t 150 \t loss:  \t 0.04 \t accuracy:  \t 0.955 \t test_loss:  \t 0.117 \t test_accuracy:  \t 0.955 \t\n",
      "epoch: \t 151 \t loss:  \t 0.04 \t accuracy:  \t 0.955 \t test_loss:  \t 0.117 \t test_accuracy:  \t 0.955 \t\n",
      "epoch: \t 152 \t loss:  \t 0.04 \t accuracy:  \t 0.955 \t test_loss:  \t 0.116 \t test_accuracy:  \t 0.955 \t\n",
      "epoch: \t 153 \t loss:  \t 0.039 \t accuracy:  \t 0.955 \t test_loss:  \t 0.115 \t test_accuracy:  \t 0.964 \t\n",
      "epoch: \t 154 \t loss:  \t 0.039 \t accuracy:  \t 0.964 \t test_loss:  \t 0.114 \t test_accuracy:  \t 0.964 \t\n",
      "epoch: \t 155 \t loss:  \t 0.039 \t accuracy:  \t 0.964 \t test_loss:  \t 0.113 \t test_accuracy:  \t 0.964 \t\n",
      "epoch: \t 156 \t loss:  \t 0.038 \t accuracy:  \t 0.964 \t test_loss:  \t 0.113 \t test_accuracy:  \t 0.964 \t\n",
      "epoch: \t 157 \t loss:  \t 0.038 \t accuracy:  \t 0.964 \t test_loss:  \t 0.112 \t test_accuracy:  \t 0.964 \t\n",
      "epoch: \t 158 \t loss:  \t 0.038 \t accuracy:  \t 0.964 \t test_loss:  \t 0.111 \t test_accuracy:  \t 0.964 \t\n",
      "epoch: \t 159 \t loss:  \t 0.038 \t accuracy:  \t 0.964 \t test_loss:  \t 0.11 \t test_accuracy:  \t 0.955 \t\n",
      "epoch: \t 160 \t loss:  \t 0.037 \t accuracy:  \t 0.964 \t test_loss:  \t 0.109 \t test_accuracy:  \t 0.964 \t\n",
      "epoch: \t 161 \t loss:  \t 0.037 \t accuracy:  \t 0.964 \t test_loss:  \t 0.109 \t test_accuracy:  \t 0.964 \t\n",
      "epoch: \t 162 \t loss:  \t 0.037 \t accuracy:  \t 0.964 \t test_loss:  \t 0.108 \t test_accuracy:  \t 0.964 \t\n",
      "epoch: \t 163 \t loss:  \t 0.037 \t accuracy:  \t 0.964 \t test_loss:  \t 0.107 \t test_accuracy:  \t 0.964 \t\n",
      "epoch: \t 164 \t loss:  \t 0.036 \t accuracy:  \t 0.964 \t test_loss:  \t 0.106 \t test_accuracy:  \t 0.964 \t\n",
      "epoch: \t 165 \t loss:  \t 0.036 \t accuracy:  \t 0.964 \t test_loss:  \t 0.106 \t test_accuracy:  \t 0.964 \t\n",
      "epoch: \t 166 \t loss:  \t 0.036 \t accuracy:  \t 0.964 \t test_loss:  \t 0.105 \t test_accuracy:  \t 0.964 \t\n"
     ]
    },
    {
     "name": "stdout",
     "output_type": "stream",
     "text": [
      "epoch: \t 167 \t loss:  \t 0.035 \t accuracy:  \t 0.964 \t test_loss:  \t 0.104 \t test_accuracy:  \t 0.964 \t\n",
      "epoch: \t 168 \t loss:  \t 0.035 \t accuracy:  \t 0.964 \t test_loss:  \t 0.103 \t test_accuracy:  \t 0.964 \t\n",
      "epoch: \t 169 \t loss:  \t 0.035 \t accuracy:  \t 0.964 \t test_loss:  \t 0.103 \t test_accuracy:  \t 0.964 \t\n",
      "epoch: \t 170 \t loss:  \t 0.035 \t accuracy:  \t 0.964 \t test_loss:  \t 0.102 \t test_accuracy:  \t 0.964 \t\n",
      "epoch: \t 171 \t loss:  \t 0.035 \t accuracy:  \t 0.964 \t test_loss:  \t 0.101 \t test_accuracy:  \t 0.964 \t\n",
      "epoch: \t 172 \t loss:  \t 0.034 \t accuracy:  \t 0.964 \t test_loss:  \t 0.1 \t test_accuracy:  \t 0.964 \t\n",
      "epoch: \t 173 \t loss:  \t 0.034 \t accuracy:  \t 0.964 \t test_loss:  \t 0.1 \t test_accuracy:  \t 0.964 \t\n",
      "epoch: \t 174 \t loss:  \t 0.034 \t accuracy:  \t 0.964 \t test_loss:  \t 0.099 \t test_accuracy:  \t 0.964 \t\n",
      "epoch: \t 175 \t loss:  \t 0.034 \t accuracy:  \t 0.964 \t test_loss:  \t 0.098 \t test_accuracy:  \t 0.964 \t\n",
      "epoch: \t 176 \t loss:  \t 0.033 \t accuracy:  \t 0.964 \t test_loss:  \t 0.098 \t test_accuracy:  \t 0.964 \t\n",
      "epoch: \t 177 \t loss:  \t 0.033 \t accuracy:  \t 0.964 \t test_loss:  \t 0.097 \t test_accuracy:  \t 0.964 \t\n",
      "epoch: \t 178 \t loss:  \t 0.033 \t accuracy:  \t 0.964 \t test_loss:  \t 0.096 \t test_accuracy:  \t 0.964 \t\n",
      "epoch: \t 179 \t loss:  \t 0.033 \t accuracy:  \t 0.964 \t test_loss:  \t 0.096 \t test_accuracy:  \t 0.964 \t\n",
      "epoch: \t 180 \t loss:  \t 0.032 \t accuracy:  \t 0.964 \t test_loss:  \t 0.095 \t test_accuracy:  \t 0.964 \t\n",
      "epoch: \t 181 \t loss:  \t 0.032 \t accuracy:  \t 0.964 \t test_loss:  \t 0.094 \t test_accuracy:  \t 0.964 \t\n",
      "epoch: \t 182 \t loss:  \t 0.032 \t accuracy:  \t 0.964 \t test_loss:  \t 0.094 \t test_accuracy:  \t 0.964 \t\n",
      "epoch: \t 183 \t loss:  \t 0.032 \t accuracy:  \t 0.964 \t test_loss:  \t 0.093 \t test_accuracy:  \t 0.964 \t\n",
      "epoch: \t 184 \t loss:  \t 0.032 \t accuracy:  \t 0.964 \t test_loss:  \t 0.092 \t test_accuracy:  \t 0.964 \t\n",
      "epoch: \t 185 \t loss:  \t 0.031 \t accuracy:  \t 0.964 \t test_loss:  \t 0.092 \t test_accuracy:  \t 0.964 \t\n",
      "epoch: \t 186 \t loss:  \t 0.031 \t accuracy:  \t 0.964 \t test_loss:  \t 0.091 \t test_accuracy:  \t 0.964 \t\n",
      "epoch: \t 187 \t loss:  \t 0.031 \t accuracy:  \t 0.964 \t test_loss:  \t 0.091 \t test_accuracy:  \t 0.964 \t\n",
      "epoch: \t 188 \t loss:  \t 0.031 \t accuracy:  \t 0.964 \t test_loss:  \t 0.09 \t test_accuracy:  \t 0.973 \t\n",
      "epoch: \t 189 \t loss:  \t 0.03 \t accuracy:  \t 0.964 \t test_loss:  \t 0.089 \t test_accuracy:  \t 0.964 \t\n",
      "epoch: \t 190 \t loss:  \t 0.03 \t accuracy:  \t 0.964 \t test_loss:  \t 0.089 \t test_accuracy:  \t 0.964 \t\n",
      "epoch: \t 191 \t loss:  \t 0.03 \t accuracy:  \t 0.973 \t test_loss:  \t 0.088 \t test_accuracy:  \t 0.973 \t\n",
      "epoch: \t 192 \t loss:  \t 0.03 \t accuracy:  \t 0.973 \t test_loss:  \t 0.087 \t test_accuracy:  \t 0.964 \t\n",
      "epoch: \t 193 \t loss:  \t 0.03 \t accuracy:  \t 0.964 \t test_loss:  \t 0.087 \t test_accuracy:  \t 0.964 \t\n",
      "epoch: \t 194 \t loss:  \t 0.03 \t accuracy:  \t 0.964 \t test_loss:  \t 0.086 \t test_accuracy:  \t 0.964 \t\n",
      "epoch: \t 195 \t loss:  \t 0.029 \t accuracy:  \t 0.973 \t test_loss:  \t 0.086 \t test_accuracy:  \t 0.973 \t\n",
      "epoch: \t 196 \t loss:  \t 0.029 \t accuracy:  \t 0.973 \t test_loss:  \t 0.085 \t test_accuracy:  \t 0.973 \t\n",
      "epoch: \t 197 \t loss:  \t 0.029 \t accuracy:  \t 0.973 \t test_loss:  \t 0.085 \t test_accuracy:  \t 0.973 \t\n",
      "epoch: \t 198 \t loss:  \t 0.029 \t accuracy:  \t 0.964 \t test_loss:  \t 0.084 \t test_accuracy:  \t 0.964 \t\n",
      "epoch: \t 199 \t loss:  \t 0.028 \t accuracy:  \t 0.964 \t test_loss:  \t 0.083 \t test_accuracy:  \t 0.964 \t\n",
      "epoch: \t 200 \t loss:  \t 0.028 \t accuracy:  \t 0.973 \t test_loss:  \t 0.083 \t test_accuracy:  \t 0.973 \t\n",
      "epoch: \t 201 \t loss:  \t 0.028 \t accuracy:  \t 0.973 \t test_loss:  \t 0.082 \t test_accuracy:  \t 0.973 \t\n",
      "epoch: \t 202 \t loss:  \t 0.028 \t accuracy:  \t 0.964 \t test_loss:  \t 0.082 \t test_accuracy:  \t 0.973 \t\n",
      "epoch: \t 203 \t loss:  \t 0.028 \t accuracy:  \t 0.964 \t test_loss:  \t 0.081 \t test_accuracy:  \t 0.964 \t\n",
      "epoch: \t 204 \t loss:  \t 0.028 \t accuracy:  \t 0.973 \t test_loss:  \t 0.081 \t test_accuracy:  \t 0.973 \t\n",
      "epoch: \t 205 \t loss:  \t 0.027 \t accuracy:  \t 0.964 \t test_loss:  \t 0.08 \t test_accuracy:  \t 0.964 \t\n",
      "epoch: \t 206 \t loss:  \t 0.027 \t accuracy:  \t 0.973 \t test_loss:  \t 0.08 \t test_accuracy:  \t 0.973 \t\n",
      "epoch: \t 207 \t loss:  \t 0.027 \t accuracy:  \t 0.973 \t test_loss:  \t 0.079 \t test_accuracy:  \t 0.964 \t\n",
      "epoch: \t 208 \t loss:  \t 0.027 \t accuracy:  \t 0.964 \t test_loss:  \t 0.079 \t test_accuracy:  \t 0.973 \t\n",
      "epoch: \t 209 \t loss:  \t 0.027 \t accuracy:  \t 0.973 \t test_loss:  \t 0.078 \t test_accuracy:  \t 0.973 \t\n",
      "epoch: \t 210 \t loss:  \t 0.026 \t accuracy:  \t 0.973 \t test_loss:  \t 0.078 \t test_accuracy:  \t 0.973 \t\n",
      "epoch: \t 211 \t loss:  \t 0.026 \t accuracy:  \t 0.964 \t test_loss:  \t 0.077 \t test_accuracy:  \t 0.964 \t\n",
      "epoch: \t 212 \t loss:  \t 0.026 \t accuracy:  \t 0.964 \t test_loss:  \t 0.077 \t test_accuracy:  \t 0.964 \t\n",
      "epoch: \t 213 \t loss:  \t 0.026 \t accuracy:  \t 0.973 \t test_loss:  \t 0.076 \t test_accuracy:  \t 0.973 \t\n",
      "epoch: \t 214 \t loss:  \t 0.026 \t accuracy:  \t 0.973 \t test_loss:  \t 0.076 \t test_accuracy:  \t 0.973 \t\n",
      "epoch: \t 215 \t loss:  \t 0.026 \t accuracy:  \t 0.973 \t test_loss:  \t 0.075 \t test_accuracy:  \t 0.973 \t\n",
      "epoch: \t 216 \t loss:  \t 0.025 \t accuracy:  \t 0.973 \t test_loss:  \t 0.075 \t test_accuracy:  \t 0.973 \t\n",
      "epoch: \t 217 \t loss:  \t 0.025 \t accuracy:  \t 0.964 \t test_loss:  \t 0.074 \t test_accuracy:  \t 0.964 \t\n",
      "epoch: \t 218 \t loss:  \t 0.025 \t accuracy:  \t 0.973 \t test_loss:  \t 0.074 \t test_accuracy:  \t 0.973 \t\n",
      "epoch: \t 219 \t loss:  \t 0.025 \t accuracy:  \t 0.973 \t test_loss:  \t 0.073 \t test_accuracy:  \t 0.973 \t\n",
      "epoch: \t 220 \t loss:  \t 0.025 \t accuracy:  \t 0.973 \t test_loss:  \t 0.073 \t test_accuracy:  \t 0.973 \t\n",
      "epoch: \t 221 \t loss:  \t 0.025 \t accuracy:  \t 0.973 \t test_loss:  \t 0.072 \t test_accuracy:  \t 0.973 \t\n",
      "epoch: \t 222 \t loss:  \t 0.025 \t accuracy:  \t 0.973 \t test_loss:  \t 0.072 \t test_accuracy:  \t 0.973 \t\n",
      "epoch: \t 223 \t loss:  \t 0.024 \t accuracy:  \t 0.964 \t test_loss:  \t 0.071 \t test_accuracy:  \t 0.973 \t\n",
      "epoch: \t 224 \t loss:  \t 0.024 \t accuracy:  \t 0.973 \t test_loss:  \t 0.071 \t test_accuracy:  \t 0.973 \t\n",
      "epoch: \t 225 \t loss:  \t 0.024 \t accuracy:  \t 0.973 \t test_loss:  \t 0.071 \t test_accuracy:  \t 0.973 \t\n",
      "epoch: \t 226 \t loss:  \t 0.024 \t accuracy:  \t 0.973 \t test_loss:  \t 0.07 \t test_accuracy:  \t 0.973 \t\n",
      "epoch: \t 227 \t loss:  \t 0.024 \t accuracy:  \t 0.973 \t test_loss:  \t 0.07 \t test_accuracy:  \t 0.973 \t\n",
      "epoch: \t 228 \t loss:  \t 0.024 \t accuracy:  \t 0.973 \t test_loss:  \t 0.069 \t test_accuracy:  \t 0.973 \t\n",
      "epoch: \t 229 \t loss:  \t 0.024 \t accuracy:  \t 0.973 \t test_loss:  \t 0.069 \t test_accuracy:  \t 0.973 \t\n",
      "epoch: \t 230 \t loss:  \t 0.023 \t accuracy:  \t 0.973 \t test_loss:  \t 0.068 \t test_accuracy:  \t 0.973 \t\n",
      "epoch: \t 231 \t loss:  \t 0.023 \t accuracy:  \t 0.973 \t test_loss:  \t 0.068 \t test_accuracy:  \t 0.973 \t\n",
      "epoch: \t 232 \t loss:  \t 0.023 \t accuracy:  \t 0.973 \t test_loss:  \t 0.068 \t test_accuracy:  \t 0.973 \t\n",
      "epoch: \t 233 \t loss:  \t 0.023 \t accuracy:  \t 0.973 \t test_loss:  \t 0.067 \t test_accuracy:  \t 0.973 \t\n",
      "epoch: \t 234 \t loss:  \t 0.023 \t accuracy:  \t 0.973 \t test_loss:  \t 0.067 \t test_accuracy:  \t 0.973 \t\n",
      "epoch: \t 235 \t loss:  \t 0.023 \t accuracy:  \t 0.973 \t test_loss:  \t 0.066 \t test_accuracy:  \t 0.973 \t\n",
      "epoch: \t 236 \t loss:  \t 0.023 \t accuracy:  \t 0.973 \t test_loss:  \t 0.066 \t test_accuracy:  \t 0.973 \t\n",
      "epoch: \t 237 \t loss:  \t 0.022 \t accuracy:  \t 0.973 \t test_loss:  \t 0.066 \t test_accuracy:  \t 0.973 \t\n",
      "epoch: \t 238 \t loss:  \t 0.022 \t accuracy:  \t 0.973 \t test_loss:  \t 0.065 \t test_accuracy:  \t 0.973 \t\n",
      "epoch: \t 239 \t loss:  \t 0.022 \t accuracy:  \t 0.973 \t test_loss:  \t 0.065 \t test_accuracy:  \t 0.973 \t\n",
      "epoch: \t 240 \t loss:  \t 0.022 \t accuracy:  \t 0.973 \t test_loss:  \t 0.065 \t test_accuracy:  \t 0.973 \t\n",
      "epoch: \t 241 \t loss:  \t 0.022 \t accuracy:  \t 0.973 \t test_loss:  \t 0.064 \t test_accuracy:  \t 0.973 \t\n",
      "epoch: \t 242 \t loss:  \t 0.022 \t accuracy:  \t 0.973 \t test_loss:  \t 0.064 \t test_accuracy:  \t 0.973 \t\n",
      "epoch: \t 243 \t loss:  \t 0.022 \t accuracy:  \t 0.973 \t test_loss:  \t 0.063 \t test_accuracy:  \t 0.973 \t\n",
      "epoch: \t 244 \t loss:  \t 0.022 \t accuracy:  \t 0.973 \t test_loss:  \t 0.063 \t test_accuracy:  \t 0.982 \t\n",
      "epoch: \t 245 \t loss:  \t 0.021 \t accuracy:  \t 0.973 \t test_loss:  \t 0.063 \t test_accuracy:  \t 0.973 \t\n",
      "epoch: \t 246 \t loss:  \t 0.021 \t accuracy:  \t 0.973 \t test_loss:  \t 0.062 \t test_accuracy:  \t 0.982 \t\n",
      "epoch: \t 247 \t loss:  \t 0.021 \t accuracy:  \t 0.973 \t test_loss:  \t 0.062 \t test_accuracy:  \t 0.973 \t\n",
      "epoch: \t 248 \t loss:  \t 0.021 \t accuracy:  \t 0.973 \t test_loss:  \t 0.062 \t test_accuracy:  \t 0.973 \t\n",
      "epoch: \t 249 \t loss:  \t 0.021 \t accuracy:  \t 0.982 \t test_loss:  \t 0.061 \t test_accuracy:  \t 0.982 \t\n",
      "epoch: \t 250 \t loss:  \t 0.021 \t accuracy:  \t 0.982 \t test_loss:  \t 0.061 \t test_accuracy:  \t 0.982 \t\n"
     ]
    },
    {
     "name": "stdout",
     "output_type": "stream",
     "text": [
      "epoch: \t 251 \t loss:  \t 0.021 \t accuracy:  \t 0.982 \t test_loss:  \t 0.061 \t test_accuracy:  \t 0.973 \t\n",
      "epoch: \t 252 \t loss:  \t 0.021 \t accuracy:  \t 0.973 \t test_loss:  \t 0.06 \t test_accuracy:  \t 0.973 \t\n",
      "epoch: \t 253 \t loss:  \t 0.02 \t accuracy:  \t 0.973 \t test_loss:  \t 0.06 \t test_accuracy:  \t 0.982 \t\n",
      "epoch: \t 254 \t loss:  \t 0.02 \t accuracy:  \t 0.973 \t test_loss:  \t 0.06 \t test_accuracy:  \t 0.973 \t\n",
      "epoch: \t 255 \t loss:  \t 0.02 \t accuracy:  \t 0.973 \t test_loss:  \t 0.059 \t test_accuracy:  \t 0.973 \t\n",
      "epoch: \t 256 \t loss:  \t 0.02 \t accuracy:  \t 0.973 \t test_loss:  \t 0.059 \t test_accuracy:  \t 0.973 \t\n",
      "epoch: \t 257 \t loss:  \t 0.02 \t accuracy:  \t 0.973 \t test_loss:  \t 0.059 \t test_accuracy:  \t 0.973 \t\n",
      "epoch: \t 258 \t loss:  \t 0.02 \t accuracy:  \t 0.973 \t test_loss:  \t 0.058 \t test_accuracy:  \t 0.973 \t\n",
      "epoch: \t 259 \t loss:  \t 0.02 \t accuracy:  \t 0.973 \t test_loss:  \t 0.058 \t test_accuracy:  \t 0.973 \t\n",
      "epoch: \t 260 \t loss:  \t 0.02 \t accuracy:  \t 0.973 \t test_loss:  \t 0.058 \t test_accuracy:  \t 0.973 \t\n",
      "epoch: \t 261 \t loss:  \t 0.02 \t accuracy:  \t 0.982 \t test_loss:  \t 0.057 \t test_accuracy:  \t 0.982 \t\n",
      "epoch: \t 262 \t loss:  \t 0.02 \t accuracy:  \t 0.973 \t test_loss:  \t 0.057 \t test_accuracy:  \t 0.982 \t\n",
      "epoch: \t 263 \t loss:  \t 0.019 \t accuracy:  \t 0.982 \t test_loss:  \t 0.057 \t test_accuracy:  \t 0.982 \t\n",
      "epoch: \t 264 \t loss:  \t 0.019 \t accuracy:  \t 0.982 \t test_loss:  \t 0.057 \t test_accuracy:  \t 0.982 \t\n",
      "epoch: \t 265 \t loss:  \t 0.019 \t accuracy:  \t 0.982 \t test_loss:  \t 0.056 \t test_accuracy:  \t 0.982 \t\n",
      "epoch: \t 266 \t loss:  \t 0.019 \t accuracy:  \t 0.982 \t test_loss:  \t 0.056 \t test_accuracy:  \t 0.982 \t\n",
      "epoch: \t 267 \t loss:  \t 0.019 \t accuracy:  \t 0.973 \t test_loss:  \t 0.056 \t test_accuracy:  \t 0.973 \t\n",
      "epoch: \t 268 \t loss:  \t 0.019 \t accuracy:  \t 0.973 \t test_loss:  \t 0.055 \t test_accuracy:  \t 0.973 \t\n",
      "epoch: \t 269 \t loss:  \t 0.019 \t accuracy:  \t 0.973 \t test_loss:  \t 0.055 \t test_accuracy:  \t 0.973 \t\n",
      "epoch: \t 270 \t loss:  \t 0.019 \t accuracy:  \t 0.982 \t test_loss:  \t 0.055 \t test_accuracy:  \t 0.982 \t\n",
      "epoch: \t 271 \t loss:  \t 0.019 \t accuracy:  \t 0.982 \t test_loss:  \t 0.055 \t test_accuracy:  \t 0.982 \t\n",
      "epoch: \t 272 \t loss:  \t 0.019 \t accuracy:  \t 0.982 \t test_loss:  \t 0.054 \t test_accuracy:  \t 0.982 \t\n",
      "epoch: \t 273 \t loss:  \t 0.018 \t accuracy:  \t 0.982 \t test_loss:  \t 0.054 \t test_accuracy:  \t 0.982 \t\n",
      "epoch: \t 274 \t loss:  \t 0.018 \t accuracy:  \t 0.982 \t test_loss:  \t 0.054 \t test_accuracy:  \t 0.982 \t\n",
      "epoch: \t 275 \t loss:  \t 0.018 \t accuracy:  \t 0.982 \t test_loss:  \t 0.053 \t test_accuracy:  \t 0.982 \t\n",
      "epoch: \t 276 \t loss:  \t 0.018 \t accuracy:  \t 0.973 \t test_loss:  \t 0.053 \t test_accuracy:  \t 0.973 \t\n",
      "epoch: \t 277 \t loss:  \t 0.018 \t accuracy:  \t 0.982 \t test_loss:  \t 0.053 \t test_accuracy:  \t 0.982 \t\n",
      "epoch: \t 278 \t loss:  \t 0.018 \t accuracy:  \t 0.973 \t test_loss:  \t 0.053 \t test_accuracy:  \t 0.973 \t\n",
      "epoch: \t 279 \t loss:  \t 0.018 \t accuracy:  \t 0.982 \t test_loss:  \t 0.052 \t test_accuracy:  \t 0.982 \t\n",
      "epoch: \t 280 \t loss:  \t 0.018 \t accuracy:  \t 0.982 \t test_loss:  \t 0.052 \t test_accuracy:  \t 0.982 \t\n",
      "epoch: \t 281 \t loss:  \t 0.018 \t accuracy:  \t 0.982 \t test_loss:  \t 0.052 \t test_accuracy:  \t 0.982 \t\n",
      "epoch: \t 282 \t loss:  \t 0.018 \t accuracy:  \t 0.982 \t test_loss:  \t 0.052 \t test_accuracy:  \t 0.973 \t\n",
      "epoch: \t 283 \t loss:  \t 0.018 \t accuracy:  \t 0.973 \t test_loss:  \t 0.051 \t test_accuracy:  \t 0.982 \t\n",
      "epoch: \t 284 \t loss:  \t 0.017 \t accuracy:  \t 0.982 \t test_loss:  \t 0.051 \t test_accuracy:  \t 0.982 \t\n",
      "epoch: \t 285 \t loss:  \t 0.017 \t accuracy:  \t 0.982 \t test_loss:  \t 0.051 \t test_accuracy:  \t 0.982 \t\n",
      "epoch: \t 286 \t loss:  \t 0.017 \t accuracy:  \t 0.982 \t test_loss:  \t 0.051 \t test_accuracy:  \t 0.982 \t\n",
      "epoch: \t 287 \t loss:  \t 0.017 \t accuracy:  \t 0.982 \t test_loss:  \t 0.05 \t test_accuracy:  \t 0.982 \t\n",
      "epoch: \t 288 \t loss:  \t 0.017 \t accuracy:  \t 0.982 \t test_loss:  \t 0.05 \t test_accuracy:  \t 0.982 \t\n",
      "epoch: \t 289 \t loss:  \t 0.017 \t accuracy:  \t 0.982 \t test_loss:  \t 0.05 \t test_accuracy:  \t 0.982 \t\n",
      "epoch: \t 290 \t loss:  \t 0.017 \t accuracy:  \t 0.982 \t test_loss:  \t 0.05 \t test_accuracy:  \t 0.982 \t\n",
      "epoch: \t 291 \t loss:  \t 0.017 \t accuracy:  \t 0.982 \t test_loss:  \t 0.05 \t test_accuracy:  \t 0.982 \t\n",
      "epoch: \t 292 \t loss:  \t 0.017 \t accuracy:  \t 0.973 \t test_loss:  \t 0.049 \t test_accuracy:  \t 0.982 \t\n",
      "epoch: \t 293 \t loss:  \t 0.017 \t accuracy:  \t 0.982 \t test_loss:  \t 0.049 \t test_accuracy:  \t 0.982 \t\n",
      "epoch: \t 294 \t loss:  \t 0.017 \t accuracy:  \t 0.982 \t test_loss:  \t 0.049 \t test_accuracy:  \t 0.982 \t\n",
      "epoch: \t 295 \t loss:  \t 0.017 \t accuracy:  \t 0.982 \t test_loss:  \t 0.049 \t test_accuracy:  \t 0.982 \t\n",
      "epoch: \t 296 \t loss:  \t 0.017 \t accuracy:  \t 0.982 \t test_loss:  \t 0.048 \t test_accuracy:  \t 0.982 \t\n",
      "epoch: \t 297 \t loss:  \t 0.017 \t accuracy:  \t 0.982 \t test_loss:  \t 0.048 \t test_accuracy:  \t 0.982 \t\n",
      "epoch: \t 298 \t loss:  \t 0.016 \t accuracy:  \t 0.982 \t test_loss:  \t 0.048 \t test_accuracy:  \t 0.982 \t\n",
      "epoch: \t 299 \t loss:  \t 0.016 \t accuracy:  \t 0.982 \t test_loss:  \t 0.048 \t test_accuracy:  \t 0.982 \t\n",
      "epoch: \t 300 \t loss:  \t 0.016 \t accuracy:  \t 0.982 \t test_loss:  \t 0.048 \t test_accuracy:  \t 0.982 \t\n",
      "epoch: \t 301 \t loss:  \t 0.016 \t accuracy:  \t 0.982 \t test_loss:  \t 0.047 \t test_accuracy:  \t 0.982 \t\n",
      "epoch: \t 302 \t loss:  \t 0.016 \t accuracy:  \t 0.982 \t test_loss:  \t 0.047 \t test_accuracy:  \t 0.982 \t\n",
      "epoch: \t 303 \t loss:  \t 0.016 \t accuracy:  \t 0.982 \t test_loss:  \t 0.047 \t test_accuracy:  \t 0.982 \t\n",
      "epoch: \t 304 \t loss:  \t 0.016 \t accuracy:  \t 0.982 \t test_loss:  \t 0.047 \t test_accuracy:  \t 0.982 \t\n",
      "epoch: \t 305 \t loss:  \t 0.016 \t accuracy:  \t 0.982 \t test_loss:  \t 0.047 \t test_accuracy:  \t 0.982 \t\n",
      "epoch: \t 306 \t loss:  \t 0.016 \t accuracy:  \t 0.982 \t test_loss:  \t 0.046 \t test_accuracy:  \t 0.982 \t\n",
      "epoch: \t 307 \t loss:  \t 0.016 \t accuracy:  \t 0.982 \t test_loss:  \t 0.046 \t test_accuracy:  \t 0.982 \t\n",
      "epoch: \t 308 \t loss:  \t 0.016 \t accuracy:  \t 0.982 \t test_loss:  \t 0.046 \t test_accuracy:  \t 0.982 \t\n",
      "epoch: \t 309 \t loss:  \t 0.016 \t accuracy:  \t 0.982 \t test_loss:  \t 0.046 \t test_accuracy:  \t 0.982 \t\n",
      "epoch: \t 310 \t loss:  \t 0.016 \t accuracy:  \t 0.982 \t test_loss:  \t 0.046 \t test_accuracy:  \t 0.982 \t\n",
      "epoch: \t 311 \t loss:  \t 0.015 \t accuracy:  \t 0.982 \t test_loss:  \t 0.045 \t test_accuracy:  \t 0.982 \t\n",
      "epoch: \t 312 \t loss:  \t 0.016 \t accuracy:  \t 0.982 \t test_loss:  \t 0.045 \t test_accuracy:  \t 0.982 \t\n",
      "epoch: \t 313 \t loss:  \t 0.015 \t accuracy:  \t 0.982 \t test_loss:  \t 0.045 \t test_accuracy:  \t 0.982 \t\n",
      "epoch: \t 314 \t loss:  \t 0.015 \t accuracy:  \t 0.982 \t test_loss:  \t 0.045 \t test_accuracy:  \t 0.982 \t\n",
      "epoch: \t 315 \t loss:  \t 0.015 \t accuracy:  \t 0.982 \t test_loss:  \t 0.045 \t test_accuracy:  \t 0.982 \t\n",
      "epoch: \t 316 \t loss:  \t 0.015 \t accuracy:  \t 0.982 \t test_loss:  \t 0.044 \t test_accuracy:  \t 0.982 \t\n",
      "epoch: \t 317 \t loss:  \t 0.015 \t accuracy:  \t 0.982 \t test_loss:  \t 0.044 \t test_accuracy:  \t 0.982 \t\n",
      "epoch: \t 318 \t loss:  \t 0.015 \t accuracy:  \t 0.982 \t test_loss:  \t 0.044 \t test_accuracy:  \t 0.982 \t\n",
      "epoch: \t 319 \t loss:  \t 0.015 \t accuracy:  \t 0.982 \t test_loss:  \t 0.044 \t test_accuracy:  \t 0.982 \t\n",
      "epoch: \t 320 \t loss:  \t 0.015 \t accuracy:  \t 0.982 \t test_loss:  \t 0.044 \t test_accuracy:  \t 0.982 \t\n",
      "epoch: \t 321 \t loss:  \t 0.015 \t accuracy:  \t 0.982 \t test_loss:  \t 0.044 \t test_accuracy:  \t 0.982 \t\n",
      "epoch: \t 322 \t loss:  \t 0.015 \t accuracy:  \t 0.982 \t test_loss:  \t 0.043 \t test_accuracy:  \t 0.982 \t\n",
      "epoch: \t 323 \t loss:  \t 0.015 \t accuracy:  \t 0.982 \t test_loss:  \t 0.043 \t test_accuracy:  \t 0.982 \t\n",
      "epoch: \t 324 \t loss:  \t 0.015 \t accuracy:  \t 0.982 \t test_loss:  \t 0.043 \t test_accuracy:  \t 0.982 \t\n",
      "epoch: \t 325 \t loss:  \t 0.015 \t accuracy:  \t 0.982 \t test_loss:  \t 0.043 \t test_accuracy:  \t 0.982 \t\n",
      "epoch: \t 326 \t loss:  \t 0.015 \t accuracy:  \t 0.982 \t test_loss:  \t 0.043 \t test_accuracy:  \t 0.982 \t\n",
      "epoch: \t 327 \t loss:  \t 0.014 \t accuracy:  \t 0.982 \t test_loss:  \t 0.043 \t test_accuracy:  \t 0.982 \t\n",
      "epoch: \t 328 \t loss:  \t 0.014 \t accuracy:  \t 0.982 \t test_loss:  \t 0.042 \t test_accuracy:  \t 0.982 \t\n",
      "epoch: \t 329 \t loss:  \t 0.014 \t accuracy:  \t 0.982 \t test_loss:  \t 0.042 \t test_accuracy:  \t 0.982 \t\n",
      "epoch: \t 330 \t loss:  \t 0.014 \t accuracy:  \t 0.982 \t test_loss:  \t 0.042 \t test_accuracy:  \t 0.982 \t\n",
      "epoch: \t 331 \t loss:  \t 0.014 \t accuracy:  \t 0.982 \t test_loss:  \t 0.042 \t test_accuracy:  \t 0.982 \t\n",
      "epoch: \t 332 \t loss:  \t 0.014 \t accuracy:  \t 0.982 \t test_loss:  \t 0.042 \t test_accuracy:  \t 0.982 \t\n",
      "epoch: \t 333 \t loss:  \t 0.014 \t accuracy:  \t 0.982 \t test_loss:  \t 0.042 \t test_accuracy:  \t 0.982 \t\n"
     ]
    },
    {
     "name": "stdout",
     "output_type": "stream",
     "text": [
      "epoch: \t 334 \t loss:  \t 0.014 \t accuracy:  \t 0.982 \t test_loss:  \t 0.042 \t test_accuracy:  \t 0.982 \t\n",
      "epoch: \t 335 \t loss:  \t 0.014 \t accuracy:  \t 0.982 \t test_loss:  \t 0.041 \t test_accuracy:  \t 0.982 \t\n",
      "epoch: \t 336 \t loss:  \t 0.014 \t accuracy:  \t 0.982 \t test_loss:  \t 0.041 \t test_accuracy:  \t 0.982 \t\n",
      "epoch: \t 337 \t loss:  \t 0.014 \t accuracy:  \t 0.982 \t test_loss:  \t 0.041 \t test_accuracy:  \t 0.982 \t\n",
      "epoch: \t 338 \t loss:  \t 0.014 \t accuracy:  \t 0.982 \t test_loss:  \t 0.041 \t test_accuracy:  \t 0.982 \t\n",
      "epoch: \t 339 \t loss:  \t 0.014 \t accuracy:  \t 0.982 \t test_loss:  \t 0.041 \t test_accuracy:  \t 0.982 \t\n",
      "epoch: \t 340 \t loss:  \t 0.014 \t accuracy:  \t 0.982 \t test_loss:  \t 0.041 \t test_accuracy:  \t 0.982 \t\n",
      "epoch: \t 341 \t loss:  \t 0.014 \t accuracy:  \t 0.982 \t test_loss:  \t 0.04 \t test_accuracy:  \t 0.982 \t\n",
      "epoch: \t 342 \t loss:  \t 0.014 \t accuracy:  \t 0.982 \t test_loss:  \t 0.04 \t test_accuracy:  \t 0.982 \t\n",
      "epoch: \t 343 \t loss:  \t 0.014 \t accuracy:  \t 0.982 \t test_loss:  \t 0.04 \t test_accuracy:  \t 0.982 \t\n",
      "epoch: \t 344 \t loss:  \t 0.014 \t accuracy:  \t 0.982 \t test_loss:  \t 0.04 \t test_accuracy:  \t 0.982 \t\n",
      "epoch: \t 345 \t loss:  \t 0.014 \t accuracy:  \t 0.982 \t test_loss:  \t 0.04 \t test_accuracy:  \t 0.982 \t\n",
      "epoch: \t 346 \t loss:  \t 0.014 \t accuracy:  \t 0.982 \t test_loss:  \t 0.04 \t test_accuracy:  \t 0.982 \t\n",
      "epoch: \t 347 \t loss:  \t 0.013 \t accuracy:  \t 0.982 \t test_loss:  \t 0.04 \t test_accuracy:  \t 0.982 \t\n",
      "epoch: \t 348 \t loss:  \t 0.013 \t accuracy:  \t 0.982 \t test_loss:  \t 0.039 \t test_accuracy:  \t 0.982 \t\n",
      "epoch: \t 349 \t loss:  \t 0.013 \t accuracy:  \t 0.982 \t test_loss:  \t 0.039 \t test_accuracy:  \t 0.982 \t\n",
      "epoch: \t 350 \t loss:  \t 0.013 \t accuracy:  \t 0.982 \t test_loss:  \t 0.039 \t test_accuracy:  \t 0.982 \t\n",
      "epoch: \t 351 \t loss:  \t 0.013 \t accuracy:  \t 0.982 \t test_loss:  \t 0.039 \t test_accuracy:  \t 0.982 \t\n",
      "epoch: \t 352 \t loss:  \t 0.013 \t accuracy:  \t 0.982 \t test_loss:  \t 0.039 \t test_accuracy:  \t 0.982 \t\n",
      "epoch: \t 353 \t loss:  \t 0.013 \t accuracy:  \t 0.982 \t test_loss:  \t 0.039 \t test_accuracy:  \t 0.982 \t\n",
      "epoch: \t 354 \t loss:  \t 0.013 \t accuracy:  \t 0.982 \t test_loss:  \t 0.039 \t test_accuracy:  \t 0.982 \t\n",
      "epoch: \t 355 \t loss:  \t 0.013 \t accuracy:  \t 0.982 \t test_loss:  \t 0.039 \t test_accuracy:  \t 0.982 \t\n",
      "epoch: \t 356 \t loss:  \t 0.013 \t accuracy:  \t 0.982 \t test_loss:  \t 0.038 \t test_accuracy:  \t 0.982 \t\n",
      "epoch: \t 357 \t loss:  \t 0.013 \t accuracy:  \t 0.982 \t test_loss:  \t 0.038 \t test_accuracy:  \t 0.982 \t\n",
      "epoch: \t 358 \t loss:  \t 0.013 \t accuracy:  \t 0.982 \t test_loss:  \t 0.038 \t test_accuracy:  \t 0.982 \t\n",
      "epoch: \t 359 \t loss:  \t 0.013 \t accuracy:  \t 0.982 \t test_loss:  \t 0.038 \t test_accuracy:  \t 0.982 \t\n",
      "epoch: \t 360 \t loss:  \t 0.013 \t accuracy:  \t 0.982 \t test_loss:  \t 0.038 \t test_accuracy:  \t 0.982 \t\n",
      "epoch: \t 361 \t loss:  \t 0.013 \t accuracy:  \t 0.982 \t test_loss:  \t 0.038 \t test_accuracy:  \t 0.982 \t\n",
      "epoch: \t 362 \t loss:  \t 0.013 \t accuracy:  \t 0.982 \t test_loss:  \t 0.038 \t test_accuracy:  \t 0.982 \t\n",
      "epoch: \t 363 \t loss:  \t 0.013 \t accuracy:  \t 0.982 \t test_loss:  \t 0.038 \t test_accuracy:  \t 0.982 \t\n",
      "epoch: \t 364 \t loss:  \t 0.013 \t accuracy:  \t 0.982 \t test_loss:  \t 0.037 \t test_accuracy:  \t 0.982 \t\n",
      "epoch: \t 365 \t loss:  \t 0.013 \t accuracy:  \t 0.982 \t test_loss:  \t 0.037 \t test_accuracy:  \t 0.982 \t\n",
      "epoch: \t 366 \t loss:  \t 0.013 \t accuracy:  \t 0.982 \t test_loss:  \t 0.037 \t test_accuracy:  \t 0.982 \t\n",
      "epoch: \t 367 \t loss:  \t 0.013 \t accuracy:  \t 0.982 \t test_loss:  \t 0.037 \t test_accuracy:  \t 0.982 \t\n",
      "epoch: \t 368 \t loss:  \t 0.013 \t accuracy:  \t 0.982 \t test_loss:  \t 0.037 \t test_accuracy:  \t 0.982 \t\n",
      "epoch: \t 369 \t loss:  \t 0.013 \t accuracy:  \t 0.982 \t test_loss:  \t 0.037 \t test_accuracy:  \t 0.982 \t\n",
      "epoch: \t 370 \t loss:  \t 0.013 \t accuracy:  \t 0.982 \t test_loss:  \t 0.037 \t test_accuracy:  \t 0.982 \t\n",
      "epoch: \t 371 \t loss:  \t 0.012 \t accuracy:  \t 0.982 \t test_loss:  \t 0.037 \t test_accuracy:  \t 0.982 \t\n",
      "epoch: \t 372 \t loss:  \t 0.012 \t accuracy:  \t 0.982 \t test_loss:  \t 0.036 \t test_accuracy:  \t 0.982 \t\n",
      "epoch: \t 373 \t loss:  \t 0.012 \t accuracy:  \t 0.982 \t test_loss:  \t 0.036 \t test_accuracy:  \t 0.982 \t\n",
      "epoch: \t 374 \t loss:  \t 0.012 \t accuracy:  \t 0.982 \t test_loss:  \t 0.036 \t test_accuracy:  \t 0.982 \t\n",
      "epoch: \t 375 \t loss:  \t 0.012 \t accuracy:  \t 0.982 \t test_loss:  \t 0.036 \t test_accuracy:  \t 0.982 \t\n",
      "epoch: \t 376 \t loss:  \t 0.012 \t accuracy:  \t 0.982 \t test_loss:  \t 0.036 \t test_accuracy:  \t 0.982 \t\n",
      "epoch: \t 377 \t loss:  \t 0.012 \t accuracy:  \t 0.982 \t test_loss:  \t 0.036 \t test_accuracy:  \t 0.982 \t\n",
      "epoch: \t 378 \t loss:  \t 0.012 \t accuracy:  \t 0.982 \t test_loss:  \t 0.036 \t test_accuracy:  \t 0.982 \t\n",
      "epoch: \t 379 \t loss:  \t 0.012 \t accuracy:  \t 0.982 \t test_loss:  \t 0.036 \t test_accuracy:  \t 0.982 \t\n",
      "epoch: \t 380 \t loss:  \t 0.012 \t accuracy:  \t 0.982 \t test_loss:  \t 0.036 \t test_accuracy:  \t 0.982 \t\n",
      "epoch: \t 381 \t loss:  \t 0.012 \t accuracy:  \t 0.982 \t test_loss:  \t 0.035 \t test_accuracy:  \t 0.982 \t\n",
      "epoch: \t 382 \t loss:  \t 0.012 \t accuracy:  \t 0.982 \t test_loss:  \t 0.035 \t test_accuracy:  \t 0.982 \t\n",
      "epoch: \t 383 \t loss:  \t 0.012 \t accuracy:  \t 0.982 \t test_loss:  \t 0.035 \t test_accuracy:  \t 0.982 \t\n",
      "epoch: \t 384 \t loss:  \t 0.012 \t accuracy:  \t 0.982 \t test_loss:  \t 0.035 \t test_accuracy:  \t 0.982 \t\n",
      "epoch: \t 385 \t loss:  \t 0.012 \t accuracy:  \t 0.982 \t test_loss:  \t 0.035 \t test_accuracy:  \t 0.982 \t\n",
      "epoch: \t 386 \t loss:  \t 0.012 \t accuracy:  \t 0.982 \t test_loss:  \t 0.035 \t test_accuracy:  \t 0.982 \t\n",
      "epoch: \t 387 \t loss:  \t 0.012 \t accuracy:  \t 0.982 \t test_loss:  \t 0.035 \t test_accuracy:  \t 0.982 \t\n",
      "epoch: \t 388 \t loss:  \t 0.012 \t accuracy:  \t 0.982 \t test_loss:  \t 0.035 \t test_accuracy:  \t 0.982 \t\n",
      "epoch: \t 389 \t loss:  \t 0.012 \t accuracy:  \t 0.982 \t test_loss:  \t 0.035 \t test_accuracy:  \t 0.982 \t\n",
      "epoch: \t 390 \t loss:  \t 0.012 \t accuracy:  \t 0.982 \t test_loss:  \t 0.035 \t test_accuracy:  \t 0.982 \t\n",
      "epoch: \t 391 \t loss:  \t 0.012 \t accuracy:  \t 0.982 \t test_loss:  \t 0.034 \t test_accuracy:  \t 0.982 \t\n",
      "epoch: \t 392 \t loss:  \t 0.012 \t accuracy:  \t 0.982 \t test_loss:  \t 0.034 \t test_accuracy:  \t 0.982 \t\n",
      "epoch: \t 393 \t loss:  \t 0.012 \t accuracy:  \t 0.982 \t test_loss:  \t 0.034 \t test_accuracy:  \t 0.982 \t\n",
      "epoch: \t 394 \t loss:  \t 0.012 \t accuracy:  \t 0.982 \t test_loss:  \t 0.034 \t test_accuracy:  \t 0.982 \t\n",
      "epoch: \t 395 \t loss:  \t 0.012 \t accuracy:  \t 0.982 \t test_loss:  \t 0.034 \t test_accuracy:  \t 0.982 \t\n",
      "epoch: \t 396 \t loss:  \t 0.012 \t accuracy:  \t 0.982 \t test_loss:  \t 0.034 \t test_accuracy:  \t 0.982 \t\n",
      "epoch: \t 397 \t loss:  \t 0.012 \t accuracy:  \t 0.982 \t test_loss:  \t 0.034 \t test_accuracy:  \t 0.982 \t\n",
      "epoch: \t 398 \t loss:  \t 0.012 \t accuracy:  \t 0.982 \t test_loss:  \t 0.034 \t test_accuracy:  \t 0.982 \t\n",
      "epoch: \t 399 \t loss:  \t 0.011 \t accuracy:  \t 0.982 \t test_loss:  \t 0.034 \t test_accuracy:  \t 0.982 \t\n",
      "epoch: \t 400 \t loss:  \t 0.011 \t accuracy:  \t 0.982 \t test_loss:  \t 0.034 \t test_accuracy:  \t 0.982 \t\n",
      "epoch: \t 401 \t loss:  \t 0.012 \t accuracy:  \t 0.982 \t test_loss:  \t 0.034 \t test_accuracy:  \t 0.982 \t\n",
      "epoch: \t 402 \t loss:  \t 0.011 \t accuracy:  \t 0.982 \t test_loss:  \t 0.033 \t test_accuracy:  \t 0.982 \t\n",
      "epoch: \t 403 \t loss:  \t 0.011 \t accuracy:  \t 0.982 \t test_loss:  \t 0.033 \t test_accuracy:  \t 0.982 \t\n",
      "epoch: \t 404 \t loss:  \t 0.011 \t accuracy:  \t 0.982 \t test_loss:  \t 0.033 \t test_accuracy:  \t 0.982 \t\n",
      "epoch: \t 405 \t loss:  \t 0.011 \t accuracy:  \t 0.982 \t test_loss:  \t 0.033 \t test_accuracy:  \t 0.982 \t\n",
      "epoch: \t 406 \t loss:  \t 0.011 \t accuracy:  \t 0.982 \t test_loss:  \t 0.033 \t test_accuracy:  \t 0.982 \t\n",
      "epoch: \t 407 \t loss:  \t 0.011 \t accuracy:  \t 0.982 \t test_loss:  \t 0.033 \t test_accuracy:  \t 0.982 \t\n",
      "epoch: \t 408 \t loss:  \t 0.011 \t accuracy:  \t 0.982 \t test_loss:  \t 0.033 \t test_accuracy:  \t 0.982 \t\n",
      "epoch: \t 409 \t loss:  \t 0.011 \t accuracy:  \t 0.982 \t test_loss:  \t 0.033 \t test_accuracy:  \t 0.982 \t\n",
      "epoch: \t 410 \t loss:  \t 0.011 \t accuracy:  \t 0.982 \t test_loss:  \t 0.033 \t test_accuracy:  \t 0.982 \t\n",
      "epoch: \t 411 \t loss:  \t 0.011 \t accuracy:  \t 0.982 \t test_loss:  \t 0.033 \t test_accuracy:  \t 0.982 \t\n",
      "epoch: \t 412 \t loss:  \t 0.011 \t accuracy:  \t 0.982 \t test_loss:  \t 0.033 \t test_accuracy:  \t 0.982 \t\n",
      "epoch: \t 413 \t loss:  \t 0.011 \t accuracy:  \t 0.982 \t test_loss:  \t 0.033 \t test_accuracy:  \t 0.982 \t\n",
      "epoch: \t 414 \t loss:  \t 0.011 \t accuracy:  \t 0.982 \t test_loss:  \t 0.032 \t test_accuracy:  \t 0.982 \t\n",
      "epoch: \t 415 \t loss:  \t 0.011 \t accuracy:  \t 0.982 \t test_loss:  \t 0.032 \t test_accuracy:  \t 0.982 \t\n",
      "epoch: \t 416 \t loss:  \t 0.011 \t accuracy:  \t 0.982 \t test_loss:  \t 0.032 \t test_accuracy:  \t 0.982 \t\n"
     ]
    },
    {
     "name": "stdout",
     "output_type": "stream",
     "text": [
      "epoch: \t 417 \t loss:  \t 0.011 \t accuracy:  \t 0.982 \t test_loss:  \t 0.032 \t test_accuracy:  \t 0.982 \t\n",
      "epoch: \t 418 \t loss:  \t 0.011 \t accuracy:  \t 0.982 \t test_loss:  \t 0.032 \t test_accuracy:  \t 0.982 \t\n",
      "epoch: \t 419 \t loss:  \t 0.011 \t accuracy:  \t 0.982 \t test_loss:  \t 0.032 \t test_accuracy:  \t 0.982 \t\n",
      "epoch: \t 420 \t loss:  \t 0.011 \t accuracy:  \t 0.982 \t test_loss:  \t 0.032 \t test_accuracy:  \t 0.982 \t\n",
      "epoch: \t 421 \t loss:  \t 0.011 \t accuracy:  \t 0.991 \t test_loss:  \t 0.032 \t test_accuracy:  \t 0.982 \t\n",
      "epoch: \t 422 \t loss:  \t 0.011 \t accuracy:  \t 0.982 \t test_loss:  \t 0.032 \t test_accuracy:  \t 0.982 \t\n",
      "epoch: \t 423 \t loss:  \t 0.011 \t accuracy:  \t 0.982 \t test_loss:  \t 0.032 \t test_accuracy:  \t 0.982 \t\n",
      "epoch: \t 424 \t loss:  \t 0.011 \t accuracy:  \t 0.982 \t test_loss:  \t 0.032 \t test_accuracy:  \t 0.982 \t\n",
      "epoch: \t 425 \t loss:  \t 0.011 \t accuracy:  \t 0.982 \t test_loss:  \t 0.032 \t test_accuracy:  \t 0.982 \t\n",
      "epoch: \t 426 \t loss:  \t 0.011 \t accuracy:  \t 0.982 \t test_loss:  \t 0.031 \t test_accuracy:  \t 0.982 \t\n",
      "epoch: \t 427 \t loss:  \t 0.011 \t accuracy:  \t 0.982 \t test_loss:  \t 0.031 \t test_accuracy:  \t 0.982 \t\n",
      "epoch: \t 428 \t loss:  \t 0.011 \t accuracy:  \t 0.982 \t test_loss:  \t 0.031 \t test_accuracy:  \t 0.982 \t\n",
      "epoch: \t 429 \t loss:  \t 0.011 \t accuracy:  \t 0.982 \t test_loss:  \t 0.031 \t test_accuracy:  \t 0.982 \t\n",
      "epoch: \t 430 \t loss:  \t 0.011 \t accuracy:  \t 0.982 \t test_loss:  \t 0.031 \t test_accuracy:  \t 0.982 \t\n",
      "epoch: \t 431 \t loss:  \t 0.011 \t accuracy:  \t 0.982 \t test_loss:  \t 0.031 \t test_accuracy:  \t 0.982 \t\n",
      "epoch: \t 432 \t loss:  \t 0.011 \t accuracy:  \t 0.982 \t test_loss:  \t 0.031 \t test_accuracy:  \t 0.982 \t\n",
      "epoch: \t 433 \t loss:  \t 0.011 \t accuracy:  \t 0.982 \t test_loss:  \t 0.031 \t test_accuracy:  \t 0.982 \t\n",
      "epoch: \t 434 \t loss:  \t 0.011 \t accuracy:  \t 0.982 \t test_loss:  \t 0.031 \t test_accuracy:  \t 0.982 \t\n",
      "epoch: \t 435 \t loss:  \t 0.011 \t accuracy:  \t 0.982 \t test_loss:  \t 0.031 \t test_accuracy:  \t 0.982 \t\n",
      "epoch: \t 436 \t loss:  \t 0.011 \t accuracy:  \t 0.982 \t test_loss:  \t 0.031 \t test_accuracy:  \t 0.982 \t\n",
      "epoch: \t 437 \t loss:  \t 0.011 \t accuracy:  \t 0.982 \t test_loss:  \t 0.031 \t test_accuracy:  \t 0.982 \t\n",
      "epoch: \t 438 \t loss:  \t 0.01 \t accuracy:  \t 0.982 \t test_loss:  \t 0.031 \t test_accuracy:  \t 0.982 \t\n",
      "epoch: \t 439 \t loss:  \t 0.01 \t accuracy:  \t 0.982 \t test_loss:  \t 0.031 \t test_accuracy:  \t 0.982 \t\n",
      "epoch: \t 440 \t loss:  \t 0.01 \t accuracy:  \t 0.982 \t test_loss:  \t 0.03 \t test_accuracy:  \t 0.982 \t\n",
      "epoch: \t 441 \t loss:  \t 0.01 \t accuracy:  \t 0.982 \t test_loss:  \t 0.03 \t test_accuracy:  \t 0.982 \t\n",
      "epoch: \t 442 \t loss:  \t 0.01 \t accuracy:  \t 0.982 \t test_loss:  \t 0.03 \t test_accuracy:  \t 0.982 \t\n",
      "epoch: \t 443 \t loss:  \t 0.01 \t accuracy:  \t 0.982 \t test_loss:  \t 0.03 \t test_accuracy:  \t 0.982 \t\n",
      "epoch: \t 444 \t loss:  \t 0.01 \t accuracy:  \t 0.982 \t test_loss:  \t 0.03 \t test_accuracy:  \t 0.982 \t\n",
      "epoch: \t 445 \t loss:  \t 0.01 \t accuracy:  \t 0.982 \t test_loss:  \t 0.03 \t test_accuracy:  \t 0.982 \t\n",
      "epoch: \t 446 \t loss:  \t 0.01 \t accuracy:  \t 0.982 \t test_loss:  \t 0.03 \t test_accuracy:  \t 0.991 \t\n",
      "epoch: \t 447 \t loss:  \t 0.01 \t accuracy:  \t 0.982 \t test_loss:  \t 0.03 \t test_accuracy:  \t 0.982 \t\n",
      "epoch: \t 448 \t loss:  \t 0.01 \t accuracy:  \t 0.982 \t test_loss:  \t 0.03 \t test_accuracy:  \t 0.982 \t\n",
      "epoch: \t 449 \t loss:  \t 0.01 \t accuracy:  \t 0.982 \t test_loss:  \t 0.03 \t test_accuracy:  \t 0.982 \t\n",
      "epoch: \t 450 \t loss:  \t 0.01 \t accuracy:  \t 0.982 \t test_loss:  \t 0.03 \t test_accuracy:  \t 0.991 \t\n",
      "epoch: \t 451 \t loss:  \t 0.01 \t accuracy:  \t 0.982 \t test_loss:  \t 0.03 \t test_accuracy:  \t 0.982 \t\n",
      "epoch: \t 452 \t loss:  \t 0.01 \t accuracy:  \t 0.982 \t test_loss:  \t 0.03 \t test_accuracy:  \t 0.982 \t\n",
      "epoch: \t 453 \t loss:  \t 0.01 \t accuracy:  \t 0.982 \t test_loss:  \t 0.03 \t test_accuracy:  \t 0.982 \t\n",
      "epoch: \t 454 \t loss:  \t 0.01 \t accuracy:  \t 0.982 \t test_loss:  \t 0.03 \t test_accuracy:  \t 0.982 \t\n",
      "epoch: \t 455 \t loss:  \t 0.01 \t accuracy:  \t 0.982 \t test_loss:  \t 0.03 \t test_accuracy:  \t 0.982 \t\n",
      "epoch: \t 456 \t loss:  \t 0.01 \t accuracy:  \t 0.982 \t test_loss:  \t 0.029 \t test_accuracy:  \t 0.982 \t\n",
      "epoch: \t 457 \t loss:  \t 0.01 \t accuracy:  \t 0.982 \t test_loss:  \t 0.029 \t test_accuracy:  \t 0.982 \t\n",
      "epoch: \t 458 \t loss:  \t 0.01 \t accuracy:  \t 0.982 \t test_loss:  \t 0.029 \t test_accuracy:  \t 0.982 \t\n",
      "epoch: \t 459 \t loss:  \t 0.01 \t accuracy:  \t 0.982 \t test_loss:  \t 0.029 \t test_accuracy:  \t 0.982 \t\n",
      "epoch: \t 460 \t loss:  \t 0.01 \t accuracy:  \t 0.982 \t test_loss:  \t 0.029 \t test_accuracy:  \t 0.982 \t\n",
      "epoch: \t 461 \t loss:  \t 0.01 \t accuracy:  \t 0.982 \t test_loss:  \t 0.029 \t test_accuracy:  \t 0.991 \t\n",
      "epoch: \t 462 \t loss:  \t 0.01 \t accuracy:  \t 0.982 \t test_loss:  \t 0.029 \t test_accuracy:  \t 0.982 \t\n",
      "epoch: \t 463 \t loss:  \t 0.01 \t accuracy:  \t 0.982 \t test_loss:  \t 0.029 \t test_accuracy:  \t 0.982 \t\n",
      "epoch: \t 464 \t loss:  \t 0.01 \t accuracy:  \t 0.991 \t test_loss:  \t 0.029 \t test_accuracy:  \t 0.991 \t\n",
      "epoch: \t 465 \t loss:  \t 0.01 \t accuracy:  \t 0.982 \t test_loss:  \t 0.029 \t test_accuracy:  \t 0.982 \t\n",
      "epoch: \t 466 \t loss:  \t 0.01 \t accuracy:  \t 0.982 \t test_loss:  \t 0.029 \t test_accuracy:  \t 0.991 \t\n",
      "epoch: \t 467 \t loss:  \t 0.01 \t accuracy:  \t 0.982 \t test_loss:  \t 0.029 \t test_accuracy:  \t 0.982 \t\n",
      "epoch: \t 468 \t loss:  \t 0.01 \t accuracy:  \t 0.982 \t test_loss:  \t 0.029 \t test_accuracy:  \t 0.982 \t\n",
      "epoch: \t 469 \t loss:  \t 0.01 \t accuracy:  \t 0.982 \t test_loss:  \t 0.029 \t test_accuracy:  \t 0.991 \t\n",
      "epoch: \t 470 \t loss:  \t 0.01 \t accuracy:  \t 0.982 \t test_loss:  \t 0.029 \t test_accuracy:  \t 0.982 \t\n",
      "epoch: \t 471 \t loss:  \t 0.01 \t accuracy:  \t 0.982 \t test_loss:  \t 0.029 \t test_accuracy:  \t 0.991 \t\n",
      "epoch: \t 472 \t loss:  \t 0.01 \t accuracy:  \t 0.991 \t test_loss:  \t 0.029 \t test_accuracy:  \t 0.991 \t\n",
      "epoch: \t 473 \t loss:  \t 0.01 \t accuracy:  \t 0.982 \t test_loss:  \t 0.029 \t test_accuracy:  \t 0.982 \t\n",
      "epoch: \t 474 \t loss:  \t 0.01 \t accuracy:  \t 0.982 \t test_loss:  \t 0.028 \t test_accuracy:  \t 0.982 \t\n",
      "epoch: \t 475 \t loss:  \t 0.01 \t accuracy:  \t 0.991 \t test_loss:  \t 0.028 \t test_accuracy:  \t 0.991 \t\n",
      "epoch: \t 476 \t loss:  \t 0.01 \t accuracy:  \t 0.982 \t test_loss:  \t 0.028 \t test_accuracy:  \t 0.982 \t\n",
      "epoch: \t 477 \t loss:  \t 0.01 \t accuracy:  \t 0.982 \t test_loss:  \t 0.028 \t test_accuracy:  \t 0.982 \t\n",
      "epoch: \t 478 \t loss:  \t 0.01 \t accuracy:  \t 0.982 \t test_loss:  \t 0.028 \t test_accuracy:  \t 0.982 \t\n",
      "epoch: \t 479 \t loss:  \t 0.01 \t accuracy:  \t 0.982 \t test_loss:  \t 0.028 \t test_accuracy:  \t 0.982 \t\n",
      "epoch: \t 480 \t loss:  \t 0.01 \t accuracy:  \t 0.982 \t test_loss:  \t 0.028 \t test_accuracy:  \t 0.982 \t\n",
      "epoch: \t 481 \t loss:  \t 0.01 \t accuracy:  \t 0.982 \t test_loss:  \t 0.028 \t test_accuracy:  \t 0.991 \t\n",
      "epoch: \t 482 \t loss:  \t 0.01 \t accuracy:  \t 0.991 \t test_loss:  \t 0.028 \t test_accuracy:  \t 0.991 \t\n",
      "epoch: \t 483 \t loss:  \t 0.01 \t accuracy:  \t 0.982 \t test_loss:  \t 0.028 \t test_accuracy:  \t 0.982 \t\n",
      "epoch: \t 484 \t loss:  \t 0.009 \t accuracy:  \t 0.982 \t test_loss:  \t 0.028 \t test_accuracy:  \t 0.982 \t\n",
      "epoch: \t 485 \t loss:  \t 0.009 \t accuracy:  \t 0.982 \t test_loss:  \t 0.028 \t test_accuracy:  \t 0.982 \t\n",
      "epoch: \t 486 \t loss:  \t 0.009 \t accuracy:  \t 0.982 \t test_loss:  \t 0.028 \t test_accuracy:  \t 0.991 \t\n",
      "epoch: \t 487 \t loss:  \t 0.01 \t accuracy:  \t 0.982 \t test_loss:  \t 0.028 \t test_accuracy:  \t 0.982 \t\n",
      "epoch: \t 488 \t loss:  \t 0.009 \t accuracy:  \t 0.982 \t test_loss:  \t 0.028 \t test_accuracy:  \t 0.982 \t\n",
      "epoch: \t 489 \t loss:  \t 0.009 \t accuracy:  \t 0.982 \t test_loss:  \t 0.028 \t test_accuracy:  \t 0.991 \t\n",
      "epoch: \t 490 \t loss:  \t 0.009 \t accuracy:  \t 0.991 \t test_loss:  \t 0.028 \t test_accuracy:  \t 0.991 \t\n",
      "epoch: \t 491 \t loss:  \t 0.009 \t accuracy:  \t 0.991 \t test_loss:  \t 0.028 \t test_accuracy:  \t 0.991 \t\n",
      "epoch: \t 492 \t loss:  \t 0.009 \t accuracy:  \t 0.982 \t test_loss:  \t 0.027 \t test_accuracy:  \t 0.982 \t\n",
      "epoch: \t 493 \t loss:  \t 0.009 \t accuracy:  \t 0.982 \t test_loss:  \t 0.027 \t test_accuracy:  \t 0.991 \t\n",
      "epoch: \t 494 \t loss:  \t 0.009 \t accuracy:  \t 0.991 \t test_loss:  \t 0.027 \t test_accuracy:  \t 0.991 \t\n",
      "epoch: \t 495 \t loss:  \t 0.009 \t accuracy:  \t 0.982 \t test_loss:  \t 0.027 \t test_accuracy:  \t 0.991 \t\n",
      "epoch: \t 496 \t loss:  \t 0.009 \t accuracy:  \t 0.991 \t test_loss:  \t 0.027 \t test_accuracy:  \t 0.991 \t\n",
      "epoch: \t 497 \t loss:  \t 0.009 \t accuracy:  \t 0.991 \t test_loss:  \t 0.027 \t test_accuracy:  \t 0.982 \t\n",
      "epoch: \t 498 \t loss:  \t 0.009 \t accuracy:  \t 0.982 \t test_loss:  \t 0.027 \t test_accuracy:  \t 0.982 \t\n",
      "epoch: \t 499 \t loss:  \t 0.009 \t accuracy:  \t 0.982 \t test_loss:  \t 0.027 \t test_accuracy:  \t 0.982 \t\n"
     ]
    }
   ],
   "source": [
    "for epoch in range(epochs):\n",
    "    epoch_loss,epoch_acc,epoch_test_loss,epoch_test_acc = fit(model,train_dl,test_dl,epoch)\n",
    "    train_loss.append(epoch_loss)\n",
    "    \n",
    "    train_acc.append(epoch_acc)\n",
    "    test_loss.append(epoch_test_loss)\n",
    "    test_acc.append(epoch_test_acc)"
   ]
  },
  {
   "cell_type": "code",
   "execution_count": 33,
   "id": "58b5e5b9",
   "metadata": {},
   "outputs": [
    {
     "data": {
      "text/plain": [
       "<matplotlib.legend.Legend at 0x28e905d3f40>"
      ]
     },
     "execution_count": 33,
     "metadata": {},
     "output_type": "execute_result"
    },
    {
     "data": {
      "image/png": "[encoded data removed]",
      "text/plain": [
       "<Figure size 432x288 with 1 Axes>"
      ]
     },
     "metadata": {
      "needs_background": "light"
     },
     "output_type": "display_data"
    }
   ],
   "source": [
    "plt.plot(range(1,epochs+1),train_loss,label = \"train_loss\")\n",
    "plt.plot(range(1,epochs+1),test_loss,label  = \"test_loss\")\n",
    "plt.legend()"
   ]
  },
  {
   "cell_type": "code",
   "execution_count": 34,
   "id": "e1c8ec73",
   "metadata": {},
   "outputs": [
    {
     "data": {
      "text/plain": [
       "<matplotlib.legend.Legend at 0x28e90615790>"
      ]
     },
     "execution_count": 34,
     "metadata": {},
     "output_type": "execute_result"
    },
    {
     "data": {
      "image/png": "[encoded data removed]",
      "text/plain": [
       "<Figure size 432x288 with 1 Axes>"
      ]
     },
     "metadata": {
      "needs_background": "light"
     },
     "output_type": "display_data"
    }
   ],
   "source": [
    "plt.plot(range(1, epochs+1), train_acc, label='train_acc')\n",
    "plt.plot(range(1, epochs+1), test_acc, label ='test_acc')\n",
    "plt.legend()"
   ]
  }
 ],
 "metadata": {
  "kernelspec": {
   "display_name": "Python 3 (ipykernel)",
   "language": "python",
   "name": "python3"
  },
  "language_info": {
   "codemirror_mode": {
    "name": "ipython",
    "version": 3
   },
   "file_extension": ".py",
   "mimetype": "text/x-python",
   "name": "python",
   "nbconvert_exporter": "python",
   "pygments_lexer": "ipython3",
   "version": "3.8.12"
  }
 },
 "nbformat": 4,
 "nbformat_minor": 5
}
