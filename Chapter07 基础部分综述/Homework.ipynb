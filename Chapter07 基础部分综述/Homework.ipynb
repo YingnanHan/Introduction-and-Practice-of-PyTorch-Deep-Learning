{
 "cells": [
  {
   "cell_type": "code",
   "execution_count": 1,
   "id": "c8481994",
   "metadata": {},
   "outputs": [],
   "source": [
    "import torch\n",
    "import torch.nn as nn\n",
    "import torch.nn.functional as F\n",
    "import torch.optim as optim\n",
    "import numpy as np\n",
    "import matplotlib.pyplot as plt\n",
    "%matplotlib inline"
   ]
  },
  {
   "cell_type": "code",
   "execution_count": 2,
   "id": "8ade4f14",
   "metadata": {},
   "outputs": [],
   "source": [
    "device = torch.device(\"cuda:0\" if torch.cuda.is_available() else \"cpu\")"
   ]
  },
  {
   "cell_type": "markdown",
   "id": "ae45e153",
   "metadata": {},
   "source": [
    "##### 准备数据"
   ]
  },
  {
   "cell_type": "code",
   "execution_count": 3,
   "id": "ec1901a0",
   "metadata": {},
   "outputs": [],
   "source": [
    "import torchvision\n",
    "from torchvision import datasets\n",
    "from torchvision import transforms"
   ]
  },
  {
   "cell_type": "code",
   "execution_count": 4,
   "id": "967037c2",
   "metadata": {},
   "outputs": [],
   "source": [
    "transformation = transforms.Compose([\n",
    "    transforms.ToTensor()\n",
    "])"
   ]
  },
  {
   "cell_type": "code",
   "execution_count": 5,
   "id": "2fd27c9d",
   "metadata": {},
   "outputs": [
    {
     "name": "stdout",
     "output_type": "stream",
     "text": [
      "Downloading http://fashion-mnist.s3-website.eu-central-1.amazonaws.com/train-images-idx3-ubyte.gz\n",
      "Downloading http://fashion-mnist.s3-website.eu-central-1.amazonaws.com/train-images-idx3-ubyte.gz to data/FashionMNIST\\raw\\train-images-idx3-ubyte.gz\n"
     ]
    },
    {
     "data": {
      "application/vnd.jupyter.widget-view+json": {
       "model_id": "4f8e7b142bb64c3b94370050e7bef452",
       "version_major": 2,
       "version_minor": 0
      },
      "text/plain": [
       "  0%|          | 0/26421880 [00:00<?, ?it/s]"
      ]
     },
     "metadata": {},
     "output_type": "display_data"
    },
    {
     "name": "stdout",
     "output_type": "stream",
     "text": [
      "Extracting data/FashionMNIST\\raw\\train-images-idx3-ubyte.gz to data/FashionMNIST\\raw\n",
      "\n",
      "Downloading http://fashion-mnist.s3-website.eu-central-1.amazonaws.com/train-labels-idx1-ubyte.gz\n",
      "Downloading http://fashion-mnist.s3-website.eu-central-1.amazonaws.com/train-labels-idx1-ubyte.gz to data/FashionMNIST\\raw\\train-labels-idx1-ubyte.gz\n"
     ]
    },
    {
     "data": {
      "application/vnd.jupyter.widget-view+json": {
       "model_id": "0d1759c3387d4a56acb17ef150f6a771",
       "version_major": 2,
       "version_minor": 0
      },
      "text/plain": [
       "  0%|          | 0/29515 [00:00<?, ?it/s]"
      ]
     },
     "metadata": {},
     "output_type": "display_data"
    },
    {
     "name": "stdout",
     "output_type": "stream",
     "text": [
      "Extracting data/FashionMNIST\\raw\\train-labels-idx1-ubyte.gz to data/FashionMNIST\\raw\n",
      "\n",
      "Downloading http://fashion-mnist.s3-website.eu-central-1.amazonaws.com/t10k-images-idx3-ubyte.gz\n",
      "Downloading http://fashion-mnist.s3-website.eu-central-1.amazonaws.com/t10k-images-idx3-ubyte.gz to data/FashionMNIST\\raw\\t10k-images-idx3-ubyte.gz\n"
     ]
    },
    {
     "data": {
      "application/vnd.jupyter.widget-view+json": {
       "model_id": "bad10f37fe0f472585278fbb54657296",
       "version_major": 2,
       "version_minor": 0
      },
      "text/plain": [
       "  0%|          | 0/4422102 [00:00<?, ?it/s]"
      ]
     },
     "metadata": {},
     "output_type": "display_data"
    },
    {
     "name": "stdout",
     "output_type": "stream",
     "text": [
      "Extracting data/FashionMNIST\\raw\\t10k-images-idx3-ubyte.gz to data/FashionMNIST\\raw\n",
      "\n",
      "Downloading http://fashion-mnist.s3-website.eu-central-1.amazonaws.com/t10k-labels-idx1-ubyte.gz\n",
      "Downloading http://fashion-mnist.s3-website.eu-central-1.amazonaws.com/t10k-labels-idx1-ubyte.gz to data/FashionMNIST\\raw\\t10k-labels-idx1-ubyte.gz\n"
     ]
    },
    {
     "data": {
      "application/vnd.jupyter.widget-view+json": {
       "model_id": "061b8d64108c483b881a2fe2e21c1718",
       "version_major": 2,
       "version_minor": 0
      },
      "text/plain": [
       "  0%|          | 0/5148 [00:00<?, ?it/s]"
      ]
     },
     "metadata": {},
     "output_type": "display_data"
    },
    {
     "name": "stdout",
     "output_type": "stream",
     "text": [
      "Extracting data/FashionMNIST\\raw\\t10k-labels-idx1-ubyte.gz to data/FashionMNIST\\raw\n",
      "\n"
     ]
    }
   ],
   "source": [
    "train_ds = datasets.FashionMNIST(\n",
    "                                  \"data/\",\n",
    "                                  train     = True,\n",
    "                                  transform = transformation,\n",
    "                                  download  = True\n",
    "                                )\n",
    "test_ds  = datasets.FashionMNIST(\n",
    "                                  \"data/\",\n",
    "                                  train     = False,\n",
    "                                  transform = transformation,\n",
    "                                  download  = True\n",
    "                                )"
   ]
  },
  {
   "cell_type": "code",
   "execution_count": 6,
   "id": "3d18784f",
   "metadata": {},
   "outputs": [],
   "source": [
    "# 创建DataLoader\n",
    "train_dl = torch.utils.data.DataLoader(train_ds,batch_size=64,shuffle=True)\n",
    "test_dl  = torch.utils.data.DataLoader(test_ds,batch_size=256,shuffle=False)"
   ]
  },
  {
   "cell_type": "code",
   "execution_count": 7,
   "id": "71cadd67",
   "metadata": {},
   "outputs": [],
   "source": [
    "# 查看数据\n",
    "imgs,label = next(iter(train_dl))"
   ]
  },
  {
   "cell_type": "code",
   "execution_count": 8,
   "id": "b38f0203",
   "metadata": {},
   "outputs": [
    {
     "data": {
      "text/plain": [
       "torch.Size([64, 1, 28, 28])"
      ]
     },
     "execution_count": 8,
     "metadata": {},
     "output_type": "execute_result"
    }
   ],
   "source": [
    "imgs.shape"
   ]
  },
  {
   "cell_type": "code",
   "execution_count": 9,
   "id": "b3377c32",
   "metadata": {},
   "outputs": [
    {
     "name": "stdout",
     "output_type": "stream",
     "text": [
      "tensor(5)\n"
     ]
    },
    {
     "data": {
      "image/png": "[encoded data removed]",
      "text/plain": [
       "<Figure size 432x288 with 1 Axes>"
      ]
     },
     "metadata": {
      "needs_background": "light"
     },
     "output_type": "display_data"
    }
   ],
   "source": [
    "img = imgs[0]\n",
    "img = img.numpy()\n",
    "img = np.squeeze(img)\n",
    "plt.imshow(img)\n",
    "print(label[0])"
   ]
  },
  {
   "cell_type": "code",
   "execution_count": 10,
   "id": "a5c42c99",
   "metadata": {},
   "outputs": [],
   "source": [
    "# 自定义绘图函数\n",
    "def imshow(img):\n",
    "    npimg = img.numpy()\n",
    "    npimg = np.squeeze(npimg)\n",
    "    plt.imshow(npimg)"
   ]
  },
  {
   "cell_type": "code",
   "execution_count": 11,
   "id": "2f9df2b7",
   "metadata": {},
   "outputs": [
    {
     "name": "stdout",
     "output_type": "stream",
     "text": [
      "tensor(5)\n",
      "tensor(1)\n",
      "tensor(2)\n",
      "tensor(8)\n",
      "tensor(2)\n",
      "tensor(8)\n",
      "tensor(5)\n",
      "tensor(4)\n",
      "tensor(4)\n",
      "tensor(2)\n"
     ]
    },
    {
     "data": {
      "image/png": "[encoded data removed]",
      "text/plain": [
       "<Figure size 720x72 with 10 Axes>"
      ]
     },
     "metadata": {
      "needs_background": "light"
     },
     "output_type": "display_data"
    }
   ],
   "source": [
    "# 测试自定义绘图函数\n",
    "plt.figure(figsize=(10,1))\n",
    "for i ,img in enumerate(imgs[:10]):\n",
    "    plt.subplot(1,10,i+1)\n",
    "    #print(i,img)\n",
    "    imshow(img)\n",
    "    print(label[i])"
   ]
  },
  {
   "cell_type": "markdown",
   "id": "0ea00113",
   "metadata": {},
   "source": [
    "#### 创建模型"
   ]
  },
  {
   "cell_type": "code",
   "execution_count": 12,
   "id": "61cce70c",
   "metadata": {},
   "outputs": [],
   "source": [
    "class Model(nn.Module):\n",
    "    def __init__(self):\n",
    "        super().__init__()\n",
    "        self.linear_1 = nn.Linear(28*28,1200)\n",
    "        self.linear_2 = nn.Linear(1200,84)\n",
    "        self.linear_3 = nn.Linear(84,10)\n",
    "    \n",
    "    def forward(self,input):\n",
    "        x = input.view(-1,28*28)\n",
    "        x = self.linear_1(x)\n",
    "        x = F.relu(x)\n",
    "        x = self.linear_2(x)\n",
    "        x = F.relu(x)\n",
    "        x = self.linear_3(x)\n",
    "        return x"
   ]
  },
  {
   "cell_type": "code",
   "execution_count": 13,
   "id": "aad3718b",
   "metadata": {},
   "outputs": [],
   "source": [
    "def fit(model,trainloader,testloader,epoch):\n",
    "    correct = 0       # 记录正确率\n",
    "    total   = 0       # 记录训练样本总数量\n",
    "    running_loss = 0\n",
    "    \n",
    "    for x,y in trainloader:\n",
    "        x,y    = x.to(device),y.to(device)\n",
    "        y_pred = model(x)\n",
    "        loss   = loss_fn(y_pred,y)\n",
    "        optim.zero_grad()\n",
    "        loss.backward()\n",
    "        optim.step()\n",
    "        with torch.no_grad():\n",
    "            y_pred = torch.argmax(y_pred,dim=1)\n",
    "            correct+=(y_pred == y).sum().item()\n",
    "            total  += y.size(0)\n",
    "            running_loss += loss.item()\n",
    "    \n",
    "    epoch_loss = running_loss / len(trainloader.dataset) # 得到每一个样本在本epoch下的平均loss\n",
    "    epoch_acc  = correct / total # 得到整个样本的平均预测正确率\n",
    "    \n",
    "    test_correct      = 0       # 记录正确率\n",
    "    test_total        = 0       # 记录训练样本总数量\n",
    "    test_running_loss = 0\n",
    "\n",
    "    with torch.no_grad():\n",
    "        for x,y in trainloader:\n",
    "            x,y    = x.to(device),y.to(device)\n",
    "            y_pred = model(x)\n",
    "            loss   = loss_fn(y_pred,y)\n",
    "            y_pred = torch.argmax(y_pred,dim=1)\n",
    "            test_correct+=(y_pred == y).sum().item()\n",
    "            test_total  += y.size(0)\n",
    "            test_running_loss += loss.item()\n",
    "    \n",
    "    epoch_test_loss = test_running_loss / len(testloader.dataset) # 得到每一个样本在本epoch下的平均loss\n",
    "    epoch_test_acc  = test_correct / test_total # 得到整个样本的平均预测正确率\n",
    "    \n",
    "    print(\n",
    "            \"epoch:\",\"\\t\",epoch,\"\\t\",\n",
    "            \"loss: \",\"\\t\",round(epoch_loss,3),\"\\t\",\n",
    "            \"accuracy: \",\"\\t\",round(epoch_acc,3),\"\\t\",\n",
    "            \"test_loss: \",\"\\t\",round(epoch_test_loss,3),\"\\t\",\n",
    "            \"test_accuracy: \",\"\\t\",round(epoch_test_acc,3),\"\\t\"\n",
    "        )\n",
    "    return epoch_loss,epoch_acc,epoch_test_loss,epoch_test_acc"
   ]
  },
  {
   "cell_type": "code",
   "execution_count": 14,
   "id": "7e08e581",
   "metadata": {},
   "outputs": [],
   "source": [
    "model      = Model().to(device)\n",
    "loss_fn    = torch.nn.CrossEntropyLoss()\n",
    "optim      = torch.optim.Adam(model.parameters(),lr = 0.0001)\n",
    "epochs     = 20"
   ]
  },
  {
   "cell_type": "code",
   "execution_count": 15,
   "id": "e456033d",
   "metadata": {},
   "outputs": [],
   "source": [
    "train_loss = []\n",
    "train_acc  = []\n",
    "test_loss  = []\n",
    "test_acc   = []"
   ]
  },
  {
   "cell_type": "code",
   "execution_count": null,
   "id": "3fb434a2",
   "metadata": {},
   "outputs": [
    {
     "name": "stdout",
     "output_type": "stream",
     "text": [
      "epoch: \t 0 \t loss:  \t 0.011 \t accuracy:  \t 0.777 \t test_loss:  \t 0.045 \t test_accuracy:  \t 0.838 \t\n",
      "epoch: \t 1 \t loss:  \t 0.007 \t accuracy:  \t 0.847 \t test_loss:  \t 0.038 \t test_accuracy:  \t 0.859 \t\n"
     ]
    }
   ],
   "source": [
    "for epoch in range(epochs):\n",
    "    epoch_loss,epoch_acc,epoch_test_loss,epoch_test_acc = fit(model,train_dl,test_dl,epoch)\n",
    "    train_loss.append(epoch_loss)\n",
    "    train_acc.append(epoch_acc)\n",
    "    test_loss.append(epoch_test_loss)\n",
    "    test_acc.append(epoch_test_acc)"
   ]
  }
 ],
 "metadata": {
  "kernelspec": {
   "display_name": "Python 3 (ipykernel)",
   "language": "python",
   "name": "python3"
  },
  "language_info": {
   "codemirror_mode": {
    "name": "ipython",
    "version": 3
   },
   "file_extension": ".py",
   "mimetype": "text/x-python",
   "name": "python",
   "nbconvert_exporter": "python",
   "pygments_lexer": "ipython3",
   "version": "3.8.12"
  }
 },
 "nbformat": 4,
 "nbformat_minor": 5
}
