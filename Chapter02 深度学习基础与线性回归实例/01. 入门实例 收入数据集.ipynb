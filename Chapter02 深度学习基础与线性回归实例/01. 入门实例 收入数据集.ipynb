{
 "cells": [
  {
   "cell_type": "code",
   "execution_count": 1,
   "id": "21634634",
   "metadata": {},
   "outputs": [],
   "source": [
    "import matplotlib.pyplot as plt\n",
    "import numpy as np\n",
    "import pandas as pd\n",
    "import torch\n",
    "from   torch import nn"
   ]
  },
  {
   "cell_type": "markdown",
   "id": "3a44fef5",
   "metadata": {},
   "source": [
    "##### 准备数据"
   ]
  },
  {
   "cell_type": "code",
   "execution_count": 2,
   "id": "0ed7e9c6",
   "metadata": {},
   "outputs": [],
   "source": [
    "data = pd.read_csv(\"./dataset/Income1.csv\") #读取数据集"
   ]
  },
  {
   "cell_type": "code",
   "execution_count": 3,
   "id": "f165bd08",
   "metadata": {},
   "outputs": [],
   "source": [
    "X    = torch.from_numpy(data.Education.values.reshape(-1,1).astype(np.float32))\n",
    "Y    = torch.from_numpy(data.Income.values.reshape(-1,1).astype(np.float32))"
   ]
  },
  {
   "cell_type": "markdown",
   "id": "779ff344",
   "metadata": {},
   "source": [
    "##### 创建模型"
   ]
  },
  {
   "cell_type": "code",
   "execution_count": 4,
   "id": "3884c6ee",
   "metadata": {},
   "outputs": [],
   "source": [
    "model   = nn.Linear(1,1) # 创建输入参数为1个 输出参数为1个 的线性模型 即 output = w*input + b\n",
    "                         # 注意，在torch中w b是被当做矩阵来计算的 ;预测结果output = w*input + b等价于model(input)"
   ]
  },
  {
   "cell_type": "code",
   "execution_count": 5,
   "id": "17a2379e",
   "metadata": {},
   "outputs": [],
   "source": [
    "loss_fn = nn.MSELoss()   # 定义均方误差损失函数对象"
   ]
  },
  {
   "cell_type": "code",
   "execution_count": 6,
   "id": "1b37d778",
   "metadata": {},
   "outputs": [],
   "source": [
    "opt     = torch.optim.SGD(model.parameters(),lr=0.0001) # 定义优化器，采用随机梯度下降算法，参数分别为模型需要求导的参数对象，lr指定学习速率"
   ]
  },
  {
   "cell_type": "markdown",
   "id": "5b94c60c",
   "metadata": {},
   "source": [
    "#### 训练模型"
   ]
  },
  {
   "cell_type": "code",
   "execution_count": 7,
   "id": "5d406870",
   "metadata": {},
   "outputs": [],
   "source": [
    "for epoch in range(50):          # epoch代表一次训练周期  每周期训练5000次\n",
    "    for x,y in zip(X,Y):           # 并行迭代\n",
    "        y_pred = model(x)          # 使用模型求解预测值\n",
    "        loss   = loss_fn(y,y_pred) # 根据预测结果求解MSE\n",
    "        \n",
    "                                   # 反向传播求解权重的梯度\n",
    "        opt.zero_grad()            # 将梯度清零，避免上一次计算的结果影响本次优化\n",
    "        loss.backward()            # 求解梯度\n",
    "        \n",
    "        opt.step()                 # 优化模型参数"
   ]
  },
  {
   "cell_type": "code",
   "execution_count": 8,
   "id": "1bd7c846",
   "metadata": {},
   "outputs": [
    {
     "data": {
      "text/plain": [
       "Parameter containing:\n",
       "tensor([[3.4101]], requires_grad=True)"
      ]
     },
     "execution_count": 8,
     "metadata": {},
     "output_type": "execute_result"
    }
   ],
   "source": [
    "model.weight # 得到模型权重"
   ]
  },
  {
   "cell_type": "code",
   "execution_count": 9,
   "id": "3b71f3e8",
   "metadata": {},
   "outputs": [
    {
     "data": {
      "text/plain": [
       "Parameter containing:\n",
       "tensor([0.5164], requires_grad=True)"
      ]
     },
     "execution_count": 9,
     "metadata": {},
     "output_type": "execute_result"
    }
   ],
   "source": [
    "model.bias #得到模型偏置"
   ]
  },
  {
   "cell_type": "markdown",
   "id": "17a2cbe4",
   "metadata": {},
   "source": [
    "##### 得出结果"
   ]
  },
  {
   "cell_type": "code",
   "execution_count": 10,
   "id": "a1299b1d",
   "metadata": {},
   "outputs": [
    {
     "data": {
      "text/plain": [
       "[<matplotlib.lines.Line2D at 0x2b59fe4dfd0>]"
      ]
     },
     "execution_count": 10,
     "metadata": {},
     "output_type": "execute_result"
    },
    {
     "data": {
      "image/png": "[encoded data removed]",
      "text/plain": [
       "<Figure size 432x288 with 1 Axes>"
      ]
     },
     "metadata": {
      "needs_background": "light"
     },
     "output_type": "display_data"
    }
   ],
   "source": [
    "plt.scatter(data.Education,data.Income)\n",
    "plt.plot(X.numpy(),model(X).data.numpy(),color=\"red\") "
   ]
  }
 ],
 "metadata": {
  "kernelspec": {
   "display_name": "Python 3 (ipykernel)",
   "language": "python",
   "name": "python3"
  },
  "language_info": {
   "codemirror_mode": {
    "name": "ipython",
    "version": 3
   },
   "file_extension": ".py",
   "mimetype": "text/x-python",
   "name": "python",
   "nbconvert_exporter": "python",
   "pygments_lexer": "ipython3",
   "version": "3.8.12"
  }
 },
 "nbformat": 4,
 "nbformat_minor": 5
}
